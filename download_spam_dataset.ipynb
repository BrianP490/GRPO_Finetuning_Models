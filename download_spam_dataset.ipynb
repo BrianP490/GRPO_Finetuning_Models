{
 "cells": [
  {
   "cell_type": "markdown",
   "id": "d5d40821",
   "metadata": {},
   "source": [
    "## Used to download the dataset \n",
    "\n",
    "### Note: Execute Cells Before Running 'grpo_gpt2_xx_xx.ipynb' files"
   ]
  },
  {
   "cell_type": "code",
   "execution_count": 1,
   "id": "ce5217b4",
   "metadata": {},
   "outputs": [],
   "source": [
    "import urllib.request\n",
    "import zipfile\n",
    "import os\n",
    "from pathlib import Path"
   ]
  },
  {
   "cell_type": "code",
   "execution_count": null,
   "id": "636a8f8b",
   "metadata": {},
   "outputs": [],
   "source": [
    "def download_and_unzip_spam_data(url, zip_path, extracted_path, data_file_path, zip_destination_dir):\n",
    "    \"\"\"Downloads the dataset using the url provided. If the dataset is already downloaded, the function returns. Extracts the contents of the zip file and makes it a tab-separated value file.\n",
    "    \"\"\"\n",
    "    if data_file_path.exists():\n",
    "        print(f\"{data_file_path} already exists. Skipping download and extraction.\")\n",
    "        return\n",
    "\n",
    "    # Downloading the file\n",
    "    with urllib.request.urlopen(url) as response:\n",
    "\n",
    "        if (not zip_destination_dir.exists()):  # Create the directory where the zip file will go to \n",
    "            os.makedirs(zip_destination_dir, exist_ok=True) # Handles creation of any non-existing parent directories\n",
    "        with open(zip_path, \"wb\") as out_file:  # Download the file to the specified location\n",
    "            out_file.write(response.read())\n",
    "\n",
    "    # Unzipping the file to the allocated location\n",
    "    with zipfile.ZipFile(zip_path, \"r\") as zip_ref:\n",
    "        zip_ref.extractall(extracted_path)\n",
    "\n",
    "    # Add .tsv file extension\n",
    "    original_file_path = Path(extracted_path) / \"SMSSpamCollection\"\n",
    "    os.rename(original_file_path, data_file_path)\n",
    "    print(f\"File downloaded and saved as {data_file_path}\")"
   ]
  },
  {
   "cell_type": "code",
   "execution_count": 12,
   "id": "190061bf",
   "metadata": {},
   "outputs": [],
   "source": [
    "def download_dataset_wrapper(extracted_path = \"sms_spam_collection\"):\n",
    "    \"\"\"Code inspired from: https://github.com/rasbt/LLMs-from-scratch/blob/main/ch06/01_main-chapter-code/ch06.ipynb\n",
    "    Args:\n",
    "        extracted_path (str): The directory that will contain the training data\"\"\"\n",
    "    url = \"https://archive.ics.uci.edu/static/public/228/sms+spam+collection.zip\"\n",
    "\n",
    "    extracted_path = extracted_path \n",
    "    zip_destination_dir=Path(extracted_path)\n",
    "    zip_path = zip_destination_dir / \"sms_spam_collection.zip\"\n",
    "    data_file_path = Path(extracted_path) / \"SMSSpamCollection.tsv\"\n",
    "\n",
    "    try:\n",
    "        download_and_unzip_spam_data(url, zip_path, extracted_path, data_file_path, zip_destination_dir)\n",
    "        data_split_dir= extracted_path + \"/\" + \"data_splits\"\n",
    "        os.makedirs(name=data_split_dir, exist_ok=True)    # create parent directory for the train, validation, and test datasets for later\n",
    "    except (urllib.error.HTTPError, urllib.error.URLError, TimeoutError) as e:\n",
    "        print(f\"Primary URL failed: {e}. Trying backup URL...\")\n",
    "        url = \"https://f001.backblazeb2.com/file/LLMs-from-scratch/sms%2Bspam%2Bcollection.zip\"\n",
    "        download_and_unzip_spam_data(url, zip_path, extracted_path, data_file_path) "
   ]
  },
  {
   "cell_type": "code",
   "execution_count": 13,
   "id": "ec6f3af8",
   "metadata": {},
   "outputs": [
    {
     "name": "stdout",
     "output_type": "stream",
     "text": [
      "File downloaded and saved as Testing\\you\\SMSSpamCollection.tsv\n"
     ]
    }
   ],
   "source": [
    "if __name__ == \"__main__\":\n",
    "    download_dataset_wrapper()"
   ]
  }
 ],
 "metadata": {
  "kernelspec": {
   "display_name": "NEW",
   "language": "python",
   "name": "python3"
  },
  "language_info": {
   "codemirror_mode": {
    "name": "ipython",
    "version": 3
   },
   "file_extension": ".py",
   "mimetype": "text/x-python",
   "name": "python",
   "nbconvert_exporter": "python",
   "pygments_lexer": "ipython3",
   "version": "3.12.3"
  }
 },
 "nbformat": 4,
 "nbformat_minor": 5
}
