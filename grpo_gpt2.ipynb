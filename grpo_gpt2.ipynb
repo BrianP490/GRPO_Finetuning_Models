{
 "cells": [
  {
   "cell_type": "markdown",
   "id": "cd0abfdc",
   "metadata": {},
   "source": [
    "Using GRPO to finetune the chat gpt2 model"
   ]
  },
  {
   "cell_type": "markdown",
   "id": "ad5088d5",
   "metadata": {},
   "source": [
    "# Imports"
   ]
  },
  {
   "cell_type": "code",
   "execution_count": 1,
   "id": "773d6412",
   "metadata": {},
   "outputs": [
    {
     "name": "stdout",
     "output_type": "stream",
     "text": [
      "numpy version: 1.23.5\n",
      "tiktoken version: 0.9.0\n",
      "torch version: 2.5.1\n",
      "pandas version: 2.3.1\n"
     ]
    }
   ],
   "source": [
    "from importlib.metadata import version\n",
    "import torch, tiktoken, time, os, tensorflow\n",
    "import torch.optim as optim\n",
    "import numpy as np\n",
    "import argparse\n",
    "from tqdm import tqdm\n",
    "from torch.utils.data import Dataset, DataLoader\n",
    "import zipfile\n",
    "from pathlib import Path\n",
    "import pandas as pd\n",
    "\n",
    "pkgs = [\"numpy\", \n",
    "        \"tiktoken\", \n",
    "        \"torch\",\n",
    "        # \"tensorflow\", # For OpenAI's pretrained weights\n",
    "        \"pandas\"\n",
    "       ]\n",
    "for p in pkgs:\n",
    "    print(f\"{p} version: {version(p)}\")"
   ]
  },
  {
   "cell_type": "code",
   "execution_count": 2,
   "id": "70c3b5bb",
   "metadata": {},
   "outputs": [
    {
     "name": "stdout",
     "output_type": "stream",
     "text": [
      "Python 3.10.8\n"
     ]
    }
   ],
   "source": [
    "!python --version"
   ]
  },
  {
   "cell_type": "code",
   "execution_count": 3,
   "id": "7f91b6c7",
   "metadata": {},
   "outputs": [
    {
     "data": {
      "text/plain": [
       "24"
      ]
     },
     "execution_count": 3,
     "metadata": {},
     "output_type": "execute_result"
    }
   ],
   "source": [
    "os.cpu_count()"
   ]
  },
  {
   "cell_type": "code",
   "execution_count": 4,
   "id": "b44482aa",
   "metadata": {},
   "outputs": [],
   "source": [
    "\n",
    "from utils.previous_chapters import generate_text_simple, text_to_token_ids, token_ids_to_text,GPTModel, create_dataloader_v1, load_weights_into_gpt\n",
    "# Relative import from the gpt_download.py contained in this folder\n",
    "from utils.gpt_download import download_and_load_gpt2"
   ]
  },
  {
   "cell_type": "markdown",
   "id": "87f58fba",
   "metadata": {},
   "source": [
    "## Dataset Class"
   ]
  },
  {
   "cell_type": "code",
   "execution_count": 5,
   "id": "f7688181",
   "metadata": {},
   "outputs": [],
   "source": [
    "def prepare_datasets(data_file_path, sep=\"\\t\", header=None, column_names=[\"Label\", \"Text\"], train_frac=0.7, validation_frac=0.15, store_directory=\"./\"):\n",
    "    df = pd.read_csv(data_file_path, sep=sep, header=header, names=column_names)\n",
    "\n",
    "    # Count the instances of \"spam\"\n",
    "    num_spam = df[df[\"Label\"] == \"spam\"].shape[0]\n",
    "    \n",
    "    # Randomly sample \"ham\" instances to match the number of \"spam\" instances\n",
    "    ham_subset = df[df[\"Label\"] == \"ham\"].sample(num_spam, random_state=123)\n",
    "    \n",
    "    # Combine ham \"subset\" with \"spam\"\n",
    "    balanced_df = pd.concat([ham_subset, df[df[\"Label\"] == \"spam\"]])\n",
    "\n",
    "    balanced_df[\"Label\"] = balanced_df[\"Label\"].map({\"ham\": 0, \"spam\": 1})\n",
    "\n",
    "    # Shuffle the entire DataFrame\n",
    "    balanced_df = balanced_df.sample(frac=1, random_state=123).reset_index(drop=True)\n",
    "\n",
    "    # Calculate split indices\n",
    "    train_end = int(len(balanced_df) * train_frac)\n",
    "    validation_end = train_end + int(len(balanced_df) * validation_frac)\n",
    "\n",
    "    # Split the DataFrame\n",
    "    train_df = balanced_df[:train_end]\n",
    "    validation_df = balanced_df[train_end:validation_end]\n",
    "    test_df = balanced_df[validation_end:]\n",
    "\n",
    "    train_df.to_csv(store_directory+\"/train.csv\", index=None)\n",
    "    validation_df.to_csv(store_directory+\"/validation.csv\", index=None)\n",
    "    test_df.to_csv(store_directory+\"/test.csv\", index=None)"
   ]
  },
  {
   "cell_type": "code",
   "execution_count": 6,
   "id": "09fd3b33",
   "metadata": {},
   "outputs": [],
   "source": [
    "class SpamDataset(Dataset):\n",
    "    def __init__(self, csv_file, tokenizer, max_length=None, pad_token_id=50256):\n",
    "        try:\n",
    "            self.data = pd.read_csv(csv_file)\n",
    "        except FileNotFoundError:\n",
    "            raise FileNotFoundError(f\"File not found: {csv_file}\")\n",
    "\n",
    "        # Pre-tokenize texts\n",
    "        self.encoded_texts = [\n",
    "            tokenizer.encode(text) for text in self.data[\"Text\"]    # For each row in the text section of the pandas data frame tokenize the text string(sentence); creates list of token IDs for each example/item of the text data\n",
    "        ]\n",
    "\n",
    "        if max_length is None:\n",
    "            self.max_length = self._longest_encoded_length()\n",
    "        else:\n",
    "            self.max_length = max_length\n",
    "            # Truncate sequences if they are longer than max_length\n",
    "            self.encoded_texts = [\n",
    "                encoded_text[:self.max_length]\n",
    "                for encoded_text in self.encoded_texts\n",
    "            ]\n",
    "\n",
    "        # Pad sequences to the longest sequence\n",
    "        self.encoded_texts = [\n",
    "            encoded_text + [pad_token_id] * (self.max_length - len(encoded_text))\n",
    "            for encoded_text in self.encoded_texts\n",
    "        ]\n",
    "\n",
    "    def __getitem__(self, index):\n",
    "        encoded = self.encoded_texts[index]\n",
    "        label = self.data.iloc[index][\"Label\"]\n",
    "        return (\n",
    "            torch.tensor(encoded, dtype=torch.long),\n",
    "            torch.tensor(label, dtype=torch.long)\n",
    "        )\n",
    "\n",
    "    def __len__(self):\n",
    "        return len(self.data)\n",
    "\n",
    "    def _longest_encoded_length(self):\n",
    "        max_length = 0\n",
    "        for encoded_text in self.encoded_texts:\n",
    "            encoded_length = len(encoded_text)\n",
    "            if encoded_length > max_length:\n",
    "                max_length = encoded_length\n",
    "        return max_length"
   ]
  },
  {
   "cell_type": "markdown",
   "id": "54ebf8e7",
   "metadata": {},
   "source": [
    "## Building Policies"
   ]
  },
  {
   "cell_type": "code",
   "execution_count": 7,
   "id": "923f77ea",
   "metadata": {},
   "outputs": [],
   "source": [
    "def build_new_policy(base_config, chosen_model=\"gpt2-small (124M)\", num_classes = 2) -> GPTModel:\n",
    "    \"\"\"Build and load in the GPT2 model. Swap out the Head layer, and freeze up to the last Transformer module for transfer learning.\"\"\"\n",
    "    model_configs = {\n",
    "        \"gpt2-small (124M)\": {\"emb_dim\": 768, \"n_layers\": 12, \"n_heads\": 12},\n",
    "        \"gpt2-medium (355M)\": {\"emb_dim\": 1024, \"n_layers\": 24, \"n_heads\": 16},\n",
    "        \"gpt2-large (774M)\": {\"emb_dim\": 1280, \"n_layers\": 36, \"n_heads\": 20},\n",
    "        \"gpt2-xl (1558M)\": {\"emb_dim\": 1600, \"n_layers\": 48, \"n_heads\": 25},\n",
    "    }\n",
    "\n",
    "    base_config.update(model_configs[chosen_model]) # add the emb_dim, n_layers, and n_heads to the config\n",
    "\n",
    "    model_size = chosen_model.split(\" \")[-1].lstrip(\"(\").rstrip(\")\")\n",
    "    allowed_sizes = (\"124M\", \"355M\", \"774M\", \"1558M\")\n",
    "    if model_size not in allowed_sizes:\n",
    "        raise ValueError(f\"Model size not in {allowed_sizes}\")\n",
    "    settings, params = download_and_load_gpt2(model_size=model_size, models_dir=\"gpt2\")\n",
    "\n",
    "    model = GPTModel(base_config)\n",
    "\n",
    "    load_weights_into_gpt(model, params)\n",
    "    \n",
    "    for param in model.parameters(): # freeze model parameters\n",
    "        param.requires_grad = False \n",
    "\n",
    "    # Unfreeze the last transformer block\n",
    "    for param in model.trf_blocks[-1].parameters():\n",
    "        param.requires_grad = True\n",
    "\n",
    "    # Unfreeze the final layer normalizing layer\n",
    "    for param in model.final_norm.parameters():\n",
    "        param.requires_grad = True\n",
    "\n",
    "    model.out_head = torch.nn.Linear(in_features=base_config[\"emb_dim\"], out_features=num_classes) # reconfigure the output layer\n",
    "    return model"
   ]
  },
  {
   "cell_type": "code",
   "execution_count": 8,
   "id": "a28e2648",
   "metadata": {},
   "outputs": [],
   "source": [
    "def build_old_policy(base_config, chosen_model=\"gpt2-small (124M)\", num_classes = 2) -> GPTModel:\n",
    "    \"\"\"Construct just the model without loading the weights\"\"\"\n",
    "    model_configs = {\n",
    "        \"gpt2-small (124M)\": {\"emb_dim\": 768, \"n_layers\": 12, \"n_heads\": 12},\n",
    "        \"gpt2-medium (355M)\": {\"emb_dim\": 1024, \"n_layers\": 24, \"n_heads\": 16},\n",
    "        \"gpt2-large (774M)\": {\"emb_dim\": 1280, \"n_layers\": 36, \"n_heads\": 20},\n",
    "        \"gpt2-xl (1558M)\": {\"emb_dim\": 1600, \"n_layers\": 48, \"n_heads\": 25},\n",
    "    }\n",
    "\n",
    "    base_config.update(model_configs[chosen_model]) # add the emb_dim, n_layers, and n_heads to the config\n",
    "\n",
    "    model_size = chosen_model.split(\" \")[-1].lstrip(\"(\").rstrip(\")\")\n",
    "    allowed_sizes = (\"124M\", \"355M\", \"774M\", \"1558M\")\n",
    "    if model_size not in allowed_sizes:\n",
    "        raise ValueError(f\"Model size not in {allowed_sizes}\")\n",
    "    model = GPTModel(base_config)\n",
    "\n",
    "    model.out_head = torch.nn.Linear(in_features=base_config[\"emb_dim\"], out_features=num_classes) # reconfigure the output layer\n",
    "    return model"
   ]
  },
  {
   "cell_type": "markdown",
   "id": "9f9ee497",
   "metadata": {},
   "source": [
    "## Utility Functions"
   ]
  },
  {
   "cell_type": "code",
   "execution_count": 9,
   "id": "a5f5ebf3",
   "metadata": {},
   "outputs": [],
   "source": [
    "def calculate_discounted_rewards(predictions, batch_labels) -> torch.tensor:\n",
    "    \"\"\"For this implementation, use non-discounted rewards\"\"\"\n",
    "    disc_rewards = (predictions == batch_labels).float()    # Simple comparison to evaluate rewards for each example; output a tensor of floats\n",
    "    return disc_rewards"
   ]
  },
  {
   "cell_type": "markdown",
   "id": "cc4d3419",
   "metadata": {},
   "source": [
    "## Training Loop"
   ]
  },
  {
   "cell_type": "code",
   "execution_count": 13,
   "id": "75ae25fd",
   "metadata": {},
   "outputs": [],
   "source": [
    "def grpo_train(model_config, train_dataloader, validation_dataloader, gpt_size=\"gpt2-small (124M)\", epochs=50, learning_rate=0.0001, batch_size=64, gamma=0.99, k_epochs=64, epsilon=0.2, beta_kl=0.01, max_grad_norm=0.5, entropy_coeff=0.01, log_iterations=10, eval_iterations=10, device=\"cpu\", num_envs=None):\n",
    "    print(f\"Training Policy on {device} with {epochs} main epochs, {k_epochs} inner epochs, {learning_rate} learning rate, batch size {batch_size}, KL beta {beta_kl}.\")\n",
    "    print(f\"Using gpt2 size:{gpt_size} , logging every {log_iterations} iterations, evaluating every {eval_iterations} iterations.\")\n",
    "\n",
    "\n",
    "    Policy_New = build_new_policy(model_config, chosen_model=gpt_size, num_classes=2).to(device)   # STEP 3 || \n",
    "    Policy_New.train()\n",
    "    # Policy_New = torch.compile(Policy_New) # to reap efficiency benefits \n",
    "\n",
    "    optimizer = optim.Adam(params=Policy_New.parameters(), lr=learning_rate)\n",
    "\n",
    "    Policy_Old = build_old_policy(model_config, chosen_model=gpt_size, num_classes=2).to(device)\n",
    "    Policy_Old.eval()\n",
    "    # Policy_Old = torch.compile(Policy_Old)\n",
    "\n",
    "    classifier_lyr = torch.nn.Softmax(dim=-1)   # For validation loop\n",
    "\n",
    "    for epoch in tqdm(range(epochs), desc=f\"Main Epoch (Outer Loop)\", leave=False):     # STEP 4 || \n",
    "        # STEP 5 || Sample a batch D_b from D --> OMITTED \n",
    "        # STEP 6 || Update the old policy model PI old <- PI new\n",
    "        Policy_Old.load_state_dict(Policy_New.state_dict())\n",
    "        # print(\"loaded Policy Old Weights\")\n",
    "        # --- STEP 7 Collect a Batch of Experiences Using the Old Policy---\n",
    "        # for batch_inputs, batch_labels in train_dataloader:\n",
    "        #     pass\n",
    "        batch_inputs, batch_labels = next(iter(train_dataloader))\n",
    "        \n",
    "        batch_inputs, batch_labels = batch_inputs.to(device), batch_labels.to(device) # move the training data to the target device\n",
    "        print(\"Transferred Data\")\n",
    "        with torch.no_grad():\n",
    "            old_logits = Policy_Old(batch_inputs)[:,-1,:]   # Get logits from model and only focus on the last iterations of each sample\n",
    "            # print(old_logits)\n",
    "            old_dist = torch.distributions.Categorical(logits=old_logits) # Create a distribution to sample from\n",
    "            old_predictions = old_dist.sample() # Tensor of shape (batch_size,) ; list of predictions\n",
    "            # print(f\"old_predictions: {old_predictions}\")\n",
    "            old_log_probs = old_dist.log_prob(old_predictions)\n",
    "\n",
    "        # STEP 8 || Calculate \"Discounted\" Rewards for completed trajectories\n",
    "        discounted_rewards = calculate_discounted_rewards(old_predictions, batch_labels)    # Tensor with \"discounted\" rewards per each sample in batch\n",
    "        # print(\"Calculated discounted returns\")\n",
    "        # STEP 9 || Calculate the Advantage for each Trajectory using normalization\n",
    "        all_advantages_tensor = (discounted_rewards - discounted_rewards.mean()) / (discounted_rewards.std() + 1e-8)\n",
    "\n",
    "        Policy_New.train()  # Prepare NN for updates\n",
    "\n",
    "        # --- STEP 10 || GRPO Optimization ---\n",
    "        for k_epoch in tqdm(range(k_epochs), desc=f\"Epoch {epoch+1}/{epochs} (Inner K-Epochs)\", leave=True):\n",
    "            # print(\"Entered GRPO Optimization loop\")\n",
    "            optimizer.zero_grad()   # Flush out all the accumulated gradients for the weights of the model-under-training\n",
    "\n",
    "            new_logits = Policy_New(batch_inputs)[:,-1,:]   # Get logits from model and only focus on the last iterations of each sample\n",
    "            new_dist = torch.distributions.Categorical(logits=new_logits)\n",
    "            new_log_probs = new_dist.log_prob(old_predictions)  # Get the log probability of choosing the same action that the old policy took using the new distribution\n",
    "            entropy = new_dist.entropy().mean() # Calculate entropy for regularization\n",
    "\n",
    "            R1_ratio = torch.exp(new_log_probs - old_log_probs)\n",
    "\n",
    "            unclipped_surrogate = R1_ratio * all_advantages_tensor\n",
    "            clipped_surrogate = torch.clamp(input=R1_ratio, min=1.0-epsilon, max=1.0+epsilon) * all_advantages_tensor\n",
    "\n",
    "            policy_loss = -torch.min(unclipped_surrogate, clipped_surrogate).mean()\n",
    "\n",
    "            # --- KL Divergence Calculation ---\n",
    "            # Create distributions for old policies using the trajectory states\n",
    "            # with torch.no_grad():\n",
    "            #     old_logits = Policy_Old(all_states_tensor)\n",
    "            # old_dist = torch.distributions.Categorical(logits=old_logits)\n",
    "            # INSTEAD, just reusing the calculated logits from STEP #7\n",
    "\n",
    "            # Calculate KL divergence per sample, then take the mean over the batch\n",
    "            kl_div_per_sample = torch.distributions.kl.kl_divergence(p=new_dist, q=old_dist)\n",
    "            kl_loss = kl_div_per_sample.mean() # Mean over the batch\n",
    "\n",
    "            # Total Loss for GRPO\n",
    "            total_loss = policy_loss + beta_kl * kl_loss - entropy_coeff * entropy\n",
    "\n",
    "            # STEP 11 || Policy Updates\n",
    "            total_loss.backward()\n",
    "            torch.nn.utils.clip_grad_norm_(Policy_New.parameters(), max_grad_norm)\n",
    "            optimizer.step()    # Update policy parameters using gradient ascent\n",
    "                \n",
    "\n",
    "        # --- 4. Logging and Evaluation ---\n",
    "        if (epoch + 1) % log_iterations == 0:\n",
    "            print(f\"Epoch {epoch + 1}/{epochs}, Loss: {total_loss.item():.4f}, Ratio: {R1_ratio.mean().item():.5f}, Entropy Term: {entropy:.5f}\")\n",
    "\n",
    "        # if (epoch + 1) % eval_iterations == 0:\n",
    "            Policy_New.eval()   # Turn off dropout layers and prevent grad tracking\n",
    "            accuracy = 0.0\n",
    "            num_correct = 0.0\n",
    "            num_of_samples = 0.0\n",
    "            with torch.no_grad():\n",
    "                for batch_inputs, batch_labels in validation_dataloader:\n",
    "                    batch_inputs, batch_labels = batch_inputs.to(device), batch_labels.to(device) # move the training data to the target device\n",
    "                    logits = Policy_New(batch_inputs)[:,-1,:]\n",
    "                    classifications = classifier_lyr(logits)\n",
    "                    class_predictions = torch.argmax(classifications, dim=-1).flatten()\n",
    "                    num_of_samples += batch_labels.size(0)\n",
    "                    num_correct += sum((class_predictions == batch_labels).float()).item()\n",
    "                accuracy = num_correct/num_of_samples\n",
    "                print(f\"Epoch {epoch+1} | Entire Validation Dataset Accuracy: {accuracy:.4f}| {num_correct} / {num_of_samples} samples\")\n",
    "                \n",
    "\n",
    "    Policy_New.eval()   # Change to eval mode for evaluation after training is complete\n",
    "\n",
    "    print(\"Training complete.\")\n",
    "    return Policy_New # Return the trained policy"
   ]
  },
  {
   "cell_type": "markdown",
   "id": "5c0e37bf",
   "metadata": {},
   "source": [
    "## Main Loop"
   ]
  },
  {
   "cell_type": "code",
   "execution_count": 11,
   "id": "d74a4822",
   "metadata": {},
   "outputs": [],
   "source": [
    "BASE_CONFIG = {\n",
    "    \"vocab_size\": 50257,     # Vocabulary size\n",
    "    \"context_length\": 1024,  # Context length\n",
    "    \"drop_rate\": 0.1,        # Dropout rate\n",
    "    \"qkv_bias\": True         # Query-key-value bias\n",
    "}"
   ]
  },
  {
   "cell_type": "code",
   "execution_count": 20,
   "id": "cdfc9e15",
   "metadata": {},
   "outputs": [],
   "source": [
    "# Pretend that the argument parser will pass these arguments to the main function\n",
    "args = {\n",
    "    \"epochs\":512,\n",
    "    \"learning_rate\":0.0003,\n",
    "    \"dataloader_batch_size\":64,\n",
    "    \"dataloader_pin_memory\": True,  \n",
    "    \"dataloader_num_workers\": 0,    # Problem if I change this; slow for windows; try to modify within .py script\n",
    "    \"batch_size\":None, # Significantly larger batch size recommended for stability\n",
    "    \"gpt_size\":'gpt2-small (124M)',\n",
    "    \"k_epochs\":64,       # GRPO Inner-loop\n",
    "    \"epsilon\":0.2,\n",
    "    \"beta_kl\":0.01,\n",
    "    \"entropy_coeff\":0.001,\n",
    "    \"log_iterations\":64,\n",
    "    \"gamma\":None,   # Discounted Rewards\n",
    "    \"device\":'cuda',\n",
    "    \"num_envs\":None,\n",
    "    \"save_model\":True,\n",
    "    \"model_output_path\":'models/first.pt'\n",
    "}"
   ]
  },
  {
   "cell_type": "code",
   "execution_count": 14,
   "id": "f07896fd",
   "metadata": {},
   "outputs": [],
   "source": [
    "prepare_datasets(data_file_path=\"./sms_spam_collection/SMSSpamCollection.tsv\", store_directory=\"./sms_spam_collection/data_splits\")"
   ]
  },
  {
   "cell_type": "code",
   "execution_count": 15,
   "id": "aee6c4ce",
   "metadata": {},
   "outputs": [],
   "source": [
    "tokenizer = tiktoken.get_encoding(\"gpt2\")"
   ]
  },
  {
   "cell_type": "code",
   "execution_count": 16,
   "id": "c2ac70ec",
   "metadata": {},
   "outputs": [],
   "source": [
    "train_dataset = SpamDataset(csv_file=\"./sms_spam_collection/data_splits/train.csv\", tokenizer=tokenizer)\n",
    "# test_dataset = SpamDataset(csv_file=\"./sms_spam_collection/data_splits/test.csv\", tokenizer=tokenizer)\n",
    "validation_dataset = SpamDataset(csv_file=\"./sms_spam_collection/data_splits/validation.csv\", tokenizer=tokenizer)"
   ]
  },
  {
   "cell_type": "code",
   "execution_count": 17,
   "id": "2867b3b3",
   "metadata": {},
   "outputs": [],
   "source": [
    "train_dataloader = DataLoader(dataset=train_dataset, batch_size=args[\"dataloader_batch_size\"], num_workers=args[\"dataloader_num_workers\"], pin_memory=args[\"dataloader_pin_memory\"], drop_last=True)\n",
    "# test_dataloader = DataLoader(dataset=test_dataset, batch_size=args[\"dataloader_batch_size\"], num_workers=args[\"dataloader_num_workers\"], pin_memory=args[\"dataloader_pin_memory\"], drop_last=True)\n",
    "validation_dataloader = DataLoader(dataset=validation_dataset, batch_size=args[\"dataloader_batch_size\"], num_workers=args[\"dataloader_num_workers\"], pin_memory=args[\"dataloader_pin_memory\"], drop_last=True)"
   ]
  },
  {
   "cell_type": "code",
   "execution_count": 18,
   "id": "cabd13e9",
   "metadata": {},
   "outputs": [
    {
     "name": "stdout",
     "output_type": "stream",
     "text": [
      "16\n",
      "3\n"
     ]
    }
   ],
   "source": [
    "print(len(train_dataloader))\n",
    "print(len(validation_dataloader))\n"
   ]
  },
  {
   "cell_type": "code",
   "execution_count": 30,
   "id": "ee442850",
   "metadata": {},
   "outputs": [
    {
     "name": "stdout",
     "output_type": "stream",
     "text": [
      "64\n"
     ]
    }
   ],
   "source": [
    "for batch_inputs, batch_labels in validation_dataloader:\n",
    "    print(f\"{batch_labels.size(0)}\")\n",
    "    break"
   ]
  },
  {
   "cell_type": "code",
   "execution_count": 21,
   "id": "3b65f01c",
   "metadata": {},
   "outputs": [
    {
     "name": "stdout",
     "output_type": "stream",
     "text": [
      "Training Policy on cuda with 512 main epochs, 64 inner epochs, 0.0003 learning rate, batch size None, KL beta 0.01.\n",
      "Using gpt2 size:gpt2-small (124M) , logging every 64 iterations, evaluating every 10 iterations.\n",
      "File already exists and is up-to-date: gpt2\\124M\\checkpoint\n",
      "File already exists and is up-to-date: gpt2\\124M\\encoder.json\n",
      "File already exists and is up-to-date: gpt2\\124M\\hparams.json\n",
      "File already exists and is up-to-date: gpt2\\124M\\model.ckpt.data-00000-of-00001\n",
      "File already exists and is up-to-date: gpt2\\124M\\model.ckpt.index\n",
      "File already exists and is up-to-date: gpt2\\124M\\model.ckpt.meta\n",
      "File already exists and is up-to-date: gpt2\\124M\\vocab.bpe\n"
     ]
    },
    {
     "name": "stderr",
     "output_type": "stream",
     "text": [
      "Main Epoch (Outer Loop):   0%|          | 0/512 [00:00<?, ?it/s]"
     ]
    },
    {
     "name": "stdout",
     "output_type": "stream",
     "text": [
      "Transferred Data\n"
     ]
    },
    {
     "name": "stderr",
     "output_type": "stream",
     "text": [
      "Epoch 1/512 (Inner K-Epochs): 100%|██████████| 64/64 [00:05<00:00, 12.59it/s]\n",
      "Main Epoch (Outer Loop):   0%|          | 1/512 [00:05<45:08,  5.30s/it]"
     ]
    },
    {
     "name": "stdout",
     "output_type": "stream",
     "text": [
      "Transferred Data\n"
     ]
    },
    {
     "name": "stderr",
     "output_type": "stream",
     "text": [
      "Epoch 2/512 (Inner K-Epochs): 100%|██████████| 64/64 [00:05<00:00, 12.47it/s]\n",
      "Main Epoch (Outer Loop):   0%|          | 2/512 [00:10<44:38,  5.25s/it]"
     ]
    },
    {
     "name": "stdout",
     "output_type": "stream",
     "text": [
      "Transferred Data\n"
     ]
    },
    {
     "name": "stderr",
     "output_type": "stream",
     "text": [
      "Epoch 3/512 (Inner K-Epochs): 100%|██████████| 64/64 [00:05<00:00, 12.59it/s]\n",
      "Main Epoch (Outer Loop):   1%|          | 3/512 [00:15<44:13,  5.21s/it]"
     ]
    },
    {
     "name": "stdout",
     "output_type": "stream",
     "text": [
      "Transferred Data\n"
     ]
    },
    {
     "name": "stderr",
     "output_type": "stream",
     "text": [
      "Epoch 4/512 (Inner K-Epochs): 100%|██████████| 64/64 [00:05<00:00, 12.55it/s]\n",
      "Main Epoch (Outer Loop):   1%|          | 4/512 [00:20<44:01,  5.20s/it]"
     ]
    },
    {
     "name": "stdout",
     "output_type": "stream",
     "text": [
      "Transferred Data\n"
     ]
    },
    {
     "name": "stderr",
     "output_type": "stream",
     "text": [
      "Epoch 5/512 (Inner K-Epochs): 100%|██████████| 64/64 [00:05<00:00, 12.41it/s]\n",
      "Main Epoch (Outer Loop):   1%|          | 5/512 [00:26<44:04,  5.21s/it]"
     ]
    },
    {
     "name": "stdout",
     "output_type": "stream",
     "text": [
      "Transferred Data\n"
     ]
    },
    {
     "name": "stderr",
     "output_type": "stream",
     "text": [
      "Epoch 6/512 (Inner K-Epochs): 100%|██████████| 64/64 [00:05<00:00, 12.50it/s]\n",
      "Main Epoch (Outer Loop):   1%|          | 6/512 [00:31<43:58,  5.21s/it]"
     ]
    },
    {
     "name": "stdout",
     "output_type": "stream",
     "text": [
      "Transferred Data\n"
     ]
    },
    {
     "name": "stderr",
     "output_type": "stream",
     "text": [
      "Epoch 7/512 (Inner K-Epochs): 100%|██████████| 64/64 [00:05<00:00, 12.51it/s]\n",
      "Main Epoch (Outer Loop):   1%|▏         | 7/512 [00:36<43:51,  5.21s/it]"
     ]
    },
    {
     "name": "stdout",
     "output_type": "stream",
     "text": [
      "Transferred Data\n"
     ]
    },
    {
     "name": "stderr",
     "output_type": "stream",
     "text": [
      "Epoch 8/512 (Inner K-Epochs): 100%|██████████| 64/64 [00:05<00:00, 12.52it/s]\n",
      "Main Epoch (Outer Loop):   2%|▏         | 8/512 [00:41<43:43,  5.21s/it]"
     ]
    },
    {
     "name": "stdout",
     "output_type": "stream",
     "text": [
      "Transferred Data\n"
     ]
    },
    {
     "name": "stderr",
     "output_type": "stream",
     "text": [
      "Epoch 9/512 (Inner K-Epochs): 100%|██████████| 64/64 [00:05<00:00, 12.47it/s]\n",
      "Main Epoch (Outer Loop):   2%|▏         | 9/512 [00:46<43:42,  5.21s/it]"
     ]
    },
    {
     "name": "stdout",
     "output_type": "stream",
     "text": [
      "Transferred Data\n"
     ]
    },
    {
     "name": "stderr",
     "output_type": "stream",
     "text": [
      "Epoch 10/512 (Inner K-Epochs): 100%|██████████| 64/64 [00:05<00:00, 12.48it/s]\n",
      "Main Epoch (Outer Loop):   2%|▏         | 10/512 [00:52<43:37,  5.21s/it]"
     ]
    },
    {
     "name": "stdout",
     "output_type": "stream",
     "text": [
      "Transferred Data\n"
     ]
    },
    {
     "name": "stderr",
     "output_type": "stream",
     "text": [
      "Epoch 11/512 (Inner K-Epochs): 100%|██████████| 64/64 [00:05<00:00, 12.47it/s]\n",
      "Main Epoch (Outer Loop):   2%|▏         | 11/512 [00:57<43:35,  5.22s/it]"
     ]
    },
    {
     "name": "stdout",
     "output_type": "stream",
     "text": [
      "Transferred Data\n"
     ]
    },
    {
     "name": "stderr",
     "output_type": "stream",
     "text": [
      "Epoch 12/512 (Inner K-Epochs): 100%|██████████| 64/64 [00:05<00:00, 12.45it/s]\n",
      "Main Epoch (Outer Loop):   2%|▏         | 12/512 [01:02<43:30,  5.22s/it]"
     ]
    },
    {
     "name": "stdout",
     "output_type": "stream",
     "text": [
      "Transferred Data\n"
     ]
    },
    {
     "name": "stderr",
     "output_type": "stream",
     "text": [
      "Epoch 13/512 (Inner K-Epochs): 100%|██████████| 64/64 [00:05<00:00, 12.48it/s]\n",
      "Main Epoch (Outer Loop):   3%|▎         | 13/512 [01:07<43:23,  5.22s/it]"
     ]
    },
    {
     "name": "stdout",
     "output_type": "stream",
     "text": [
      "Transferred Data\n"
     ]
    },
    {
     "name": "stderr",
     "output_type": "stream",
     "text": [
      "Epoch 14/512 (Inner K-Epochs): 100%|██████████| 64/64 [00:05<00:00, 12.46it/s]\n",
      "Main Epoch (Outer Loop):   3%|▎         | 14/512 [01:13<43:19,  5.22s/it]"
     ]
    },
    {
     "name": "stdout",
     "output_type": "stream",
     "text": [
      "Transferred Data\n"
     ]
    },
    {
     "name": "stderr",
     "output_type": "stream",
     "text": [
      "Epoch 15/512 (Inner K-Epochs): 100%|██████████| 64/64 [00:05<00:00, 12.47it/s]\n",
      "Main Epoch (Outer Loop):   3%|▎         | 15/512 [01:18<43:13,  5.22s/it]"
     ]
    },
    {
     "name": "stdout",
     "output_type": "stream",
     "text": [
      "Transferred Data\n"
     ]
    },
    {
     "name": "stderr",
     "output_type": "stream",
     "text": [
      "Epoch 16/512 (Inner K-Epochs): 100%|██████████| 64/64 [00:05<00:00, 12.43it/s]\n",
      "Main Epoch (Outer Loop):   3%|▎         | 16/512 [01:23<43:11,  5.23s/it]"
     ]
    },
    {
     "name": "stdout",
     "output_type": "stream",
     "text": [
      "Transferred Data\n"
     ]
    },
    {
     "name": "stderr",
     "output_type": "stream",
     "text": [
      "Epoch 17/512 (Inner K-Epochs): 100%|██████████| 64/64 [00:05<00:00, 12.42it/s]\n",
      "Main Epoch (Outer Loop):   3%|▎         | 17/512 [01:28<43:08,  5.23s/it]"
     ]
    },
    {
     "name": "stdout",
     "output_type": "stream",
     "text": [
      "Transferred Data\n"
     ]
    },
    {
     "name": "stderr",
     "output_type": "stream",
     "text": [
      "Epoch 18/512 (Inner K-Epochs): 100%|██████████| 64/64 [00:05<00:00, 12.46it/s]\n",
      "Main Epoch (Outer Loop):   4%|▎         | 18/512 [01:33<43:01,  5.23s/it]"
     ]
    },
    {
     "name": "stdout",
     "output_type": "stream",
     "text": [
      "Transferred Data\n"
     ]
    },
    {
     "name": "stderr",
     "output_type": "stream",
     "text": [
      "Epoch 19/512 (Inner K-Epochs): 100%|██████████| 64/64 [00:05<00:00, 12.47it/s]\n",
      "Main Epoch (Outer Loop):   4%|▎         | 19/512 [01:39<42:56,  5.23s/it]"
     ]
    },
    {
     "name": "stdout",
     "output_type": "stream",
     "text": [
      "Transferred Data\n"
     ]
    },
    {
     "name": "stderr",
     "output_type": "stream",
     "text": [
      "Epoch 20/512 (Inner K-Epochs): 100%|██████████| 64/64 [00:05<00:00, 12.48it/s]\n",
      "Main Epoch (Outer Loop):   4%|▍         | 20/512 [01:44<42:49,  5.22s/it]"
     ]
    },
    {
     "name": "stdout",
     "output_type": "stream",
     "text": [
      "Transferred Data\n"
     ]
    },
    {
     "name": "stderr",
     "output_type": "stream",
     "text": [
      "Epoch 21/512 (Inner K-Epochs): 100%|██████████| 64/64 [00:05<00:00, 12.43it/s]\n",
      "Main Epoch (Outer Loop):   4%|▍         | 21/512 [01:49<42:45,  5.23s/it]"
     ]
    },
    {
     "name": "stdout",
     "output_type": "stream",
     "text": [
      "Transferred Data\n"
     ]
    },
    {
     "name": "stderr",
     "output_type": "stream",
     "text": [
      "Epoch 22/512 (Inner K-Epochs): 100%|██████████| 64/64 [00:05<00:00, 12.43it/s]\n",
      "Main Epoch (Outer Loop):   4%|▍         | 22/512 [01:54<42:41,  5.23s/it]"
     ]
    },
    {
     "name": "stdout",
     "output_type": "stream",
     "text": [
      "Transferred Data\n"
     ]
    },
    {
     "name": "stderr",
     "output_type": "stream",
     "text": [
      "Epoch 23/512 (Inner K-Epochs): 100%|██████████| 64/64 [00:05<00:00, 12.44it/s]\n",
      "Main Epoch (Outer Loop):   4%|▍         | 23/512 [02:00<42:37,  5.23s/it]"
     ]
    },
    {
     "name": "stdout",
     "output_type": "stream",
     "text": [
      "Transferred Data\n"
     ]
    },
    {
     "name": "stderr",
     "output_type": "stream",
     "text": [
      "Epoch 24/512 (Inner K-Epochs): 100%|██████████| 64/64 [00:05<00:00, 12.47it/s]\n",
      "Main Epoch (Outer Loop):   5%|▍         | 24/512 [02:05<42:29,  5.23s/it]"
     ]
    },
    {
     "name": "stdout",
     "output_type": "stream",
     "text": [
      "Transferred Data\n"
     ]
    },
    {
     "name": "stderr",
     "output_type": "stream",
     "text": [
      "Epoch 25/512 (Inner K-Epochs): 100%|██████████| 64/64 [00:05<00:00, 12.43it/s]\n",
      "Main Epoch (Outer Loop):   5%|▍         | 25/512 [02:10<42:28,  5.23s/it]"
     ]
    },
    {
     "name": "stdout",
     "output_type": "stream",
     "text": [
      "Transferred Data\n"
     ]
    },
    {
     "name": "stderr",
     "output_type": "stream",
     "text": [
      "Epoch 26/512 (Inner K-Epochs): 100%|██████████| 64/64 [00:05<00:00, 12.43it/s]\n",
      "Main Epoch (Outer Loop):   5%|▌         | 26/512 [02:15<42:23,  5.23s/it]"
     ]
    },
    {
     "name": "stdout",
     "output_type": "stream",
     "text": [
      "Transferred Data\n"
     ]
    },
    {
     "name": "stderr",
     "output_type": "stream",
     "text": [
      "Epoch 27/512 (Inner K-Epochs): 100%|██████████| 64/64 [00:05<00:00, 12.48it/s]\n",
      "Main Epoch (Outer Loop):   5%|▌         | 27/512 [02:21<42:17,  5.23s/it]"
     ]
    },
    {
     "name": "stdout",
     "output_type": "stream",
     "text": [
      "Transferred Data\n"
     ]
    },
    {
     "name": "stderr",
     "output_type": "stream",
     "text": [
      "Epoch 28/512 (Inner K-Epochs): 100%|██████████| 64/64 [00:05<00:00, 12.40it/s]\n",
      "Main Epoch (Outer Loop):   5%|▌         | 28/512 [02:26<42:12,  5.23s/it]"
     ]
    },
    {
     "name": "stdout",
     "output_type": "stream",
     "text": [
      "Transferred Data\n"
     ]
    },
    {
     "name": "stderr",
     "output_type": "stream",
     "text": [
      "Epoch 29/512 (Inner K-Epochs): 100%|██████████| 64/64 [00:05<00:00, 12.41it/s]\n",
      "Main Epoch (Outer Loop):   6%|▌         | 29/512 [02:31<42:08,  5.23s/it]"
     ]
    },
    {
     "name": "stdout",
     "output_type": "stream",
     "text": [
      "Transferred Data\n"
     ]
    },
    {
     "name": "stderr",
     "output_type": "stream",
     "text": [
      "Epoch 30/512 (Inner K-Epochs): 100%|██████████| 64/64 [00:05<00:00, 12.51it/s]\n",
      "Main Epoch (Outer Loop):   6%|▌         | 30/512 [02:36<41:59,  5.23s/it]"
     ]
    },
    {
     "name": "stdout",
     "output_type": "stream",
     "text": [
      "Transferred Data\n"
     ]
    },
    {
     "name": "stderr",
     "output_type": "stream",
     "text": [
      "Epoch 31/512 (Inner K-Epochs): 100%|██████████| 64/64 [00:05<00:00, 12.47it/s]\n",
      "Main Epoch (Outer Loop):   6%|▌         | 31/512 [02:41<41:52,  5.22s/it]"
     ]
    },
    {
     "name": "stdout",
     "output_type": "stream",
     "text": [
      "Transferred Data\n"
     ]
    },
    {
     "name": "stderr",
     "output_type": "stream",
     "text": [
      "Epoch 32/512 (Inner K-Epochs): 100%|██████████| 64/64 [00:05<00:00, 12.38it/s]\n",
      "Main Epoch (Outer Loop):   6%|▋         | 32/512 [02:47<41:51,  5.23s/it]"
     ]
    },
    {
     "name": "stdout",
     "output_type": "stream",
     "text": [
      "Transferred Data\n"
     ]
    },
    {
     "name": "stderr",
     "output_type": "stream",
     "text": [
      "Epoch 33/512 (Inner K-Epochs): 100%|██████████| 64/64 [00:05<00:00, 12.39it/s]\n",
      "Main Epoch (Outer Loop):   6%|▋         | 33/512 [02:52<41:48,  5.24s/it]"
     ]
    },
    {
     "name": "stdout",
     "output_type": "stream",
     "text": [
      "Transferred Data\n"
     ]
    },
    {
     "name": "stderr",
     "output_type": "stream",
     "text": [
      "Epoch 34/512 (Inner K-Epochs): 100%|██████████| 64/64 [00:05<00:00, 12.43it/s]\n",
      "Main Epoch (Outer Loop):   7%|▋         | 34/512 [02:57<41:42,  5.24s/it]"
     ]
    },
    {
     "name": "stdout",
     "output_type": "stream",
     "text": [
      "Transferred Data\n"
     ]
    },
    {
     "name": "stderr",
     "output_type": "stream",
     "text": [
      "Epoch 35/512 (Inner K-Epochs): 100%|██████████| 64/64 [00:05<00:00, 12.48it/s]\n",
      "Main Epoch (Outer Loop):   7%|▋         | 35/512 [03:02<41:34,  5.23s/it]"
     ]
    },
    {
     "name": "stdout",
     "output_type": "stream",
     "text": [
      "Transferred Data\n"
     ]
    },
    {
     "name": "stderr",
     "output_type": "stream",
     "text": [
      "Epoch 36/512 (Inner K-Epochs): 100%|██████████| 64/64 [00:05<00:00, 12.43it/s]\n",
      "Main Epoch (Outer Loop):   7%|▋         | 36/512 [03:08<41:29,  5.23s/it]"
     ]
    },
    {
     "name": "stdout",
     "output_type": "stream",
     "text": [
      "Transferred Data\n"
     ]
    },
    {
     "name": "stderr",
     "output_type": "stream",
     "text": [
      "Epoch 37/512 (Inner K-Epochs): 100%|██████████| 64/64 [00:05<00:00, 12.41it/s]\n",
      "Main Epoch (Outer Loop):   7%|▋         | 37/512 [03:13<41:25,  5.23s/it]"
     ]
    },
    {
     "name": "stdout",
     "output_type": "stream",
     "text": [
      "Transferred Data\n"
     ]
    },
    {
     "name": "stderr",
     "output_type": "stream",
     "text": [
      "Epoch 38/512 (Inner K-Epochs): 100%|██████████| 64/64 [00:05<00:00, 12.46it/s]\n",
      "Main Epoch (Outer Loop):   7%|▋         | 38/512 [03:18<41:18,  5.23s/it]"
     ]
    },
    {
     "name": "stdout",
     "output_type": "stream",
     "text": [
      "Transferred Data\n"
     ]
    },
    {
     "name": "stderr",
     "output_type": "stream",
     "text": [
      "Epoch 39/512 (Inner K-Epochs): 100%|██████████| 64/64 [00:05<00:00, 12.45it/s]\n",
      "Main Epoch (Outer Loop):   8%|▊         | 39/512 [03:23<41:13,  5.23s/it]"
     ]
    },
    {
     "name": "stdout",
     "output_type": "stream",
     "text": [
      "Transferred Data\n"
     ]
    },
    {
     "name": "stderr",
     "output_type": "stream",
     "text": [
      "Epoch 40/512 (Inner K-Epochs): 100%|██████████| 64/64 [00:05<00:00, 12.43it/s]\n",
      "Main Epoch (Outer Loop):   8%|▊         | 40/512 [03:29<41:08,  5.23s/it]"
     ]
    },
    {
     "name": "stdout",
     "output_type": "stream",
     "text": [
      "Transferred Data\n"
     ]
    },
    {
     "name": "stderr",
     "output_type": "stream",
     "text": [
      "Epoch 41/512 (Inner K-Epochs): 100%|██████████| 64/64 [00:05<00:00, 12.47it/s]\n",
      "Main Epoch (Outer Loop):   8%|▊         | 41/512 [03:34<41:00,  5.22s/it]"
     ]
    },
    {
     "name": "stdout",
     "output_type": "stream",
     "text": [
      "Transferred Data\n"
     ]
    },
    {
     "name": "stderr",
     "output_type": "stream",
     "text": [
      "Epoch 42/512 (Inner K-Epochs): 100%|██████████| 64/64 [00:05<00:00, 12.42it/s]\n",
      "Main Epoch (Outer Loop):   8%|▊         | 42/512 [03:39<40:57,  5.23s/it]"
     ]
    },
    {
     "name": "stdout",
     "output_type": "stream",
     "text": [
      "Transferred Data\n"
     ]
    },
    {
     "name": "stderr",
     "output_type": "stream",
     "text": [
      "Epoch 43/512 (Inner K-Epochs): 100%|██████████| 64/64 [00:05<00:00, 12.44it/s]\n",
      "Main Epoch (Outer Loop):   8%|▊         | 43/512 [03:44<40:52,  5.23s/it]"
     ]
    },
    {
     "name": "stdout",
     "output_type": "stream",
     "text": [
      "Transferred Data\n"
     ]
    },
    {
     "name": "stderr",
     "output_type": "stream",
     "text": [
      "Epoch 44/512 (Inner K-Epochs): 100%|██████████| 64/64 [00:05<00:00, 12.47it/s]\n",
      "Main Epoch (Outer Loop):   9%|▊         | 44/512 [03:49<40:47,  5.23s/it]"
     ]
    },
    {
     "name": "stdout",
     "output_type": "stream",
     "text": [
      "Transferred Data\n"
     ]
    },
    {
     "name": "stderr",
     "output_type": "stream",
     "text": [
      "Epoch 45/512 (Inner K-Epochs): 100%|██████████| 64/64 [00:05<00:00, 12.44it/s]\n",
      "Main Epoch (Outer Loop):   9%|▉         | 45/512 [03:55<40:40,  5.23s/it]"
     ]
    },
    {
     "name": "stdout",
     "output_type": "stream",
     "text": [
      "Transferred Data\n"
     ]
    },
    {
     "name": "stderr",
     "output_type": "stream",
     "text": [
      "Epoch 46/512 (Inner K-Epochs): 100%|██████████| 64/64 [00:05<00:00, 12.43it/s]\n",
      "Main Epoch (Outer Loop):   9%|▉         | 46/512 [04:00<40:36,  5.23s/it]"
     ]
    },
    {
     "name": "stdout",
     "output_type": "stream",
     "text": [
      "Transferred Data\n"
     ]
    },
    {
     "name": "stderr",
     "output_type": "stream",
     "text": [
      "Epoch 47/512 (Inner K-Epochs): 100%|██████████| 64/64 [00:05<00:00, 12.40it/s]\n",
      "Main Epoch (Outer Loop):   9%|▉         | 47/512 [04:05<40:31,  5.23s/it]"
     ]
    },
    {
     "name": "stdout",
     "output_type": "stream",
     "text": [
      "Transferred Data\n"
     ]
    },
    {
     "name": "stderr",
     "output_type": "stream",
     "text": [
      "Epoch 48/512 (Inner K-Epochs): 100%|██████████| 64/64 [00:05<00:00, 12.44it/s]\n",
      "Main Epoch (Outer Loop):   9%|▉         | 48/512 [04:10<40:26,  5.23s/it]"
     ]
    },
    {
     "name": "stdout",
     "output_type": "stream",
     "text": [
      "Transferred Data\n"
     ]
    },
    {
     "name": "stderr",
     "output_type": "stream",
     "text": [
      "Epoch 49/512 (Inner K-Epochs): 100%|██████████| 64/64 [00:05<00:00, 12.43it/s]\n",
      "Main Epoch (Outer Loop):  10%|▉         | 49/512 [04:16<40:22,  5.23s/it]"
     ]
    },
    {
     "name": "stdout",
     "output_type": "stream",
     "text": [
      "Transferred Data\n"
     ]
    },
    {
     "name": "stderr",
     "output_type": "stream",
     "text": [
      "Epoch 50/512 (Inner K-Epochs): 100%|██████████| 64/64 [00:05<00:00, 12.45it/s]\n",
      "Main Epoch (Outer Loop):  10%|▉         | 50/512 [04:21<40:15,  5.23s/it]"
     ]
    },
    {
     "name": "stdout",
     "output_type": "stream",
     "text": [
      "Transferred Data\n"
     ]
    },
    {
     "name": "stderr",
     "output_type": "stream",
     "text": [
      "Epoch 51/512 (Inner K-Epochs): 100%|██████████| 64/64 [00:05<00:00, 12.41it/s]\n",
      "Main Epoch (Outer Loop):  10%|▉         | 51/512 [04:26<40:11,  5.23s/it]"
     ]
    },
    {
     "name": "stdout",
     "output_type": "stream",
     "text": [
      "Transferred Data\n"
     ]
    },
    {
     "name": "stderr",
     "output_type": "stream",
     "text": [
      "Epoch 52/512 (Inner K-Epochs): 100%|██████████| 64/64 [00:05<00:00, 12.43it/s]\n",
      "Main Epoch (Outer Loop):  10%|█         | 52/512 [04:31<40:05,  5.23s/it]"
     ]
    },
    {
     "name": "stdout",
     "output_type": "stream",
     "text": [
      "Transferred Data\n"
     ]
    },
    {
     "name": "stderr",
     "output_type": "stream",
     "text": [
      "Epoch 53/512 (Inner K-Epochs): 100%|██████████| 64/64 [00:05<00:00, 12.30it/s]\n",
      "Main Epoch (Outer Loop):  10%|█         | 53/512 [04:37<40:10,  5.25s/it]"
     ]
    },
    {
     "name": "stdout",
     "output_type": "stream",
     "text": [
      "Transferred Data\n"
     ]
    },
    {
     "name": "stderr",
     "output_type": "stream",
     "text": [
      "Epoch 54/512 (Inner K-Epochs): 100%|██████████| 64/64 [00:05<00:00, 12.40it/s]\n",
      "Main Epoch (Outer Loop):  11%|█         | 54/512 [04:42<40:04,  5.25s/it]"
     ]
    },
    {
     "name": "stdout",
     "output_type": "stream",
     "text": [
      "Transferred Data\n"
     ]
    },
    {
     "name": "stderr",
     "output_type": "stream",
     "text": [
      "Epoch 55/512 (Inner K-Epochs): 100%|██████████| 64/64 [00:05<00:00, 12.47it/s]\n",
      "Main Epoch (Outer Loop):  11%|█         | 55/512 [04:47<39:54,  5.24s/it]"
     ]
    },
    {
     "name": "stdout",
     "output_type": "stream",
     "text": [
      "Transferred Data\n"
     ]
    },
    {
     "name": "stderr",
     "output_type": "stream",
     "text": [
      "Epoch 56/512 (Inner K-Epochs): 100%|██████████| 64/64 [00:05<00:00, 12.47it/s]\n",
      "Main Epoch (Outer Loop):  11%|█         | 56/512 [04:52<39:45,  5.23s/it]"
     ]
    },
    {
     "name": "stdout",
     "output_type": "stream",
     "text": [
      "Transferred Data\n"
     ]
    },
    {
     "name": "stderr",
     "output_type": "stream",
     "text": [
      "Epoch 57/512 (Inner K-Epochs): 100%|██████████| 64/64 [00:05<00:00, 12.41it/s]\n",
      "Main Epoch (Outer Loop):  11%|█         | 57/512 [04:58<39:41,  5.23s/it]"
     ]
    },
    {
     "name": "stdout",
     "output_type": "stream",
     "text": [
      "Transferred Data\n"
     ]
    },
    {
     "name": "stderr",
     "output_type": "stream",
     "text": [
      "Epoch 58/512 (Inner K-Epochs): 100%|██████████| 64/64 [00:05<00:00, 12.51it/s]\n",
      "Main Epoch (Outer Loop):  11%|█▏        | 58/512 [05:03<39:30,  5.22s/it]"
     ]
    },
    {
     "name": "stdout",
     "output_type": "stream",
     "text": [
      "Transferred Data\n"
     ]
    },
    {
     "name": "stderr",
     "output_type": "stream",
     "text": [
      "Epoch 59/512 (Inner K-Epochs): 100%|██████████| 64/64 [00:05<00:00, 12.47it/s]\n",
      "Main Epoch (Outer Loop):  12%|█▏        | 59/512 [05:08<39:24,  5.22s/it]"
     ]
    },
    {
     "name": "stdout",
     "output_type": "stream",
     "text": [
      "Transferred Data\n"
     ]
    },
    {
     "name": "stderr",
     "output_type": "stream",
     "text": [
      "Epoch 60/512 (Inner K-Epochs): 100%|██████████| 64/64 [00:05<00:00, 12.51it/s]\n",
      "Main Epoch (Outer Loop):  12%|█▏        | 60/512 [05:13<39:17,  5.21s/it]"
     ]
    },
    {
     "name": "stdout",
     "output_type": "stream",
     "text": [
      "Transferred Data\n"
     ]
    },
    {
     "name": "stderr",
     "output_type": "stream",
     "text": [
      "Epoch 61/512 (Inner K-Epochs): 100%|██████████| 64/64 [00:05<00:00, 12.47it/s]\n",
      "Main Epoch (Outer Loop):  12%|█▏        | 61/512 [05:18<39:11,  5.21s/it]"
     ]
    },
    {
     "name": "stdout",
     "output_type": "stream",
     "text": [
      "Transferred Data\n"
     ]
    },
    {
     "name": "stderr",
     "output_type": "stream",
     "text": [
      "Epoch 62/512 (Inner K-Epochs): 100%|██████████| 64/64 [00:05<00:00, 12.47it/s]\n",
      "Main Epoch (Outer Loop):  12%|█▏        | 62/512 [05:24<39:08,  5.22s/it]"
     ]
    },
    {
     "name": "stdout",
     "output_type": "stream",
     "text": [
      "Transferred Data\n"
     ]
    },
    {
     "name": "stderr",
     "output_type": "stream",
     "text": [
      "Epoch 63/512 (Inner K-Epochs): 100%|██████████| 64/64 [00:05<00:00, 12.45it/s]\n",
      "Main Epoch (Outer Loop):  12%|█▏        | 63/512 [05:29<39:04,  5.22s/it]"
     ]
    },
    {
     "name": "stdout",
     "output_type": "stream",
     "text": [
      "Transferred Data\n"
     ]
    },
    {
     "name": "stderr",
     "output_type": "stream",
     "text": [
      "Epoch 64/512 (Inner K-Epochs): 100%|██████████| 64/64 [00:05<00:00, 12.36it/s]\n",
      "Main Epoch (Outer Loop):  12%|█▎        | 64/512 [05:34<39:28,  5.29s/it]"
     ]
    },
    {
     "name": "stdout",
     "output_type": "stream",
     "text": [
      "Epoch 64/512, Loss: -0.0000, Ratio: 1.00000, Entropy Term: 0.00000\n",
      "Epoch 64 | Entire Validation Dataset Accuracy: 0.5365| 103.0 / 192.0 samples\n",
      "Transferred Data\n"
     ]
    },
    {
     "name": "stderr",
     "output_type": "stream",
     "text": [
      "Epoch 65/512 (Inner K-Epochs): 100%|██████████| 64/64 [00:05<00:00, 12.47it/s]\n",
      "Main Epoch (Outer Loop):  13%|█▎        | 65/512 [05:39<39:15,  5.27s/it]"
     ]
    },
    {
     "name": "stdout",
     "output_type": "stream",
     "text": [
      "Transferred Data\n"
     ]
    },
    {
     "name": "stderr",
     "output_type": "stream",
     "text": [
      "Epoch 66/512 (Inner K-Epochs): 100%|██████████| 64/64 [00:05<00:00, 12.43it/s]\n",
      "Main Epoch (Outer Loop):  13%|█▎        | 66/512 [05:45<39:03,  5.26s/it]"
     ]
    },
    {
     "name": "stdout",
     "output_type": "stream",
     "text": [
      "Transferred Data\n"
     ]
    },
    {
     "name": "stderr",
     "output_type": "stream",
     "text": [
      "Epoch 67/512 (Inner K-Epochs): 100%|██████████| 64/64 [00:05<00:00, 12.47it/s]\n",
      "Main Epoch (Outer Loop):  13%|█▎        | 67/512 [05:50<38:53,  5.24s/it]"
     ]
    },
    {
     "name": "stdout",
     "output_type": "stream",
     "text": [
      "Transferred Data\n"
     ]
    },
    {
     "name": "stderr",
     "output_type": "stream",
     "text": [
      "Epoch 68/512 (Inner K-Epochs): 100%|██████████| 64/64 [00:05<00:00, 12.43it/s]\n",
      "Main Epoch (Outer Loop):  13%|█▎        | 68/512 [05:55<38:46,  5.24s/it]"
     ]
    },
    {
     "name": "stdout",
     "output_type": "stream",
     "text": [
      "Transferred Data\n"
     ]
    },
    {
     "name": "stderr",
     "output_type": "stream",
     "text": [
      "Epoch 69/512 (Inner K-Epochs): 100%|██████████| 64/64 [00:05<00:00, 12.39it/s]\n",
      "Main Epoch (Outer Loop):  13%|█▎        | 69/512 [06:00<38:42,  5.24s/it]"
     ]
    },
    {
     "name": "stdout",
     "output_type": "stream",
     "text": [
      "Transferred Data\n"
     ]
    },
    {
     "name": "stderr",
     "output_type": "stream",
     "text": [
      "Epoch 70/512 (Inner K-Epochs): 100%|██████████| 64/64 [00:05<00:00, 12.47it/s]\n",
      "Main Epoch (Outer Loop):  14%|█▎        | 70/512 [06:06<38:34,  5.24s/it]"
     ]
    },
    {
     "name": "stdout",
     "output_type": "stream",
     "text": [
      "Transferred Data\n"
     ]
    },
    {
     "name": "stderr",
     "output_type": "stream",
     "text": [
      "Epoch 71/512 (Inner K-Epochs): 100%|██████████| 64/64 [00:05<00:00, 12.39it/s]\n",
      "Main Epoch (Outer Loop):  14%|█▍        | 71/512 [06:11<38:30,  5.24s/it]"
     ]
    },
    {
     "name": "stdout",
     "output_type": "stream",
     "text": [
      "Transferred Data\n"
     ]
    },
    {
     "name": "stderr",
     "output_type": "stream",
     "text": [
      "Epoch 72/512 (Inner K-Epochs): 100%|██████████| 64/64 [00:05<00:00, 12.51it/s]\n",
      "Main Epoch (Outer Loop):  14%|█▍        | 72/512 [06:16<38:20,  5.23s/it]"
     ]
    },
    {
     "name": "stdout",
     "output_type": "stream",
     "text": [
      "Transferred Data\n"
     ]
    },
    {
     "name": "stderr",
     "output_type": "stream",
     "text": [
      "Epoch 73/512 (Inner K-Epochs): 100%|██████████| 64/64 [00:05<00:00, 12.51it/s]\n",
      "Main Epoch (Outer Loop):  14%|█▍        | 73/512 [06:21<38:11,  5.22s/it]"
     ]
    },
    {
     "name": "stdout",
     "output_type": "stream",
     "text": [
      "Transferred Data\n"
     ]
    },
    {
     "name": "stderr",
     "output_type": "stream",
     "text": [
      "Epoch 74/512 (Inner K-Epochs): 100%|██████████| 64/64 [00:05<00:00, 12.46it/s]\n",
      "Main Epoch (Outer Loop):  14%|█▍        | 74/512 [06:26<38:08,  5.22s/it]"
     ]
    },
    {
     "name": "stdout",
     "output_type": "stream",
     "text": [
      "Transferred Data\n"
     ]
    },
    {
     "name": "stderr",
     "output_type": "stream",
     "text": [
      "Epoch 75/512 (Inner K-Epochs): 100%|██████████| 64/64 [00:05<00:00, 12.52it/s]\n",
      "Main Epoch (Outer Loop):  15%|█▍        | 75/512 [06:32<37:59,  5.22s/it]"
     ]
    },
    {
     "name": "stdout",
     "output_type": "stream",
     "text": [
      "Transferred Data\n"
     ]
    },
    {
     "name": "stderr",
     "output_type": "stream",
     "text": [
      "Epoch 76/512 (Inner K-Epochs): 100%|██████████| 64/64 [00:05<00:00, 12.44it/s]\n",
      "Main Epoch (Outer Loop):  15%|█▍        | 76/512 [06:37<37:56,  5.22s/it]"
     ]
    },
    {
     "name": "stdout",
     "output_type": "stream",
     "text": [
      "Transferred Data\n"
     ]
    },
    {
     "name": "stderr",
     "output_type": "stream",
     "text": [
      "Epoch 77/512 (Inner K-Epochs): 100%|██████████| 64/64 [00:05<00:00, 12.44it/s]\n",
      "Main Epoch (Outer Loop):  15%|█▌        | 77/512 [06:42<37:50,  5.22s/it]"
     ]
    },
    {
     "name": "stdout",
     "output_type": "stream",
     "text": [
      "Transferred Data\n"
     ]
    },
    {
     "name": "stderr",
     "output_type": "stream",
     "text": [
      "Epoch 78/512 (Inner K-Epochs): 100%|██████████| 64/64 [00:05<00:00, 12.50it/s]\n",
      "Main Epoch (Outer Loop):  15%|█▌        | 78/512 [06:47<37:45,  5.22s/it]"
     ]
    },
    {
     "name": "stdout",
     "output_type": "stream",
     "text": [
      "Transferred Data\n"
     ]
    },
    {
     "name": "stderr",
     "output_type": "stream",
     "text": [
      "Epoch 79/512 (Inner K-Epochs): 100%|██████████| 64/64 [00:05<00:00, 12.51it/s]\n",
      "Main Epoch (Outer Loop):  15%|█▌        | 79/512 [06:53<37:37,  5.21s/it]"
     ]
    },
    {
     "name": "stdout",
     "output_type": "stream",
     "text": [
      "Transferred Data\n"
     ]
    },
    {
     "name": "stderr",
     "output_type": "stream",
     "text": [
      "Epoch 80/512 (Inner K-Epochs): 100%|██████████| 64/64 [00:05<00:00, 12.43it/s]\n",
      "Main Epoch (Outer Loop):  16%|█▌        | 80/512 [06:58<37:34,  5.22s/it]"
     ]
    },
    {
     "name": "stdout",
     "output_type": "stream",
     "text": [
      "Transferred Data\n"
     ]
    },
    {
     "name": "stderr",
     "output_type": "stream",
     "text": [
      "Epoch 81/512 (Inner K-Epochs): 100%|██████████| 64/64 [00:05<00:00, 12.47it/s]\n",
      "Main Epoch (Outer Loop):  16%|█▌        | 81/512 [07:03<37:29,  5.22s/it]"
     ]
    },
    {
     "name": "stdout",
     "output_type": "stream",
     "text": [
      "Transferred Data\n"
     ]
    },
    {
     "name": "stderr",
     "output_type": "stream",
     "text": [
      "Epoch 82/512 (Inner K-Epochs): 100%|██████████| 64/64 [00:05<00:00, 12.47it/s]\n",
      "Main Epoch (Outer Loop):  16%|█▌        | 82/512 [07:08<37:23,  5.22s/it]"
     ]
    },
    {
     "name": "stdout",
     "output_type": "stream",
     "text": [
      "Transferred Data\n"
     ]
    },
    {
     "name": "stderr",
     "output_type": "stream",
     "text": [
      "Epoch 83/512 (Inner K-Epochs): 100%|██████████| 64/64 [00:05<00:00, 12.39it/s]\n",
      "Main Epoch (Outer Loop):  16%|█▌        | 83/512 [07:13<37:20,  5.22s/it]"
     ]
    },
    {
     "name": "stdout",
     "output_type": "stream",
     "text": [
      "Transferred Data\n"
     ]
    },
    {
     "name": "stderr",
     "output_type": "stream",
     "text": [
      "Epoch 84/512 (Inner K-Epochs): 100%|██████████| 64/64 [00:05<00:00, 12.48it/s]\n",
      "Main Epoch (Outer Loop):  16%|█▋        | 84/512 [07:19<37:16,  5.22s/it]"
     ]
    },
    {
     "name": "stdout",
     "output_type": "stream",
     "text": [
      "Transferred Data\n"
     ]
    },
    {
     "name": "stderr",
     "output_type": "stream",
     "text": [
      "Epoch 85/512 (Inner K-Epochs): 100%|██████████| 64/64 [00:05<00:00, 12.42it/s]\n",
      "Main Epoch (Outer Loop):  17%|█▋        | 85/512 [07:24<37:12,  5.23s/it]"
     ]
    },
    {
     "name": "stdout",
     "output_type": "stream",
     "text": [
      "Transferred Data\n"
     ]
    },
    {
     "name": "stderr",
     "output_type": "stream",
     "text": [
      "Epoch 86/512 (Inner K-Epochs): 100%|██████████| 64/64 [00:05<00:00, 12.33it/s]\n",
      "Main Epoch (Outer Loop):  17%|█▋        | 86/512 [07:29<37:13,  5.24s/it]"
     ]
    },
    {
     "name": "stdout",
     "output_type": "stream",
     "text": [
      "Transferred Data\n"
     ]
    },
    {
     "name": "stderr",
     "output_type": "stream",
     "text": [
      "Epoch 87/512 (Inner K-Epochs): 100%|██████████| 64/64 [00:05<00:00, 12.34it/s]\n",
      "Main Epoch (Outer Loop):  17%|█▋        | 87/512 [07:34<37:10,  5.25s/it]"
     ]
    },
    {
     "name": "stdout",
     "output_type": "stream",
     "text": [
      "Transferred Data\n"
     ]
    },
    {
     "name": "stderr",
     "output_type": "stream",
     "text": [
      "Epoch 88/512 (Inner K-Epochs): 100%|██████████| 64/64 [00:05<00:00, 12.38it/s]\n",
      "Main Epoch (Outer Loop):  17%|█▋        | 88/512 [07:40<37:05,  5.25s/it]"
     ]
    },
    {
     "name": "stdout",
     "output_type": "stream",
     "text": [
      "Transferred Data\n"
     ]
    },
    {
     "name": "stderr",
     "output_type": "stream",
     "text": [
      "Epoch 89/512 (Inner K-Epochs): 100%|██████████| 64/64 [00:05<00:00, 12.43it/s]\n",
      "Main Epoch (Outer Loop):  17%|█▋        | 89/512 [07:45<36:57,  5.24s/it]"
     ]
    },
    {
     "name": "stdout",
     "output_type": "stream",
     "text": [
      "Transferred Data\n"
     ]
    },
    {
     "name": "stderr",
     "output_type": "stream",
     "text": [
      "Epoch 90/512 (Inner K-Epochs): 100%|██████████| 64/64 [00:05<00:00, 12.47it/s]\n",
      "Main Epoch (Outer Loop):  18%|█▊        | 90/512 [07:50<36:48,  5.23s/it]"
     ]
    },
    {
     "name": "stdout",
     "output_type": "stream",
     "text": [
      "Transferred Data\n"
     ]
    },
    {
     "name": "stderr",
     "output_type": "stream",
     "text": [
      "Epoch 91/512 (Inner K-Epochs): 100%|██████████| 64/64 [00:05<00:00, 12.42it/s]\n",
      "Main Epoch (Outer Loop):  18%|█▊        | 91/512 [07:55<36:44,  5.24s/it]"
     ]
    },
    {
     "name": "stdout",
     "output_type": "stream",
     "text": [
      "Transferred Data\n"
     ]
    },
    {
     "name": "stderr",
     "output_type": "stream",
     "text": [
      "Epoch 92/512 (Inner K-Epochs): 100%|██████████| 64/64 [00:05<00:00, 12.44it/s]\n",
      "Main Epoch (Outer Loop):  18%|█▊        | 92/512 [08:01<36:38,  5.23s/it]"
     ]
    },
    {
     "name": "stdout",
     "output_type": "stream",
     "text": [
      "Transferred Data\n"
     ]
    },
    {
     "name": "stderr",
     "output_type": "stream",
     "text": [
      "Epoch 93/512 (Inner K-Epochs): 100%|██████████| 64/64 [00:05<00:00, 12.43it/s]\n",
      "Main Epoch (Outer Loop):  18%|█▊        | 93/512 [08:06<36:32,  5.23s/it]"
     ]
    },
    {
     "name": "stdout",
     "output_type": "stream",
     "text": [
      "Transferred Data\n"
     ]
    },
    {
     "name": "stderr",
     "output_type": "stream",
     "text": [
      "Epoch 94/512 (Inner K-Epochs): 100%|██████████| 64/64 [00:05<00:00, 12.50it/s]\n",
      "Main Epoch (Outer Loop):  18%|█▊        | 94/512 [08:11<36:23,  5.22s/it]"
     ]
    },
    {
     "name": "stdout",
     "output_type": "stream",
     "text": [
      "Transferred Data\n"
     ]
    },
    {
     "name": "stderr",
     "output_type": "stream",
     "text": [
      "Epoch 95/512 (Inner K-Epochs): 100%|██████████| 64/64 [00:05<00:00, 12.50it/s]\n",
      "Main Epoch (Outer Loop):  19%|█▊        | 95/512 [08:16<36:16,  5.22s/it]"
     ]
    },
    {
     "name": "stdout",
     "output_type": "stream",
     "text": [
      "Transferred Data\n"
     ]
    },
    {
     "name": "stderr",
     "output_type": "stream",
     "text": [
      "Epoch 96/512 (Inner K-Epochs): 100%|██████████| 64/64 [00:05<00:00, 12.53it/s]\n",
      "Main Epoch (Outer Loop):  19%|█▉        | 96/512 [08:21<36:09,  5.22s/it]"
     ]
    },
    {
     "name": "stdout",
     "output_type": "stream",
     "text": [
      "Transferred Data\n"
     ]
    },
    {
     "name": "stderr",
     "output_type": "stream",
     "text": [
      "Epoch 97/512 (Inner K-Epochs): 100%|██████████| 64/64 [00:05<00:00, 12.48it/s]\n",
      "Main Epoch (Outer Loop):  19%|█▉        | 97/512 [08:27<36:03,  5.21s/it]"
     ]
    },
    {
     "name": "stdout",
     "output_type": "stream",
     "text": [
      "Transferred Data\n"
     ]
    },
    {
     "name": "stderr",
     "output_type": "stream",
     "text": [
      "Epoch 98/512 (Inner K-Epochs): 100%|██████████| 64/64 [00:05<00:00, 12.42it/s]\n",
      "Main Epoch (Outer Loop):  19%|█▉        | 98/512 [08:32<36:01,  5.22s/it]"
     ]
    },
    {
     "name": "stdout",
     "output_type": "stream",
     "text": [
      "Transferred Data\n"
     ]
    },
    {
     "name": "stderr",
     "output_type": "stream",
     "text": [
      "Epoch 99/512 (Inner K-Epochs): 100%|██████████| 64/64 [00:05<00:00, 12.39it/s]\n",
      "Main Epoch (Outer Loop):  19%|█▉        | 99/512 [08:37<35:59,  5.23s/it]"
     ]
    },
    {
     "name": "stdout",
     "output_type": "stream",
     "text": [
      "Transferred Data\n"
     ]
    },
    {
     "name": "stderr",
     "output_type": "stream",
     "text": [
      "Epoch 100/512 (Inner K-Epochs): 100%|██████████| 64/64 [00:05<00:00, 12.39it/s]\n",
      "Main Epoch (Outer Loop):  20%|█▉        | 100/512 [08:42<35:56,  5.24s/it]"
     ]
    },
    {
     "name": "stdout",
     "output_type": "stream",
     "text": [
      "Transferred Data\n"
     ]
    },
    {
     "name": "stderr",
     "output_type": "stream",
     "text": [
      "Epoch 101/512 (Inner K-Epochs): 100%|██████████| 64/64 [00:05<00:00, 12.47it/s]\n",
      "Main Epoch (Outer Loop):  20%|█▉        | 101/512 [08:48<35:49,  5.23s/it]"
     ]
    },
    {
     "name": "stdout",
     "output_type": "stream",
     "text": [
      "Transferred Data\n"
     ]
    },
    {
     "name": "stderr",
     "output_type": "stream",
     "text": [
      "Epoch 102/512 (Inner K-Epochs): 100%|██████████| 64/64 [00:05<00:00, 12.40it/s]\n",
      "Main Epoch (Outer Loop):  20%|█▉        | 102/512 [08:53<35:44,  5.23s/it]"
     ]
    },
    {
     "name": "stdout",
     "output_type": "stream",
     "text": [
      "Transferred Data\n"
     ]
    },
    {
     "name": "stderr",
     "output_type": "stream",
     "text": [
      "Epoch 103/512 (Inner K-Epochs): 100%|██████████| 64/64 [00:05<00:00, 12.45it/s]\n",
      "Main Epoch (Outer Loop):  20%|██        | 103/512 [08:58<35:39,  5.23s/it]"
     ]
    },
    {
     "name": "stdout",
     "output_type": "stream",
     "text": [
      "Transferred Data\n"
     ]
    },
    {
     "name": "stderr",
     "output_type": "stream",
     "text": [
      "Epoch 104/512 (Inner K-Epochs): 100%|██████████| 64/64 [00:05<00:00, 12.43it/s]\n",
      "Main Epoch (Outer Loop):  20%|██        | 104/512 [09:03<35:34,  5.23s/it]"
     ]
    },
    {
     "name": "stdout",
     "output_type": "stream",
     "text": [
      "Transferred Data\n"
     ]
    },
    {
     "name": "stderr",
     "output_type": "stream",
     "text": [
      "Epoch 105/512 (Inner K-Epochs): 100%|██████████| 64/64 [00:05<00:00, 12.40it/s]\n",
      "Main Epoch (Outer Loop):  21%|██        | 105/512 [09:09<35:31,  5.24s/it]"
     ]
    },
    {
     "name": "stdout",
     "output_type": "stream",
     "text": [
      "Transferred Data\n"
     ]
    },
    {
     "name": "stderr",
     "output_type": "stream",
     "text": [
      "Epoch 106/512 (Inner K-Epochs): 100%|██████████| 64/64 [00:05<00:00, 12.42it/s]\n",
      "Main Epoch (Outer Loop):  21%|██        | 106/512 [09:14<35:25,  5.24s/it]"
     ]
    },
    {
     "name": "stdout",
     "output_type": "stream",
     "text": [
      "Transferred Data\n"
     ]
    },
    {
     "name": "stderr",
     "output_type": "stream",
     "text": [
      "Epoch 107/512 (Inner K-Epochs): 100%|██████████| 64/64 [00:05<00:00, 12.43it/s]\n",
      "Main Epoch (Outer Loop):  21%|██        | 107/512 [09:19<35:22,  5.24s/it]"
     ]
    },
    {
     "name": "stdout",
     "output_type": "stream",
     "text": [
      "Transferred Data\n"
     ]
    },
    {
     "name": "stderr",
     "output_type": "stream",
     "text": [
      "Epoch 108/512 (Inner K-Epochs): 100%|██████████| 64/64 [00:05<00:00, 12.47it/s]\n",
      "Main Epoch (Outer Loop):  21%|██        | 108/512 [09:24<35:14,  5.23s/it]"
     ]
    },
    {
     "name": "stdout",
     "output_type": "stream",
     "text": [
      "Transferred Data\n"
     ]
    },
    {
     "name": "stderr",
     "output_type": "stream",
     "text": [
      "Epoch 109/512 (Inner K-Epochs): 100%|██████████| 64/64 [00:05<00:00, 12.43it/s]\n",
      "Main Epoch (Outer Loop):  21%|██▏       | 109/512 [09:29<35:09,  5.23s/it]"
     ]
    },
    {
     "name": "stdout",
     "output_type": "stream",
     "text": [
      "Transferred Data\n"
     ]
    },
    {
     "name": "stderr",
     "output_type": "stream",
     "text": [
      "Epoch 110/512 (Inner K-Epochs): 100%|██████████| 64/64 [00:05<00:00, 12.43it/s]\n",
      "Main Epoch (Outer Loop):  21%|██▏       | 110/512 [09:35<35:03,  5.23s/it]"
     ]
    },
    {
     "name": "stdout",
     "output_type": "stream",
     "text": [
      "Transferred Data\n"
     ]
    },
    {
     "name": "stderr",
     "output_type": "stream",
     "text": [
      "Epoch 111/512 (Inner K-Epochs): 100%|██████████| 64/64 [00:05<00:00, 12.46it/s]\n",
      "Main Epoch (Outer Loop):  22%|██▏       | 111/512 [09:40<34:56,  5.23s/it]"
     ]
    },
    {
     "name": "stdout",
     "output_type": "stream",
     "text": [
      "Transferred Data\n"
     ]
    },
    {
     "name": "stderr",
     "output_type": "stream",
     "text": [
      "Epoch 112/512 (Inner K-Epochs): 100%|██████████| 64/64 [00:05<00:00, 12.35it/s]\n",
      "Main Epoch (Outer Loop):  22%|██▏       | 112/512 [09:45<34:56,  5.24s/it]"
     ]
    },
    {
     "name": "stdout",
     "output_type": "stream",
     "text": [
      "Transferred Data\n"
     ]
    },
    {
     "name": "stderr",
     "output_type": "stream",
     "text": [
      "Epoch 113/512 (Inner K-Epochs): 100%|██████████| 64/64 [00:05<00:00, 12.34it/s]\n",
      "Main Epoch (Outer Loop):  22%|██▏       | 113/512 [09:50<34:53,  5.25s/it]"
     ]
    },
    {
     "name": "stdout",
     "output_type": "stream",
     "text": [
      "Transferred Data\n"
     ]
    },
    {
     "name": "stderr",
     "output_type": "stream",
     "text": [
      "Epoch 114/512 (Inner K-Epochs): 100%|██████████| 64/64 [00:05<00:00, 12.41it/s]\n",
      "Main Epoch (Outer Loop):  22%|██▏       | 114/512 [09:56<34:48,  5.25s/it]"
     ]
    },
    {
     "name": "stdout",
     "output_type": "stream",
     "text": [
      "Transferred Data\n"
     ]
    },
    {
     "name": "stderr",
     "output_type": "stream",
     "text": [
      "Epoch 115/512 (Inner K-Epochs): 100%|██████████| 64/64 [00:05<00:00, 12.43it/s]\n",
      "Main Epoch (Outer Loop):  22%|██▏       | 115/512 [10:01<34:41,  5.24s/it]"
     ]
    },
    {
     "name": "stdout",
     "output_type": "stream",
     "text": [
      "Transferred Data\n"
     ]
    },
    {
     "name": "stderr",
     "output_type": "stream",
     "text": [
      "Epoch 116/512 (Inner K-Epochs): 100%|██████████| 64/64 [00:05<00:00, 12.39it/s]\n",
      "Main Epoch (Outer Loop):  23%|██▎       | 116/512 [10:06<34:38,  5.25s/it]"
     ]
    },
    {
     "name": "stdout",
     "output_type": "stream",
     "text": [
      "Transferred Data\n"
     ]
    },
    {
     "name": "stderr",
     "output_type": "stream",
     "text": [
      "Epoch 117/512 (Inner K-Epochs): 100%|██████████| 64/64 [00:05<00:00, 12.39it/s]\n",
      "Main Epoch (Outer Loop):  23%|██▎       | 117/512 [10:11<34:33,  5.25s/it]"
     ]
    },
    {
     "name": "stdout",
     "output_type": "stream",
     "text": [
      "Transferred Data\n"
     ]
    },
    {
     "name": "stderr",
     "output_type": "stream",
     "text": [
      "Epoch 118/512 (Inner K-Epochs): 100%|██████████| 64/64 [00:05<00:00, 12.35it/s]\n",
      "Main Epoch (Outer Loop):  23%|██▎       | 118/512 [10:17<34:30,  5.26s/it]"
     ]
    },
    {
     "name": "stdout",
     "output_type": "stream",
     "text": [
      "Transferred Data\n"
     ]
    },
    {
     "name": "stderr",
     "output_type": "stream",
     "text": [
      "Epoch 119/512 (Inner K-Epochs): 100%|██████████| 64/64 [00:05<00:00, 12.39it/s]\n",
      "Main Epoch (Outer Loop):  23%|██▎       | 119/512 [10:22<34:24,  5.25s/it]"
     ]
    },
    {
     "name": "stdout",
     "output_type": "stream",
     "text": [
      "Transferred Data\n"
     ]
    },
    {
     "name": "stderr",
     "output_type": "stream",
     "text": [
      "Epoch 120/512 (Inner K-Epochs): 100%|██████████| 64/64 [00:05<00:00, 12.22it/s]\n",
      "Main Epoch (Outer Loop):  23%|██▎       | 120/512 [10:27<34:27,  5.27s/it]"
     ]
    },
    {
     "name": "stdout",
     "output_type": "stream",
     "text": [
      "Transferred Data\n"
     ]
    },
    {
     "name": "stderr",
     "output_type": "stream",
     "text": [
      "Epoch 121/512 (Inner K-Epochs): 100%|██████████| 64/64 [00:04<00:00, 12.80it/s]\n",
      "Main Epoch (Outer Loop):  24%|██▎       | 121/512 [10:32<33:59,  5.21s/it]"
     ]
    },
    {
     "name": "stdout",
     "output_type": "stream",
     "text": [
      "Transferred Data\n"
     ]
    },
    {
     "name": "stderr",
     "output_type": "stream",
     "text": [
      "Epoch 122/512 (Inner K-Epochs): 100%|██████████| 64/64 [00:04<00:00, 12.87it/s]\n",
      "Main Epoch (Outer Loop):  24%|██▍       | 122/512 [10:37<33:34,  5.17s/it]"
     ]
    },
    {
     "name": "stdout",
     "output_type": "stream",
     "text": [
      "Transferred Data\n"
     ]
    },
    {
     "name": "stderr",
     "output_type": "stream",
     "text": [
      "Epoch 123/512 (Inner K-Epochs): 100%|██████████| 64/64 [00:04<00:00, 12.85it/s]\n",
      "Main Epoch (Outer Loop):  24%|██▍       | 123/512 [10:43<33:18,  5.14s/it]"
     ]
    },
    {
     "name": "stdout",
     "output_type": "stream",
     "text": [
      "Transferred Data\n"
     ]
    },
    {
     "name": "stderr",
     "output_type": "stream",
     "text": [
      "Epoch 124/512 (Inner K-Epochs): 100%|██████████| 64/64 [00:04<00:00, 12.85it/s]\n",
      "Main Epoch (Outer Loop):  24%|██▍       | 124/512 [10:48<33:04,  5.11s/it]"
     ]
    },
    {
     "name": "stdout",
     "output_type": "stream",
     "text": [
      "Transferred Data\n"
     ]
    },
    {
     "name": "stderr",
     "output_type": "stream",
     "text": [
      "Epoch 125/512 (Inner K-Epochs): 100%|██████████| 64/64 [00:04<00:00, 12.84it/s]\n",
      "Main Epoch (Outer Loop):  24%|██▍       | 125/512 [10:53<32:53,  5.10s/it]"
     ]
    },
    {
     "name": "stdout",
     "output_type": "stream",
     "text": [
      "Transferred Data\n"
     ]
    },
    {
     "name": "stderr",
     "output_type": "stream",
     "text": [
      "Epoch 126/512 (Inner K-Epochs): 100%|██████████| 64/64 [00:04<00:00, 12.84it/s]\n",
      "Main Epoch (Outer Loop):  25%|██▍       | 126/512 [10:58<32:44,  5.09s/it]"
     ]
    },
    {
     "name": "stdout",
     "output_type": "stream",
     "text": [
      "Transferred Data\n"
     ]
    },
    {
     "name": "stderr",
     "output_type": "stream",
     "text": [
      "Epoch 127/512 (Inner K-Epochs): 100%|██████████| 64/64 [00:05<00:00, 12.78it/s]\n",
      "Main Epoch (Outer Loop):  25%|██▍       | 127/512 [11:03<32:39,  5.09s/it]"
     ]
    },
    {
     "name": "stdout",
     "output_type": "stream",
     "text": [
      "Transferred Data\n"
     ]
    },
    {
     "name": "stderr",
     "output_type": "stream",
     "text": [
      "Epoch 128/512 (Inner K-Epochs): 100%|██████████| 64/64 [00:04<00:00, 12.83it/s]\n",
      "Main Epoch (Outer Loop):  25%|██▌       | 128/512 [11:08<32:51,  5.13s/it]"
     ]
    },
    {
     "name": "stdout",
     "output_type": "stream",
     "text": [
      "Epoch 128/512, Loss: 0.0000, Ratio: 1.00000, Entropy Term: 0.00000\n",
      "Epoch 128 | Entire Validation Dataset Accuracy: 0.5365| 103.0 / 192.0 samples\n",
      "Transferred Data\n"
     ]
    },
    {
     "name": "stderr",
     "output_type": "stream",
     "text": [
      "Epoch 129/512 (Inner K-Epochs): 100%|██████████| 64/64 [00:04<00:00, 12.87it/s]\n",
      "Main Epoch (Outer Loop):  25%|██▌       | 129/512 [11:13<32:37,  5.11s/it]"
     ]
    },
    {
     "name": "stdout",
     "output_type": "stream",
     "text": [
      "Transferred Data\n"
     ]
    },
    {
     "name": "stderr",
     "output_type": "stream",
     "text": [
      "Epoch 130/512 (Inner K-Epochs): 100%|██████████| 64/64 [00:05<00:00, 12.76it/s]\n",
      "Main Epoch (Outer Loop):  25%|██▌       | 130/512 [11:18<32:31,  5.11s/it]"
     ]
    },
    {
     "name": "stdout",
     "output_type": "stream",
     "text": [
      "Transferred Data\n"
     ]
    },
    {
     "name": "stderr",
     "output_type": "stream",
     "text": [
      "Epoch 131/512 (Inner K-Epochs): 100%|██████████| 64/64 [00:04<00:00, 12.83it/s]\n",
      "Main Epoch (Outer Loop):  26%|██▌       | 131/512 [11:23<32:21,  5.10s/it]"
     ]
    },
    {
     "name": "stdout",
     "output_type": "stream",
     "text": [
      "Transferred Data\n"
     ]
    },
    {
     "name": "stderr",
     "output_type": "stream",
     "text": [
      "Epoch 132/512 (Inner K-Epochs): 100%|██████████| 64/64 [00:04<00:00, 12.80it/s]\n",
      "Main Epoch (Outer Loop):  26%|██▌       | 132/512 [11:28<32:14,  5.09s/it]"
     ]
    },
    {
     "name": "stdout",
     "output_type": "stream",
     "text": [
      "Transferred Data\n"
     ]
    },
    {
     "name": "stderr",
     "output_type": "stream",
     "text": [
      "Epoch 133/512 (Inner K-Epochs): 100%|██████████| 64/64 [00:05<00:00, 12.75it/s]\n",
      "Main Epoch (Outer Loop):  26%|██▌       | 133/512 [11:33<32:11,  5.10s/it]"
     ]
    },
    {
     "name": "stdout",
     "output_type": "stream",
     "text": [
      "Transferred Data\n"
     ]
    },
    {
     "name": "stderr",
     "output_type": "stream",
     "text": [
      "Epoch 134/512 (Inner K-Epochs): 100%|██████████| 64/64 [00:04<00:00, 12.82it/s]\n",
      "Main Epoch (Outer Loop):  26%|██▌       | 134/512 [11:39<32:03,  5.09s/it]"
     ]
    },
    {
     "name": "stdout",
     "output_type": "stream",
     "text": [
      "Transferred Data\n"
     ]
    },
    {
     "name": "stderr",
     "output_type": "stream",
     "text": [
      "Epoch 135/512 (Inner K-Epochs): 100%|██████████| 64/64 [00:04<00:00, 12.85it/s]\n",
      "Main Epoch (Outer Loop):  26%|██▋       | 135/512 [11:44<31:55,  5.08s/it]"
     ]
    },
    {
     "name": "stdout",
     "output_type": "stream",
     "text": [
      "Transferred Data\n"
     ]
    },
    {
     "name": "stderr",
     "output_type": "stream",
     "text": [
      "Epoch 136/512 (Inner K-Epochs): 100%|██████████| 64/64 [00:05<00:00, 12.80it/s]\n",
      "Main Epoch (Outer Loop):  27%|██▋       | 136/512 [11:49<31:51,  5.08s/it]"
     ]
    },
    {
     "name": "stdout",
     "output_type": "stream",
     "text": [
      "Transferred Data\n"
     ]
    },
    {
     "name": "stderr",
     "output_type": "stream",
     "text": [
      "Epoch 137/512 (Inner K-Epochs): 100%|██████████| 64/64 [00:05<00:00, 12.77it/s]\n",
      "Main Epoch (Outer Loop):  27%|██▋       | 137/512 [11:54<31:46,  5.08s/it]"
     ]
    },
    {
     "name": "stdout",
     "output_type": "stream",
     "text": [
      "Transferred Data\n"
     ]
    },
    {
     "name": "stderr",
     "output_type": "stream",
     "text": [
      "Epoch 138/512 (Inner K-Epochs): 100%|██████████| 64/64 [00:04<00:00, 12.85it/s]\n",
      "Main Epoch (Outer Loop):  27%|██▋       | 138/512 [11:59<31:40,  5.08s/it]"
     ]
    },
    {
     "name": "stdout",
     "output_type": "stream",
     "text": [
      "Transferred Data\n"
     ]
    },
    {
     "name": "stderr",
     "output_type": "stream",
     "text": [
      "Epoch 139/512 (Inner K-Epochs): 100%|██████████| 64/64 [00:05<00:00, 12.77it/s]\n",
      "Main Epoch (Outer Loop):  27%|██▋       | 139/512 [12:04<31:36,  5.09s/it]"
     ]
    },
    {
     "name": "stdout",
     "output_type": "stream",
     "text": [
      "Transferred Data\n"
     ]
    },
    {
     "name": "stderr",
     "output_type": "stream",
     "text": [
      "Epoch 140/512 (Inner K-Epochs): 100%|██████████| 64/64 [00:04<00:00, 12.85it/s]\n",
      "Main Epoch (Outer Loop):  27%|██▋       | 140/512 [12:09<31:29,  5.08s/it]"
     ]
    },
    {
     "name": "stdout",
     "output_type": "stream",
     "text": [
      "Transferred Data\n"
     ]
    },
    {
     "name": "stderr",
     "output_type": "stream",
     "text": [
      "Epoch 141/512 (Inner K-Epochs): 100%|██████████| 64/64 [00:05<00:00, 12.77it/s]\n",
      "Main Epoch (Outer Loop):  28%|██▊       | 141/512 [12:14<31:25,  5.08s/it]"
     ]
    },
    {
     "name": "stdout",
     "output_type": "stream",
     "text": [
      "Transferred Data\n"
     ]
    },
    {
     "name": "stderr",
     "output_type": "stream",
     "text": [
      "Epoch 142/512 (Inner K-Epochs): 100%|██████████| 64/64 [00:05<00:00, 12.79it/s]\n",
      "Main Epoch (Outer Loop):  28%|██▊       | 142/512 [12:19<31:21,  5.08s/it]"
     ]
    },
    {
     "name": "stdout",
     "output_type": "stream",
     "text": [
      "Transferred Data\n"
     ]
    },
    {
     "name": "stderr",
     "output_type": "stream",
     "text": [
      "Epoch 143/512 (Inner K-Epochs): 100%|██████████| 64/64 [00:04<00:00, 12.83it/s]\n",
      "Main Epoch (Outer Loop):  28%|██▊       | 143/512 [12:24<31:15,  5.08s/it]"
     ]
    },
    {
     "name": "stdout",
     "output_type": "stream",
     "text": [
      "Transferred Data\n"
     ]
    },
    {
     "name": "stderr",
     "output_type": "stream",
     "text": [
      "Epoch 144/512 (Inner K-Epochs): 100%|██████████| 64/64 [00:04<00:00, 12.83it/s]\n",
      "Main Epoch (Outer Loop):  28%|██▊       | 144/512 [12:29<31:09,  5.08s/it]"
     ]
    },
    {
     "name": "stdout",
     "output_type": "stream",
     "text": [
      "Transferred Data\n"
     ]
    },
    {
     "name": "stderr",
     "output_type": "stream",
     "text": [
      "Epoch 145/512 (Inner K-Epochs): 100%|██████████| 64/64 [00:04<00:00, 12.81it/s]\n",
      "Main Epoch (Outer Loop):  28%|██▊       | 145/512 [12:34<31:04,  5.08s/it]"
     ]
    },
    {
     "name": "stdout",
     "output_type": "stream",
     "text": [
      "Transferred Data\n"
     ]
    },
    {
     "name": "stderr",
     "output_type": "stream",
     "text": [
      "Epoch 146/512 (Inner K-Epochs): 100%|██████████| 64/64 [00:04<00:00, 12.82it/s]\n",
      "Main Epoch (Outer Loop):  29%|██▊       | 146/512 [12:39<30:58,  5.08s/it]"
     ]
    },
    {
     "name": "stdout",
     "output_type": "stream",
     "text": [
      "Transferred Data\n"
     ]
    },
    {
     "name": "stderr",
     "output_type": "stream",
     "text": [
      "Epoch 147/512 (Inner K-Epochs): 100%|██████████| 64/64 [00:04<00:00, 12.86it/s]\n",
      "Main Epoch (Outer Loop):  29%|██▊       | 147/512 [12:45<30:51,  5.07s/it]"
     ]
    },
    {
     "name": "stdout",
     "output_type": "stream",
     "text": [
      "Transferred Data\n"
     ]
    },
    {
     "name": "stderr",
     "output_type": "stream",
     "text": [
      "Epoch 148/512 (Inner K-Epochs): 100%|██████████| 64/64 [00:04<00:00, 12.82it/s]\n",
      "Main Epoch (Outer Loop):  29%|██▉       | 148/512 [12:50<30:47,  5.08s/it]"
     ]
    },
    {
     "name": "stdout",
     "output_type": "stream",
     "text": [
      "Transferred Data\n"
     ]
    },
    {
     "name": "stderr",
     "output_type": "stream",
     "text": [
      "Epoch 149/512 (Inner K-Epochs): 100%|██████████| 64/64 [00:04<00:00, 12.81it/s]\n",
      "Main Epoch (Outer Loop):  29%|██▉       | 149/512 [12:55<30:43,  5.08s/it]"
     ]
    },
    {
     "name": "stdout",
     "output_type": "stream",
     "text": [
      "Transferred Data\n"
     ]
    },
    {
     "name": "stderr",
     "output_type": "stream",
     "text": [
      "Epoch 150/512 (Inner K-Epochs): 100%|██████████| 64/64 [00:05<00:00, 12.79it/s]\n",
      "Main Epoch (Outer Loop):  29%|██▉       | 150/512 [13:00<30:38,  5.08s/it]"
     ]
    },
    {
     "name": "stdout",
     "output_type": "stream",
     "text": [
      "Transferred Data\n"
     ]
    },
    {
     "name": "stderr",
     "output_type": "stream",
     "text": [
      "Epoch 151/512 (Inner K-Epochs): 100%|██████████| 64/64 [00:05<00:00, 12.79it/s]\n",
      "Main Epoch (Outer Loop):  29%|██▉       | 151/512 [13:05<30:34,  5.08s/it]"
     ]
    },
    {
     "name": "stdout",
     "output_type": "stream",
     "text": [
      "Transferred Data\n"
     ]
    },
    {
     "name": "stderr",
     "output_type": "stream",
     "text": [
      "Epoch 152/512 (Inner K-Epochs): 100%|██████████| 64/64 [00:04<00:00, 12.84it/s]\n",
      "Main Epoch (Outer Loop):  30%|██▉       | 152/512 [13:10<30:28,  5.08s/it]"
     ]
    },
    {
     "name": "stdout",
     "output_type": "stream",
     "text": [
      "Transferred Data\n"
     ]
    },
    {
     "name": "stderr",
     "output_type": "stream",
     "text": [
      "Epoch 153/512 (Inner K-Epochs): 100%|██████████| 64/64 [00:04<00:00, 12.82it/s]\n",
      "Main Epoch (Outer Loop):  30%|██▉       | 153/512 [13:15<30:23,  5.08s/it]"
     ]
    },
    {
     "name": "stdout",
     "output_type": "stream",
     "text": [
      "Transferred Data\n"
     ]
    },
    {
     "name": "stderr",
     "output_type": "stream",
     "text": [
      "Epoch 154/512 (Inner K-Epochs): 100%|██████████| 64/64 [00:04<00:00, 12.81it/s]\n",
      "Main Epoch (Outer Loop):  30%|███       | 154/512 [13:20<30:17,  5.08s/it]"
     ]
    },
    {
     "name": "stdout",
     "output_type": "stream",
     "text": [
      "Transferred Data\n"
     ]
    },
    {
     "name": "stderr",
     "output_type": "stream",
     "text": [
      "Epoch 155/512 (Inner K-Epochs): 100%|██████████| 64/64 [00:04<00:00, 12.81it/s]\n",
      "Main Epoch (Outer Loop):  30%|███       | 155/512 [13:25<30:12,  5.08s/it]"
     ]
    },
    {
     "name": "stdout",
     "output_type": "stream",
     "text": [
      "Transferred Data\n"
     ]
    },
    {
     "name": "stderr",
     "output_type": "stream",
     "text": [
      "Epoch 156/512 (Inner K-Epochs): 100%|██████████| 64/64 [00:05<00:00, 12.79it/s]\n",
      "Main Epoch (Outer Loop):  30%|███       | 156/512 [13:30<30:08,  5.08s/it]"
     ]
    },
    {
     "name": "stdout",
     "output_type": "stream",
     "text": [
      "Transferred Data\n"
     ]
    },
    {
     "name": "stderr",
     "output_type": "stream",
     "text": [
      "Epoch 157/512 (Inner K-Epochs): 100%|██████████| 64/64 [00:04<00:00, 12.82it/s]\n",
      "Main Epoch (Outer Loop):  31%|███       | 157/512 [13:35<30:03,  5.08s/it]"
     ]
    },
    {
     "name": "stdout",
     "output_type": "stream",
     "text": [
      "Transferred Data\n"
     ]
    },
    {
     "name": "stderr",
     "output_type": "stream",
     "text": [
      "Epoch 158/512 (Inner K-Epochs): 100%|██████████| 64/64 [00:04<00:00, 12.82it/s]\n",
      "Main Epoch (Outer Loop):  31%|███       | 158/512 [13:40<29:58,  5.08s/it]"
     ]
    },
    {
     "name": "stdout",
     "output_type": "stream",
     "text": [
      "Transferred Data\n"
     ]
    },
    {
     "name": "stderr",
     "output_type": "stream",
     "text": [
      "Epoch 159/512 (Inner K-Epochs): 100%|██████████| 64/64 [00:04<00:00, 12.84it/s]\n",
      "Main Epoch (Outer Loop):  31%|███       | 159/512 [13:45<29:51,  5.08s/it]"
     ]
    },
    {
     "name": "stdout",
     "output_type": "stream",
     "text": [
      "Transferred Data\n"
     ]
    },
    {
     "name": "stderr",
     "output_type": "stream",
     "text": [
      "Epoch 160/512 (Inner K-Epochs): 100%|██████████| 64/64 [00:04<00:00, 12.84it/s]\n",
      "Main Epoch (Outer Loop):  31%|███▏      | 160/512 [13:51<29:46,  5.07s/it]"
     ]
    },
    {
     "name": "stdout",
     "output_type": "stream",
     "text": [
      "Transferred Data\n"
     ]
    },
    {
     "name": "stderr",
     "output_type": "stream",
     "text": [
      "Epoch 161/512 (Inner K-Epochs): 100%|██████████| 64/64 [00:05<00:00, 12.78it/s]\n",
      "Main Epoch (Outer Loop):  31%|███▏      | 161/512 [13:56<29:42,  5.08s/it]"
     ]
    },
    {
     "name": "stdout",
     "output_type": "stream",
     "text": [
      "Transferred Data\n"
     ]
    },
    {
     "name": "stderr",
     "output_type": "stream",
     "text": [
      "Epoch 162/512 (Inner K-Epochs): 100%|██████████| 64/64 [00:05<00:00, 12.76it/s]\n",
      "Main Epoch (Outer Loop):  32%|███▏      | 162/512 [14:01<29:39,  5.08s/it]"
     ]
    },
    {
     "name": "stdout",
     "output_type": "stream",
     "text": [
      "Transferred Data\n"
     ]
    },
    {
     "name": "stderr",
     "output_type": "stream",
     "text": [
      "Epoch 163/512 (Inner K-Epochs): 100%|██████████| 64/64 [00:04<00:00, 12.85it/s]\n",
      "Main Epoch (Outer Loop):  32%|███▏      | 163/512 [14:06<29:32,  5.08s/it]"
     ]
    },
    {
     "name": "stdout",
     "output_type": "stream",
     "text": [
      "Transferred Data\n"
     ]
    },
    {
     "name": "stderr",
     "output_type": "stream",
     "text": [
      "Epoch 164/512 (Inner K-Epochs): 100%|██████████| 64/64 [00:04<00:00, 12.83it/s]\n",
      "Main Epoch (Outer Loop):  32%|███▏      | 164/512 [14:11<29:26,  5.08s/it]"
     ]
    },
    {
     "name": "stdout",
     "output_type": "stream",
     "text": [
      "Transferred Data\n"
     ]
    },
    {
     "name": "stderr",
     "output_type": "stream",
     "text": [
      "Epoch 165/512 (Inner K-Epochs): 100%|██████████| 64/64 [00:04<00:00, 12.82it/s]\n",
      "Main Epoch (Outer Loop):  32%|███▏      | 165/512 [14:16<29:21,  5.08s/it]"
     ]
    },
    {
     "name": "stdout",
     "output_type": "stream",
     "text": [
      "Transferred Data\n"
     ]
    },
    {
     "name": "stderr",
     "output_type": "stream",
     "text": [
      "Epoch 166/512 (Inner K-Epochs): 100%|██████████| 64/64 [00:05<00:00, 12.79it/s]\n",
      "Main Epoch (Outer Loop):  32%|███▏      | 166/512 [14:21<29:17,  5.08s/it]"
     ]
    },
    {
     "name": "stdout",
     "output_type": "stream",
     "text": [
      "Transferred Data\n"
     ]
    },
    {
     "name": "stderr",
     "output_type": "stream",
     "text": [
      "Epoch 167/512 (Inner K-Epochs): 100%|██████████| 64/64 [00:04<00:00, 12.86it/s]\n",
      "Main Epoch (Outer Loop):  33%|███▎      | 167/512 [14:26<29:10,  5.07s/it]"
     ]
    },
    {
     "name": "stdout",
     "output_type": "stream",
     "text": [
      "Transferred Data\n"
     ]
    },
    {
     "name": "stderr",
     "output_type": "stream",
     "text": [
      "Epoch 168/512 (Inner K-Epochs): 100%|██████████| 64/64 [00:05<00:00, 12.79it/s]\n",
      "Main Epoch (Outer Loop):  33%|███▎      | 168/512 [14:31<29:06,  5.08s/it]"
     ]
    },
    {
     "name": "stdout",
     "output_type": "stream",
     "text": [
      "Transferred Data\n"
     ]
    },
    {
     "name": "stderr",
     "output_type": "stream",
     "text": [
      "Epoch 169/512 (Inner K-Epochs): 100%|██████████| 64/64 [00:04<00:00, 12.85it/s]\n",
      "Main Epoch (Outer Loop):  33%|███▎      | 169/512 [14:36<29:00,  5.07s/it]"
     ]
    },
    {
     "name": "stdout",
     "output_type": "stream",
     "text": [
      "Transferred Data\n"
     ]
    },
    {
     "name": "stderr",
     "output_type": "stream",
     "text": [
      "Epoch 170/512 (Inner K-Epochs): 100%|██████████| 64/64 [00:04<00:00, 12.83it/s]\n",
      "Main Epoch (Outer Loop):  33%|███▎      | 170/512 [14:41<28:55,  5.07s/it]"
     ]
    },
    {
     "name": "stdout",
     "output_type": "stream",
     "text": [
      "Transferred Data\n"
     ]
    },
    {
     "name": "stderr",
     "output_type": "stream",
     "text": [
      "Epoch 171/512 (Inner K-Epochs): 100%|██████████| 64/64 [00:04<00:00, 12.90it/s]\n",
      "Main Epoch (Outer Loop):  33%|███▎      | 171/512 [14:46<28:47,  5.07s/it]"
     ]
    },
    {
     "name": "stdout",
     "output_type": "stream",
     "text": [
      "Transferred Data\n"
     ]
    },
    {
     "name": "stderr",
     "output_type": "stream",
     "text": [
      "Epoch 172/512 (Inner K-Epochs): 100%|██████████| 64/64 [00:04<00:00, 12.91it/s]\n",
      "Main Epoch (Outer Loop):  34%|███▎      | 172/512 [14:51<28:40,  5.06s/it]"
     ]
    },
    {
     "name": "stdout",
     "output_type": "stream",
     "text": [
      "Transferred Data\n"
     ]
    },
    {
     "name": "stderr",
     "output_type": "stream",
     "text": [
      "Epoch 173/512 (Inner K-Epochs): 100%|██████████| 64/64 [00:04<00:00, 12.87it/s]\n",
      "Main Epoch (Outer Loop):  34%|███▍      | 173/512 [14:56<28:34,  5.06s/it]"
     ]
    },
    {
     "name": "stdout",
     "output_type": "stream",
     "text": [
      "Transferred Data\n"
     ]
    },
    {
     "name": "stderr",
     "output_type": "stream",
     "text": [
      "Epoch 174/512 (Inner K-Epochs): 100%|██████████| 64/64 [00:05<00:00, 12.78it/s]\n",
      "Main Epoch (Outer Loop):  34%|███▍      | 174/512 [15:02<28:33,  5.07s/it]"
     ]
    },
    {
     "name": "stdout",
     "output_type": "stream",
     "text": [
      "Transferred Data\n"
     ]
    },
    {
     "name": "stderr",
     "output_type": "stream",
     "text": [
      "Epoch 175/512 (Inner K-Epochs): 100%|██████████| 64/64 [00:04<00:00, 12.82it/s]\n",
      "Main Epoch (Outer Loop):  34%|███▍      | 175/512 [15:07<28:29,  5.07s/it]"
     ]
    },
    {
     "name": "stdout",
     "output_type": "stream",
     "text": [
      "Transferred Data\n"
     ]
    },
    {
     "name": "stderr",
     "output_type": "stream",
     "text": [
      "Epoch 176/512 (Inner K-Epochs): 100%|██████████| 64/64 [1:21:37<00:00, 76.52s/it]\n",
      "Main Epoch (Outer Loop):  34%|███▍      | 176/512 [1:36:44<137:27:34, 1472.78s/it]"
     ]
    },
    {
     "name": "stdout",
     "output_type": "stream",
     "text": [
      "Transferred Data\n"
     ]
    },
    {
     "name": "stderr",
     "output_type": "stream",
     "text": [
      "Epoch 177/512 (Inner K-Epochs): 100%|██████████| 64/64 [00:06<00:00, 10.20it/s]\n",
      "Main Epoch (Outer Loop):  35%|███▍      | 177/512 [1:36:50<96:06:45, 1032.85s/it] "
     ]
    },
    {
     "name": "stdout",
     "output_type": "stream",
     "text": [
      "Transferred Data\n"
     ]
    },
    {
     "name": "stderr",
     "output_type": "stream",
     "text": [
      "Epoch 178/512 (Inner K-Epochs): 100%|██████████| 64/64 [00:06<00:00,  9.56it/s]\n",
      "Main Epoch (Outer Loop):  35%|███▍      | 178/512 [1:36:57<67:16:01, 725.03s/it] "
     ]
    },
    {
     "name": "stdout",
     "output_type": "stream",
     "text": [
      "Transferred Data\n"
     ]
    },
    {
     "name": "stderr",
     "output_type": "stream",
     "text": [
      "Epoch 179/512 (Inner K-Epochs): 100%|██████████| 64/64 [00:06<00:00, 10.14it/s]\n",
      "Main Epoch (Outer Loop):  35%|███▍      | 179/512 [1:37:04<47:07:25, 509.44s/it]"
     ]
    },
    {
     "name": "stdout",
     "output_type": "stream",
     "text": [
      "Transferred Data\n"
     ]
    },
    {
     "name": "stderr",
     "output_type": "stream",
     "text": [
      "Epoch 180/512 (Inner K-Epochs): 100%|██████████| 64/64 [00:05<00:00, 11.92it/s]\n",
      "Main Epoch (Outer Loop):  35%|███▌      | 180/512 [1:37:09<33:02:18, 358.25s/it]"
     ]
    },
    {
     "name": "stdout",
     "output_type": "stream",
     "text": [
      "Transferred Data\n"
     ]
    },
    {
     "name": "stderr",
     "output_type": "stream",
     "text": [
      "Epoch 181/512 (Inner K-Epochs): 100%|██████████| 64/64 [00:05<00:00, 11.62it/s]\n",
      "Main Epoch (Outer Loop):  35%|███▌      | 181/512 [1:37:15<23:12:43, 252.46s/it]"
     ]
    },
    {
     "name": "stdout",
     "output_type": "stream",
     "text": [
      "Transferred Data\n"
     ]
    },
    {
     "name": "stderr",
     "output_type": "stream",
     "text": [
      "Epoch 182/512 (Inner K-Epochs): 100%|██████████| 64/64 [00:05<00:00, 11.63it/s]\n",
      "Main Epoch (Outer Loop):  36%|███▌      | 182/512 [1:37:20<16:21:12, 178.40s/it]"
     ]
    },
    {
     "name": "stdout",
     "output_type": "stream",
     "text": [
      "Transferred Data\n"
     ]
    },
    {
     "name": "stderr",
     "output_type": "stream",
     "text": [
      "Epoch 183/512 (Inner K-Epochs): 100%|██████████| 64/64 [00:05<00:00, 11.72it/s]\n",
      "Main Epoch (Outer Loop):  36%|███▌      | 183/512 [1:37:26<11:33:56, 126.56s/it]"
     ]
    },
    {
     "name": "stdout",
     "output_type": "stream",
     "text": [
      "Transferred Data\n"
     ]
    },
    {
     "name": "stderr",
     "output_type": "stream",
     "text": [
      "Epoch 184/512 (Inner K-Epochs): 100%|██████████| 64/64 [00:05<00:00, 11.63it/s]\n",
      "Main Epoch (Outer Loop):  36%|███▌      | 184/512 [1:37:31<8:13:28, 90.27s/it]  "
     ]
    },
    {
     "name": "stdout",
     "output_type": "stream",
     "text": [
      "Transferred Data\n"
     ]
    },
    {
     "name": "stderr",
     "output_type": "stream",
     "text": [
      "Epoch 185/512 (Inner K-Epochs): 100%|██████████| 64/64 [00:05<00:00, 11.55it/s]\n",
      "Main Epoch (Outer Loop):  36%|███▌      | 185/512 [1:37:37<5:53:36, 64.88s/it]"
     ]
    },
    {
     "name": "stdout",
     "output_type": "stream",
     "text": [
      "Transferred Data\n"
     ]
    },
    {
     "name": "stderr",
     "output_type": "stream",
     "text": [
      "Epoch 186/512 (Inner K-Epochs): 100%|██████████| 64/64 [00:05<00:00, 11.29it/s]\n",
      "Main Epoch (Outer Loop):  36%|███▋      | 186/512 [1:37:43<4:16:08, 47.14s/it]"
     ]
    },
    {
     "name": "stdout",
     "output_type": "stream",
     "text": [
      "Transferred Data\n"
     ]
    },
    {
     "name": "stderr",
     "output_type": "stream",
     "text": [
      "Epoch 187/512 (Inner K-Epochs): 100%|██████████| 64/64 [00:05<00:00, 11.58it/s]\n",
      "Main Epoch (Outer Loop):  37%|███▋      | 187/512 [1:37:49<3:07:54, 34.69s/it]"
     ]
    },
    {
     "name": "stdout",
     "output_type": "stream",
     "text": [
      "Transferred Data\n"
     ]
    },
    {
     "name": "stderr",
     "output_type": "stream",
     "text": [
      "Epoch 188/512 (Inner K-Epochs): 100%|██████████| 64/64 [00:05<00:00, 11.74it/s]\n",
      "Main Epoch (Outer Loop):  37%|███▋      | 188/512 [1:37:54<2:20:07, 25.95s/it]"
     ]
    },
    {
     "name": "stdout",
     "output_type": "stream",
     "text": [
      "Transferred Data\n"
     ]
    },
    {
     "name": "stderr",
     "output_type": "stream",
     "text": [
      "Epoch 189/512 (Inner K-Epochs): 100%|██████████| 64/64 [00:05<00:00, 11.58it/s]\n",
      "Main Epoch (Outer Loop):  37%|███▋      | 189/512 [1:38:00<1:46:50, 19.85s/it]"
     ]
    },
    {
     "name": "stdout",
     "output_type": "stream",
     "text": [
      "Transferred Data\n"
     ]
    },
    {
     "name": "stderr",
     "output_type": "stream",
     "text": [
      "Epoch 190/512 (Inner K-Epochs): 100%|██████████| 64/64 [00:05<00:00, 11.82it/s]\n",
      "Main Epoch (Outer Loop):  37%|███▋      | 190/512 [1:38:05<1:23:26, 15.55s/it]"
     ]
    },
    {
     "name": "stdout",
     "output_type": "stream",
     "text": [
      "Transferred Data\n"
     ]
    },
    {
     "name": "stderr",
     "output_type": "stream",
     "text": [
      "Epoch 191/512 (Inner K-Epochs): 100%|██████████| 64/64 [00:05<00:00, 11.63it/s]\n",
      "Main Epoch (Outer Loop):  37%|███▋      | 191/512 [1:38:11<1:07:14, 12.57s/it]"
     ]
    },
    {
     "name": "stdout",
     "output_type": "stream",
     "text": [
      "Transferred Data\n"
     ]
    },
    {
     "name": "stderr",
     "output_type": "stream",
     "text": [
      "Epoch 192/512 (Inner K-Epochs): 100%|██████████| 64/64 [00:05<00:00, 12.55it/s]\n",
      "Main Epoch (Outer Loop):  38%|███▊      | 192/512 [1:38:16<55:33, 10.42s/it]  "
     ]
    },
    {
     "name": "stdout",
     "output_type": "stream",
     "text": [
      "Epoch 192/512, Loss: 0.0000, Ratio: 1.00000, Entropy Term: 0.00000\n",
      "Epoch 192 | Entire Validation Dataset Accuracy: 0.5365| 103.0 / 192.0 samples\n",
      "Transferred Data\n"
     ]
    },
    {
     "name": "stderr",
     "output_type": "stream",
     "text": [
      "Epoch 193/512 (Inner K-Epochs): 100%|██████████| 64/64 [00:05<00:00, 12.52it/s]\n",
      "Main Epoch (Outer Loop):  38%|███▊      | 193/512 [1:38:21<47:03,  8.85s/it]"
     ]
    },
    {
     "name": "stdout",
     "output_type": "stream",
     "text": [
      "Transferred Data\n"
     ]
    },
    {
     "name": "stderr",
     "output_type": "stream",
     "text": [
      "Epoch 194/512 (Inner K-Epochs): 100%|██████████| 64/64 [00:05<00:00, 12.63it/s]\n",
      "Main Epoch (Outer Loop):  38%|███▊      | 194/512 [1:38:27<41:01,  7.74s/it]"
     ]
    },
    {
     "name": "stdout",
     "output_type": "stream",
     "text": [
      "Transferred Data\n"
     ]
    },
    {
     "name": "stderr",
     "output_type": "stream",
     "text": [
      "Epoch 195/512 (Inner K-Epochs): 100%|██████████| 64/64 [00:05<00:00, 12.58it/s]\n",
      "Main Epoch (Outer Loop):  38%|███▊      | 195/512 [1:38:32<36:49,  6.97s/it]"
     ]
    },
    {
     "name": "stdout",
     "output_type": "stream",
     "text": [
      "Transferred Data\n"
     ]
    },
    {
     "name": "stderr",
     "output_type": "stream",
     "text": [
      "Epoch 196/512 (Inner K-Epochs): 100%|██████████| 64/64 [00:05<00:00, 12.63it/s]\n",
      "Main Epoch (Outer Loop):  38%|███▊      | 196/512 [1:38:37<33:49,  6.42s/it]"
     ]
    },
    {
     "name": "stdout",
     "output_type": "stream",
     "text": [
      "Transferred Data\n"
     ]
    },
    {
     "name": "stderr",
     "output_type": "stream",
     "text": [
      "Epoch 197/512 (Inner K-Epochs): 100%|██████████| 64/64 [00:05<00:00, 12.55it/s]\n",
      "Main Epoch (Outer Loop):  38%|███▊      | 197/512 [1:38:42<31:45,  6.05s/it]"
     ]
    },
    {
     "name": "stdout",
     "output_type": "stream",
     "text": [
      "Transferred Data\n"
     ]
    },
    {
     "name": "stderr",
     "output_type": "stream",
     "text": [
      "Epoch 198/512 (Inner K-Epochs): 100%|██████████| 64/64 [00:05<00:00, 12.50it/s]\n",
      "Main Epoch (Outer Loop):  39%|███▊      | 198/512 [1:38:47<30:20,  5.80s/it]"
     ]
    },
    {
     "name": "stdout",
     "output_type": "stream",
     "text": [
      "Transferred Data\n"
     ]
    },
    {
     "name": "stderr",
     "output_type": "stream",
     "text": [
      "Epoch 199/512 (Inner K-Epochs): 100%|██████████| 64/64 [00:05<00:00, 12.51it/s]\n",
      "Main Epoch (Outer Loop):  39%|███▉      | 199/512 [1:38:52<29:18,  5.62s/it]"
     ]
    },
    {
     "name": "stdout",
     "output_type": "stream",
     "text": [
      "Transferred Data\n"
     ]
    },
    {
     "name": "stderr",
     "output_type": "stream",
     "text": [
      "Epoch 200/512 (Inner K-Epochs): 100%|██████████| 64/64 [00:05<00:00, 12.48it/s]\n",
      "Main Epoch (Outer Loop):  39%|███▉      | 200/512 [1:38:58<28:34,  5.50s/it]"
     ]
    },
    {
     "name": "stdout",
     "output_type": "stream",
     "text": [
      "Transferred Data\n"
     ]
    },
    {
     "name": "stderr",
     "output_type": "stream",
     "text": [
      "Epoch 201/512 (Inner K-Epochs): 100%|██████████| 64/64 [00:05<00:00, 12.50it/s]\n",
      "Main Epoch (Outer Loop):  39%|███▉      | 201/512 [1:39:03<28:02,  5.41s/it]"
     ]
    },
    {
     "name": "stdout",
     "output_type": "stream",
     "text": [
      "Transferred Data\n"
     ]
    },
    {
     "name": "stderr",
     "output_type": "stream",
     "text": [
      "Epoch 202/512 (Inner K-Epochs): 100%|██████████| 64/64 [00:05<00:00, 12.46it/s]\n",
      "Main Epoch (Outer Loop):  39%|███▉      | 202/512 [1:39:08<27:38,  5.35s/it]"
     ]
    },
    {
     "name": "stdout",
     "output_type": "stream",
     "text": [
      "Transferred Data\n"
     ]
    },
    {
     "name": "stderr",
     "output_type": "stream",
     "text": [
      "Epoch 203/512 (Inner K-Epochs): 100%|██████████| 64/64 [00:05<00:00, 12.50it/s]\n",
      "Main Epoch (Outer Loop):  40%|███▉      | 203/512 [1:39:13<27:19,  5.30s/it]"
     ]
    },
    {
     "name": "stdout",
     "output_type": "stream",
     "text": [
      "Transferred Data\n"
     ]
    },
    {
     "name": "stderr",
     "output_type": "stream",
     "text": [
      "Epoch 204/512 (Inner K-Epochs): 100%|██████████| 64/64 [00:05<00:00, 12.43it/s]\n",
      "Main Epoch (Outer Loop):  40%|███▉      | 204/512 [1:39:19<27:07,  5.28s/it]"
     ]
    },
    {
     "name": "stdout",
     "output_type": "stream",
     "text": [
      "Transferred Data\n"
     ]
    },
    {
     "name": "stderr",
     "output_type": "stream",
     "text": [
      "Epoch 205/512 (Inner K-Epochs): 100%|██████████| 64/64 [00:05<00:00, 12.48it/s]\n",
      "Main Epoch (Outer Loop):  40%|████      | 205/512 [1:39:24<26:55,  5.26s/it]"
     ]
    },
    {
     "name": "stdout",
     "output_type": "stream",
     "text": [
      "Transferred Data\n"
     ]
    },
    {
     "name": "stderr",
     "output_type": "stream",
     "text": [
      "Epoch 206/512 (Inner K-Epochs): 100%|██████████| 64/64 [00:05<00:00, 12.47it/s]\n",
      "Main Epoch (Outer Loop):  40%|████      | 206/512 [1:39:29<26:47,  5.25s/it]"
     ]
    },
    {
     "name": "stdout",
     "output_type": "stream",
     "text": [
      "Transferred Data\n"
     ]
    },
    {
     "name": "stderr",
     "output_type": "stream",
     "text": [
      "Epoch 207/512 (Inner K-Epochs): 100%|██████████| 64/64 [00:05<00:00, 12.43it/s]\n",
      "Main Epoch (Outer Loop):  40%|████      | 207/512 [1:39:34<26:40,  5.25s/it]"
     ]
    },
    {
     "name": "stdout",
     "output_type": "stream",
     "text": [
      "Transferred Data\n"
     ]
    },
    {
     "name": "stderr",
     "output_type": "stream",
     "text": [
      "Epoch 208/512 (Inner K-Epochs): 100%|██████████| 64/64 [00:05<00:00, 12.46it/s]\n",
      "Main Epoch (Outer Loop):  41%|████      | 208/512 [1:39:39<26:33,  5.24s/it]"
     ]
    },
    {
     "name": "stdout",
     "output_type": "stream",
     "text": [
      "Transferred Data\n"
     ]
    },
    {
     "name": "stderr",
     "output_type": "stream",
     "text": [
      "Epoch 209/512 (Inner K-Epochs): 100%|██████████| 64/64 [00:05<00:00, 12.45it/s]\n",
      "Main Epoch (Outer Loop):  41%|████      | 209/512 [1:39:45<26:25,  5.23s/it]"
     ]
    },
    {
     "name": "stdout",
     "output_type": "stream",
     "text": [
      "Transferred Data\n"
     ]
    },
    {
     "name": "stderr",
     "output_type": "stream",
     "text": [
      "Epoch 210/512 (Inner K-Epochs): 100%|██████████| 64/64 [00:05<00:00, 12.47it/s]\n",
      "Main Epoch (Outer Loop):  41%|████      | 210/512 [1:39:50<26:18,  5.23s/it]"
     ]
    },
    {
     "name": "stdout",
     "output_type": "stream",
     "text": [
      "Transferred Data\n"
     ]
    },
    {
     "name": "stderr",
     "output_type": "stream",
     "text": [
      "Epoch 211/512 (Inner K-Epochs): 100%|██████████| 64/64 [00:05<00:00, 12.45it/s]\n",
      "Main Epoch (Outer Loop):  41%|████      | 211/512 [1:39:55<26:12,  5.22s/it]"
     ]
    },
    {
     "name": "stdout",
     "output_type": "stream",
     "text": [
      "Transferred Data\n"
     ]
    },
    {
     "name": "stderr",
     "output_type": "stream",
     "text": [
      "Epoch 212/512 (Inner K-Epochs): 100%|██████████| 64/64 [00:05<00:00, 12.43it/s]\n",
      "Main Epoch (Outer Loop):  41%|████▏     | 212/512 [1:40:00<26:07,  5.23s/it]"
     ]
    },
    {
     "name": "stdout",
     "output_type": "stream",
     "text": [
      "Transferred Data\n"
     ]
    },
    {
     "name": "stderr",
     "output_type": "stream",
     "text": [
      "Epoch 213/512 (Inner K-Epochs): 100%|██████████| 64/64 [00:05<00:00, 12.46it/s]\n",
      "Main Epoch (Outer Loop):  42%|████▏     | 213/512 [1:40:06<26:01,  5.22s/it]"
     ]
    },
    {
     "name": "stdout",
     "output_type": "stream",
     "text": [
      "Transferred Data\n"
     ]
    },
    {
     "name": "stderr",
     "output_type": "stream",
     "text": [
      "Epoch 214/512 (Inner K-Epochs): 100%|██████████| 64/64 [00:05<00:00, 12.47it/s]\n",
      "Main Epoch (Outer Loop):  42%|████▏     | 214/512 [1:40:11<25:55,  5.22s/it]"
     ]
    },
    {
     "name": "stdout",
     "output_type": "stream",
     "text": [
      "Transferred Data\n"
     ]
    },
    {
     "name": "stderr",
     "output_type": "stream",
     "text": [
      "Epoch 215/512 (Inner K-Epochs): 100%|██████████| 64/64 [00:05<00:00, 12.47it/s]\n",
      "Main Epoch (Outer Loop):  42%|████▏     | 215/512 [1:40:16<25:51,  5.22s/it]"
     ]
    },
    {
     "name": "stdout",
     "output_type": "stream",
     "text": [
      "Transferred Data\n"
     ]
    },
    {
     "name": "stderr",
     "output_type": "stream",
     "text": [
      "Epoch 216/512 (Inner K-Epochs): 100%|██████████| 64/64 [00:05<00:00, 12.43it/s]\n",
      "Main Epoch (Outer Loop):  42%|████▏     | 216/512 [1:40:21<25:48,  5.23s/it]"
     ]
    },
    {
     "name": "stdout",
     "output_type": "stream",
     "text": [
      "Transferred Data\n"
     ]
    },
    {
     "name": "stderr",
     "output_type": "stream",
     "text": [
      "Epoch 217/512 (Inner K-Epochs): 100%|██████████| 64/64 [00:05<00:00, 12.47it/s]\n",
      "Main Epoch (Outer Loop):  42%|████▏     | 217/512 [1:40:26<25:42,  5.23s/it]"
     ]
    },
    {
     "name": "stdout",
     "output_type": "stream",
     "text": [
      "Transferred Data\n"
     ]
    },
    {
     "name": "stderr",
     "output_type": "stream",
     "text": [
      "Epoch 218/512 (Inner K-Epochs): 100%|██████████| 64/64 [00:05<00:00, 12.43it/s]\n",
      "Main Epoch (Outer Loop):  43%|████▎     | 218/512 [1:40:32<25:38,  5.23s/it]"
     ]
    },
    {
     "name": "stdout",
     "output_type": "stream",
     "text": [
      "Transferred Data\n"
     ]
    },
    {
     "name": "stderr",
     "output_type": "stream",
     "text": [
      "Epoch 219/512 (Inner K-Epochs): 100%|██████████| 64/64 [00:05<00:00, 12.23it/s]\n",
      "Main Epoch (Outer Loop):  43%|████▎     | 219/512 [1:40:37<25:40,  5.26s/it]"
     ]
    },
    {
     "name": "stdout",
     "output_type": "stream",
     "text": [
      "Transferred Data\n"
     ]
    },
    {
     "name": "stderr",
     "output_type": "stream",
     "text": [
      "Epoch 220/512 (Inner K-Epochs): 100%|██████████| 64/64 [00:05<00:00, 11.93it/s]\n",
      "Main Epoch (Outer Loop):  43%|████▎     | 220/512 [1:40:42<25:52,  5.32s/it]"
     ]
    },
    {
     "name": "stdout",
     "output_type": "stream",
     "text": [
      "Transferred Data\n"
     ]
    },
    {
     "name": "stderr",
     "output_type": "stream",
     "text": [
      "Epoch 221/512 (Inner K-Epochs): 100%|██████████| 64/64 [00:07<00:00,  9.10it/s]\n",
      "Main Epoch (Outer Loop):  43%|████▎     | 221/512 [1:40:50<28:24,  5.86s/it]"
     ]
    },
    {
     "name": "stdout",
     "output_type": "stream",
     "text": [
      "Transferred Data\n"
     ]
    },
    {
     "name": "stderr",
     "output_type": "stream",
     "text": [
      "Epoch 222/512 (Inner K-Epochs): 100%|██████████| 64/64 [00:05<00:00, 12.44it/s]\n",
      "Main Epoch (Outer Loop):  43%|████▎     | 222/512 [1:40:55<27:23,  5.67s/it]"
     ]
    },
    {
     "name": "stdout",
     "output_type": "stream",
     "text": [
      "Transferred Data\n"
     ]
    },
    {
     "name": "stderr",
     "output_type": "stream",
     "text": [
      "Epoch 223/512 (Inner K-Epochs): 100%|██████████| 64/64 [00:05<00:00, 12.11it/s]\n",
      "Main Epoch (Outer Loop):  44%|████▎     | 223/512 [1:41:00<26:52,  5.58s/it]"
     ]
    },
    {
     "name": "stdout",
     "output_type": "stream",
     "text": [
      "Transferred Data\n"
     ]
    },
    {
     "name": "stderr",
     "output_type": "stream",
     "text": [
      "Epoch 224/512 (Inner K-Epochs): 100%|██████████| 64/64 [00:05<00:00, 12.10it/s]\n",
      "Main Epoch (Outer Loop):  44%|████▍     | 224/512 [1:41:06<26:29,  5.52s/it]"
     ]
    },
    {
     "name": "stdout",
     "output_type": "stream",
     "text": [
      "Transferred Data\n"
     ]
    },
    {
     "name": "stderr",
     "output_type": "stream",
     "text": [
      "Epoch 225/512 (Inner K-Epochs): 100%|██████████| 64/64 [00:05<00:00, 12.33it/s]\n",
      "Main Epoch (Outer Loop):  44%|████▍     | 225/512 [1:41:11<26:03,  5.45s/it]"
     ]
    },
    {
     "name": "stdout",
     "output_type": "stream",
     "text": [
      "Transferred Data\n"
     ]
    },
    {
     "name": "stderr",
     "output_type": "stream",
     "text": [
      "Epoch 226/512 (Inner K-Epochs): 100%|██████████| 64/64 [00:05<00:00, 12.36it/s]\n",
      "Main Epoch (Outer Loop):  44%|████▍     | 226/512 [1:41:16<25:41,  5.39s/it]"
     ]
    },
    {
     "name": "stdout",
     "output_type": "stream",
     "text": [
      "Transferred Data\n"
     ]
    },
    {
     "name": "stderr",
     "output_type": "stream",
     "text": [
      "Epoch 227/512 (Inner K-Epochs): 100%|██████████| 64/64 [00:05<00:00, 12.48it/s]\n",
      "Main Epoch (Outer Loop):  44%|████▍     | 227/512 [1:41:21<25:21,  5.34s/it]"
     ]
    },
    {
     "name": "stdout",
     "output_type": "stream",
     "text": [
      "Transferred Data\n"
     ]
    },
    {
     "name": "stderr",
     "output_type": "stream",
     "text": [
      "Epoch 228/512 (Inner K-Epochs): 100%|██████████| 64/64 [00:05<00:00, 12.50it/s]\n",
      "Main Epoch (Outer Loop):  45%|████▍     | 228/512 [1:41:27<25:04,  5.30s/it]"
     ]
    },
    {
     "name": "stdout",
     "output_type": "stream",
     "text": [
      "Transferred Data\n"
     ]
    },
    {
     "name": "stderr",
     "output_type": "stream",
     "text": [
      "Epoch 229/512 (Inner K-Epochs): 100%|██████████| 64/64 [00:05<00:00, 12.50it/s]\n",
      "Main Epoch (Outer Loop):  45%|████▍     | 229/512 [1:41:32<24:51,  5.27s/it]"
     ]
    },
    {
     "name": "stdout",
     "output_type": "stream",
     "text": [
      "Transferred Data\n"
     ]
    },
    {
     "name": "stderr",
     "output_type": "stream",
     "text": [
      "Epoch 230/512 (Inner K-Epochs): 100%|██████████| 64/64 [00:05<00:00, 12.52it/s]\n",
      "Main Epoch (Outer Loop):  45%|████▍     | 230/512 [1:41:37<24:39,  5.25s/it]"
     ]
    },
    {
     "name": "stdout",
     "output_type": "stream",
     "text": [
      "Transferred Data\n"
     ]
    },
    {
     "name": "stderr",
     "output_type": "stream",
     "text": [
      "Epoch 231/512 (Inner K-Epochs): 100%|██████████| 64/64 [00:05<00:00, 12.53it/s]\n",
      "Main Epoch (Outer Loop):  45%|████▌     | 231/512 [1:41:42<24:29,  5.23s/it]"
     ]
    },
    {
     "name": "stdout",
     "output_type": "stream",
     "text": [
      "Transferred Data\n"
     ]
    },
    {
     "name": "stderr",
     "output_type": "stream",
     "text": [
      "Epoch 232/512 (Inner K-Epochs): 100%|██████████| 64/64 [00:05<00:00, 12.33it/s]\n",
      "Main Epoch (Outer Loop):  45%|████▌     | 232/512 [1:41:47<24:27,  5.24s/it]"
     ]
    },
    {
     "name": "stdout",
     "output_type": "stream",
     "text": [
      "Transferred Data\n"
     ]
    },
    {
     "name": "stderr",
     "output_type": "stream",
     "text": [
      "Epoch 233/512 (Inner K-Epochs): 100%|██████████| 64/64 [00:05<00:00, 12.34it/s]\n",
      "Main Epoch (Outer Loop):  46%|████▌     | 233/512 [1:41:53<24:25,  5.25s/it]"
     ]
    },
    {
     "name": "stdout",
     "output_type": "stream",
     "text": [
      "Transferred Data\n"
     ]
    },
    {
     "name": "stderr",
     "output_type": "stream",
     "text": [
      "Epoch 234/512 (Inner K-Epochs): 100%|██████████| 64/64 [00:05<00:00, 12.30it/s]\n",
      "Main Epoch (Outer Loop):  46%|████▌     | 234/512 [1:41:58<24:23,  5.27s/it]"
     ]
    },
    {
     "name": "stdout",
     "output_type": "stream",
     "text": [
      "Transferred Data\n"
     ]
    },
    {
     "name": "stderr",
     "output_type": "stream",
     "text": [
      "Epoch 235/512 (Inner K-Epochs): 100%|██████████| 64/64 [00:05<00:00, 12.31it/s]\n",
      "Main Epoch (Outer Loop):  46%|████▌     | 235/512 [1:42:03<24:20,  5.27s/it]"
     ]
    },
    {
     "name": "stdout",
     "output_type": "stream",
     "text": [
      "Transferred Data\n"
     ]
    },
    {
     "name": "stderr",
     "output_type": "stream",
     "text": [
      "Epoch 236/512 (Inner K-Epochs): 100%|██████████| 64/64 [00:05<00:00, 12.48it/s]\n",
      "Main Epoch (Outer Loop):  46%|████▌     | 236/512 [1:42:08<24:11,  5.26s/it]"
     ]
    },
    {
     "name": "stdout",
     "output_type": "stream",
     "text": [
      "Transferred Data\n"
     ]
    },
    {
     "name": "stderr",
     "output_type": "stream",
     "text": [
      "Epoch 237/512 (Inner K-Epochs): 100%|██████████| 64/64 [00:05<00:00, 12.35it/s]\n",
      "Main Epoch (Outer Loop):  46%|████▋     | 237/512 [1:42:14<24:06,  5.26s/it]"
     ]
    },
    {
     "name": "stdout",
     "output_type": "stream",
     "text": [
      "Transferred Data\n"
     ]
    },
    {
     "name": "stderr",
     "output_type": "stream",
     "text": [
      "Epoch 238/512 (Inner K-Epochs): 100%|██████████| 64/64 [00:05<00:00, 12.52it/s]\n",
      "Main Epoch (Outer Loop):  46%|████▋     | 238/512 [1:42:19<23:56,  5.24s/it]"
     ]
    },
    {
     "name": "stdout",
     "output_type": "stream",
     "text": [
      "Transferred Data\n"
     ]
    },
    {
     "name": "stderr",
     "output_type": "stream",
     "text": [
      "Epoch 239/512 (Inner K-Epochs): 100%|██████████| 64/64 [00:05<00:00, 12.36it/s]\n",
      "Main Epoch (Outer Loop):  47%|████▋     | 239/512 [1:42:24<23:53,  5.25s/it]"
     ]
    },
    {
     "name": "stdout",
     "output_type": "stream",
     "text": [
      "Transferred Data\n"
     ]
    },
    {
     "name": "stderr",
     "output_type": "stream",
     "text": [
      "Epoch 240/512 (Inner K-Epochs): 100%|██████████| 64/64 [00:05<00:00, 12.39it/s]\n",
      "Main Epoch (Outer Loop):  47%|████▋     | 240/512 [1:42:29<23:47,  5.25s/it]"
     ]
    },
    {
     "name": "stdout",
     "output_type": "stream",
     "text": [
      "Transferred Data\n"
     ]
    },
    {
     "name": "stderr",
     "output_type": "stream",
     "text": [
      "Epoch 241/512 (Inner K-Epochs): 100%|██████████| 64/64 [00:05<00:00, 12.39it/s]\n",
      "Main Epoch (Outer Loop):  47%|████▋     | 241/512 [1:42:35<23:42,  5.25s/it]"
     ]
    },
    {
     "name": "stdout",
     "output_type": "stream",
     "text": [
      "Transferred Data\n"
     ]
    },
    {
     "name": "stderr",
     "output_type": "stream",
     "text": [
      "Epoch 242/512 (Inner K-Epochs): 100%|██████████| 64/64 [00:05<00:00, 12.29it/s]\n",
      "Main Epoch (Outer Loop):  47%|████▋     | 242/512 [1:42:40<23:40,  5.26s/it]"
     ]
    },
    {
     "name": "stdout",
     "output_type": "stream",
     "text": [
      "Transferred Data\n"
     ]
    },
    {
     "name": "stderr",
     "output_type": "stream",
     "text": [
      "Epoch 243/512 (Inner K-Epochs): 100%|██████████| 64/64 [00:05<00:00, 11.92it/s]\n",
      "Main Epoch (Outer Loop):  47%|████▋     | 243/512 [1:42:45<23:51,  5.32s/it]"
     ]
    },
    {
     "name": "stdout",
     "output_type": "stream",
     "text": [
      "Transferred Data\n"
     ]
    },
    {
     "name": "stderr",
     "output_type": "stream",
     "text": [
      "Epoch 244/512 (Inner K-Epochs): 100%|██████████| 64/64 [00:05<00:00, 11.96it/s]\n",
      "Main Epoch (Outer Loop):  48%|████▊     | 244/512 [1:42:51<23:55,  5.36s/it]"
     ]
    },
    {
     "name": "stdout",
     "output_type": "stream",
     "text": [
      "Transferred Data\n"
     ]
    },
    {
     "name": "stderr",
     "output_type": "stream",
     "text": [
      "Epoch 245/512 (Inner K-Epochs): 100%|██████████| 64/64 [00:05<00:00, 11.93it/s]\n",
      "Main Epoch (Outer Loop):  48%|████▊     | 245/512 [1:42:56<23:58,  5.39s/it]"
     ]
    },
    {
     "name": "stdout",
     "output_type": "stream",
     "text": [
      "Transferred Data\n"
     ]
    },
    {
     "name": "stderr",
     "output_type": "stream",
     "text": [
      "Epoch 246/512 (Inner K-Epochs): 100%|██████████| 64/64 [00:05<00:00, 12.10it/s]\n",
      "Main Epoch (Outer Loop):  48%|████▊     | 246/512 [1:43:02<23:52,  5.39s/it]"
     ]
    },
    {
     "name": "stdout",
     "output_type": "stream",
     "text": [
      "Transferred Data\n"
     ]
    },
    {
     "name": "stderr",
     "output_type": "stream",
     "text": [
      "Epoch 247/512 (Inner K-Epochs): 100%|██████████| 64/64 [00:05<00:00, 12.36it/s]\n",
      "Main Epoch (Outer Loop):  48%|████▊     | 247/512 [1:43:07<23:37,  5.35s/it]"
     ]
    },
    {
     "name": "stdout",
     "output_type": "stream",
     "text": [
      "Transferred Data\n"
     ]
    },
    {
     "name": "stderr",
     "output_type": "stream",
     "text": [
      "Epoch 248/512 (Inner K-Epochs): 100%|██████████| 64/64 [00:05<00:00, 12.39it/s]\n",
      "Main Epoch (Outer Loop):  48%|████▊     | 248/512 [1:43:12<23:24,  5.32s/it]"
     ]
    },
    {
     "name": "stdout",
     "output_type": "stream",
     "text": [
      "Transferred Data\n"
     ]
    },
    {
     "name": "stderr",
     "output_type": "stream",
     "text": [
      "Epoch 249/512 (Inner K-Epochs): 100%|██████████| 64/64 [00:05<00:00, 12.42it/s]\n",
      "Main Epoch (Outer Loop):  49%|████▊     | 249/512 [1:43:17<23:12,  5.29s/it]"
     ]
    },
    {
     "name": "stdout",
     "output_type": "stream",
     "text": [
      "Transferred Data\n"
     ]
    },
    {
     "name": "stderr",
     "output_type": "stream",
     "text": [
      "Epoch 250/512 (Inner K-Epochs): 100%|██████████| 64/64 [00:05<00:00, 12.34it/s]\n",
      "Main Epoch (Outer Loop):  49%|████▉     | 250/512 [1:43:23<23:04,  5.29s/it]"
     ]
    },
    {
     "name": "stdout",
     "output_type": "stream",
     "text": [
      "Transferred Data\n"
     ]
    },
    {
     "name": "stderr",
     "output_type": "stream",
     "text": [
      "Epoch 251/512 (Inner K-Epochs): 100%|██████████| 64/64 [00:05<00:00, 12.33it/s]\n",
      "Main Epoch (Outer Loop):  49%|████▉     | 251/512 [1:43:28<22:58,  5.28s/it]"
     ]
    },
    {
     "name": "stdout",
     "output_type": "stream",
     "text": [
      "Transferred Data\n"
     ]
    },
    {
     "name": "stderr",
     "output_type": "stream",
     "text": [
      "Epoch 252/512 (Inner K-Epochs): 100%|██████████| 64/64 [00:05<00:00, 12.37it/s]\n",
      "Main Epoch (Outer Loop):  49%|████▉     | 252/512 [1:43:33<22:51,  5.28s/it]"
     ]
    },
    {
     "name": "stdout",
     "output_type": "stream",
     "text": [
      "Transferred Data\n"
     ]
    },
    {
     "name": "stderr",
     "output_type": "stream",
     "text": [
      "Epoch 253/512 (Inner K-Epochs): 100%|██████████| 64/64 [00:05<00:00, 12.38it/s]\n",
      "Main Epoch (Outer Loop):  49%|████▉     | 253/512 [1:43:39<22:45,  5.27s/it]"
     ]
    },
    {
     "name": "stdout",
     "output_type": "stream",
     "text": [
      "Transferred Data\n"
     ]
    },
    {
     "name": "stderr",
     "output_type": "stream",
     "text": [
      "Epoch 254/512 (Inner K-Epochs): 100%|██████████| 64/64 [00:05<00:00, 12.34it/s]\n",
      "Main Epoch (Outer Loop):  50%|████▉     | 254/512 [1:43:44<22:39,  5.27s/it]"
     ]
    },
    {
     "name": "stdout",
     "output_type": "stream",
     "text": [
      "Transferred Data\n"
     ]
    },
    {
     "name": "stderr",
     "output_type": "stream",
     "text": [
      "Epoch 255/512 (Inner K-Epochs): 100%|██████████| 64/64 [00:05<00:00, 12.44it/s]\n",
      "Main Epoch (Outer Loop):  50%|████▉     | 255/512 [1:43:49<22:32,  5.26s/it]"
     ]
    },
    {
     "name": "stdout",
     "output_type": "stream",
     "text": [
      "Transferred Data\n"
     ]
    },
    {
     "name": "stderr",
     "output_type": "stream",
     "text": [
      "Epoch 256/512 (Inner K-Epochs): 100%|██████████| 64/64 [00:05<00:00, 12.46it/s]\n",
      "Main Epoch (Outer Loop):  50%|█████     | 256/512 [1:43:54<22:36,  5.30s/it]"
     ]
    },
    {
     "name": "stdout",
     "output_type": "stream",
     "text": [
      "Epoch 256/512, Loss: 0.0000, Ratio: 1.00000, Entropy Term: 0.00000\n",
      "Epoch 256 | Entire Validation Dataset Accuracy: 0.5365| 103.0 / 192.0 samples\n",
      "Transferred Data\n"
     ]
    },
    {
     "name": "stderr",
     "output_type": "stream",
     "text": [
      "Epoch 257/512 (Inner K-Epochs): 100%|██████████| 64/64 [00:05<00:00, 12.48it/s]\n",
      "Main Epoch (Outer Loop):  50%|█████     | 257/512 [1:44:00<22:25,  5.27s/it]"
     ]
    },
    {
     "name": "stdout",
     "output_type": "stream",
     "text": [
      "Transferred Data\n"
     ]
    },
    {
     "name": "stderr",
     "output_type": "stream",
     "text": [
      "Epoch 258/512 (Inner K-Epochs): 100%|██████████| 64/64 [00:05<00:00, 12.47it/s]\n",
      "Main Epoch (Outer Loop):  50%|█████     | 258/512 [1:44:05<22:15,  5.26s/it]"
     ]
    },
    {
     "name": "stdout",
     "output_type": "stream",
     "text": [
      "Transferred Data\n"
     ]
    },
    {
     "name": "stderr",
     "output_type": "stream",
     "text": [
      "Epoch 259/512 (Inner K-Epochs): 100%|██████████| 64/64 [00:05<00:00, 12.47it/s]\n",
      "Main Epoch (Outer Loop):  51%|█████     | 259/512 [1:44:10<22:06,  5.24s/it]"
     ]
    },
    {
     "name": "stdout",
     "output_type": "stream",
     "text": [
      "Transferred Data\n"
     ]
    },
    {
     "name": "stderr",
     "output_type": "stream",
     "text": [
      "Epoch 260/512 (Inner K-Epochs): 100%|██████████| 64/64 [00:05<00:00, 12.48it/s]\n",
      "Main Epoch (Outer Loop):  51%|█████     | 260/512 [1:44:15<21:59,  5.24s/it]"
     ]
    },
    {
     "name": "stdout",
     "output_type": "stream",
     "text": [
      "Transferred Data\n"
     ]
    },
    {
     "name": "stderr",
     "output_type": "stream",
     "text": [
      "Epoch 261/512 (Inner K-Epochs): 100%|██████████| 64/64 [00:05<00:00, 12.40it/s]\n",
      "Main Epoch (Outer Loop):  51%|█████     | 261/512 [1:44:21<21:55,  5.24s/it]"
     ]
    },
    {
     "name": "stdout",
     "output_type": "stream",
     "text": [
      "Transferred Data\n"
     ]
    },
    {
     "name": "stderr",
     "output_type": "stream",
     "text": [
      "Epoch 262/512 (Inner K-Epochs): 100%|██████████| 64/64 [00:05<00:00, 12.48it/s]\n",
      "Main Epoch (Outer Loop):  51%|█████     | 262/512 [1:44:26<21:48,  5.23s/it]"
     ]
    },
    {
     "name": "stdout",
     "output_type": "stream",
     "text": [
      "Transferred Data\n"
     ]
    },
    {
     "name": "stderr",
     "output_type": "stream",
     "text": [
      "Epoch 263/512 (Inner K-Epochs): 100%|██████████| 64/64 [00:05<00:00, 12.53it/s]\n",
      "Main Epoch (Outer Loop):  51%|█████▏    | 263/512 [1:44:31<21:39,  5.22s/it]"
     ]
    },
    {
     "name": "stdout",
     "output_type": "stream",
     "text": [
      "Transferred Data\n"
     ]
    },
    {
     "name": "stderr",
     "output_type": "stream",
     "text": [
      "Epoch 264/512 (Inner K-Epochs): 100%|██████████| 64/64 [00:05<00:00, 12.40it/s]\n",
      "Main Epoch (Outer Loop):  52%|█████▏    | 264/512 [1:44:36<21:36,  5.23s/it]"
     ]
    },
    {
     "name": "stdout",
     "output_type": "stream",
     "text": [
      "Transferred Data\n"
     ]
    },
    {
     "name": "stderr",
     "output_type": "stream",
     "text": [
      "Epoch 265/512 (Inner K-Epochs): 100%|██████████| 64/64 [00:05<00:00, 12.50it/s]\n",
      "Main Epoch (Outer Loop):  52%|█████▏    | 265/512 [1:44:41<21:29,  5.22s/it]"
     ]
    },
    {
     "name": "stdout",
     "output_type": "stream",
     "text": [
      "Transferred Data\n"
     ]
    },
    {
     "name": "stderr",
     "output_type": "stream",
     "text": [
      "Epoch 266/512 (Inner K-Epochs): 100%|██████████| 64/64 [00:05<00:00, 12.30it/s]\n",
      "Main Epoch (Outer Loop):  52%|█████▏    | 266/512 [1:44:47<21:29,  5.24s/it]"
     ]
    },
    {
     "name": "stdout",
     "output_type": "stream",
     "text": [
      "Transferred Data\n"
     ]
    },
    {
     "name": "stderr",
     "output_type": "stream",
     "text": [
      "Epoch 267/512 (Inner K-Epochs): 100%|██████████| 64/64 [00:05<00:00, 12.42it/s]\n",
      "Main Epoch (Outer Loop):  52%|█████▏    | 267/512 [1:44:52<21:24,  5.24s/it]"
     ]
    },
    {
     "name": "stdout",
     "output_type": "stream",
     "text": [
      "Transferred Data\n"
     ]
    },
    {
     "name": "stderr",
     "output_type": "stream",
     "text": [
      "Epoch 268/512 (Inner K-Epochs): 100%|██████████| 64/64 [00:05<00:00, 12.47it/s]\n",
      "Main Epoch (Outer Loop):  52%|█████▏    | 268/512 [1:44:57<21:17,  5.23s/it]"
     ]
    },
    {
     "name": "stdout",
     "output_type": "stream",
     "text": [
      "Transferred Data\n"
     ]
    },
    {
     "name": "stderr",
     "output_type": "stream",
     "text": [
      "Epoch 269/512 (Inner K-Epochs): 100%|██████████| 64/64 [00:05<00:00, 12.40it/s]\n",
      "Main Epoch (Outer Loop):  53%|█████▎    | 269/512 [1:45:02<21:12,  5.24s/it]"
     ]
    },
    {
     "name": "stdout",
     "output_type": "stream",
     "text": [
      "Transferred Data\n"
     ]
    },
    {
     "name": "stderr",
     "output_type": "stream",
     "text": [
      "Epoch 270/512 (Inner K-Epochs): 100%|██████████| 64/64 [00:05<00:00, 12.52it/s]\n",
      "Main Epoch (Outer Loop):  53%|█████▎    | 270/512 [1:45:08<21:04,  5.22s/it]"
     ]
    },
    {
     "name": "stdout",
     "output_type": "stream",
     "text": [
      "Transferred Data\n"
     ]
    },
    {
     "name": "stderr",
     "output_type": "stream",
     "text": [
      "Epoch 271/512 (Inner K-Epochs): 100%|██████████| 64/64 [00:05<00:00, 12.53it/s]\n",
      "Main Epoch (Outer Loop):  53%|█████▎    | 271/512 [1:45:13<20:56,  5.22s/it]"
     ]
    },
    {
     "name": "stdout",
     "output_type": "stream",
     "text": [
      "Transferred Data\n"
     ]
    },
    {
     "name": "stderr",
     "output_type": "stream",
     "text": [
      "Epoch 272/512 (Inner K-Epochs): 100%|██████████| 64/64 [00:05<00:00, 12.54it/s]\n",
      "Main Epoch (Outer Loop):  53%|█████▎    | 272/512 [1:45:18<20:50,  5.21s/it]"
     ]
    },
    {
     "name": "stdout",
     "output_type": "stream",
     "text": [
      "Transferred Data\n"
     ]
    },
    {
     "name": "stderr",
     "output_type": "stream",
     "text": [
      "Epoch 273/512 (Inner K-Epochs): 100%|██████████| 64/64 [00:05<00:00, 12.60it/s]\n",
      "Main Epoch (Outer Loop):  53%|█████▎    | 273/512 [1:45:23<20:42,  5.20s/it]"
     ]
    },
    {
     "name": "stdout",
     "output_type": "stream",
     "text": [
      "Transferred Data\n"
     ]
    },
    {
     "name": "stderr",
     "output_type": "stream",
     "text": [
      "Epoch 274/512 (Inner K-Epochs): 100%|██████████| 64/64 [00:05<00:00, 12.54it/s]\n",
      "Main Epoch (Outer Loop):  54%|█████▎    | 274/512 [1:45:28<20:36,  5.19s/it]"
     ]
    },
    {
     "name": "stdout",
     "output_type": "stream",
     "text": [
      "Transferred Data\n"
     ]
    },
    {
     "name": "stderr",
     "output_type": "stream",
     "text": [
      "Epoch 275/512 (Inner K-Epochs): 100%|██████████| 64/64 [00:05<00:00, 12.51it/s]\n",
      "Main Epoch (Outer Loop):  54%|█████▎    | 275/512 [1:45:34<20:31,  5.20s/it]"
     ]
    },
    {
     "name": "stdout",
     "output_type": "stream",
     "text": [
      "Transferred Data\n"
     ]
    },
    {
     "name": "stderr",
     "output_type": "stream",
     "text": [
      "Epoch 276/512 (Inner K-Epochs): 100%|██████████| 64/64 [00:05<00:00, 12.42it/s]\n",
      "Main Epoch (Outer Loop):  54%|█████▍    | 276/512 [1:45:39<20:29,  5.21s/it]"
     ]
    },
    {
     "name": "stdout",
     "output_type": "stream",
     "text": [
      "Transferred Data\n"
     ]
    },
    {
     "name": "stderr",
     "output_type": "stream",
     "text": [
      "Epoch 277/512 (Inner K-Epochs): 100%|██████████| 64/64 [00:05<00:00, 12.44it/s]\n",
      "Main Epoch (Outer Loop):  54%|█████▍    | 277/512 [1:45:44<20:25,  5.21s/it]"
     ]
    },
    {
     "name": "stdout",
     "output_type": "stream",
     "text": [
      "Transferred Data\n"
     ]
    },
    {
     "name": "stderr",
     "output_type": "stream",
     "text": [
      "Epoch 278/512 (Inner K-Epochs): 100%|██████████| 64/64 [00:05<00:00, 12.47it/s]\n",
      "Main Epoch (Outer Loop):  54%|█████▍    | 278/512 [1:45:49<20:20,  5.22s/it]"
     ]
    },
    {
     "name": "stdout",
     "output_type": "stream",
     "text": [
      "Transferred Data\n"
     ]
    },
    {
     "name": "stderr",
     "output_type": "stream",
     "text": [
      "Epoch 279/512 (Inner K-Epochs): 100%|██████████| 64/64 [00:05<00:00, 12.51it/s]\n",
      "Main Epoch (Outer Loop):  54%|█████▍    | 279/512 [1:45:54<20:14,  5.21s/it]"
     ]
    },
    {
     "name": "stdout",
     "output_type": "stream",
     "text": [
      "Transferred Data\n"
     ]
    },
    {
     "name": "stderr",
     "output_type": "stream",
     "text": [
      "Epoch 280/512 (Inner K-Epochs): 100%|██████████| 64/64 [00:05<00:00, 12.49it/s]\n",
      "Main Epoch (Outer Loop):  55%|█████▍    | 280/512 [1:46:00<20:08,  5.21s/it]"
     ]
    },
    {
     "name": "stdout",
     "output_type": "stream",
     "text": [
      "Transferred Data\n"
     ]
    },
    {
     "name": "stderr",
     "output_type": "stream",
     "text": [
      "Epoch 281/512 (Inner K-Epochs): 100%|██████████| 64/64 [00:05<00:00, 12.52it/s]\n",
      "Main Epoch (Outer Loop):  55%|█████▍    | 281/512 [1:46:05<20:02,  5.21s/it]"
     ]
    },
    {
     "name": "stdout",
     "output_type": "stream",
     "text": [
      "Transferred Data\n"
     ]
    },
    {
     "name": "stderr",
     "output_type": "stream",
     "text": [
      "Epoch 282/512 (Inner K-Epochs): 100%|██████████| 64/64 [00:05<00:00, 12.53it/s]\n",
      "Main Epoch (Outer Loop):  55%|█████▌    | 282/512 [1:46:10<19:56,  5.20s/it]"
     ]
    },
    {
     "name": "stdout",
     "output_type": "stream",
     "text": [
      "Transferred Data\n"
     ]
    },
    {
     "name": "stderr",
     "output_type": "stream",
     "text": [
      "Epoch 283/512 (Inner K-Epochs): 100%|██████████| 64/64 [00:05<00:00, 12.54it/s]\n",
      "Main Epoch (Outer Loop):  55%|█████▌    | 283/512 [1:46:15<19:50,  5.20s/it]"
     ]
    },
    {
     "name": "stdout",
     "output_type": "stream",
     "text": [
      "Transferred Data\n"
     ]
    },
    {
     "name": "stderr",
     "output_type": "stream",
     "text": [
      "Epoch 284/512 (Inner K-Epochs): 100%|██████████| 64/64 [00:05<00:00, 12.50it/s]\n",
      "Main Epoch (Outer Loop):  55%|█████▌    | 284/512 [1:46:20<19:45,  5.20s/it]"
     ]
    },
    {
     "name": "stdout",
     "output_type": "stream",
     "text": [
      "Transferred Data\n"
     ]
    },
    {
     "name": "stderr",
     "output_type": "stream",
     "text": [
      "Epoch 285/512 (Inner K-Epochs): 100%|██████████| 64/64 [00:05<00:00, 12.49it/s]\n",
      "Main Epoch (Outer Loop):  56%|█████▌    | 285/512 [1:46:26<19:40,  5.20s/it]"
     ]
    },
    {
     "name": "stdout",
     "output_type": "stream",
     "text": [
      "Transferred Data\n"
     ]
    },
    {
     "name": "stderr",
     "output_type": "stream",
     "text": [
      "Epoch 286/512 (Inner K-Epochs): 100%|██████████| 64/64 [00:05<00:00, 12.54it/s]\n",
      "Main Epoch (Outer Loop):  56%|█████▌    | 286/512 [1:46:31<19:34,  5.20s/it]"
     ]
    },
    {
     "name": "stdout",
     "output_type": "stream",
     "text": [
      "Transferred Data\n"
     ]
    },
    {
     "name": "stderr",
     "output_type": "stream",
     "text": [
      "Epoch 287/512 (Inner K-Epochs): 100%|██████████| 64/64 [00:05<00:00, 12.52it/s]\n",
      "Main Epoch (Outer Loop):  56%|█████▌    | 287/512 [1:46:36<19:29,  5.20s/it]"
     ]
    },
    {
     "name": "stdout",
     "output_type": "stream",
     "text": [
      "Transferred Data\n"
     ]
    },
    {
     "name": "stderr",
     "output_type": "stream",
     "text": [
      "Epoch 288/512 (Inner K-Epochs): 100%|██████████| 64/64 [00:05<00:00, 12.46it/s]\n",
      "Main Epoch (Outer Loop):  56%|█████▋    | 288/512 [1:46:41<19:25,  5.20s/it]"
     ]
    },
    {
     "name": "stdout",
     "output_type": "stream",
     "text": [
      "Transferred Data\n"
     ]
    },
    {
     "name": "stderr",
     "output_type": "stream",
     "text": [
      "Epoch 289/512 (Inner K-Epochs): 100%|██████████| 64/64 [00:05<00:00, 12.48it/s]\n",
      "Main Epoch (Outer Loop):  56%|█████▋    | 289/512 [1:46:46<19:20,  5.21s/it]"
     ]
    },
    {
     "name": "stdout",
     "output_type": "stream",
     "text": [
      "Transferred Data\n"
     ]
    },
    {
     "name": "stderr",
     "output_type": "stream",
     "text": [
      "Epoch 290/512 (Inner K-Epochs): 100%|██████████| 64/64 [00:05<00:00, 12.44it/s]\n",
      "Main Epoch (Outer Loop):  57%|█████▋    | 290/512 [1:46:52<19:16,  5.21s/it]"
     ]
    },
    {
     "name": "stdout",
     "output_type": "stream",
     "text": [
      "Transferred Data\n"
     ]
    },
    {
     "name": "stderr",
     "output_type": "stream",
     "text": [
      "Epoch 291/512 (Inner K-Epochs): 100%|██████████| 64/64 [00:05<00:00, 12.49it/s]\n",
      "Main Epoch (Outer Loop):  57%|█████▋    | 291/512 [1:46:57<19:11,  5.21s/it]"
     ]
    },
    {
     "name": "stdout",
     "output_type": "stream",
     "text": [
      "Transferred Data\n"
     ]
    },
    {
     "name": "stderr",
     "output_type": "stream",
     "text": [
      "Epoch 292/512 (Inner K-Epochs): 100%|██████████| 64/64 [00:05<00:00, 12.50it/s]\n",
      "Main Epoch (Outer Loop):  57%|█████▋    | 292/512 [1:47:02<19:05,  5.21s/it]"
     ]
    },
    {
     "name": "stdout",
     "output_type": "stream",
     "text": [
      "Transferred Data\n"
     ]
    },
    {
     "name": "stderr",
     "output_type": "stream",
     "text": [
      "Epoch 293/512 (Inner K-Epochs): 100%|██████████| 64/64 [00:05<00:00, 12.52it/s]\n",
      "Main Epoch (Outer Loop):  57%|█████▋    | 293/512 [1:47:07<18:59,  5.21s/it]"
     ]
    },
    {
     "name": "stdout",
     "output_type": "stream",
     "text": [
      "Transferred Data\n"
     ]
    },
    {
     "name": "stderr",
     "output_type": "stream",
     "text": [
      "Epoch 294/512 (Inner K-Epochs): 100%|██████████| 64/64 [00:05<00:00, 12.53it/s]\n",
      "Main Epoch (Outer Loop):  57%|█████▋    | 294/512 [1:47:12<18:54,  5.20s/it]"
     ]
    },
    {
     "name": "stdout",
     "output_type": "stream",
     "text": [
      "Transferred Data\n"
     ]
    },
    {
     "name": "stderr",
     "output_type": "stream",
     "text": [
      "Epoch 295/512 (Inner K-Epochs): 100%|██████████| 64/64 [00:05<00:00, 12.52it/s]\n",
      "Main Epoch (Outer Loop):  58%|█████▊    | 295/512 [1:47:18<18:48,  5.20s/it]"
     ]
    },
    {
     "name": "stdout",
     "output_type": "stream",
     "text": [
      "Transferred Data\n"
     ]
    },
    {
     "name": "stderr",
     "output_type": "stream",
     "text": [
      "Epoch 296/512 (Inner K-Epochs): 100%|██████████| 64/64 [00:05<00:00, 12.50it/s]\n",
      "Main Epoch (Outer Loop):  58%|█████▊    | 296/512 [1:47:23<18:43,  5.20s/it]"
     ]
    },
    {
     "name": "stdout",
     "output_type": "stream",
     "text": [
      "Transferred Data\n"
     ]
    },
    {
     "name": "stderr",
     "output_type": "stream",
     "text": [
      "Epoch 297/512 (Inner K-Epochs): 100%|██████████| 64/64 [00:05<00:00, 12.52it/s]\n",
      "Main Epoch (Outer Loop):  58%|█████▊    | 297/512 [1:47:28<18:38,  5.20s/it]"
     ]
    },
    {
     "name": "stdout",
     "output_type": "stream",
     "text": [
      "Transferred Data\n"
     ]
    },
    {
     "name": "stderr",
     "output_type": "stream",
     "text": [
      "Epoch 298/512 (Inner K-Epochs): 100%|██████████| 64/64 [00:05<00:00, 12.54it/s]\n",
      "Main Epoch (Outer Loop):  58%|█████▊    | 298/512 [1:47:33<18:32,  5.20s/it]"
     ]
    },
    {
     "name": "stdout",
     "output_type": "stream",
     "text": [
      "Transferred Data\n"
     ]
    },
    {
     "name": "stderr",
     "output_type": "stream",
     "text": [
      "Epoch 299/512 (Inner K-Epochs): 100%|██████████| 64/64 [00:05<00:00, 12.49it/s]\n",
      "Main Epoch (Outer Loop):  58%|█████▊    | 299/512 [1:47:38<18:27,  5.20s/it]"
     ]
    },
    {
     "name": "stdout",
     "output_type": "stream",
     "text": [
      "Transferred Data\n"
     ]
    },
    {
     "name": "stderr",
     "output_type": "stream",
     "text": [
      "Epoch 300/512 (Inner K-Epochs): 100%|██████████| 64/64 [00:05<00:00, 12.51it/s]\n",
      "Main Epoch (Outer Loop):  59%|█████▊    | 300/512 [1:47:44<18:22,  5.20s/it]"
     ]
    },
    {
     "name": "stdout",
     "output_type": "stream",
     "text": [
      "Transferred Data\n"
     ]
    },
    {
     "name": "stderr",
     "output_type": "stream",
     "text": [
      "Epoch 301/512 (Inner K-Epochs): 100%|██████████| 64/64 [00:05<00:00, 12.53it/s]\n",
      "Main Epoch (Outer Loop):  59%|█████▉    | 301/512 [1:47:49<18:17,  5.20s/it]"
     ]
    },
    {
     "name": "stdout",
     "output_type": "stream",
     "text": [
      "Transferred Data\n"
     ]
    },
    {
     "name": "stderr",
     "output_type": "stream",
     "text": [
      "Epoch 302/512 (Inner K-Epochs): 100%|██████████| 64/64 [00:05<00:00, 12.53it/s]\n",
      "Main Epoch (Outer Loop):  59%|█████▉    | 302/512 [1:47:54<18:11,  5.20s/it]"
     ]
    },
    {
     "name": "stdout",
     "output_type": "stream",
     "text": [
      "Transferred Data\n"
     ]
    },
    {
     "name": "stderr",
     "output_type": "stream",
     "text": [
      "Epoch 303/512 (Inner K-Epochs): 100%|██████████| 64/64 [00:05<00:00, 12.53it/s]\n",
      "Main Epoch (Outer Loop):  59%|█████▉    | 303/512 [1:47:59<18:06,  5.20s/it]"
     ]
    },
    {
     "name": "stdout",
     "output_type": "stream",
     "text": [
      "Transferred Data\n"
     ]
    },
    {
     "name": "stderr",
     "output_type": "stream",
     "text": [
      "Epoch 304/512 (Inner K-Epochs): 100%|██████████| 64/64 [00:05<00:00, 12.46it/s]\n",
      "Main Epoch (Outer Loop):  59%|█████▉    | 304/512 [1:48:04<18:02,  5.20s/it]"
     ]
    },
    {
     "name": "stdout",
     "output_type": "stream",
     "text": [
      "Transferred Data\n"
     ]
    },
    {
     "name": "stderr",
     "output_type": "stream",
     "text": [
      "Epoch 305/512 (Inner K-Epochs): 100%|██████████| 64/64 [00:05<00:00, 12.56it/s]\n",
      "Main Epoch (Outer Loop):  60%|█████▉    | 305/512 [1:48:10<17:56,  5.20s/it]"
     ]
    },
    {
     "name": "stdout",
     "output_type": "stream",
     "text": [
      "Transferred Data\n"
     ]
    },
    {
     "name": "stderr",
     "output_type": "stream",
     "text": [
      "Epoch 306/512 (Inner K-Epochs): 100%|██████████| 64/64 [00:05<00:00, 12.48it/s]\n",
      "Main Epoch (Outer Loop):  60%|█████▉    | 306/512 [1:48:15<17:51,  5.20s/it]"
     ]
    },
    {
     "name": "stdout",
     "output_type": "stream",
     "text": [
      "Transferred Data\n"
     ]
    },
    {
     "name": "stderr",
     "output_type": "stream",
     "text": [
      "Epoch 307/512 (Inner K-Epochs): 100%|██████████| 64/64 [00:05<00:00, 12.44it/s]\n",
      "Main Epoch (Outer Loop):  60%|█████▉    | 307/512 [1:48:20<17:48,  5.21s/it]"
     ]
    },
    {
     "name": "stdout",
     "output_type": "stream",
     "text": [
      "Transferred Data\n"
     ]
    },
    {
     "name": "stderr",
     "output_type": "stream",
     "text": [
      "Epoch 308/512 (Inner K-Epochs): 100%|██████████| 64/64 [00:05<00:00, 12.53it/s]\n",
      "Main Epoch (Outer Loop):  60%|██████    | 308/512 [1:48:25<17:42,  5.21s/it]"
     ]
    },
    {
     "name": "stdout",
     "output_type": "stream",
     "text": [
      "Transferred Data\n"
     ]
    },
    {
     "name": "stderr",
     "output_type": "stream",
     "text": [
      "Epoch 309/512 (Inner K-Epochs): 100%|██████████| 64/64 [00:05<00:00, 12.50it/s]\n",
      "Main Epoch (Outer Loop):  60%|██████    | 309/512 [1:48:30<17:36,  5.21s/it]"
     ]
    },
    {
     "name": "stdout",
     "output_type": "stream",
     "text": [
      "Transferred Data\n"
     ]
    },
    {
     "name": "stderr",
     "output_type": "stream",
     "text": [
      "Epoch 310/512 (Inner K-Epochs): 100%|██████████| 64/64 [00:05<00:00, 12.48it/s]\n",
      "Main Epoch (Outer Loop):  61%|██████    | 310/512 [1:48:36<17:31,  5.21s/it]"
     ]
    },
    {
     "name": "stdout",
     "output_type": "stream",
     "text": [
      "Transferred Data\n"
     ]
    },
    {
     "name": "stderr",
     "output_type": "stream",
     "text": [
      "Epoch 311/512 (Inner K-Epochs): 100%|██████████| 64/64 [00:05<00:00, 12.48it/s]\n",
      "Main Epoch (Outer Loop):  61%|██████    | 311/512 [1:48:41<17:26,  5.21s/it]"
     ]
    },
    {
     "name": "stdout",
     "output_type": "stream",
     "text": [
      "Transferred Data\n"
     ]
    },
    {
     "name": "stderr",
     "output_type": "stream",
     "text": [
      "Epoch 312/512 (Inner K-Epochs): 100%|██████████| 64/64 [00:05<00:00, 12.50it/s]\n",
      "Main Epoch (Outer Loop):  61%|██████    | 312/512 [1:48:46<17:21,  5.21s/it]"
     ]
    },
    {
     "name": "stdout",
     "output_type": "stream",
     "text": [
      "Transferred Data\n"
     ]
    },
    {
     "name": "stderr",
     "output_type": "stream",
     "text": [
      "Epoch 313/512 (Inner K-Epochs): 100%|██████████| 64/64 [00:05<00:00, 12.50it/s]\n",
      "Main Epoch (Outer Loop):  61%|██████    | 313/512 [1:48:51<17:16,  5.21s/it]"
     ]
    },
    {
     "name": "stdout",
     "output_type": "stream",
     "text": [
      "Transferred Data\n"
     ]
    },
    {
     "name": "stderr",
     "output_type": "stream",
     "text": [
      "Epoch 314/512 (Inner K-Epochs): 100%|██████████| 64/64 [00:05<00:00, 12.49it/s]\n",
      "Main Epoch (Outer Loop):  61%|██████▏   | 314/512 [1:48:57<17:10,  5.21s/it]"
     ]
    },
    {
     "name": "stdout",
     "output_type": "stream",
     "text": [
      "Transferred Data\n"
     ]
    },
    {
     "name": "stderr",
     "output_type": "stream",
     "text": [
      "Epoch 315/512 (Inner K-Epochs): 100%|██████████| 64/64 [00:05<00:00, 12.47it/s]\n",
      "Main Epoch (Outer Loop):  62%|██████▏   | 315/512 [1:49:02<17:06,  5.21s/it]"
     ]
    },
    {
     "name": "stdout",
     "output_type": "stream",
     "text": [
      "Transferred Data\n"
     ]
    },
    {
     "name": "stderr",
     "output_type": "stream",
     "text": [
      "Epoch 316/512 (Inner K-Epochs): 100%|██████████| 64/64 [00:05<00:00, 12.51it/s]\n",
      "Main Epoch (Outer Loop):  62%|██████▏   | 316/512 [1:49:07<17:00,  5.21s/it]"
     ]
    },
    {
     "name": "stdout",
     "output_type": "stream",
     "text": [
      "Transferred Data\n"
     ]
    },
    {
     "name": "stderr",
     "output_type": "stream",
     "text": [
      "Epoch 317/512 (Inner K-Epochs): 100%|██████████| 64/64 [00:05<00:00, 12.46it/s]\n",
      "Main Epoch (Outer Loop):  62%|██████▏   | 317/512 [1:49:12<16:55,  5.21s/it]"
     ]
    },
    {
     "name": "stdout",
     "output_type": "stream",
     "text": [
      "Transferred Data\n"
     ]
    },
    {
     "name": "stderr",
     "output_type": "stream",
     "text": [
      "Epoch 318/512 (Inner K-Epochs): 100%|██████████| 64/64 [00:05<00:00, 12.48it/s]\n",
      "Main Epoch (Outer Loop):  62%|██████▏   | 318/512 [1:49:17<16:49,  5.21s/it]"
     ]
    },
    {
     "name": "stdout",
     "output_type": "stream",
     "text": [
      "Transferred Data\n"
     ]
    },
    {
     "name": "stderr",
     "output_type": "stream",
     "text": [
      "Epoch 319/512 (Inner K-Epochs): 100%|██████████| 64/64 [00:05<00:00, 12.52it/s]\n",
      "Main Epoch (Outer Loop):  62%|██████▏   | 319/512 [1:49:23<16:44,  5.20s/it]"
     ]
    },
    {
     "name": "stdout",
     "output_type": "stream",
     "text": [
      "Transferred Data\n"
     ]
    },
    {
     "name": "stderr",
     "output_type": "stream",
     "text": [
      "Epoch 320/512 (Inner K-Epochs): 100%|██████████| 64/64 [00:05<00:00, 12.53it/s]\n",
      "Main Epoch (Outer Loop):  62%|██████▎   | 320/512 [1:49:28<16:48,  5.25s/it]"
     ]
    },
    {
     "name": "stdout",
     "output_type": "stream",
     "text": [
      "Epoch 320/512, Loss: 0.0000, Ratio: 1.00000, Entropy Term: 0.00000\n",
      "Epoch 320 | Entire Validation Dataset Accuracy: 0.5365| 103.0 / 192.0 samples\n",
      "Transferred Data\n"
     ]
    },
    {
     "name": "stderr",
     "output_type": "stream",
     "text": [
      "Epoch 321/512 (Inner K-Epochs): 100%|██████████| 64/64 [00:05<00:00, 12.32it/s]\n",
      "Main Epoch (Outer Loop):  63%|██████▎   | 321/512 [1:49:33<16:44,  5.26s/it]"
     ]
    },
    {
     "name": "stdout",
     "output_type": "stream",
     "text": [
      "Transferred Data\n"
     ]
    },
    {
     "name": "stderr",
     "output_type": "stream",
     "text": [
      "Epoch 322/512 (Inner K-Epochs): 100%|██████████| 64/64 [00:05<00:00, 12.57it/s]\n",
      "Main Epoch (Outer Loop):  63%|██████▎   | 322/512 [1:49:38<16:34,  5.24s/it]"
     ]
    },
    {
     "name": "stdout",
     "output_type": "stream",
     "text": [
      "Transferred Data\n"
     ]
    },
    {
     "name": "stderr",
     "output_type": "stream",
     "text": [
      "Epoch 323/512 (Inner K-Epochs): 100%|██████████| 64/64 [00:05<00:00, 12.50it/s]\n",
      "Main Epoch (Outer Loop):  63%|██████▎   | 323/512 [1:49:44<16:27,  5.23s/it]"
     ]
    },
    {
     "name": "stdout",
     "output_type": "stream",
     "text": [
      "Transferred Data\n"
     ]
    },
    {
     "name": "stderr",
     "output_type": "stream",
     "text": [
      "Epoch 324/512 (Inner K-Epochs): 100%|██████████| 64/64 [00:05<00:00, 12.47it/s]\n",
      "Main Epoch (Outer Loop):  63%|██████▎   | 324/512 [1:49:49<16:21,  5.22s/it]"
     ]
    },
    {
     "name": "stdout",
     "output_type": "stream",
     "text": [
      "Transferred Data\n"
     ]
    },
    {
     "name": "stderr",
     "output_type": "stream",
     "text": [
      "Epoch 325/512 (Inner K-Epochs): 100%|██████████| 64/64 [00:05<00:00, 12.50it/s]\n",
      "Main Epoch (Outer Loop):  63%|██████▎   | 325/512 [1:49:54<16:15,  5.22s/it]"
     ]
    },
    {
     "name": "stdout",
     "output_type": "stream",
     "text": [
      "Transferred Data\n"
     ]
    },
    {
     "name": "stderr",
     "output_type": "stream",
     "text": [
      "Epoch 326/512 (Inner K-Epochs): 100%|██████████| 64/64 [00:05<00:00, 12.48it/s]\n",
      "Main Epoch (Outer Loop):  64%|██████▎   | 326/512 [1:49:59<16:10,  5.22s/it]"
     ]
    },
    {
     "name": "stdout",
     "output_type": "stream",
     "text": [
      "Transferred Data\n"
     ]
    },
    {
     "name": "stderr",
     "output_type": "stream",
     "text": [
      "Epoch 327/512 (Inner K-Epochs): 100%|██████████| 64/64 [00:05<00:00, 12.44it/s]\n",
      "Main Epoch (Outer Loop):  64%|██████▍   | 327/512 [1:50:04<16:05,  5.22s/it]"
     ]
    },
    {
     "name": "stdout",
     "output_type": "stream",
     "text": [
      "Transferred Data\n"
     ]
    },
    {
     "name": "stderr",
     "output_type": "stream",
     "text": [
      "Epoch 328/512 (Inner K-Epochs): 100%|██████████| 64/64 [00:05<00:00, 12.47it/s]\n",
      "Main Epoch (Outer Loop):  64%|██████▍   | 328/512 [1:50:10<16:00,  5.22s/it]"
     ]
    },
    {
     "name": "stdout",
     "output_type": "stream",
     "text": [
      "Transferred Data\n"
     ]
    },
    {
     "name": "stderr",
     "output_type": "stream",
     "text": [
      "Epoch 329/512 (Inner K-Epochs): 100%|██████████| 64/64 [00:05<00:00, 12.47it/s]\n",
      "Main Epoch (Outer Loop):  64%|██████▍   | 329/512 [1:50:15<15:54,  5.21s/it]"
     ]
    },
    {
     "name": "stdout",
     "output_type": "stream",
     "text": [
      "Transferred Data\n"
     ]
    },
    {
     "name": "stderr",
     "output_type": "stream",
     "text": [
      "Epoch 330/512 (Inner K-Epochs): 100%|██████████| 64/64 [00:05<00:00, 12.52it/s]\n",
      "Main Epoch (Outer Loop):  64%|██████▍   | 330/512 [1:50:20<15:48,  5.21s/it]"
     ]
    },
    {
     "name": "stdout",
     "output_type": "stream",
     "text": [
      "Transferred Data\n"
     ]
    },
    {
     "name": "stderr",
     "output_type": "stream",
     "text": [
      "Epoch 331/512 (Inner K-Epochs): 100%|██████████| 64/64 [00:05<00:00, 12.48it/s]\n",
      "Main Epoch (Outer Loop):  65%|██████▍   | 331/512 [1:50:25<15:43,  5.21s/it]"
     ]
    },
    {
     "name": "stdout",
     "output_type": "stream",
     "text": [
      "Transferred Data\n"
     ]
    },
    {
     "name": "stderr",
     "output_type": "stream",
     "text": [
      "Epoch 332/512 (Inner K-Epochs): 100%|██████████| 64/64 [00:05<00:00, 12.51it/s]\n",
      "Main Epoch (Outer Loop):  65%|██████▍   | 332/512 [1:50:30<15:38,  5.21s/it]"
     ]
    },
    {
     "name": "stdout",
     "output_type": "stream",
     "text": [
      "Transferred Data\n"
     ]
    },
    {
     "name": "stderr",
     "output_type": "stream",
     "text": [
      "Epoch 333/512 (Inner K-Epochs): 100%|██████████| 64/64 [00:06<00:00, 10.11it/s]\n",
      "Main Epoch (Outer Loop):  65%|██████▌   | 333/512 [1:50:37<16:37,  5.57s/it]"
     ]
    },
    {
     "name": "stdout",
     "output_type": "stream",
     "text": [
      "Transferred Data\n"
     ]
    },
    {
     "name": "stderr",
     "output_type": "stream",
     "text": [
      "Epoch 334/512 (Inner K-Epochs): 100%|██████████| 64/64 [00:05<00:00, 12.48it/s]\n",
      "Main Epoch (Outer Loop):  65%|██████▌   | 334/512 [1:50:42<16:11,  5.46s/it]"
     ]
    },
    {
     "name": "stdout",
     "output_type": "stream",
     "text": [
      "Transferred Data\n"
     ]
    },
    {
     "name": "stderr",
     "output_type": "stream",
     "text": [
      "Epoch 335/512 (Inner K-Epochs): 100%|██████████| 64/64 [00:05<00:00, 12.47it/s]\n",
      "Main Epoch (Outer Loop):  65%|██████▌   | 335/512 [1:50:47<15:53,  5.39s/it]"
     ]
    },
    {
     "name": "stdout",
     "output_type": "stream",
     "text": [
      "Transferred Data\n"
     ]
    },
    {
     "name": "stderr",
     "output_type": "stream",
     "text": [
      "Epoch 336/512 (Inner K-Epochs): 100%|██████████| 64/64 [00:05<00:00, 12.46it/s]\n",
      "Main Epoch (Outer Loop):  66%|██████▌   | 336/512 [1:50:53<15:39,  5.34s/it]"
     ]
    },
    {
     "name": "stdout",
     "output_type": "stream",
     "text": [
      "Transferred Data\n"
     ]
    },
    {
     "name": "stderr",
     "output_type": "stream",
     "text": [
      "Epoch 337/512 (Inner K-Epochs): 100%|██████████| 64/64 [00:05<00:00, 12.46it/s]\n",
      "Main Epoch (Outer Loop):  66%|██████▌   | 337/512 [1:50:58<15:27,  5.30s/it]"
     ]
    },
    {
     "name": "stdout",
     "output_type": "stream",
     "text": [
      "Transferred Data\n"
     ]
    },
    {
     "name": "stderr",
     "output_type": "stream",
     "text": [
      "Epoch 338/512 (Inner K-Epochs): 100%|██████████| 64/64 [00:05<00:00, 12.47it/s]\n",
      "Main Epoch (Outer Loop):  66%|██████▌   | 338/512 [1:51:03<15:17,  5.27s/it]"
     ]
    },
    {
     "name": "stdout",
     "output_type": "stream",
     "text": [
      "Transferred Data\n"
     ]
    },
    {
     "name": "stderr",
     "output_type": "stream",
     "text": [
      "Epoch 339/512 (Inner K-Epochs): 100%|██████████| 64/64 [00:05<00:00, 12.41it/s]\n",
      "Main Epoch (Outer Loop):  66%|██████▌   | 339/512 [1:51:08<15:10,  5.26s/it]"
     ]
    },
    {
     "name": "stdout",
     "output_type": "stream",
     "text": [
      "Transferred Data\n"
     ]
    },
    {
     "name": "stderr",
     "output_type": "stream",
     "text": [
      "Epoch 340/512 (Inner K-Epochs): 100%|██████████| 64/64 [00:05<00:00, 12.40it/s]\n",
      "Main Epoch (Outer Loop):  66%|██████▋   | 340/512 [1:51:13<15:04,  5.26s/it]"
     ]
    },
    {
     "name": "stdout",
     "output_type": "stream",
     "text": [
      "Transferred Data\n"
     ]
    },
    {
     "name": "stderr",
     "output_type": "stream",
     "text": [
      "Epoch 341/512 (Inner K-Epochs): 100%|██████████| 64/64 [00:05<00:00, 12.38it/s]\n",
      "Main Epoch (Outer Loop):  67%|██████▋   | 341/512 [1:51:19<14:58,  5.26s/it]"
     ]
    },
    {
     "name": "stdout",
     "output_type": "stream",
     "text": [
      "Transferred Data\n"
     ]
    },
    {
     "name": "stderr",
     "output_type": "stream",
     "text": [
      "Epoch 342/512 (Inner K-Epochs): 100%|██████████| 64/64 [00:05<00:00, 12.36it/s]\n",
      "Main Epoch (Outer Loop):  67%|██████▋   | 342/512 [1:51:24<14:53,  5.26s/it]"
     ]
    },
    {
     "name": "stdout",
     "output_type": "stream",
     "text": [
      "Transferred Data\n"
     ]
    },
    {
     "name": "stderr",
     "output_type": "stream",
     "text": [
      "Epoch 343/512 (Inner K-Epochs): 100%|██████████| 64/64 [00:05<00:00, 12.34it/s]\n",
      "Main Epoch (Outer Loop):  67%|██████▋   | 343/512 [1:51:29<14:49,  5.26s/it]"
     ]
    },
    {
     "name": "stdout",
     "output_type": "stream",
     "text": [
      "Transferred Data\n"
     ]
    },
    {
     "name": "stderr",
     "output_type": "stream",
     "text": [
      "Epoch 344/512 (Inner K-Epochs): 100%|██████████| 64/64 [00:05<00:00, 12.41it/s]\n",
      "Main Epoch (Outer Loop):  67%|██████▋   | 344/512 [1:51:34<14:43,  5.26s/it]"
     ]
    },
    {
     "name": "stdout",
     "output_type": "stream",
     "text": [
      "Transferred Data\n"
     ]
    },
    {
     "name": "stderr",
     "output_type": "stream",
     "text": [
      "Epoch 345/512 (Inner K-Epochs): 100%|██████████| 64/64 [00:05<00:00, 12.35it/s]\n",
      "Main Epoch (Outer Loop):  67%|██████▋   | 345/512 [1:51:40<14:38,  5.26s/it]"
     ]
    },
    {
     "name": "stdout",
     "output_type": "stream",
     "text": [
      "Transferred Data\n"
     ]
    },
    {
     "name": "stderr",
     "output_type": "stream",
     "text": [
      "Epoch 346/512 (Inner K-Epochs): 100%|██████████| 64/64 [00:05<00:00, 12.44it/s]\n",
      "Main Epoch (Outer Loop):  68%|██████▊   | 346/512 [1:51:45<14:31,  5.25s/it]"
     ]
    },
    {
     "name": "stdout",
     "output_type": "stream",
     "text": [
      "Transferred Data\n"
     ]
    },
    {
     "name": "stderr",
     "output_type": "stream",
     "text": [
      "Epoch 347/512 (Inner K-Epochs): 100%|██████████| 64/64 [00:05<00:00, 12.40it/s]\n",
      "Main Epoch (Outer Loop):  68%|██████▊   | 347/512 [1:51:50<14:26,  5.25s/it]"
     ]
    },
    {
     "name": "stdout",
     "output_type": "stream",
     "text": [
      "Transferred Data\n"
     ]
    },
    {
     "name": "stderr",
     "output_type": "stream",
     "text": [
      "Epoch 348/512 (Inner K-Epochs): 100%|██████████| 64/64 [00:05<00:00, 12.40it/s]\n",
      "Main Epoch (Outer Loop):  68%|██████▊   | 348/512 [1:51:55<14:21,  5.25s/it]"
     ]
    },
    {
     "name": "stdout",
     "output_type": "stream",
     "text": [
      "Transferred Data\n"
     ]
    },
    {
     "name": "stderr",
     "output_type": "stream",
     "text": [
      "Epoch 349/512 (Inner K-Epochs): 100%|██████████| 64/64 [00:05<00:00, 12.45it/s]\n",
      "Main Epoch (Outer Loop):  68%|██████▊   | 349/512 [1:52:01<14:15,  5.25s/it]"
     ]
    },
    {
     "name": "stdout",
     "output_type": "stream",
     "text": [
      "Transferred Data\n"
     ]
    },
    {
     "name": "stderr",
     "output_type": "stream",
     "text": [
      "Epoch 350/512 (Inner K-Epochs): 100%|██████████| 64/64 [00:05<00:00, 12.35it/s]\n",
      "Main Epoch (Outer Loop):  68%|██████▊   | 350/512 [1:52:06<14:11,  5.26s/it]"
     ]
    },
    {
     "name": "stdout",
     "output_type": "stream",
     "text": [
      "Transferred Data\n"
     ]
    },
    {
     "name": "stderr",
     "output_type": "stream",
     "text": [
      "Epoch 351/512 (Inner K-Epochs): 100%|██████████| 64/64 [00:05<00:00, 12.41it/s]\n",
      "Main Epoch (Outer Loop):  69%|██████▊   | 351/512 [1:52:11<14:05,  5.25s/it]"
     ]
    },
    {
     "name": "stdout",
     "output_type": "stream",
     "text": [
      "Transferred Data\n"
     ]
    },
    {
     "name": "stderr",
     "output_type": "stream",
     "text": [
      "Epoch 352/512 (Inner K-Epochs): 100%|██████████| 64/64 [00:05<00:00, 12.35it/s]\n",
      "Main Epoch (Outer Loop):  69%|██████▉   | 352/512 [1:52:16<14:00,  5.26s/it]"
     ]
    },
    {
     "name": "stdout",
     "output_type": "stream",
     "text": [
      "Transferred Data\n"
     ]
    },
    {
     "name": "stderr",
     "output_type": "stream",
     "text": [
      "Epoch 353/512 (Inner K-Epochs): 100%|██████████| 64/64 [00:05<00:00, 12.39it/s]\n",
      "Main Epoch (Outer Loop):  69%|██████▉   | 353/512 [1:52:22<13:55,  5.25s/it]"
     ]
    },
    {
     "name": "stdout",
     "output_type": "stream",
     "text": [
      "Transferred Data\n"
     ]
    },
    {
     "name": "stderr",
     "output_type": "stream",
     "text": [
      "Epoch 354/512 (Inner K-Epochs): 100%|██████████| 64/64 [00:05<00:00, 12.39it/s]\n",
      "Main Epoch (Outer Loop):  69%|██████▉   | 354/512 [1:52:27<13:50,  5.25s/it]"
     ]
    },
    {
     "name": "stdout",
     "output_type": "stream",
     "text": [
      "Transferred Data\n"
     ]
    },
    {
     "name": "stderr",
     "output_type": "stream",
     "text": [
      "Epoch 355/512 (Inner K-Epochs): 100%|██████████| 64/64 [00:05<00:00, 12.37it/s]\n",
      "Main Epoch (Outer Loop):  69%|██████▉   | 355/512 [1:52:32<13:45,  5.26s/it]"
     ]
    },
    {
     "name": "stdout",
     "output_type": "stream",
     "text": [
      "Transferred Data\n"
     ]
    },
    {
     "name": "stderr",
     "output_type": "stream",
     "text": [
      "Epoch 356/512 (Inner K-Epochs): 100%|██████████| 64/64 [00:05<00:00, 12.43it/s]\n",
      "Main Epoch (Outer Loop):  70%|██████▉   | 356/512 [1:52:37<13:38,  5.25s/it]"
     ]
    },
    {
     "name": "stdout",
     "output_type": "stream",
     "text": [
      "Transferred Data\n"
     ]
    },
    {
     "name": "stderr",
     "output_type": "stream",
     "text": [
      "Epoch 357/512 (Inner K-Epochs): 100%|██████████| 64/64 [00:05<00:00, 12.37it/s]\n",
      "Main Epoch (Outer Loop):  70%|██████▉   | 357/512 [1:52:43<13:34,  5.25s/it]"
     ]
    },
    {
     "name": "stdout",
     "output_type": "stream",
     "text": [
      "Transferred Data\n"
     ]
    },
    {
     "name": "stderr",
     "output_type": "stream",
     "text": [
      "Epoch 358/512 (Inner K-Epochs): 100%|██████████| 64/64 [00:05<00:00, 12.45it/s]\n",
      "Main Epoch (Outer Loop):  70%|██████▉   | 358/512 [1:52:48<13:27,  5.25s/it]"
     ]
    },
    {
     "name": "stdout",
     "output_type": "stream",
     "text": [
      "Transferred Data\n"
     ]
    },
    {
     "name": "stderr",
     "output_type": "stream",
     "text": [
      "Epoch 359/512 (Inner K-Epochs): 100%|██████████| 64/64 [00:05<00:00, 12.33it/s]\n",
      "Main Epoch (Outer Loop):  70%|███████   | 359/512 [1:52:53<13:24,  5.26s/it]"
     ]
    },
    {
     "name": "stdout",
     "output_type": "stream",
     "text": [
      "Transferred Data\n"
     ]
    },
    {
     "name": "stderr",
     "output_type": "stream",
     "text": [
      "Epoch 360/512 (Inner K-Epochs): 100%|██████████| 64/64 [00:05<00:00, 12.42it/s]\n",
      "Main Epoch (Outer Loop):  70%|███████   | 360/512 [1:52:58<13:17,  5.25s/it]"
     ]
    },
    {
     "name": "stdout",
     "output_type": "stream",
     "text": [
      "Transferred Data\n"
     ]
    },
    {
     "name": "stderr",
     "output_type": "stream",
     "text": [
      "Epoch 361/512 (Inner K-Epochs): 100%|██████████| 64/64 [00:05<00:00, 12.43it/s]\n",
      "Main Epoch (Outer Loop):  71%|███████   | 361/512 [1:53:04<13:11,  5.24s/it]"
     ]
    },
    {
     "name": "stdout",
     "output_type": "stream",
     "text": [
      "Transferred Data\n"
     ]
    },
    {
     "name": "stderr",
     "output_type": "stream",
     "text": [
      "Epoch 362/512 (Inner K-Epochs): 100%|██████████| 64/64 [00:05<00:00, 12.34it/s]\n",
      "Main Epoch (Outer Loop):  71%|███████   | 362/512 [1:53:09<13:07,  5.25s/it]"
     ]
    },
    {
     "name": "stdout",
     "output_type": "stream",
     "text": [
      "Transferred Data\n"
     ]
    },
    {
     "name": "stderr",
     "output_type": "stream",
     "text": [
      "Epoch 363/512 (Inner K-Epochs): 100%|██████████| 64/64 [00:05<00:00, 12.37it/s]\n",
      "Main Epoch (Outer Loop):  71%|███████   | 363/512 [1:53:14<13:02,  5.25s/it]"
     ]
    },
    {
     "name": "stdout",
     "output_type": "stream",
     "text": [
      "Transferred Data\n"
     ]
    },
    {
     "name": "stderr",
     "output_type": "stream",
     "text": [
      "Epoch 364/512 (Inner K-Epochs): 100%|██████████| 64/64 [00:05<00:00, 12.41it/s]\n",
      "Main Epoch (Outer Loop):  71%|███████   | 364/512 [1:53:20<12:57,  5.25s/it]"
     ]
    },
    {
     "name": "stdout",
     "output_type": "stream",
     "text": [
      "Transferred Data\n"
     ]
    },
    {
     "name": "stderr",
     "output_type": "stream",
     "text": [
      "Epoch 365/512 (Inner K-Epochs): 100%|██████████| 64/64 [00:05<00:00, 12.34it/s]\n",
      "Main Epoch (Outer Loop):  71%|███████▏  | 365/512 [1:53:25<12:53,  5.26s/it]"
     ]
    },
    {
     "name": "stdout",
     "output_type": "stream",
     "text": [
      "Transferred Data\n"
     ]
    },
    {
     "name": "stderr",
     "output_type": "stream",
     "text": [
      "Epoch 366/512 (Inner K-Epochs): 100%|██████████| 64/64 [00:05<00:00, 12.39it/s]\n",
      "Main Epoch (Outer Loop):  71%|███████▏  | 366/512 [1:53:30<12:48,  5.26s/it]"
     ]
    },
    {
     "name": "stdout",
     "output_type": "stream",
     "text": [
      "Transferred Data\n"
     ]
    },
    {
     "name": "stderr",
     "output_type": "stream",
     "text": [
      "Epoch 367/512 (Inner K-Epochs): 100%|██████████| 64/64 [00:05<00:00, 12.39it/s]\n",
      "Main Epoch (Outer Loop):  72%|███████▏  | 367/512 [1:53:35<12:42,  5.26s/it]"
     ]
    },
    {
     "name": "stdout",
     "output_type": "stream",
     "text": [
      "Transferred Data\n"
     ]
    },
    {
     "name": "stderr",
     "output_type": "stream",
     "text": [
      "Epoch 368/512 (Inner K-Epochs): 100%|██████████| 64/64 [00:05<00:00, 12.37it/s]\n",
      "Main Epoch (Outer Loop):  72%|███████▏  | 368/512 [1:53:41<12:37,  5.26s/it]"
     ]
    },
    {
     "name": "stdout",
     "output_type": "stream",
     "text": [
      "Transferred Data\n"
     ]
    },
    {
     "name": "stderr",
     "output_type": "stream",
     "text": [
      "Epoch 369/512 (Inner K-Epochs): 100%|██████████| 64/64 [00:05<00:00, 12.35it/s]\n",
      "Main Epoch (Outer Loop):  72%|███████▏  | 369/512 [1:53:46<12:32,  5.26s/it]"
     ]
    },
    {
     "name": "stdout",
     "output_type": "stream",
     "text": [
      "Transferred Data\n"
     ]
    },
    {
     "name": "stderr",
     "output_type": "stream",
     "text": [
      "Epoch 370/512 (Inner K-Epochs): 100%|██████████| 64/64 [00:05<00:00, 12.40it/s]\n",
      "Main Epoch (Outer Loop):  72%|███████▏  | 370/512 [1:53:51<12:26,  5.26s/it]"
     ]
    },
    {
     "name": "stdout",
     "output_type": "stream",
     "text": [
      "Transferred Data\n"
     ]
    },
    {
     "name": "stderr",
     "output_type": "stream",
     "text": [
      "Epoch 371/512 (Inner K-Epochs): 100%|██████████| 64/64 [00:05<00:00, 12.40it/s]\n",
      "Main Epoch (Outer Loop):  72%|███████▏  | 371/512 [1:53:56<12:21,  5.26s/it]"
     ]
    },
    {
     "name": "stdout",
     "output_type": "stream",
     "text": [
      "Transferred Data\n"
     ]
    },
    {
     "name": "stderr",
     "output_type": "stream",
     "text": [
      "Epoch 372/512 (Inner K-Epochs): 100%|██████████| 64/64 [00:05<00:00, 12.33it/s]\n",
      "Main Epoch (Outer Loop):  73%|███████▎  | 372/512 [1:54:02<12:16,  5.26s/it]"
     ]
    },
    {
     "name": "stdout",
     "output_type": "stream",
     "text": [
      "Transferred Data\n"
     ]
    },
    {
     "name": "stderr",
     "output_type": "stream",
     "text": [
      "Epoch 373/512 (Inner K-Epochs): 100%|██████████| 64/64 [00:05<00:00, 12.41it/s]\n",
      "Main Epoch (Outer Loop):  73%|███████▎  | 373/512 [1:54:07<12:10,  5.25s/it]"
     ]
    },
    {
     "name": "stdout",
     "output_type": "stream",
     "text": [
      "Transferred Data\n"
     ]
    },
    {
     "name": "stderr",
     "output_type": "stream",
     "text": [
      "Epoch 374/512 (Inner K-Epochs): 100%|██████████| 64/64 [00:05<00:00, 12.34it/s]\n",
      "Main Epoch (Outer Loop):  73%|███████▎  | 374/512 [1:54:12<12:06,  5.26s/it]"
     ]
    },
    {
     "name": "stdout",
     "output_type": "stream",
     "text": [
      "Transferred Data\n"
     ]
    },
    {
     "name": "stderr",
     "output_type": "stream",
     "text": [
      "Epoch 375/512 (Inner K-Epochs): 100%|██████████| 64/64 [00:05<00:00, 12.38it/s]\n",
      "Main Epoch (Outer Loop):  73%|███████▎  | 375/512 [1:54:17<12:00,  5.26s/it]"
     ]
    },
    {
     "name": "stdout",
     "output_type": "stream",
     "text": [
      "Transferred Data\n"
     ]
    },
    {
     "name": "stderr",
     "output_type": "stream",
     "text": [
      "Epoch 376/512 (Inner K-Epochs): 100%|██████████| 64/64 [00:05<00:00, 12.39it/s]\n",
      "Main Epoch (Outer Loop):  73%|███████▎  | 376/512 [1:54:23<11:54,  5.26s/it]"
     ]
    },
    {
     "name": "stdout",
     "output_type": "stream",
     "text": [
      "Transferred Data\n"
     ]
    },
    {
     "name": "stderr",
     "output_type": "stream",
     "text": [
      "Epoch 377/512 (Inner K-Epochs): 100%|██████████| 64/64 [00:05<00:00, 12.40it/s]\n",
      "Main Epoch (Outer Loop):  74%|███████▎  | 377/512 [1:54:28<11:49,  5.26s/it]"
     ]
    },
    {
     "name": "stdout",
     "output_type": "stream",
     "text": [
      "Transferred Data\n"
     ]
    },
    {
     "name": "stderr",
     "output_type": "stream",
     "text": [
      "Epoch 378/512 (Inner K-Epochs): 100%|██████████| 64/64 [00:05<00:00, 12.37it/s]\n",
      "Main Epoch (Outer Loop):  74%|███████▍  | 378/512 [1:54:33<11:44,  5.26s/it]"
     ]
    },
    {
     "name": "stdout",
     "output_type": "stream",
     "text": [
      "Transferred Data\n"
     ]
    },
    {
     "name": "stderr",
     "output_type": "stream",
     "text": [
      "Epoch 379/512 (Inner K-Epochs): 100%|██████████| 64/64 [00:05<00:00, 12.36it/s]\n",
      "Main Epoch (Outer Loop):  74%|███████▍  | 379/512 [1:54:38<11:39,  5.26s/it]"
     ]
    },
    {
     "name": "stdout",
     "output_type": "stream",
     "text": [
      "Transferred Data\n"
     ]
    },
    {
     "name": "stderr",
     "output_type": "stream",
     "text": [
      "Epoch 380/512 (Inner K-Epochs): 100%|██████████| 64/64 [00:05<00:00, 12.36it/s]\n",
      "Main Epoch (Outer Loop):  74%|███████▍  | 380/512 [1:54:44<11:34,  5.26s/it]"
     ]
    },
    {
     "name": "stdout",
     "output_type": "stream",
     "text": [
      "Transferred Data\n"
     ]
    },
    {
     "name": "stderr",
     "output_type": "stream",
     "text": [
      "Epoch 381/512 (Inner K-Epochs): 100%|██████████| 64/64 [00:05<00:00, 12.34it/s]\n",
      "Main Epoch (Outer Loop):  74%|███████▍  | 381/512 [1:54:49<11:29,  5.26s/it]"
     ]
    },
    {
     "name": "stdout",
     "output_type": "stream",
     "text": [
      "Transferred Data\n"
     ]
    },
    {
     "name": "stderr",
     "output_type": "stream",
     "text": [
      "Epoch 382/512 (Inner K-Epochs): 100%|██████████| 64/64 [00:05<00:00, 12.38it/s]\n",
      "Main Epoch (Outer Loop):  75%|███████▍  | 382/512 [1:54:54<11:23,  5.26s/it]"
     ]
    },
    {
     "name": "stdout",
     "output_type": "stream",
     "text": [
      "Transferred Data\n"
     ]
    },
    {
     "name": "stderr",
     "output_type": "stream",
     "text": [
      "Epoch 383/512 (Inner K-Epochs): 100%|██████████| 64/64 [00:05<00:00, 12.46it/s]\n",
      "Main Epoch (Outer Loop):  75%|███████▍  | 383/512 [1:54:59<11:17,  5.25s/it]"
     ]
    },
    {
     "name": "stdout",
     "output_type": "stream",
     "text": [
      "Transferred Data\n"
     ]
    },
    {
     "name": "stderr",
     "output_type": "stream",
     "text": [
      "Epoch 384/512 (Inner K-Epochs): 100%|██████████| 64/64 [00:05<00:00, 12.36it/s]\n",
      "Main Epoch (Outer Loop):  75%|███████▌  | 384/512 [1:55:05<11:19,  5.31s/it]"
     ]
    },
    {
     "name": "stdout",
     "output_type": "stream",
     "text": [
      "Epoch 384/512, Loss: 0.0000, Ratio: 1.00000, Entropy Term: 0.00000\n",
      "Epoch 384 | Entire Validation Dataset Accuracy: 0.5365| 103.0 / 192.0 samples\n",
      "Transferred Data\n"
     ]
    },
    {
     "name": "stderr",
     "output_type": "stream",
     "text": [
      "Epoch 385/512 (Inner K-Epochs): 100%|██████████| 64/64 [00:05<00:00, 12.42it/s]\n",
      "Main Epoch (Outer Loop):  75%|███████▌  | 385/512 [1:55:10<11:11,  5.28s/it]"
     ]
    },
    {
     "name": "stdout",
     "output_type": "stream",
     "text": [
      "Transferred Data\n"
     ]
    },
    {
     "name": "stderr",
     "output_type": "stream",
     "text": [
      "Epoch 386/512 (Inner K-Epochs): 100%|██████████| 64/64 [00:05<00:00, 12.31it/s]\n",
      "Main Epoch (Outer Loop):  75%|███████▌  | 386/512 [1:55:15<11:05,  5.28s/it]"
     ]
    },
    {
     "name": "stdout",
     "output_type": "stream",
     "text": [
      "Transferred Data\n"
     ]
    },
    {
     "name": "stderr",
     "output_type": "stream",
     "text": [
      "Epoch 387/512 (Inner K-Epochs): 100%|██████████| 64/64 [00:05<00:00, 12.41it/s]\n",
      "Main Epoch (Outer Loop):  76%|███████▌  | 387/512 [1:55:21<10:59,  5.27s/it]"
     ]
    },
    {
     "name": "stdout",
     "output_type": "stream",
     "text": [
      "Transferred Data\n"
     ]
    },
    {
     "name": "stderr",
     "output_type": "stream",
     "text": [
      "Epoch 388/512 (Inner K-Epochs): 100%|██████████| 64/64 [00:05<00:00, 12.41it/s]\n",
      "Main Epoch (Outer Loop):  76%|███████▌  | 388/512 [1:55:26<10:52,  5.26s/it]"
     ]
    },
    {
     "name": "stdout",
     "output_type": "stream",
     "text": [
      "Transferred Data\n"
     ]
    },
    {
     "name": "stderr",
     "output_type": "stream",
     "text": [
      "Epoch 389/512 (Inner K-Epochs): 100%|██████████| 64/64 [00:05<00:00, 12.40it/s]\n",
      "Main Epoch (Outer Loop):  76%|███████▌  | 389/512 [1:55:31<10:46,  5.26s/it]"
     ]
    },
    {
     "name": "stdout",
     "output_type": "stream",
     "text": [
      "Transferred Data\n"
     ]
    },
    {
     "name": "stderr",
     "output_type": "stream",
     "text": [
      "Epoch 390/512 (Inner K-Epochs): 100%|██████████| 64/64 [00:05<00:00, 12.40it/s]\n",
      "Main Epoch (Outer Loop):  76%|███████▌  | 390/512 [1:55:36<10:41,  5.26s/it]"
     ]
    },
    {
     "name": "stdout",
     "output_type": "stream",
     "text": [
      "Transferred Data\n"
     ]
    },
    {
     "name": "stderr",
     "output_type": "stream",
     "text": [
      "Epoch 391/512 (Inner K-Epochs): 100%|██████████| 64/64 [00:05<00:00, 12.39it/s]\n",
      "Main Epoch (Outer Loop):  76%|███████▋  | 391/512 [1:55:42<10:36,  5.26s/it]"
     ]
    },
    {
     "name": "stdout",
     "output_type": "stream",
     "text": [
      "Transferred Data\n"
     ]
    },
    {
     "name": "stderr",
     "output_type": "stream",
     "text": [
      "Epoch 392/512 (Inner K-Epochs): 100%|██████████| 64/64 [00:05<00:00, 12.38it/s]\n",
      "Main Epoch (Outer Loop):  77%|███████▋  | 392/512 [1:55:47<10:30,  5.26s/it]"
     ]
    },
    {
     "name": "stdout",
     "output_type": "stream",
     "text": [
      "Transferred Data\n"
     ]
    },
    {
     "name": "stderr",
     "output_type": "stream",
     "text": [
      "Epoch 393/512 (Inner K-Epochs): 100%|██████████| 64/64 [00:05<00:00, 12.37it/s]\n",
      "Main Epoch (Outer Loop):  77%|███████▋  | 393/512 [1:55:52<10:25,  5.26s/it]"
     ]
    },
    {
     "name": "stdout",
     "output_type": "stream",
     "text": [
      "Transferred Data\n"
     ]
    },
    {
     "name": "stderr",
     "output_type": "stream",
     "text": [
      "Epoch 394/512 (Inner K-Epochs): 100%|██████████| 64/64 [00:05<00:00, 12.35it/s]\n",
      "Main Epoch (Outer Loop):  77%|███████▋  | 394/512 [1:55:57<10:20,  5.26s/it]"
     ]
    },
    {
     "name": "stdout",
     "output_type": "stream",
     "text": [
      "Transferred Data\n"
     ]
    },
    {
     "name": "stderr",
     "output_type": "stream",
     "text": [
      "Epoch 395/512 (Inner K-Epochs): 100%|██████████| 64/64 [00:05<00:00, 12.48it/s]\n",
      "Main Epoch (Outer Loop):  77%|███████▋  | 395/512 [1:56:03<10:13,  5.24s/it]"
     ]
    },
    {
     "name": "stdout",
     "output_type": "stream",
     "text": [
      "Transferred Data\n"
     ]
    },
    {
     "name": "stderr",
     "output_type": "stream",
     "text": [
      "Epoch 396/512 (Inner K-Epochs): 100%|██████████| 64/64 [00:05<00:00, 12.38it/s]\n",
      "Main Epoch (Outer Loop):  77%|███████▋  | 396/512 [1:56:08<10:08,  5.25s/it]"
     ]
    },
    {
     "name": "stdout",
     "output_type": "stream",
     "text": [
      "Transferred Data\n"
     ]
    },
    {
     "name": "stderr",
     "output_type": "stream",
     "text": [
      "Epoch 397/512 (Inner K-Epochs): 100%|██████████| 64/64 [00:05<00:00, 12.42it/s]\n",
      "Main Epoch (Outer Loop):  78%|███████▊  | 397/512 [1:56:13<10:03,  5.25s/it]"
     ]
    },
    {
     "name": "stdout",
     "output_type": "stream",
     "text": [
      "Transferred Data\n"
     ]
    },
    {
     "name": "stderr",
     "output_type": "stream",
     "text": [
      "Epoch 398/512 (Inner K-Epochs): 100%|██████████| 64/64 [00:05<00:00, 12.41it/s]\n",
      "Main Epoch (Outer Loop):  78%|███████▊  | 398/512 [1:56:18<09:57,  5.24s/it]"
     ]
    },
    {
     "name": "stdout",
     "output_type": "stream",
     "text": [
      "Transferred Data\n"
     ]
    },
    {
     "name": "stderr",
     "output_type": "stream",
     "text": [
      "Epoch 399/512 (Inner K-Epochs): 100%|██████████| 64/64 [00:05<00:00, 12.38it/s]\n",
      "Main Epoch (Outer Loop):  78%|███████▊  | 399/512 [1:56:24<09:52,  5.24s/it]"
     ]
    },
    {
     "name": "stdout",
     "output_type": "stream",
     "text": [
      "Transferred Data\n"
     ]
    },
    {
     "name": "stderr",
     "output_type": "stream",
     "text": [
      "Epoch 400/512 (Inner K-Epochs): 100%|██████████| 64/64 [00:05<00:00, 12.20it/s]\n",
      "Main Epoch (Outer Loop):  78%|███████▊  | 400/512 [1:56:29<09:50,  5.27s/it]"
     ]
    },
    {
     "name": "stdout",
     "output_type": "stream",
     "text": [
      "Transferred Data\n"
     ]
    },
    {
     "name": "stderr",
     "output_type": "stream",
     "text": [
      "Epoch 401/512 (Inner K-Epochs): 100%|██████████| 64/64 [00:04<00:00, 12.80it/s]\n",
      "Main Epoch (Outer Loop):  78%|███████▊  | 401/512 [1:56:34<09:38,  5.22s/it]"
     ]
    },
    {
     "name": "stdout",
     "output_type": "stream",
     "text": [
      "Transferred Data\n"
     ]
    },
    {
     "name": "stderr",
     "output_type": "stream",
     "text": [
      "Epoch 402/512 (Inner K-Epochs): 100%|██████████| 64/64 [00:04<00:00, 12.91it/s]\n",
      "Main Epoch (Outer Loop):  79%|███████▊  | 402/512 [1:56:39<09:27,  5.16s/it]"
     ]
    },
    {
     "name": "stdout",
     "output_type": "stream",
     "text": [
      "Transferred Data\n"
     ]
    },
    {
     "name": "stderr",
     "output_type": "stream",
     "text": [
      "Epoch 403/512 (Inner K-Epochs): 100%|██████████| 64/64 [00:04<00:00, 12.84it/s]\n",
      "Main Epoch (Outer Loop):  79%|███████▊  | 403/512 [1:56:44<09:19,  5.13s/it]"
     ]
    },
    {
     "name": "stdout",
     "output_type": "stream",
     "text": [
      "Transferred Data\n"
     ]
    },
    {
     "name": "stderr",
     "output_type": "stream",
     "text": [
      "Epoch 404/512 (Inner K-Epochs): 100%|██████████| 64/64 [00:05<00:00, 12.78it/s]\n",
      "Main Epoch (Outer Loop):  79%|███████▉  | 404/512 [1:56:49<09:13,  5.12s/it]"
     ]
    },
    {
     "name": "stdout",
     "output_type": "stream",
     "text": [
      "Transferred Data\n"
     ]
    },
    {
     "name": "stderr",
     "output_type": "stream",
     "text": [
      "Epoch 405/512 (Inner K-Epochs): 100%|██████████| 64/64 [00:04<00:00, 12.84it/s]\n",
      "Main Epoch (Outer Loop):  79%|███████▉  | 405/512 [1:56:54<09:06,  5.11s/it]"
     ]
    },
    {
     "name": "stdout",
     "output_type": "stream",
     "text": [
      "Transferred Data\n"
     ]
    },
    {
     "name": "stderr",
     "output_type": "stream",
     "text": [
      "Epoch 406/512 (Inner K-Epochs): 100%|██████████| 64/64 [00:04<00:00, 12.82it/s]\n",
      "Main Epoch (Outer Loop):  79%|███████▉  | 406/512 [1:56:59<09:00,  5.10s/it]"
     ]
    },
    {
     "name": "stdout",
     "output_type": "stream",
     "text": [
      "Transferred Data\n"
     ]
    },
    {
     "name": "stderr",
     "output_type": "stream",
     "text": [
      "Epoch 407/512 (Inner K-Epochs): 100%|██████████| 64/64 [00:04<00:00, 12.89it/s]\n",
      "Main Epoch (Outer Loop):  79%|███████▉  | 407/512 [1:57:04<08:53,  5.08s/it]"
     ]
    },
    {
     "name": "stdout",
     "output_type": "stream",
     "text": [
      "Transferred Data\n"
     ]
    },
    {
     "name": "stderr",
     "output_type": "stream",
     "text": [
      "Epoch 408/512 (Inner K-Epochs): 100%|██████████| 64/64 [00:05<00:00, 12.79it/s]\n",
      "Main Epoch (Outer Loop):  80%|███████▉  | 408/512 [1:57:09<08:48,  5.08s/it]"
     ]
    },
    {
     "name": "stdout",
     "output_type": "stream",
     "text": [
      "Transferred Data\n"
     ]
    },
    {
     "name": "stderr",
     "output_type": "stream",
     "text": [
      "Epoch 409/512 (Inner K-Epochs): 100%|██████████| 64/64 [00:04<00:00, 12.84it/s]\n",
      "Main Epoch (Outer Loop):  80%|███████▉  | 409/512 [1:57:15<08:43,  5.08s/it]"
     ]
    },
    {
     "name": "stdout",
     "output_type": "stream",
     "text": [
      "Transferred Data\n"
     ]
    },
    {
     "name": "stderr",
     "output_type": "stream",
     "text": [
      "Epoch 410/512 (Inner K-Epochs): 100%|██████████| 64/64 [00:04<00:00, 12.81it/s]\n",
      "Main Epoch (Outer Loop):  80%|████████  | 410/512 [1:57:20<08:37,  5.08s/it]"
     ]
    },
    {
     "name": "stdout",
     "output_type": "stream",
     "text": [
      "Transferred Data\n"
     ]
    },
    {
     "name": "stderr",
     "output_type": "stream",
     "text": [
      "Epoch 411/512 (Inner K-Epochs): 100%|██████████| 64/64 [00:04<00:00, 12.90it/s]\n",
      "Main Epoch (Outer Loop):  80%|████████  | 411/512 [1:57:25<08:31,  5.07s/it]"
     ]
    },
    {
     "name": "stdout",
     "output_type": "stream",
     "text": [
      "Transferred Data\n"
     ]
    },
    {
     "name": "stderr",
     "output_type": "stream",
     "text": [
      "Epoch 412/512 (Inner K-Epochs): 100%|██████████| 64/64 [00:04<00:00, 12.86it/s]\n",
      "Main Epoch (Outer Loop):  80%|████████  | 412/512 [1:57:30<08:26,  5.07s/it]"
     ]
    },
    {
     "name": "stdout",
     "output_type": "stream",
     "text": [
      "Transferred Data\n"
     ]
    },
    {
     "name": "stderr",
     "output_type": "stream",
     "text": [
      "Epoch 413/512 (Inner K-Epochs): 100%|██████████| 64/64 [00:05<00:00, 12.78it/s]\n",
      "Main Epoch (Outer Loop):  81%|████████  | 413/512 [1:57:35<08:22,  5.07s/it]"
     ]
    },
    {
     "name": "stdout",
     "output_type": "stream",
     "text": [
      "Transferred Data\n"
     ]
    },
    {
     "name": "stderr",
     "output_type": "stream",
     "text": [
      "Epoch 414/512 (Inner K-Epochs): 100%|██████████| 64/64 [00:04<00:00, 12.86it/s]\n",
      "Main Epoch (Outer Loop):  81%|████████  | 414/512 [1:57:40<08:16,  5.07s/it]"
     ]
    },
    {
     "name": "stdout",
     "output_type": "stream",
     "text": [
      "Transferred Data\n"
     ]
    },
    {
     "name": "stderr",
     "output_type": "stream",
     "text": [
      "Epoch 415/512 (Inner K-Epochs): 100%|██████████| 64/64 [00:04<00:00, 12.87it/s]\n",
      "Main Epoch (Outer Loop):  81%|████████  | 415/512 [1:57:45<08:11,  5.07s/it]"
     ]
    },
    {
     "name": "stdout",
     "output_type": "stream",
     "text": [
      "Transferred Data\n"
     ]
    },
    {
     "name": "stderr",
     "output_type": "stream",
     "text": [
      "Epoch 416/512 (Inner K-Epochs): 100%|██████████| 64/64 [00:04<00:00, 12.83it/s]\n",
      "Main Epoch (Outer Loop):  81%|████████▏ | 416/512 [1:57:50<08:06,  5.07s/it]"
     ]
    },
    {
     "name": "stdout",
     "output_type": "stream",
     "text": [
      "Transferred Data\n"
     ]
    },
    {
     "name": "stderr",
     "output_type": "stream",
     "text": [
      "Epoch 417/512 (Inner K-Epochs): 100%|██████████| 64/64 [00:04<00:00, 12.92it/s]\n",
      "Main Epoch (Outer Loop):  81%|████████▏ | 417/512 [1:57:55<08:00,  5.06s/it]"
     ]
    },
    {
     "name": "stdout",
     "output_type": "stream",
     "text": [
      "Transferred Data\n"
     ]
    },
    {
     "name": "stderr",
     "output_type": "stream",
     "text": [
      "Epoch 418/512 (Inner K-Epochs): 100%|██████████| 64/64 [00:04<00:00, 12.84it/s]\n",
      "Main Epoch (Outer Loop):  82%|████████▏ | 418/512 [1:58:00<07:55,  5.06s/it]"
     ]
    },
    {
     "name": "stdout",
     "output_type": "stream",
     "text": [
      "Transferred Data\n"
     ]
    },
    {
     "name": "stderr",
     "output_type": "stream",
     "text": [
      "Epoch 419/512 (Inner K-Epochs): 100%|██████████| 64/64 [00:05<00:00, 12.77it/s]\n",
      "Main Epoch (Outer Loop):  82%|████████▏ | 419/512 [1:58:05<07:51,  5.07s/it]"
     ]
    },
    {
     "name": "stdout",
     "output_type": "stream",
     "text": [
      "Transferred Data\n"
     ]
    },
    {
     "name": "stderr",
     "output_type": "stream",
     "text": [
      "Epoch 420/512 (Inner K-Epochs): 100%|██████████| 64/64 [00:05<00:00, 12.78it/s]\n",
      "Main Epoch (Outer Loop):  82%|████████▏ | 420/512 [1:58:10<07:47,  5.08s/it]"
     ]
    },
    {
     "name": "stdout",
     "output_type": "stream",
     "text": [
      "Transferred Data\n"
     ]
    },
    {
     "name": "stderr",
     "output_type": "stream",
     "text": [
      "Epoch 421/512 (Inner K-Epochs): 100%|██████████| 64/64 [00:04<00:00, 12.82it/s]\n",
      "Main Epoch (Outer Loop):  82%|████████▏ | 421/512 [1:58:15<07:42,  5.08s/it]"
     ]
    },
    {
     "name": "stdout",
     "output_type": "stream",
     "text": [
      "Transferred Data\n"
     ]
    },
    {
     "name": "stderr",
     "output_type": "stream",
     "text": [
      "Epoch 422/512 (Inner K-Epochs): 100%|██████████| 64/64 [00:04<00:00, 12.89it/s]\n",
      "Main Epoch (Outer Loop):  82%|████████▏ | 422/512 [1:58:20<07:36,  5.07s/it]"
     ]
    },
    {
     "name": "stdout",
     "output_type": "stream",
     "text": [
      "Transferred Data\n"
     ]
    },
    {
     "name": "stderr",
     "output_type": "stream",
     "text": [
      "Epoch 423/512 (Inner K-Epochs): 100%|██████████| 64/64 [00:04<00:00, 12.89it/s]\n",
      "Main Epoch (Outer Loop):  83%|████████▎ | 423/512 [1:58:25<07:30,  5.06s/it]"
     ]
    },
    {
     "name": "stdout",
     "output_type": "stream",
     "text": [
      "Transferred Data\n"
     ]
    },
    {
     "name": "stderr",
     "output_type": "stream",
     "text": [
      "Epoch 424/512 (Inner K-Epochs): 100%|██████████| 64/64 [00:05<00:00, 12.76it/s]\n",
      "Main Epoch (Outer Loop):  83%|████████▎ | 424/512 [1:58:31<07:26,  5.07s/it]"
     ]
    },
    {
     "name": "stdout",
     "output_type": "stream",
     "text": [
      "Transferred Data\n"
     ]
    },
    {
     "name": "stderr",
     "output_type": "stream",
     "text": [
      "Epoch 425/512 (Inner K-Epochs): 100%|██████████| 64/64 [00:04<00:00, 12.86it/s]\n",
      "Main Epoch (Outer Loop):  83%|████████▎ | 425/512 [1:58:36<07:21,  5.07s/it]"
     ]
    },
    {
     "name": "stdout",
     "output_type": "stream",
     "text": [
      "Transferred Data\n"
     ]
    },
    {
     "name": "stderr",
     "output_type": "stream",
     "text": [
      "Epoch 426/512 (Inner K-Epochs): 100%|██████████| 64/64 [00:04<00:00, 12.83it/s]\n",
      "Main Epoch (Outer Loop):  83%|████████▎ | 426/512 [1:58:41<07:16,  5.07s/it]"
     ]
    },
    {
     "name": "stdout",
     "output_type": "stream",
     "text": [
      "Transferred Data\n"
     ]
    },
    {
     "name": "stderr",
     "output_type": "stream",
     "text": [
      "Epoch 427/512 (Inner K-Epochs): 100%|██████████| 64/64 [00:04<00:00, 12.82it/s]\n",
      "Main Epoch (Outer Loop):  83%|████████▎ | 427/512 [1:58:46<07:11,  5.07s/it]"
     ]
    },
    {
     "name": "stdout",
     "output_type": "stream",
     "text": [
      "Transferred Data\n"
     ]
    },
    {
     "name": "stderr",
     "output_type": "stream",
     "text": [
      "Epoch 428/512 (Inner K-Epochs): 100%|██████████| 64/64 [00:04<00:00, 12.81it/s]\n",
      "Main Epoch (Outer Loop):  84%|████████▎ | 428/512 [1:58:51<07:06,  5.07s/it]"
     ]
    },
    {
     "name": "stdout",
     "output_type": "stream",
     "text": [
      "Transferred Data\n"
     ]
    },
    {
     "name": "stderr",
     "output_type": "stream",
     "text": [
      "Epoch 429/512 (Inner K-Epochs): 100%|██████████| 64/64 [00:05<00:00, 12.74it/s]\n",
      "Main Epoch (Outer Loop):  84%|████████▍ | 429/512 [1:58:56<07:02,  5.08s/it]"
     ]
    },
    {
     "name": "stdout",
     "output_type": "stream",
     "text": [
      "Transferred Data\n"
     ]
    },
    {
     "name": "stderr",
     "output_type": "stream",
     "text": [
      "Epoch 430/512 (Inner K-Epochs): 100%|██████████| 64/64 [00:04<00:00, 12.88it/s]\n",
      "Main Epoch (Outer Loop):  84%|████████▍ | 430/512 [1:59:01<06:56,  5.07s/it]"
     ]
    },
    {
     "name": "stdout",
     "output_type": "stream",
     "text": [
      "Transferred Data\n"
     ]
    },
    {
     "name": "stderr",
     "output_type": "stream",
     "text": [
      "Epoch 431/512 (Inner K-Epochs): 100%|██████████| 64/64 [00:05<00:00, 12.71it/s]\n",
      "Main Epoch (Outer Loop):  84%|████████▍ | 431/512 [1:59:06<06:52,  5.09s/it]"
     ]
    },
    {
     "name": "stdout",
     "output_type": "stream",
     "text": [
      "Transferred Data\n"
     ]
    },
    {
     "name": "stderr",
     "output_type": "stream",
     "text": [
      "Epoch 432/512 (Inner K-Epochs): 100%|██████████| 64/64 [00:05<00:00, 12.79it/s]\n",
      "Main Epoch (Outer Loop):  84%|████████▍ | 432/512 [1:59:11<06:46,  5.09s/it]"
     ]
    },
    {
     "name": "stdout",
     "output_type": "stream",
     "text": [
      "Transferred Data\n"
     ]
    },
    {
     "name": "stderr",
     "output_type": "stream",
     "text": [
      "Epoch 433/512 (Inner K-Epochs): 100%|██████████| 64/64 [00:04<00:00, 12.83it/s]\n",
      "Main Epoch (Outer Loop):  85%|████████▍ | 433/512 [1:59:16<06:41,  5.08s/it]"
     ]
    },
    {
     "name": "stdout",
     "output_type": "stream",
     "text": [
      "Transferred Data\n"
     ]
    },
    {
     "name": "stderr",
     "output_type": "stream",
     "text": [
      "Epoch 434/512 (Inner K-Epochs): 100%|██████████| 64/64 [00:05<00:00, 12.78it/s]\n",
      "Main Epoch (Outer Loop):  85%|████████▍ | 434/512 [1:59:21<06:36,  5.09s/it]"
     ]
    },
    {
     "name": "stdout",
     "output_type": "stream",
     "text": [
      "Transferred Data\n"
     ]
    },
    {
     "name": "stderr",
     "output_type": "stream",
     "text": [
      "Epoch 435/512 (Inner K-Epochs): 100%|██████████| 64/64 [00:05<00:00, 12.77it/s]\n",
      "Main Epoch (Outer Loop):  85%|████████▍ | 435/512 [1:59:26<06:31,  5.09s/it]"
     ]
    },
    {
     "name": "stdout",
     "output_type": "stream",
     "text": [
      "Transferred Data\n"
     ]
    },
    {
     "name": "stderr",
     "output_type": "stream",
     "text": [
      "Epoch 436/512 (Inner K-Epochs): 100%|██████████| 64/64 [00:04<00:00, 12.84it/s]\n",
      "Main Epoch (Outer Loop):  85%|████████▌ | 436/512 [1:59:32<06:26,  5.08s/it]"
     ]
    },
    {
     "name": "stdout",
     "output_type": "stream",
     "text": [
      "Transferred Data\n"
     ]
    },
    {
     "name": "stderr",
     "output_type": "stream",
     "text": [
      "Epoch 437/512 (Inner K-Epochs): 100%|██████████| 64/64 [00:04<00:00, 12.83it/s]\n",
      "Main Epoch (Outer Loop):  85%|████████▌ | 437/512 [1:59:37<06:21,  5.08s/it]"
     ]
    },
    {
     "name": "stdout",
     "output_type": "stream",
     "text": [
      "Transferred Data\n"
     ]
    },
    {
     "name": "stderr",
     "output_type": "stream",
     "text": [
      "Epoch 438/512 (Inner K-Epochs): 100%|██████████| 64/64 [00:04<00:00, 12.88it/s]\n",
      "Main Epoch (Outer Loop):  86%|████████▌ | 438/512 [1:59:42<06:15,  5.07s/it]"
     ]
    },
    {
     "name": "stdout",
     "output_type": "stream",
     "text": [
      "Transferred Data\n"
     ]
    },
    {
     "name": "stderr",
     "output_type": "stream",
     "text": [
      "Epoch 439/512 (Inner K-Epochs): 100%|██████████| 64/64 [00:04<00:00, 12.85it/s]\n",
      "Main Epoch (Outer Loop):  86%|████████▌ | 439/512 [1:59:47<06:10,  5.07s/it]"
     ]
    },
    {
     "name": "stdout",
     "output_type": "stream",
     "text": [
      "Transferred Data\n"
     ]
    },
    {
     "name": "stderr",
     "output_type": "stream",
     "text": [
      "Epoch 440/512 (Inner K-Epochs): 100%|██████████| 64/64 [00:04<00:00, 12.84it/s]\n",
      "Main Epoch (Outer Loop):  86%|████████▌ | 440/512 [1:59:52<06:04,  5.07s/it]"
     ]
    },
    {
     "name": "stdout",
     "output_type": "stream",
     "text": [
      "Transferred Data\n"
     ]
    },
    {
     "name": "stderr",
     "output_type": "stream",
     "text": [
      "Epoch 441/512 (Inner K-Epochs): 100%|██████████| 64/64 [00:04<00:00, 12.84it/s]\n",
      "Main Epoch (Outer Loop):  86%|████████▌ | 441/512 [1:59:57<05:59,  5.07s/it]"
     ]
    },
    {
     "name": "stdout",
     "output_type": "stream",
     "text": [
      "Transferred Data\n"
     ]
    },
    {
     "name": "stderr",
     "output_type": "stream",
     "text": [
      "Epoch 442/512 (Inner K-Epochs): 100%|██████████| 64/64 [00:04<00:00, 12.82it/s]\n",
      "Main Epoch (Outer Loop):  86%|████████▋ | 442/512 [2:00:02<05:54,  5.07s/it]"
     ]
    },
    {
     "name": "stdout",
     "output_type": "stream",
     "text": [
      "Transferred Data\n"
     ]
    },
    {
     "name": "stderr",
     "output_type": "stream",
     "text": [
      "Epoch 443/512 (Inner K-Epochs): 100%|██████████| 64/64 [00:04<00:00, 12.81it/s]\n",
      "Main Epoch (Outer Loop):  87%|████████▋ | 443/512 [2:00:07<05:50,  5.07s/it]"
     ]
    },
    {
     "name": "stdout",
     "output_type": "stream",
     "text": [
      "Transferred Data\n"
     ]
    },
    {
     "name": "stderr",
     "output_type": "stream",
     "text": [
      "Epoch 444/512 (Inner K-Epochs): 100%|██████████| 64/64 [00:05<00:00, 12.80it/s]\n",
      "Main Epoch (Outer Loop):  87%|████████▋ | 444/512 [2:00:12<05:45,  5.08s/it]"
     ]
    },
    {
     "name": "stdout",
     "output_type": "stream",
     "text": [
      "Transferred Data\n"
     ]
    },
    {
     "name": "stderr",
     "output_type": "stream",
     "text": [
      "Epoch 445/512 (Inner K-Epochs): 100%|██████████| 64/64 [00:04<00:00, 12.88it/s]\n",
      "Main Epoch (Outer Loop):  87%|████████▋ | 445/512 [2:00:17<05:39,  5.07s/it]"
     ]
    },
    {
     "name": "stdout",
     "output_type": "stream",
     "text": [
      "Transferred Data\n"
     ]
    },
    {
     "name": "stderr",
     "output_type": "stream",
     "text": [
      "Epoch 446/512 (Inner K-Epochs): 100%|██████████| 64/64 [00:04<00:00, 12.83it/s]\n",
      "Main Epoch (Outer Loop):  87%|████████▋ | 446/512 [2:00:22<05:34,  5.07s/it]"
     ]
    },
    {
     "name": "stdout",
     "output_type": "stream",
     "text": [
      "Transferred Data\n"
     ]
    },
    {
     "name": "stderr",
     "output_type": "stream",
     "text": [
      "Epoch 447/512 (Inner K-Epochs): 100%|██████████| 64/64 [00:04<00:00, 12.85it/s]\n",
      "Main Epoch (Outer Loop):  87%|████████▋ | 447/512 [2:00:27<05:29,  5.07s/it]"
     ]
    },
    {
     "name": "stdout",
     "output_type": "stream",
     "text": [
      "Transferred Data\n"
     ]
    },
    {
     "name": "stderr",
     "output_type": "stream",
     "text": [
      "Epoch 448/512 (Inner K-Epochs): 100%|██████████| 64/64 [00:04<00:00, 12.87it/s]\n",
      "Main Epoch (Outer Loop):  88%|████████▊ | 448/512 [2:00:33<05:27,  5.12s/it]"
     ]
    },
    {
     "name": "stdout",
     "output_type": "stream",
     "text": [
      "Epoch 448/512, Loss: 0.0000, Ratio: 1.00000, Entropy Term: 0.00000\n",
      "Epoch 448 | Entire Validation Dataset Accuracy: 0.5365| 103.0 / 192.0 samples\n",
      "Transferred Data\n"
     ]
    },
    {
     "name": "stderr",
     "output_type": "stream",
     "text": [
      "Epoch 449/512 (Inner K-Epochs): 100%|██████████| 64/64 [00:04<00:00, 12.83it/s]\n",
      "Main Epoch (Outer Loop):  88%|████████▊ | 449/512 [2:00:38<05:21,  5.10s/it]"
     ]
    },
    {
     "name": "stdout",
     "output_type": "stream",
     "text": [
      "Transferred Data\n"
     ]
    },
    {
     "name": "stderr",
     "output_type": "stream",
     "text": [
      "Epoch 450/512 (Inner K-Epochs): 100%|██████████| 64/64 [00:04<00:00, 12.84it/s]\n",
      "Main Epoch (Outer Loop):  88%|████████▊ | 450/512 [2:00:43<05:15,  5.09s/it]"
     ]
    },
    {
     "name": "stdout",
     "output_type": "stream",
     "text": [
      "Transferred Data\n"
     ]
    },
    {
     "name": "stderr",
     "output_type": "stream",
     "text": [
      "Epoch 451/512 (Inner K-Epochs): 100%|██████████| 64/64 [00:04<00:00, 12.83it/s]\n",
      "Main Epoch (Outer Loop):  88%|████████▊ | 451/512 [2:00:48<05:10,  5.09s/it]"
     ]
    },
    {
     "name": "stdout",
     "output_type": "stream",
     "text": [
      "Transferred Data\n"
     ]
    },
    {
     "name": "stderr",
     "output_type": "stream",
     "text": [
      "Epoch 452/512 (Inner K-Epochs): 100%|██████████| 64/64 [00:04<00:00, 12.81it/s]\n",
      "Main Epoch (Outer Loop):  88%|████████▊ | 452/512 [2:00:53<05:05,  5.09s/it]"
     ]
    },
    {
     "name": "stdout",
     "output_type": "stream",
     "text": [
      "Transferred Data\n"
     ]
    },
    {
     "name": "stderr",
     "output_type": "stream",
     "text": [
      "Epoch 453/512 (Inner K-Epochs): 100%|██████████| 64/64 [00:05<00:00, 12.79it/s]\n",
      "Main Epoch (Outer Loop):  88%|████████▊ | 453/512 [2:00:58<05:00,  5.09s/it]"
     ]
    },
    {
     "name": "stdout",
     "output_type": "stream",
     "text": [
      "Transferred Data\n"
     ]
    },
    {
     "name": "stderr",
     "output_type": "stream",
     "text": [
      "Epoch 454/512 (Inner K-Epochs): 100%|██████████| 64/64 [00:05<00:00, 11.95it/s]\n",
      "Main Epoch (Outer Loop):  89%|████████▊ | 454/512 [2:01:03<05:01,  5.19s/it]"
     ]
    },
    {
     "name": "stdout",
     "output_type": "stream",
     "text": [
      "Transferred Data\n"
     ]
    },
    {
     "name": "stderr",
     "output_type": "stream",
     "text": [
      "Epoch 455/512 (Inner K-Epochs): 100%|██████████| 64/64 [00:05<00:00, 10.96it/s]\n",
      "Main Epoch (Outer Loop):  89%|████████▉ | 455/512 [2:01:09<05:08,  5.41s/it]"
     ]
    },
    {
     "name": "stdout",
     "output_type": "stream",
     "text": [
      "Transferred Data\n"
     ]
    },
    {
     "name": "stderr",
     "output_type": "stream",
     "text": [
      "Epoch 456/512 (Inner K-Epochs): 100%|██████████| 64/64 [00:07<00:00,  9.06it/s]\n",
      "Main Epoch (Outer Loop):  89%|████████▉ | 456/512 [2:01:16<05:32,  5.93s/it]"
     ]
    },
    {
     "name": "stdout",
     "output_type": "stream",
     "text": [
      "Transferred Data\n"
     ]
    },
    {
     "name": "stderr",
     "output_type": "stream",
     "text": [
      "Epoch 457/512 (Inner K-Epochs): 100%|██████████| 64/64 [00:05<00:00, 12.25it/s]\n",
      "Main Epoch (Outer Loop):  89%|████████▉ | 457/512 [2:01:22<05:16,  5.75s/it]"
     ]
    },
    {
     "name": "stdout",
     "output_type": "stream",
     "text": [
      "Transferred Data\n"
     ]
    },
    {
     "name": "stderr",
     "output_type": "stream",
     "text": [
      "Epoch 458/512 (Inner K-Epochs): 100%|██████████| 64/64 [00:05<00:00, 12.58it/s]\n",
      "Main Epoch (Outer Loop):  89%|████████▉ | 458/512 [2:01:27<05:01,  5.58s/it]"
     ]
    },
    {
     "name": "stdout",
     "output_type": "stream",
     "text": [
      "Transferred Data\n"
     ]
    },
    {
     "name": "stderr",
     "output_type": "stream",
     "text": [
      "Epoch 459/512 (Inner K-Epochs): 100%|██████████| 64/64 [00:05<00:00, 12.51it/s]\n",
      "Main Epoch (Outer Loop):  90%|████████▉ | 459/512 [2:01:32<04:49,  5.46s/it]"
     ]
    },
    {
     "name": "stdout",
     "output_type": "stream",
     "text": [
      "Transferred Data\n"
     ]
    },
    {
     "name": "stderr",
     "output_type": "stream",
     "text": [
      "Epoch 460/512 (Inner K-Epochs): 100%|██████████| 64/64 [00:05<00:00, 12.56it/s]\n",
      "Main Epoch (Outer Loop):  90%|████████▉ | 460/512 [2:01:37<04:39,  5.38s/it]"
     ]
    },
    {
     "name": "stdout",
     "output_type": "stream",
     "text": [
      "Transferred Data\n"
     ]
    },
    {
     "name": "stderr",
     "output_type": "stream",
     "text": [
      "Epoch 461/512 (Inner K-Epochs): 100%|██████████| 64/64 [00:05<00:00, 12.46it/s]\n",
      "Main Epoch (Outer Loop):  90%|█████████ | 461/512 [2:01:43<04:31,  5.33s/it]"
     ]
    },
    {
     "name": "stdout",
     "output_type": "stream",
     "text": [
      "Transferred Data\n"
     ]
    },
    {
     "name": "stderr",
     "output_type": "stream",
     "text": [
      "Epoch 462/512 (Inner K-Epochs): 100%|██████████| 64/64 [00:05<00:00, 12.51it/s]\n",
      "Main Epoch (Outer Loop):  90%|█████████ | 462/512 [2:01:48<04:24,  5.29s/it]"
     ]
    },
    {
     "name": "stdout",
     "output_type": "stream",
     "text": [
      "Transferred Data\n"
     ]
    },
    {
     "name": "stderr",
     "output_type": "stream",
     "text": [
      "Epoch 463/512 (Inner K-Epochs): 100%|██████████| 64/64 [00:04<00:00, 12.81it/s]\n",
      "Main Epoch (Outer Loop):  90%|█████████ | 463/512 [2:01:53<04:16,  5.23s/it]"
     ]
    },
    {
     "name": "stdout",
     "output_type": "stream",
     "text": [
      "Transferred Data\n"
     ]
    },
    {
     "name": "stderr",
     "output_type": "stream",
     "text": [
      "Epoch 464/512 (Inner K-Epochs):  69%|██████▉   | 44/64 [00:03<00:01, 12.29it/s]\n",
      "                                                                            \r"
     ]
    },
    {
     "ename": "KeyboardInterrupt",
     "evalue": "",
     "output_type": "error",
     "traceback": [
      "\u001b[1;31m---------------------------------------------------------------------------\u001b[0m",
      "\u001b[1;31mKeyboardInterrupt\u001b[0m                         Traceback (most recent call last)",
      "Cell \u001b[1;32mIn[21], line 2\u001b[0m\n\u001b[0;32m      1\u001b[0m \u001b[38;5;66;03m# function call\u001b[39;00m\n\u001b[1;32m----> 2\u001b[0m trained_policy \u001b[38;5;241m=\u001b[39m \u001b[43mgrpo_train\u001b[49m\u001b[43m(\u001b[49m\n\u001b[0;32m      3\u001b[0m \u001b[43m        \u001b[49m\u001b[43mmodel_config\u001b[49m\u001b[38;5;241;43m=\u001b[39;49m\u001b[43mBASE_CONFIG\u001b[49m\u001b[43m,\u001b[49m\n\u001b[0;32m      4\u001b[0m \u001b[43m        \u001b[49m\u001b[43mtrain_dataloader\u001b[49m\u001b[38;5;241;43m=\u001b[39;49m\u001b[43mtrain_dataloader\u001b[49m\u001b[43m,\u001b[49m\n\u001b[0;32m      5\u001b[0m \u001b[43m        \u001b[49m\u001b[43mvalidation_dataloader\u001b[49m\u001b[38;5;241;43m=\u001b[39;49m\u001b[43mvalidation_dataloader\u001b[49m\u001b[43m,\u001b[49m\n\u001b[0;32m      6\u001b[0m \u001b[43m        \u001b[49m\u001b[43mgpt_size\u001b[49m\u001b[38;5;241;43m=\u001b[39;49m\u001b[43margs\u001b[49m\u001b[43m[\u001b[49m\u001b[38;5;124;43m\"\u001b[39;49m\u001b[38;5;124;43mgpt_size\u001b[39;49m\u001b[38;5;124;43m\"\u001b[39;49m\u001b[43m]\u001b[49m\u001b[43m,\u001b[49m\n\u001b[0;32m      7\u001b[0m \u001b[43m        \u001b[49m\u001b[43mepochs\u001b[49m\u001b[38;5;241;43m=\u001b[39;49m\u001b[43margs\u001b[49m\u001b[43m[\u001b[49m\u001b[38;5;124;43m\"\u001b[39;49m\u001b[38;5;124;43mepochs\u001b[39;49m\u001b[38;5;124;43m\"\u001b[39;49m\u001b[43m]\u001b[49m\u001b[43m,\u001b[49m\n\u001b[0;32m      8\u001b[0m \u001b[43m        \u001b[49m\u001b[43mlearning_rate\u001b[49m\u001b[38;5;241;43m=\u001b[39;49m\u001b[43margs\u001b[49m\u001b[43m[\u001b[49m\u001b[38;5;124;43m\"\u001b[39;49m\u001b[38;5;124;43mlearning_rate\u001b[39;49m\u001b[38;5;124;43m\"\u001b[39;49m\u001b[43m]\u001b[49m\u001b[43m,\u001b[49m\n\u001b[0;32m      9\u001b[0m \u001b[43m        \u001b[49m\u001b[43mbatch_size\u001b[49m\u001b[38;5;241;43m=\u001b[39;49m\u001b[43margs\u001b[49m\u001b[43m[\u001b[49m\u001b[38;5;124;43m\"\u001b[39;49m\u001b[38;5;124;43mbatch_size\u001b[39;49m\u001b[38;5;124;43m\"\u001b[39;49m\u001b[43m]\u001b[49m\u001b[43m,\u001b[49m\u001b[43m \u001b[49m\u001b[38;5;66;43;03m# Significantly larger batch size recommended for stability\u001b[39;49;00m\n\u001b[0;32m     10\u001b[0m \u001b[43m        \u001b[49m\u001b[43mk_epochs\u001b[49m\u001b[38;5;241;43m=\u001b[39;49m\u001b[43margs\u001b[49m\u001b[43m[\u001b[49m\u001b[38;5;124;43m\"\u001b[39;49m\u001b[38;5;124;43mk_epochs\u001b[39;49m\u001b[38;5;124;43m\"\u001b[39;49m\u001b[43m]\u001b[49m\u001b[43m,\u001b[49m\n\u001b[0;32m     11\u001b[0m \u001b[43m        \u001b[49m\u001b[43mepsilon\u001b[49m\u001b[38;5;241;43m=\u001b[39;49m\u001b[43margs\u001b[49m\u001b[43m[\u001b[49m\u001b[38;5;124;43m\"\u001b[39;49m\u001b[38;5;124;43mepsilon\u001b[39;49m\u001b[38;5;124;43m\"\u001b[39;49m\u001b[43m]\u001b[49m\u001b[43m,\u001b[49m\n\u001b[0;32m     12\u001b[0m \u001b[43m        \u001b[49m\u001b[43mbeta_kl\u001b[49m\u001b[38;5;241;43m=\u001b[39;49m\u001b[43margs\u001b[49m\u001b[43m[\u001b[49m\u001b[38;5;124;43m\"\u001b[39;49m\u001b[38;5;124;43mbeta_kl\u001b[39;49m\u001b[38;5;124;43m\"\u001b[39;49m\u001b[43m]\u001b[49m\u001b[43m,\u001b[49m\n\u001b[0;32m     13\u001b[0m \u001b[43m        \u001b[49m\u001b[43mentropy_coeff\u001b[49m\u001b[38;5;241;43m=\u001b[39;49m\u001b[43margs\u001b[49m\u001b[43m[\u001b[49m\u001b[38;5;124;43m\"\u001b[39;49m\u001b[38;5;124;43mentropy_coeff\u001b[39;49m\u001b[38;5;124;43m\"\u001b[39;49m\u001b[43m]\u001b[49m\u001b[43m,\u001b[49m\n\u001b[0;32m     14\u001b[0m \u001b[43m        \u001b[49m\u001b[43mlog_iterations\u001b[49m\u001b[38;5;241;43m=\u001b[39;49m\u001b[43margs\u001b[49m\u001b[43m[\u001b[49m\u001b[38;5;124;43m\"\u001b[39;49m\u001b[38;5;124;43mlog_iterations\u001b[39;49m\u001b[38;5;124;43m\"\u001b[39;49m\u001b[43m]\u001b[49m\u001b[43m,\u001b[49m\n\u001b[0;32m     15\u001b[0m \u001b[43m        \u001b[49m\u001b[43mgamma\u001b[49m\u001b[38;5;241;43m=\u001b[39;49m\u001b[43margs\u001b[49m\u001b[43m[\u001b[49m\u001b[38;5;124;43m\"\u001b[39;49m\u001b[38;5;124;43mgamma\u001b[39;49m\u001b[38;5;124;43m\"\u001b[39;49m\u001b[43m]\u001b[49m\u001b[43m,\u001b[49m\n\u001b[0;32m     16\u001b[0m \u001b[43m        \u001b[49m\u001b[43mdevice\u001b[49m\u001b[38;5;241;43m=\u001b[39;49m\u001b[43margs\u001b[49m\u001b[43m[\u001b[49m\u001b[38;5;124;43m\"\u001b[39;49m\u001b[38;5;124;43mdevice\u001b[39;49m\u001b[38;5;124;43m\"\u001b[39;49m\u001b[43m]\u001b[49m\u001b[43m,\u001b[49m\n\u001b[0;32m     17\u001b[0m \u001b[43m        \u001b[49m\u001b[43mnum_envs\u001b[49m\u001b[38;5;241;43m=\u001b[39;49m\u001b[43margs\u001b[49m\u001b[43m[\u001b[49m\u001b[38;5;124;43m\"\u001b[39;49m\u001b[38;5;124;43mnum_envs\u001b[39;49m\u001b[38;5;124;43m\"\u001b[39;49m\u001b[43m]\u001b[49m\n\u001b[0;32m     18\u001b[0m \u001b[43m    \u001b[49m\u001b[43m)\u001b[49m\n",
      "Cell \u001b[1;32mIn[13], line 52\u001b[0m, in \u001b[0;36mgrpo_train\u001b[1;34m(model_config, train_dataloader, validation_dataloader, gpt_size, epochs, learning_rate, batch_size, gamma, k_epochs, epsilon, beta_kl, max_grad_norm, entropy_coeff, log_iterations, eval_iterations, device, num_envs)\u001b[0m\n\u001b[0;32m     49\u001b[0m optimizer\u001b[38;5;241m.\u001b[39mzero_grad()   \u001b[38;5;66;03m# Flush out all the accumulated gradients for the weights of the model-under-training\u001b[39;00m\n\u001b[0;32m     51\u001b[0m new_logits \u001b[38;5;241m=\u001b[39m Policy_New(batch_inputs)[:,\u001b[38;5;241m-\u001b[39m\u001b[38;5;241m1\u001b[39m,:]   \u001b[38;5;66;03m# Get logits from model and only focus on the last iterations of each sample\u001b[39;00m\n\u001b[1;32m---> 52\u001b[0m new_dist \u001b[38;5;241m=\u001b[39m \u001b[43mtorch\u001b[49m\u001b[38;5;241;43m.\u001b[39;49m\u001b[43mdistributions\u001b[49m\u001b[38;5;241;43m.\u001b[39;49m\u001b[43mCategorical\u001b[49m\u001b[43m(\u001b[49m\u001b[43mlogits\u001b[49m\u001b[38;5;241;43m=\u001b[39;49m\u001b[43mnew_logits\u001b[49m\u001b[43m)\u001b[49m\n\u001b[0;32m     53\u001b[0m new_log_probs \u001b[38;5;241m=\u001b[39m new_dist\u001b[38;5;241m.\u001b[39mlog_prob(old_predictions)  \u001b[38;5;66;03m# Get the log probability of choosing the same action that the old policy took using the new distribution\u001b[39;00m\n\u001b[0;32m     54\u001b[0m entropy \u001b[38;5;241m=\u001b[39m new_dist\u001b[38;5;241m.\u001b[39mentropy()\u001b[38;5;241m.\u001b[39mmean() \u001b[38;5;66;03m# Calculate entropy for regularization\u001b[39;00m\n",
      "File \u001b[1;32mc:\\Users\\brian\\miniconda3\\envs\\GRPO_env\\lib\\site-packages\\torch\\distributions\\categorical.py:72\u001b[0m, in \u001b[0;36mCategorical.__init__\u001b[1;34m(self, probs, logits, validate_args)\u001b[0m\n\u001b[0;32m     68\u001b[0m \u001b[38;5;28mself\u001b[39m\u001b[38;5;241m.\u001b[39m_num_events \u001b[38;5;241m=\u001b[39m \u001b[38;5;28mself\u001b[39m\u001b[38;5;241m.\u001b[39m_param\u001b[38;5;241m.\u001b[39msize()[\u001b[38;5;241m-\u001b[39m\u001b[38;5;241m1\u001b[39m]\n\u001b[0;32m     69\u001b[0m batch_shape \u001b[38;5;241m=\u001b[39m (\n\u001b[0;32m     70\u001b[0m     \u001b[38;5;28mself\u001b[39m\u001b[38;5;241m.\u001b[39m_param\u001b[38;5;241m.\u001b[39msize()[:\u001b[38;5;241m-\u001b[39m\u001b[38;5;241m1\u001b[39m] \u001b[38;5;28;01mif\u001b[39;00m \u001b[38;5;28mself\u001b[39m\u001b[38;5;241m.\u001b[39m_param\u001b[38;5;241m.\u001b[39mndimension() \u001b[38;5;241m>\u001b[39m \u001b[38;5;241m1\u001b[39m \u001b[38;5;28;01melse\u001b[39;00m torch\u001b[38;5;241m.\u001b[39mSize()\n\u001b[0;32m     71\u001b[0m )\n\u001b[1;32m---> 72\u001b[0m \u001b[38;5;28;43msuper\u001b[39;49m\u001b[43m(\u001b[49m\u001b[43m)\u001b[49m\u001b[38;5;241;43m.\u001b[39;49m\u001b[38;5;21;43m__init__\u001b[39;49m\u001b[43m(\u001b[49m\u001b[43mbatch_shape\u001b[49m\u001b[43m,\u001b[49m\u001b[43m \u001b[49m\u001b[43mvalidate_args\u001b[49m\u001b[38;5;241;43m=\u001b[39;49m\u001b[43mvalidate_args\u001b[49m\u001b[43m)\u001b[49m\n",
      "File \u001b[1;32mc:\\Users\\brian\\miniconda3\\envs\\GRPO_env\\lib\\site-packages\\torch\\distributions\\distribution.py:70\u001b[0m, in \u001b[0;36mDistribution.__init__\u001b[1;34m(self, batch_shape, event_shape, validate_args)\u001b[0m\n\u001b[0;32m     68\u001b[0m         value \u001b[38;5;241m=\u001b[39m \u001b[38;5;28mgetattr\u001b[39m(\u001b[38;5;28mself\u001b[39m, param)\n\u001b[0;32m     69\u001b[0m         valid \u001b[38;5;241m=\u001b[39m constraint\u001b[38;5;241m.\u001b[39mcheck(value)\n\u001b[1;32m---> 70\u001b[0m         \u001b[38;5;28;01mif\u001b[39;00m \u001b[38;5;129;01mnot\u001b[39;00m valid\u001b[38;5;241m.\u001b[39mall():\n\u001b[0;32m     71\u001b[0m             \u001b[38;5;28;01mraise\u001b[39;00m \u001b[38;5;167;01mValueError\u001b[39;00m(\n\u001b[0;32m     72\u001b[0m                 \u001b[38;5;124mf\u001b[39m\u001b[38;5;124m\"\u001b[39m\u001b[38;5;124mExpected parameter \u001b[39m\u001b[38;5;132;01m{\u001b[39;00mparam\u001b[38;5;132;01m}\u001b[39;00m\u001b[38;5;124m \u001b[39m\u001b[38;5;124m\"\u001b[39m\n\u001b[0;32m     73\u001b[0m                 \u001b[38;5;124mf\u001b[39m\u001b[38;5;124m\"\u001b[39m\u001b[38;5;124m(\u001b[39m\u001b[38;5;132;01m{\u001b[39;00m\u001b[38;5;28mtype\u001b[39m(value)\u001b[38;5;241m.\u001b[39m\u001b[38;5;18m__name__\u001b[39m\u001b[38;5;132;01m}\u001b[39;00m\u001b[38;5;124m of shape \u001b[39m\u001b[38;5;132;01m{\u001b[39;00m\u001b[38;5;28mtuple\u001b[39m(value\u001b[38;5;241m.\u001b[39mshape)\u001b[38;5;132;01m}\u001b[39;00m\u001b[38;5;124m) \u001b[39m\u001b[38;5;124m\"\u001b[39m\n\u001b[1;32m   (...)\u001b[0m\n\u001b[0;32m     76\u001b[0m                 \u001b[38;5;124mf\u001b[39m\u001b[38;5;124m\"\u001b[39m\u001b[38;5;124mbut found invalid values:\u001b[39m\u001b[38;5;130;01m\\n\u001b[39;00m\u001b[38;5;132;01m{\u001b[39;00mvalue\u001b[38;5;132;01m}\u001b[39;00m\u001b[38;5;124m\"\u001b[39m\n\u001b[0;32m     77\u001b[0m             )\n\u001b[0;32m     78\u001b[0m \u001b[38;5;28msuper\u001b[39m()\u001b[38;5;241m.\u001b[39m\u001b[38;5;21m__init__\u001b[39m()\n",
      "\u001b[1;31mKeyboardInterrupt\u001b[0m: "
     ]
    }
   ],
   "source": [
    "# function call\n",
    "trained_policy = grpo_train(\n",
    "        model_config=BASE_CONFIG,\n",
    "        train_dataloader=train_dataloader,\n",
    "        validation_dataloader=validation_dataloader,\n",
    "        gpt_size=args[\"gpt_size\"],\n",
    "        epochs=args[\"epochs\"],\n",
    "        learning_rate=args[\"learning_rate\"],\n",
    "        batch_size=args[\"batch_size\"], # Significantly larger batch size recommended for stability\n",
    "        k_epochs=args[\"k_epochs\"],\n",
    "        epsilon=args[\"epsilon\"],\n",
    "        beta_kl=args[\"beta_kl\"],\n",
    "        entropy_coeff=args[\"entropy_coeff\"],\n",
    "        log_iterations=args[\"log_iterations\"],\n",
    "        gamma=args[\"gamma\"],\n",
    "        device=args[\"device\"],\n",
    "        num_envs=args[\"num_envs\"]\n",
    "    )"
   ]
  },
  {
   "cell_type": "code",
   "execution_count": null,
   "id": "5967aa46",
   "metadata": {},
   "outputs": [
    {
     "name": "stdout",
     "output_type": "stream",
     "text": [
      "Training Policy on cuda with 512 main epochs, 64 inner epochs, 0.0003 learning rate, batch size None, KL beta 0.01.\n",
      "Using gpt2 size:gpt2-small (124M) , logging every 64 iterations, evaluating every 10 iterations.\n",
      "File already exists and is up-to-date: gpt2\\124M\\checkpoint\n",
      "File already exists and is up-to-date: gpt2\\124M\\encoder.json\n",
      "File already exists and is up-to-date: gpt2\\124M\\hparams.json\n",
      "File already exists and is up-to-date: gpt2\\124M\\model.ckpt.data-00000-of-00001\n",
      "File already exists and is up-to-date: gpt2\\124M\\model.ckpt.index\n",
      "File already exists and is up-to-date: gpt2\\124M\\model.ckpt.meta\n",
      "File already exists and is up-to-date: gpt2\\124M\\vocab.bpe\n"
     ]
    },
    {
     "name": "stderr",
     "output_type": "stream",
     "text": [
      "Main Epoch (Outer Loop):   0%|          | 0/512 [00:00<?, ?it/s]"
     ]
    },
    {
     "name": "stdout",
     "output_type": "stream",
     "text": [
      "Transferred Data\n"
     ]
    },
    {
     "name": "stderr",
     "output_type": "stream",
     "text": [
      "Epoch 1/512 (Inner K-Epochs): 100%|██████████| 64/64 [00:05<00:00, 12.59it/s]\n",
      "Main Epoch (Outer Loop):   0%|          | 1/512 [00:05<45:08,  5.30s/it]"
     ]
    },
    {
     "name": "stdout",
     "output_type": "stream",
     "text": [
      "Transferred Data\n"
     ]
    },
    {
     "name": "stderr",
     "output_type": "stream",
     "text": [
      "Epoch 2/512 (Inner K-Epochs): 100%|██████████| 64/64 [00:05<00:00, 12.47it/s]\n",
      "Main Epoch (Outer Loop):   0%|          | 2/512 [00:10<44:38,  5.25s/it]"
     ]
    },
    {
     "name": "stdout",
     "output_type": "stream",
     "text": [
      "Transferred Data\n"
     ]
    },
    {
     "name": "stderr",
     "output_type": "stream",
     "text": [
      "Epoch 3/512 (Inner K-Epochs): 100%|██████████| 64/64 [00:05<00:00, 12.59it/s]\n",
      "Main Epoch (Outer Loop):   1%|          | 3/512 [00:15<44:13,  5.21s/it]"
     ]
    },
    {
     "name": "stdout",
     "output_type": "stream",
     "text": [
      "Transferred Data\n"
     ]
    },
    {
     "name": "stderr",
     "output_type": "stream",
     "text": [
      "Epoch 4/512 (Inner K-Epochs): 100%|██████████| 64/64 [00:05<00:00, 12.55it/s]\n",
      "Main Epoch (Outer Loop):   1%|          | 4/512 [00:20<44:01,  5.20s/it]"
     ]
    },
    {
     "name": "stdout",
     "output_type": "stream",
     "text": [
      "Transferred Data\n"
     ]
    },
    {
     "name": "stderr",
     "output_type": "stream",
     "text": [
      "Epoch 5/512 (Inner K-Epochs): 100%|██████████| 64/64 [00:05<00:00, 12.41it/s]\n",
      "Main Epoch (Outer Loop):   1%|          | 5/512 [00:26<44:04,  5.21s/it]"
     ]
    },
    {
     "name": "stdout",
     "output_type": "stream",
     "text": [
      "Transferred Data\n"
     ]
    },
    {
     "name": "stderr",
     "output_type": "stream",
     "text": [
      "Epoch 6/512 (Inner K-Epochs): 100%|██████████| 64/64 [00:05<00:00, 12.50it/s]\n",
      "Main Epoch (Outer Loop):   1%|          | 6/512 [00:31<43:58,  5.21s/it]"
     ]
    },
    {
     "name": "stdout",
     "output_type": "stream",
     "text": [
      "Transferred Data\n"
     ]
    },
    {
     "name": "stderr",
     "output_type": "stream",
     "text": [
      "Epoch 7/512 (Inner K-Epochs): 100%|██████████| 64/64 [00:05<00:00, 12.51it/s]\n",
      "Main Epoch (Outer Loop):   1%|▏         | 7/512 [00:36<43:51,  5.21s/it]"
     ]
    },
    {
     "name": "stdout",
     "output_type": "stream",
     "text": [
      "Transferred Data\n"
     ]
    },
    {
     "name": "stderr",
     "output_type": "stream",
     "text": [
      "Epoch 8/512 (Inner K-Epochs): 100%|██████████| 64/64 [00:05<00:00, 12.52it/s]\n",
      "Main Epoch (Outer Loop):   2%|▏         | 8/512 [00:41<43:43,  5.21s/it]"
     ]
    },
    {
     "name": "stdout",
     "output_type": "stream",
     "text": [
      "Transferred Data\n"
     ]
    },
    {
     "name": "stderr",
     "output_type": "stream",
     "text": [
      "Epoch 9/512 (Inner K-Epochs): 100%|██████████| 64/64 [00:05<00:00, 12.47it/s]\n",
      "Main Epoch (Outer Loop):   2%|▏         | 9/512 [00:46<43:42,  5.21s/it]"
     ]
    },
    {
     "name": "stdout",
     "output_type": "stream",
     "text": [
      "Transferred Data\n"
     ]
    },
    {
     "name": "stderr",
     "output_type": "stream",
     "text": [
      "Epoch 10/512 (Inner K-Epochs): 100%|██████████| 64/64 [00:05<00:00, 12.48it/s]\n",
      "Main Epoch (Outer Loop):   2%|▏         | 10/512 [00:52<43:37,  5.21s/it]"
     ]
    },
    {
     "name": "stdout",
     "output_type": "stream",
     "text": [
      "Transferred Data\n"
     ]
    },
    {
     "name": "stderr",
     "output_type": "stream",
     "text": [
      "Epoch 11/512 (Inner K-Epochs): 100%|██████████| 64/64 [00:05<00:00, 12.47it/s]\n",
      "Main Epoch (Outer Loop):   2%|▏         | 11/512 [00:57<43:35,  5.22s/it]"
     ]
    },
    {
     "name": "stdout",
     "output_type": "stream",
     "text": [
      "Transferred Data\n"
     ]
    },
    {
     "name": "stderr",
     "output_type": "stream",
     "text": [
      "Epoch 12/512 (Inner K-Epochs): 100%|██████████| 64/64 [00:05<00:00, 12.45it/s]\n",
      "Main Epoch (Outer Loop):   2%|▏         | 12/512 [01:02<43:30,  5.22s/it]"
     ]
    },
    {
     "name": "stdout",
     "output_type": "stream",
     "text": [
      "Transferred Data\n"
     ]
    },
    {
     "name": "stderr",
     "output_type": "stream",
     "text": [
      "Epoch 13/512 (Inner K-Epochs): 100%|██████████| 64/64 [00:05<00:00, 12.48it/s]\n",
      "Main Epoch (Outer Loop):   3%|▎         | 13/512 [01:07<43:23,  5.22s/it]"
     ]
    },
    {
     "name": "stdout",
     "output_type": "stream",
     "text": [
      "Transferred Data\n"
     ]
    },
    {
     "name": "stderr",
     "output_type": "stream",
     "text": [
      "Epoch 14/512 (Inner K-Epochs): 100%|██████████| 64/64 [00:05<00:00, 12.46it/s]\n",
      "Main Epoch (Outer Loop):   3%|▎         | 14/512 [01:13<43:19,  5.22s/it]"
     ]
    },
    {
     "name": "stdout",
     "output_type": "stream",
     "text": [
      "Transferred Data\n"
     ]
    },
    {
     "name": "stderr",
     "output_type": "stream",
     "text": [
      "Epoch 15/512 (Inner K-Epochs): 100%|██████████| 64/64 [00:05<00:00, 12.47it/s]\n",
      "Main Epoch (Outer Loop):   3%|▎         | 15/512 [01:18<43:13,  5.22s/it]"
     ]
    },
    {
     "name": "stdout",
     "output_type": "stream",
     "text": [
      "Transferred Data\n"
     ]
    },
    {
     "name": "stderr",
     "output_type": "stream",
     "text": [
      "Epoch 16/512 (Inner K-Epochs): 100%|██████████| 64/64 [00:05<00:00, 12.43it/s]\n",
      "Main Epoch (Outer Loop):   3%|▎         | 16/512 [01:23<43:11,  5.23s/it]"
     ]
    },
    {
     "name": "stdout",
     "output_type": "stream",
     "text": [
      "Transferred Data\n"
     ]
    },
    {
     "name": "stderr",
     "output_type": "stream",
     "text": [
      "Epoch 17/512 (Inner K-Epochs): 100%|██████████| 64/64 [00:05<00:00, 12.42it/s]\n",
      "Main Epoch (Outer Loop):   3%|▎         | 17/512 [01:28<43:08,  5.23s/it]"
     ]
    },
    {
     "name": "stdout",
     "output_type": "stream",
     "text": [
      "Transferred Data\n"
     ]
    },
    {
     "name": "stderr",
     "output_type": "stream",
     "text": [
      "Epoch 18/512 (Inner K-Epochs): 100%|██████████| 64/64 [00:05<00:00, 12.46it/s]\n",
      "Main Epoch (Outer Loop):   4%|▎         | 18/512 [01:33<43:01,  5.23s/it]"
     ]
    },
    {
     "name": "stdout",
     "output_type": "stream",
     "text": [
      "Transferred Data\n"
     ]
    },
    {
     "name": "stderr",
     "output_type": "stream",
     "text": [
      "Epoch 19/512 (Inner K-Epochs): 100%|██████████| 64/64 [00:05<00:00, 12.47it/s]\n",
      "Main Epoch (Outer Loop):   4%|▎         | 19/512 [01:39<42:56,  5.23s/it]"
     ]
    },
    {
     "name": "stdout",
     "output_type": "stream",
     "text": [
      "Transferred Data\n"
     ]
    },
    {
     "name": "stderr",
     "output_type": "stream",
     "text": [
      "Epoch 20/512 (Inner K-Epochs): 100%|██████████| 64/64 [00:05<00:00, 12.48it/s]\n",
      "Main Epoch (Outer Loop):   4%|▍         | 20/512 [01:44<42:49,  5.22s/it]"
     ]
    },
    {
     "name": "stdout",
     "output_type": "stream",
     "text": [
      "Transferred Data\n"
     ]
    },
    {
     "name": "stderr",
     "output_type": "stream",
     "text": [
      "Epoch 21/512 (Inner K-Epochs): 100%|██████████| 64/64 [00:05<00:00, 12.43it/s]\n",
      "Main Epoch (Outer Loop):   4%|▍         | 21/512 [01:49<42:45,  5.23s/it]"
     ]
    },
    {
     "name": "stdout",
     "output_type": "stream",
     "text": [
      "Transferred Data\n"
     ]
    },
    {
     "name": "stderr",
     "output_type": "stream",
     "text": [
      "Epoch 22/512 (Inner K-Epochs): 100%|██████████| 64/64 [00:05<00:00, 12.43it/s]\n",
      "Main Epoch (Outer Loop):   4%|▍         | 22/512 [01:54<42:41,  5.23s/it]"
     ]
    },
    {
     "name": "stdout",
     "output_type": "stream",
     "text": [
      "Transferred Data\n"
     ]
    },
    {
     "name": "stderr",
     "output_type": "stream",
     "text": [
      "Epoch 23/512 (Inner K-Epochs): 100%|██████████| 64/64 [00:05<00:00, 12.44it/s]\n",
      "Main Epoch (Outer Loop):   4%|▍         | 23/512 [02:00<42:37,  5.23s/it]"
     ]
    },
    {
     "name": "stdout",
     "output_type": "stream",
     "text": [
      "Transferred Data\n"
     ]
    },
    {
     "name": "stderr",
     "output_type": "stream",
     "text": [
      "Epoch 24/512 (Inner K-Epochs): 100%|██████████| 64/64 [00:05<00:00, 12.47it/s]\n",
      "Main Epoch (Outer Loop):   5%|▍         | 24/512 [02:05<42:29,  5.23s/it]"
     ]
    },
    {
     "name": "stdout",
     "output_type": "stream",
     "text": [
      "Transferred Data\n"
     ]
    },
    {
     "name": "stderr",
     "output_type": "stream",
     "text": [
      "Epoch 25/512 (Inner K-Epochs): 100%|██████████| 64/64 [00:05<00:00, 12.43it/s]\n",
      "Main Epoch (Outer Loop):   5%|▍         | 25/512 [02:10<42:28,  5.23s/it]"
     ]
    },
    {
     "name": "stdout",
     "output_type": "stream",
     "text": [
      "Transferred Data\n"
     ]
    },
    {
     "name": "stderr",
     "output_type": "stream",
     "text": [
      "Epoch 26/512 (Inner K-Epochs): 100%|██████████| 64/64 [00:05<00:00, 12.43it/s]\n",
      "Main Epoch (Outer Loop):   5%|▌         | 26/512 [02:15<42:23,  5.23s/it]"
     ]
    },
    {
     "name": "stdout",
     "output_type": "stream",
     "text": [
      "Transferred Data\n"
     ]
    },
    {
     "name": "stderr",
     "output_type": "stream",
     "text": [
      "Epoch 27/512 (Inner K-Epochs): 100%|██████████| 64/64 [00:05<00:00, 12.48it/s]\n",
      "Main Epoch (Outer Loop):   5%|▌         | 27/512 [02:21<42:17,  5.23s/it]"
     ]
    },
    {
     "name": "stdout",
     "output_type": "stream",
     "text": [
      "Transferred Data\n"
     ]
    },
    {
     "name": "stderr",
     "output_type": "stream",
     "text": [
      "Epoch 28/512 (Inner K-Epochs): 100%|██████████| 64/64 [00:05<00:00, 12.40it/s]\n",
      "Main Epoch (Outer Loop):   5%|▌         | 28/512 [02:26<42:12,  5.23s/it]"
     ]
    },
    {
     "name": "stdout",
     "output_type": "stream",
     "text": [
      "Transferred Data\n"
     ]
    },
    {
     "name": "stderr",
     "output_type": "stream",
     "text": [
      "Epoch 29/512 (Inner K-Epochs): 100%|██████████| 64/64 [00:05<00:00, 12.41it/s]\n",
      "Main Epoch (Outer Loop):   6%|▌         | 29/512 [02:31<42:08,  5.23s/it]"
     ]
    },
    {
     "name": "stdout",
     "output_type": "stream",
     "text": [
      "Transferred Data\n"
     ]
    },
    {
     "name": "stderr",
     "output_type": "stream",
     "text": [
      "Epoch 30/512 (Inner K-Epochs): 100%|██████████| 64/64 [00:05<00:00, 12.51it/s]\n",
      "Main Epoch (Outer Loop):   6%|▌         | 30/512 [02:36<41:59,  5.23s/it]"
     ]
    },
    {
     "name": "stdout",
     "output_type": "stream",
     "text": [
      "Transferred Data\n"
     ]
    },
    {
     "name": "stderr",
     "output_type": "stream",
     "text": [
      "Epoch 31/512 (Inner K-Epochs): 100%|██████████| 64/64 [00:05<00:00, 12.47it/s]\n",
      "Main Epoch (Outer Loop):   6%|▌         | 31/512 [02:41<41:52,  5.22s/it]"
     ]
    },
    {
     "name": "stdout",
     "output_type": "stream",
     "text": [
      "Transferred Data\n"
     ]
    },
    {
     "name": "stderr",
     "output_type": "stream",
     "text": [
      "Epoch 32/512 (Inner K-Epochs): 100%|██████████| 64/64 [00:05<00:00, 12.38it/s]\n",
      "Main Epoch (Outer Loop):   6%|▋         | 32/512 [02:47<41:51,  5.23s/it]"
     ]
    },
    {
     "name": "stdout",
     "output_type": "stream",
     "text": [
      "Transferred Data\n"
     ]
    },
    {
     "name": "stderr",
     "output_type": "stream",
     "text": [
      "Epoch 33/512 (Inner K-Epochs): 100%|██████████| 64/64 [00:05<00:00, 12.39it/s]\n",
      "Main Epoch (Outer Loop):   6%|▋         | 33/512 [02:52<41:48,  5.24s/it]"
     ]
    },
    {
     "name": "stdout",
     "output_type": "stream",
     "text": [
      "Transferred Data\n"
     ]
    },
    {
     "name": "stderr",
     "output_type": "stream",
     "text": [
      "Epoch 34/512 (Inner K-Epochs): 100%|██████████| 64/64 [00:05<00:00, 12.43it/s]\n",
      "Main Epoch (Outer Loop):   7%|▋         | 34/512 [02:57<41:42,  5.24s/it]"
     ]
    },
    {
     "name": "stdout",
     "output_type": "stream",
     "text": [
      "Transferred Data\n"
     ]
    },
    {
     "name": "stderr",
     "output_type": "stream",
     "text": [
      "Epoch 35/512 (Inner K-Epochs): 100%|██████████| 64/64 [00:05<00:00, 12.48it/s]\n",
      "Main Epoch (Outer Loop):   7%|▋         | 35/512 [03:02<41:34,  5.23s/it]"
     ]
    },
    {
     "name": "stdout",
     "output_type": "stream",
     "text": [
      "Transferred Data\n"
     ]
    },
    {
     "name": "stderr",
     "output_type": "stream",
     "text": [
      "Epoch 36/512 (Inner K-Epochs): 100%|██████████| 64/64 [00:05<00:00, 12.43it/s]\n",
      "Main Epoch (Outer Loop):   7%|▋         | 36/512 [03:08<41:29,  5.23s/it]"
     ]
    },
    {
     "name": "stdout",
     "output_type": "stream",
     "text": [
      "Transferred Data\n"
     ]
    },
    {
     "name": "stderr",
     "output_type": "stream",
     "text": [
      "Epoch 37/512 (Inner K-Epochs): 100%|██████████| 64/64 [00:05<00:00, 12.41it/s]\n",
      "Main Epoch (Outer Loop):   7%|▋         | 37/512 [03:13<41:25,  5.23s/it]"
     ]
    },
    {
     "name": "stdout",
     "output_type": "stream",
     "text": [
      "Transferred Data\n"
     ]
    },
    {
     "name": "stderr",
     "output_type": "stream",
     "text": [
      "Epoch 38/512 (Inner K-Epochs): 100%|██████████| 64/64 [00:05<00:00, 12.46it/s]\n",
      "Main Epoch (Outer Loop):   7%|▋         | 38/512 [03:18<41:18,  5.23s/it]"
     ]
    },
    {
     "name": "stdout",
     "output_type": "stream",
     "text": [
      "Transferred Data\n"
     ]
    },
    {
     "name": "stderr",
     "output_type": "stream",
     "text": [
      "Epoch 39/512 (Inner K-Epochs): 100%|██████████| 64/64 [00:05<00:00, 12.45it/s]\n",
      "Main Epoch (Outer Loop):   8%|▊         | 39/512 [03:23<41:13,  5.23s/it]"
     ]
    },
    {
     "name": "stdout",
     "output_type": "stream",
     "text": [
      "Transferred Data\n"
     ]
    },
    {
     "name": "stderr",
     "output_type": "stream",
     "text": [
      "Epoch 40/512 (Inner K-Epochs): 100%|██████████| 64/64 [00:05<00:00, 12.43it/s]\n",
      "Main Epoch (Outer Loop):   8%|▊         | 40/512 [03:29<41:08,  5.23s/it]"
     ]
    },
    {
     "name": "stdout",
     "output_type": "stream",
     "text": [
      "Transferred Data\n"
     ]
    },
    {
     "name": "stderr",
     "output_type": "stream",
     "text": [
      "Epoch 41/512 (Inner K-Epochs): 100%|██████████| 64/64 [00:05<00:00, 12.47it/s]\n",
      "Main Epoch (Outer Loop):   8%|▊         | 41/512 [03:34<41:00,  5.22s/it]"
     ]
    },
    {
     "name": "stdout",
     "output_type": "stream",
     "text": [
      "Transferred Data\n"
     ]
    },
    {
     "name": "stderr",
     "output_type": "stream",
     "text": [
      "Epoch 42/512 (Inner K-Epochs): 100%|██████████| 64/64 [00:05<00:00, 12.42it/s]\n",
      "Main Epoch (Outer Loop):   8%|▊         | 42/512 [03:39<40:57,  5.23s/it]"
     ]
    },
    {
     "name": "stdout",
     "output_type": "stream",
     "text": [
      "Transferred Data\n"
     ]
    },
    {
     "name": "stderr",
     "output_type": "stream",
     "text": [
      "Epoch 43/512 (Inner K-Epochs): 100%|██████████| 64/64 [00:05<00:00, 12.44it/s]\n",
      "Main Epoch (Outer Loop):   8%|▊         | 43/512 [03:44<40:52,  5.23s/it]"
     ]
    },
    {
     "name": "stdout",
     "output_type": "stream",
     "text": [
      "Transferred Data\n"
     ]
    },
    {
     "name": "stderr",
     "output_type": "stream",
     "text": [
      "Epoch 44/512 (Inner K-Epochs): 100%|██████████| 64/64 [00:05<00:00, 12.47it/s]\n",
      "Main Epoch (Outer Loop):   9%|▊         | 44/512 [03:49<40:47,  5.23s/it]"
     ]
    },
    {
     "name": "stdout",
     "output_type": "stream",
     "text": [
      "Transferred Data\n"
     ]
    },
    {
     "name": "stderr",
     "output_type": "stream",
     "text": [
      "Epoch 45/512 (Inner K-Epochs): 100%|██████████| 64/64 [00:05<00:00, 12.44it/s]\n",
      "Main Epoch (Outer Loop):   9%|▉         | 45/512 [03:55<40:40,  5.23s/it]"
     ]
    },
    {
     "name": "stdout",
     "output_type": "stream",
     "text": [
      "Transferred Data\n"
     ]
    },
    {
     "name": "stderr",
     "output_type": "stream",
     "text": [
      "Epoch 46/512 (Inner K-Epochs): 100%|██████████| 64/64 [00:05<00:00, 12.43it/s]\n",
      "Main Epoch (Outer Loop):   9%|▉         | 46/512 [04:00<40:36,  5.23s/it]"
     ]
    },
    {
     "name": "stdout",
     "output_type": "stream",
     "text": [
      "Transferred Data\n"
     ]
    },
    {
     "name": "stderr",
     "output_type": "stream",
     "text": [
      "Epoch 47/512 (Inner K-Epochs): 100%|██████████| 64/64 [00:05<00:00, 12.40it/s]\n",
      "Main Epoch (Outer Loop):   9%|▉         | 47/512 [04:05<40:31,  5.23s/it]"
     ]
    },
    {
     "name": "stdout",
     "output_type": "stream",
     "text": [
      "Transferred Data\n"
     ]
    },
    {
     "name": "stderr",
     "output_type": "stream",
     "text": [
      "Epoch 48/512 (Inner K-Epochs): 100%|██████████| 64/64 [00:05<00:00, 12.44it/s]\n",
      "Main Epoch (Outer Loop):   9%|▉         | 48/512 [04:10<40:26,  5.23s/it]"
     ]
    },
    {
     "name": "stdout",
     "output_type": "stream",
     "text": [
      "Transferred Data\n"
     ]
    },
    {
     "name": "stderr",
     "output_type": "stream",
     "text": [
      "Epoch 49/512 (Inner K-Epochs): 100%|██████████| 64/64 [00:05<00:00, 12.43it/s]\n",
      "Main Epoch (Outer Loop):  10%|▉         | 49/512 [04:16<40:22,  5.23s/it]"
     ]
    },
    {
     "name": "stdout",
     "output_type": "stream",
     "text": [
      "Transferred Data\n"
     ]
    },
    {
     "name": "stderr",
     "output_type": "stream",
     "text": [
      "Epoch 50/512 (Inner K-Epochs): 100%|██████████| 64/64 [00:05<00:00, 12.45it/s]\n",
      "Main Epoch (Outer Loop):  10%|▉         | 50/512 [04:21<40:15,  5.23s/it]"
     ]
    },
    {
     "name": "stdout",
     "output_type": "stream",
     "text": [
      "Transferred Data\n"
     ]
    },
    {
     "name": "stderr",
     "output_type": "stream",
     "text": [
      "Epoch 51/512 (Inner K-Epochs): 100%|██████████| 64/64 [00:05<00:00, 12.41it/s]\n",
      "Main Epoch (Outer Loop):  10%|▉         | 51/512 [04:26<40:11,  5.23s/it]"
     ]
    },
    {
     "name": "stdout",
     "output_type": "stream",
     "text": [
      "Transferred Data\n"
     ]
    },
    {
     "name": "stderr",
     "output_type": "stream",
     "text": [
      "Epoch 52/512 (Inner K-Epochs): 100%|██████████| 64/64 [00:05<00:00, 12.43it/s]\n",
      "Main Epoch (Outer Loop):  10%|█         | 52/512 [04:31<40:05,  5.23s/it]"
     ]
    },
    {
     "name": "stdout",
     "output_type": "stream",
     "text": [
      "Transferred Data\n"
     ]
    },
    {
     "name": "stderr",
     "output_type": "stream",
     "text": [
      "Epoch 53/512 (Inner K-Epochs): 100%|██████████| 64/64 [00:05<00:00, 12.30it/s]\n",
      "Main Epoch (Outer Loop):  10%|█         | 53/512 [04:37<40:10,  5.25s/it]"
     ]
    },
    {
     "name": "stdout",
     "output_type": "stream",
     "text": [
      "Transferred Data\n"
     ]
    },
    {
     "name": "stderr",
     "output_type": "stream",
     "text": [
      "Epoch 54/512 (Inner K-Epochs): 100%|██████████| 64/64 [00:05<00:00, 12.40it/s]\n",
      "Main Epoch (Outer Loop):  11%|█         | 54/512 [04:42<40:04,  5.25s/it]"
     ]
    },
    {
     "name": "stdout",
     "output_type": "stream",
     "text": [
      "Transferred Data\n"
     ]
    },
    {
     "name": "stderr",
     "output_type": "stream",
     "text": [
      "Epoch 55/512 (Inner K-Epochs): 100%|██████████| 64/64 [00:05<00:00, 12.47it/s]\n",
      "Main Epoch (Outer Loop):  11%|█         | 55/512 [04:47<39:54,  5.24s/it]"
     ]
    },
    {
     "name": "stdout",
     "output_type": "stream",
     "text": [
      "Transferred Data\n"
     ]
    },
    {
     "name": "stderr",
     "output_type": "stream",
     "text": [
      "Epoch 56/512 (Inner K-Epochs): 100%|██████████| 64/64 [00:05<00:00, 12.47it/s]\n",
      "Main Epoch (Outer Loop):  11%|█         | 56/512 [04:52<39:45,  5.23s/it]"
     ]
    },
    {
     "name": "stdout",
     "output_type": "stream",
     "text": [
      "Transferred Data\n"
     ]
    },
    {
     "name": "stderr",
     "output_type": "stream",
     "text": [
      "Epoch 57/512 (Inner K-Epochs): 100%|██████████| 64/64 [00:05<00:00, 12.41it/s]\n",
      "Main Epoch (Outer Loop):  11%|█         | 57/512 [04:58<39:41,  5.23s/it]"
     ]
    },
    {
     "name": "stdout",
     "output_type": "stream",
     "text": [
      "Transferred Data\n"
     ]
    },
    {
     "name": "stderr",
     "output_type": "stream",
     "text": [
      "Epoch 58/512 (Inner K-Epochs): 100%|██████████| 64/64 [00:05<00:00, 12.51it/s]\n",
      "Main Epoch (Outer Loop):  11%|█▏        | 58/512 [05:03<39:30,  5.22s/it]"
     ]
    },
    {
     "name": "stdout",
     "output_type": "stream",
     "text": [
      "Transferred Data\n"
     ]
    },
    {
     "name": "stderr",
     "output_type": "stream",
     "text": [
      "Epoch 59/512 (Inner K-Epochs): 100%|██████████| 64/64 [00:05<00:00, 12.47it/s]\n",
      "Main Epoch (Outer Loop):  12%|█▏        | 59/512 [05:08<39:24,  5.22s/it]"
     ]
    },
    {
     "name": "stdout",
     "output_type": "stream",
     "text": [
      "Transferred Data\n"
     ]
    },
    {
     "name": "stderr",
     "output_type": "stream",
     "text": [
      "Epoch 60/512 (Inner K-Epochs): 100%|██████████| 64/64 [00:05<00:00, 12.51it/s]\n",
      "Main Epoch (Outer Loop):  12%|█▏        | 60/512 [05:13<39:17,  5.21s/it]"
     ]
    },
    {
     "name": "stdout",
     "output_type": "stream",
     "text": [
      "Transferred Data\n"
     ]
    },
    {
     "name": "stderr",
     "output_type": "stream",
     "text": [
      "Epoch 61/512 (Inner K-Epochs): 100%|██████████| 64/64 [00:05<00:00, 12.47it/s]\n",
      "Main Epoch (Outer Loop):  12%|█▏        | 61/512 [05:18<39:11,  5.21s/it]"
     ]
    },
    {
     "name": "stdout",
     "output_type": "stream",
     "text": [
      "Transferred Data\n"
     ]
    },
    {
     "name": "stderr",
     "output_type": "stream",
     "text": [
      "Epoch 62/512 (Inner K-Epochs): 100%|██████████| 64/64 [00:05<00:00, 12.47it/s]\n",
      "Main Epoch (Outer Loop):  12%|█▏        | 62/512 [05:24<39:08,  5.22s/it]"
     ]
    },
    {
     "name": "stdout",
     "output_type": "stream",
     "text": [
      "Transferred Data\n"
     ]
    },
    {
     "name": "stderr",
     "output_type": "stream",
     "text": [
      "Epoch 63/512 (Inner K-Epochs): 100%|██████████| 64/64 [00:05<00:00, 12.45it/s]\n",
      "Main Epoch (Outer Loop):  12%|█▏        | 63/512 [05:29<39:04,  5.22s/it]"
     ]
    },
    {
     "name": "stdout",
     "output_type": "stream",
     "text": [
      "Transferred Data\n"
     ]
    },
    {
     "name": "stderr",
     "output_type": "stream",
     "text": [
      "Epoch 64/512 (Inner K-Epochs): 100%|██████████| 64/64 [00:05<00:00, 12.36it/s]\n",
      "Main Epoch (Outer Loop):  12%|█▎        | 64/512 [05:34<39:28,  5.29s/it]"
     ]
    },
    {
     "name": "stdout",
     "output_type": "stream",
     "text": [
      "Epoch 64/512, Loss: -0.0000, Ratio: 1.00000, Entropy Term: 0.00000\n",
      "Epoch 64 | Entire Validation Dataset Accuracy: 0.5365| 103.0 / 192.0 samples\n",
      "Transferred Data\n"
     ]
    },
    {
     "name": "stderr",
     "output_type": "stream",
     "text": [
      "Epoch 65/512 (Inner K-Epochs): 100%|██████████| 64/64 [00:05<00:00, 12.47it/s]\n",
      "Main Epoch (Outer Loop):  13%|█▎        | 65/512 [05:39<39:15,  5.27s/it]"
     ]
    },
    {
     "name": "stdout",
     "output_type": "stream",
     "text": [
      "Transferred Data\n"
     ]
    },
    {
     "name": "stderr",
     "output_type": "stream",
     "text": [
      "Epoch 66/512 (Inner K-Epochs): 100%|██████████| 64/64 [00:05<00:00, 12.43it/s]\n",
      "Main Epoch (Outer Loop):  13%|█▎        | 66/512 [05:45<39:03,  5.26s/it]"
     ]
    },
    {
     "name": "stdout",
     "output_type": "stream",
     "text": [
      "Transferred Data\n"
     ]
    },
    {
     "name": "stderr",
     "output_type": "stream",
     "text": [
      "Epoch 67/512 (Inner K-Epochs): 100%|██████████| 64/64 [00:05<00:00, 12.47it/s]\n",
      "Main Epoch (Outer Loop):  13%|█▎        | 67/512 [05:50<38:53,  5.24s/it]"
     ]
    },
    {
     "name": "stdout",
     "output_type": "stream",
     "text": [
      "Transferred Data\n"
     ]
    },
    {
     "name": "stderr",
     "output_type": "stream",
     "text": [
      "Epoch 68/512 (Inner K-Epochs): 100%|██████████| 64/64 [00:05<00:00, 12.43it/s]\n",
      "Main Epoch (Outer Loop):  13%|█▎        | 68/512 [05:55<38:46,  5.24s/it]"
     ]
    },
    {
     "name": "stdout",
     "output_type": "stream",
     "text": [
      "Transferred Data\n"
     ]
    },
    {
     "name": "stderr",
     "output_type": "stream",
     "text": [
      "Epoch 69/512 (Inner K-Epochs): 100%|██████████| 64/64 [00:05<00:00, 12.39it/s]\n",
      "Main Epoch (Outer Loop):  13%|█▎        | 69/512 [06:00<38:42,  5.24s/it]"
     ]
    },
    {
     "name": "stdout",
     "output_type": "stream",
     "text": [
      "Transferred Data\n"
     ]
    },
    {
     "name": "stderr",
     "output_type": "stream",
     "text": [
      "Epoch 70/512 (Inner K-Epochs): 100%|██████████| 64/64 [00:05<00:00, 12.47it/s]\n",
      "Main Epoch (Outer Loop):  14%|█▎        | 70/512 [06:06<38:34,  5.24s/it]"
     ]
    },
    {
     "name": "stdout",
     "output_type": "stream",
     "text": [
      "Transferred Data\n"
     ]
    },
    {
     "name": "stderr",
     "output_type": "stream",
     "text": [
      "Epoch 71/512 (Inner K-Epochs): 100%|██████████| 64/64 [00:05<00:00, 12.39it/s]\n",
      "Main Epoch (Outer Loop):  14%|█▍        | 71/512 [06:11<38:30,  5.24s/it]"
     ]
    },
    {
     "name": "stdout",
     "output_type": "stream",
     "text": [
      "Transferred Data\n"
     ]
    },
    {
     "name": "stderr",
     "output_type": "stream",
     "text": [
      "Epoch 72/512 (Inner K-Epochs): 100%|██████████| 64/64 [00:05<00:00, 12.51it/s]\n",
      "Main Epoch (Outer Loop):  14%|█▍        | 72/512 [06:16<38:20,  5.23s/it]"
     ]
    },
    {
     "name": "stdout",
     "output_type": "stream",
     "text": [
      "Transferred Data\n"
     ]
    },
    {
     "name": "stderr",
     "output_type": "stream",
     "text": [
      "Epoch 73/512 (Inner K-Epochs): 100%|██████████| 64/64 [00:05<00:00, 12.51it/s]\n",
      "Main Epoch (Outer Loop):  14%|█▍        | 73/512 [06:21<38:11,  5.22s/it]"
     ]
    },
    {
     "name": "stdout",
     "output_type": "stream",
     "text": [
      "Transferred Data\n"
     ]
    },
    {
     "name": "stderr",
     "output_type": "stream",
     "text": [
      "Epoch 74/512 (Inner K-Epochs): 100%|██████████| 64/64 [00:05<00:00, 12.46it/s]\n",
      "Main Epoch (Outer Loop):  14%|█▍        | 74/512 [06:26<38:08,  5.22s/it]"
     ]
    },
    {
     "name": "stdout",
     "output_type": "stream",
     "text": [
      "Transferred Data\n"
     ]
    },
    {
     "name": "stderr",
     "output_type": "stream",
     "text": [
      "Epoch 75/512 (Inner K-Epochs): 100%|██████████| 64/64 [00:05<00:00, 12.52it/s]\n",
      "Main Epoch (Outer Loop):  15%|█▍        | 75/512 [06:32<37:59,  5.22s/it]"
     ]
    },
    {
     "name": "stdout",
     "output_type": "stream",
     "text": [
      "Transferred Data\n"
     ]
    },
    {
     "name": "stderr",
     "output_type": "stream",
     "text": [
      "Epoch 76/512 (Inner K-Epochs): 100%|██████████| 64/64 [00:05<00:00, 12.44it/s]\n",
      "Main Epoch (Outer Loop):  15%|█▍        | 76/512 [06:37<37:56,  5.22s/it]"
     ]
    },
    {
     "name": "stdout",
     "output_type": "stream",
     "text": [
      "Transferred Data\n"
     ]
    },
    {
     "name": "stderr",
     "output_type": "stream",
     "text": [
      "Epoch 77/512 (Inner K-Epochs): 100%|██████████| 64/64 [00:05<00:00, 12.44it/s]\n",
      "Main Epoch (Outer Loop):  15%|█▌        | 77/512 [06:42<37:50,  5.22s/it]"
     ]
    },
    {
     "name": "stdout",
     "output_type": "stream",
     "text": [
      "Transferred Data\n"
     ]
    },
    {
     "name": "stderr",
     "output_type": "stream",
     "text": [
      "Epoch 78/512 (Inner K-Epochs): 100%|██████████| 64/64 [00:05<00:00, 12.50it/s]\n",
      "Main Epoch (Outer Loop):  15%|█▌        | 78/512 [06:47<37:45,  5.22s/it]"
     ]
    },
    {
     "name": "stdout",
     "output_type": "stream",
     "text": [
      "Transferred Data\n"
     ]
    },
    {
     "name": "stderr",
     "output_type": "stream",
     "text": [
      "Epoch 79/512 (Inner K-Epochs): 100%|██████████| 64/64 [00:05<00:00, 12.51it/s]\n",
      "Main Epoch (Outer Loop):  15%|█▌        | 79/512 [06:53<37:37,  5.21s/it]"
     ]
    },
    {
     "name": "stdout",
     "output_type": "stream",
     "text": [
      "Transferred Data\n"
     ]
    },
    {
     "name": "stderr",
     "output_type": "stream",
     "text": [
      "Epoch 80/512 (Inner K-Epochs): 100%|██████████| 64/64 [00:05<00:00, 12.43it/s]\n",
      "Main Epoch (Outer Loop):  16%|█▌        | 80/512 [06:58<37:34,  5.22s/it]"
     ]
    },
    {
     "name": "stdout",
     "output_type": "stream",
     "text": [
      "Transferred Data\n"
     ]
    },
    {
     "name": "stderr",
     "output_type": "stream",
     "text": [
      "Epoch 81/512 (Inner K-Epochs): 100%|██████████| 64/64 [00:05<00:00, 12.47it/s]\n",
      "Main Epoch (Outer Loop):  16%|█▌        | 81/512 [07:03<37:29,  5.22s/it]"
     ]
    },
    {
     "name": "stdout",
     "output_type": "stream",
     "text": [
      "Transferred Data\n"
     ]
    },
    {
     "name": "stderr",
     "output_type": "stream",
     "text": [
      "Epoch 82/512 (Inner K-Epochs): 100%|██████████| 64/64 [00:05<00:00, 12.47it/s]\n",
      "Main Epoch (Outer Loop):  16%|█▌        | 82/512 [07:08<37:23,  5.22s/it]"
     ]
    },
    {
     "name": "stdout",
     "output_type": "stream",
     "text": [
      "Transferred Data\n"
     ]
    },
    {
     "name": "stderr",
     "output_type": "stream",
     "text": [
      "Epoch 83/512 (Inner K-Epochs): 100%|██████████| 64/64 [00:05<00:00, 12.39it/s]\n",
      "Main Epoch (Outer Loop):  16%|█▌        | 83/512 [07:13<37:20,  5.22s/it]"
     ]
    },
    {
     "name": "stdout",
     "output_type": "stream",
     "text": [
      "Transferred Data\n"
     ]
    },
    {
     "name": "stderr",
     "output_type": "stream",
     "text": [
      "Epoch 84/512 (Inner K-Epochs): 100%|██████████| 64/64 [00:05<00:00, 12.48it/s]\n",
      "Main Epoch (Outer Loop):  16%|█▋        | 84/512 [07:19<37:16,  5.22s/it]"
     ]
    },
    {
     "name": "stdout",
     "output_type": "stream",
     "text": [
      "Transferred Data\n"
     ]
    },
    {
     "name": "stderr",
     "output_type": "stream",
     "text": [
      "Epoch 85/512 (Inner K-Epochs): 100%|██████████| 64/64 [00:05<00:00, 12.42it/s]\n",
      "Main Epoch (Outer Loop):  17%|█▋        | 85/512 [07:24<37:12,  5.23s/it]"
     ]
    },
    {
     "name": "stdout",
     "output_type": "stream",
     "text": [
      "Transferred Data\n"
     ]
    },
    {
     "name": "stderr",
     "output_type": "stream",
     "text": [
      "Epoch 86/512 (Inner K-Epochs): 100%|██████████| 64/64 [00:05<00:00, 12.33it/s]\n",
      "Main Epoch (Outer Loop):  17%|█▋        | 86/512 [07:29<37:13,  5.24s/it]"
     ]
    },
    {
     "name": "stdout",
     "output_type": "stream",
     "text": [
      "Transferred Data\n"
     ]
    },
    {
     "name": "stderr",
     "output_type": "stream",
     "text": [
      "Epoch 87/512 (Inner K-Epochs): 100%|██████████| 64/64 [00:05<00:00, 12.34it/s]\n",
      "Main Epoch (Outer Loop):  17%|█▋        | 87/512 [07:34<37:10,  5.25s/it]"
     ]
    },
    {
     "name": "stdout",
     "output_type": "stream",
     "text": [
      "Transferred Data\n"
     ]
    },
    {
     "name": "stderr",
     "output_type": "stream",
     "text": [
      "Epoch 88/512 (Inner K-Epochs): 100%|██████████| 64/64 [00:05<00:00, 12.38it/s]\n",
      "Main Epoch (Outer Loop):  17%|█▋        | 88/512 [07:40<37:05,  5.25s/it]"
     ]
    },
    {
     "name": "stdout",
     "output_type": "stream",
     "text": [
      "Transferred Data\n"
     ]
    },
    {
     "name": "stderr",
     "output_type": "stream",
     "text": [
      "Epoch 89/512 (Inner K-Epochs): 100%|██████████| 64/64 [00:05<00:00, 12.43it/s]\n",
      "Main Epoch (Outer Loop):  17%|█▋        | 89/512 [07:45<36:57,  5.24s/it]"
     ]
    },
    {
     "name": "stdout",
     "output_type": "stream",
     "text": [
      "Transferred Data\n"
     ]
    },
    {
     "name": "stderr",
     "output_type": "stream",
     "text": [
      "Epoch 90/512 (Inner K-Epochs): 100%|██████████| 64/64 [00:05<00:00, 12.47it/s]\n",
      "Main Epoch (Outer Loop):  18%|█▊        | 90/512 [07:50<36:48,  5.23s/it]"
     ]
    },
    {
     "name": "stdout",
     "output_type": "stream",
     "text": [
      "Transferred Data\n"
     ]
    },
    {
     "name": "stderr",
     "output_type": "stream",
     "text": [
      "Epoch 91/512 (Inner K-Epochs): 100%|██████████| 64/64 [00:05<00:00, 12.42it/s]\n",
      "Main Epoch (Outer Loop):  18%|█▊        | 91/512 [07:55<36:44,  5.24s/it]"
     ]
    },
    {
     "name": "stdout",
     "output_type": "stream",
     "text": [
      "Transferred Data\n"
     ]
    },
    {
     "name": "stderr",
     "output_type": "stream",
     "text": [
      "Epoch 92/512 (Inner K-Epochs): 100%|██████████| 64/64 [00:05<00:00, 12.44it/s]\n",
      "Main Epoch (Outer Loop):  18%|█▊        | 92/512 [08:01<36:38,  5.23s/it]"
     ]
    },
    {
     "name": "stdout",
     "output_type": "stream",
     "text": [
      "Transferred Data\n"
     ]
    },
    {
     "name": "stderr",
     "output_type": "stream",
     "text": [
      "Epoch 93/512 (Inner K-Epochs): 100%|██████████| 64/64 [00:05<00:00, 12.43it/s]\n",
      "Main Epoch (Outer Loop):  18%|█▊        | 93/512 [08:06<36:32,  5.23s/it]"
     ]
    },
    {
     "name": "stdout",
     "output_type": "stream",
     "text": [
      "Transferred Data\n"
     ]
    },
    {
     "name": "stderr",
     "output_type": "stream",
     "text": [
      "Epoch 94/512 (Inner K-Epochs): 100%|██████████| 64/64 [00:05<00:00, 12.50it/s]\n",
      "Main Epoch (Outer Loop):  18%|█▊        | 94/512 [08:11<36:23,  5.22s/it]"
     ]
    },
    {
     "name": "stdout",
     "output_type": "stream",
     "text": [
      "Transferred Data\n"
     ]
    },
    {
     "name": "stderr",
     "output_type": "stream",
     "text": [
      "Epoch 95/512 (Inner K-Epochs): 100%|██████████| 64/64 [00:05<00:00, 12.50it/s]\n",
      "Main Epoch (Outer Loop):  19%|█▊        | 95/512 [08:16<36:16,  5.22s/it]"
     ]
    },
    {
     "name": "stdout",
     "output_type": "stream",
     "text": [
      "Transferred Data\n"
     ]
    },
    {
     "name": "stderr",
     "output_type": "stream",
     "text": [
      "Epoch 96/512 (Inner K-Epochs): 100%|██████████| 64/64 [00:05<00:00, 12.53it/s]\n",
      "Main Epoch (Outer Loop):  19%|█▉        | 96/512 [08:21<36:09,  5.22s/it]"
     ]
    },
    {
     "name": "stdout",
     "output_type": "stream",
     "text": [
      "Transferred Data\n"
     ]
    },
    {
     "name": "stderr",
     "output_type": "stream",
     "text": [
      "Epoch 97/512 (Inner K-Epochs): 100%|██████████| 64/64 [00:05<00:00, 12.48it/s]\n",
      "Main Epoch (Outer Loop):  19%|█▉        | 97/512 [08:27<36:03,  5.21s/it]"
     ]
    },
    {
     "name": "stdout",
     "output_type": "stream",
     "text": [
      "Transferred Data\n"
     ]
    },
    {
     "name": "stderr",
     "output_type": "stream",
     "text": [
      "Epoch 98/512 (Inner K-Epochs): 100%|██████████| 64/64 [00:05<00:00, 12.42it/s]\n",
      "Main Epoch (Outer Loop):  19%|█▉        | 98/512 [08:32<36:01,  5.22s/it]"
     ]
    },
    {
     "name": "stdout",
     "output_type": "stream",
     "text": [
      "Transferred Data\n"
     ]
    },
    {
     "name": "stderr",
     "output_type": "stream",
     "text": [
      "Epoch 99/512 (Inner K-Epochs): 100%|██████████| 64/64 [00:05<00:00, 12.39it/s]\n",
      "Main Epoch (Outer Loop):  19%|█▉        | 99/512 [08:37<35:59,  5.23s/it]"
     ]
    },
    {
     "name": "stdout",
     "output_type": "stream",
     "text": [
      "Transferred Data\n"
     ]
    },
    {
     "name": "stderr",
     "output_type": "stream",
     "text": [
      "Epoch 100/512 (Inner K-Epochs): 100%|██████████| 64/64 [00:05<00:00, 12.39it/s]\n",
      "Main Epoch (Outer Loop):  20%|█▉        | 100/512 [08:42<35:56,  5.24s/it]"
     ]
    },
    {
     "name": "stdout",
     "output_type": "stream",
     "text": [
      "Transferred Data\n"
     ]
    },
    {
     "name": "stderr",
     "output_type": "stream",
     "text": [
      "Epoch 101/512 (Inner K-Epochs): 100%|██████████| 64/64 [00:05<00:00, 12.47it/s]\n",
      "Main Epoch (Outer Loop):  20%|█▉        | 101/512 [08:48<35:49,  5.23s/it]"
     ]
    },
    {
     "name": "stdout",
     "output_type": "stream",
     "text": [
      "Transferred Data\n"
     ]
    },
    {
     "name": "stderr",
     "output_type": "stream",
     "text": [
      "Epoch 102/512 (Inner K-Epochs): 100%|██████████| 64/64 [00:05<00:00, 12.40it/s]\n",
      "Main Epoch (Outer Loop):  20%|█▉        | 102/512 [08:53<35:44,  5.23s/it]"
     ]
    },
    {
     "name": "stdout",
     "output_type": "stream",
     "text": [
      "Transferred Data\n"
     ]
    },
    {
     "name": "stderr",
     "output_type": "stream",
     "text": [
      "Epoch 103/512 (Inner K-Epochs): 100%|██████████| 64/64 [00:05<00:00, 12.45it/s]\n",
      "Main Epoch (Outer Loop):  20%|██        | 103/512 [08:58<35:39,  5.23s/it]"
     ]
    },
    {
     "name": "stdout",
     "output_type": "stream",
     "text": [
      "Transferred Data\n"
     ]
    },
    {
     "name": "stderr",
     "output_type": "stream",
     "text": [
      "Epoch 104/512 (Inner K-Epochs): 100%|██████████| 64/64 [00:05<00:00, 12.43it/s]\n",
      "Main Epoch (Outer Loop):  20%|██        | 104/512 [09:03<35:34,  5.23s/it]"
     ]
    },
    {
     "name": "stdout",
     "output_type": "stream",
     "text": [
      "Transferred Data\n"
     ]
    },
    {
     "name": "stderr",
     "output_type": "stream",
     "text": [
      "Epoch 105/512 (Inner K-Epochs): 100%|██████████| 64/64 [00:05<00:00, 12.40it/s]\n",
      "Main Epoch (Outer Loop):  21%|██        | 105/512 [09:09<35:31,  5.24s/it]"
     ]
    },
    {
     "name": "stdout",
     "output_type": "stream",
     "text": [
      "Transferred Data\n"
     ]
    },
    {
     "name": "stderr",
     "output_type": "stream",
     "text": [
      "Epoch 106/512 (Inner K-Epochs): 100%|██████████| 64/64 [00:05<00:00, 12.42it/s]\n",
      "Main Epoch (Outer Loop):  21%|██        | 106/512 [09:14<35:25,  5.24s/it]"
     ]
    },
    {
     "name": "stdout",
     "output_type": "stream",
     "text": [
      "Transferred Data\n"
     ]
    },
    {
     "name": "stderr",
     "output_type": "stream",
     "text": [
      "Epoch 107/512 (Inner K-Epochs): 100%|██████████| 64/64 [00:05<00:00, 12.43it/s]\n",
      "Main Epoch (Outer Loop):  21%|██        | 107/512 [09:19<35:22,  5.24s/it]"
     ]
    },
    {
     "name": "stdout",
     "output_type": "stream",
     "text": [
      "Transferred Data\n"
     ]
    },
    {
     "name": "stderr",
     "output_type": "stream",
     "text": [
      "Epoch 108/512 (Inner K-Epochs): 100%|██████████| 64/64 [00:05<00:00, 12.47it/s]\n",
      "Main Epoch (Outer Loop):  21%|██        | 108/512 [09:24<35:14,  5.23s/it]"
     ]
    },
    {
     "name": "stdout",
     "output_type": "stream",
     "text": [
      "Transferred Data\n"
     ]
    },
    {
     "name": "stderr",
     "output_type": "stream",
     "text": [
      "Epoch 109/512 (Inner K-Epochs): 100%|██████████| 64/64 [00:05<00:00, 12.43it/s]\n",
      "Main Epoch (Outer Loop):  21%|██▏       | 109/512 [09:29<35:09,  5.23s/it]"
     ]
    },
    {
     "name": "stdout",
     "output_type": "stream",
     "text": [
      "Transferred Data\n"
     ]
    },
    {
     "name": "stderr",
     "output_type": "stream",
     "text": [
      "Epoch 110/512 (Inner K-Epochs): 100%|██████████| 64/64 [00:05<00:00, 12.43it/s]\n",
      "Main Epoch (Outer Loop):  21%|██▏       | 110/512 [09:35<35:03,  5.23s/it]"
     ]
    },
    {
     "name": "stdout",
     "output_type": "stream",
     "text": [
      "Transferred Data\n"
     ]
    },
    {
     "name": "stderr",
     "output_type": "stream",
     "text": [
      "Epoch 111/512 (Inner K-Epochs): 100%|██████████| 64/64 [00:05<00:00, 12.46it/s]\n",
      "Main Epoch (Outer Loop):  22%|██▏       | 111/512 [09:40<34:56,  5.23s/it]"
     ]
    },
    {
     "name": "stdout",
     "output_type": "stream",
     "text": [
      "Transferred Data\n"
     ]
    },
    {
     "name": "stderr",
     "output_type": "stream",
     "text": [
      "Epoch 112/512 (Inner K-Epochs): 100%|██████████| 64/64 [00:05<00:00, 12.35it/s]\n",
      "Main Epoch (Outer Loop):  22%|██▏       | 112/512 [09:45<34:56,  5.24s/it]"
     ]
    },
    {
     "name": "stdout",
     "output_type": "stream",
     "text": [
      "Transferred Data\n"
     ]
    },
    {
     "name": "stderr",
     "output_type": "stream",
     "text": [
      "Epoch 113/512 (Inner K-Epochs): 100%|██████████| 64/64 [00:05<00:00, 12.34it/s]\n",
      "Main Epoch (Outer Loop):  22%|██▏       | 113/512 [09:50<34:53,  5.25s/it]"
     ]
    },
    {
     "name": "stdout",
     "output_type": "stream",
     "text": [
      "Transferred Data\n"
     ]
    },
    {
     "name": "stderr",
     "output_type": "stream",
     "text": [
      "Epoch 114/512 (Inner K-Epochs): 100%|██████████| 64/64 [00:05<00:00, 12.41it/s]\n",
      "Main Epoch (Outer Loop):  22%|██▏       | 114/512 [09:56<34:48,  5.25s/it]"
     ]
    },
    {
     "name": "stdout",
     "output_type": "stream",
     "text": [
      "Transferred Data\n"
     ]
    },
    {
     "name": "stderr",
     "output_type": "stream",
     "text": [
      "Epoch 115/512 (Inner K-Epochs): 100%|██████████| 64/64 [00:05<00:00, 12.43it/s]\n",
      "Main Epoch (Outer Loop):  22%|██▏       | 115/512 [10:01<34:41,  5.24s/it]"
     ]
    },
    {
     "name": "stdout",
     "output_type": "stream",
     "text": [
      "Transferred Data\n"
     ]
    },
    {
     "name": "stderr",
     "output_type": "stream",
     "text": [
      "Epoch 116/512 (Inner K-Epochs): 100%|██████████| 64/64 [00:05<00:00, 12.39it/s]\n",
      "Main Epoch (Outer Loop):  23%|██▎       | 116/512 [10:06<34:38,  5.25s/it]"
     ]
    },
    {
     "name": "stdout",
     "output_type": "stream",
     "text": [
      "Transferred Data\n"
     ]
    },
    {
     "name": "stderr",
     "output_type": "stream",
     "text": [
      "Epoch 117/512 (Inner K-Epochs): 100%|██████████| 64/64 [00:05<00:00, 12.39it/s]\n",
      "Main Epoch (Outer Loop):  23%|██▎       | 117/512 [10:11<34:33,  5.25s/it]"
     ]
    },
    {
     "name": "stdout",
     "output_type": "stream",
     "text": [
      "Transferred Data\n"
     ]
    },
    {
     "name": "stderr",
     "output_type": "stream",
     "text": [
      "Epoch 118/512 (Inner K-Epochs): 100%|██████████| 64/64 [00:05<00:00, 12.35it/s]\n",
      "Main Epoch (Outer Loop):  23%|██▎       | 118/512 [10:17<34:30,  5.26s/it]"
     ]
    },
    {
     "name": "stdout",
     "output_type": "stream",
     "text": [
      "Transferred Data\n"
     ]
    },
    {
     "name": "stderr",
     "output_type": "stream",
     "text": [
      "Epoch 119/512 (Inner K-Epochs): 100%|██████████| 64/64 [00:05<00:00, 12.39it/s]\n",
      "Main Epoch (Outer Loop):  23%|██▎       | 119/512 [10:22<34:24,  5.25s/it]"
     ]
    },
    {
     "name": "stdout",
     "output_type": "stream",
     "text": [
      "Transferred Data\n"
     ]
    },
    {
     "name": "stderr",
     "output_type": "stream",
     "text": [
      "Epoch 120/512 (Inner K-Epochs): 100%|██████████| 64/64 [00:05<00:00, 12.22it/s]\n",
      "Main Epoch (Outer Loop):  23%|██▎       | 120/512 [10:27<34:27,  5.27s/it]"
     ]
    },
    {
     "name": "stdout",
     "output_type": "stream",
     "text": [
      "Transferred Data\n"
     ]
    },
    {
     "name": "stderr",
     "output_type": "stream",
     "text": [
      "Epoch 121/512 (Inner K-Epochs): 100%|██████████| 64/64 [00:04<00:00, 12.80it/s]\n",
      "Main Epoch (Outer Loop):  24%|██▎       | 121/512 [10:32<33:59,  5.21s/it]"
     ]
    },
    {
     "name": "stdout",
     "output_type": "stream",
     "text": [
      "Transferred Data\n"
     ]
    },
    {
     "name": "stderr",
     "output_type": "stream",
     "text": [
      "Epoch 122/512 (Inner K-Epochs): 100%|██████████| 64/64 [00:04<00:00, 12.87it/s]\n",
      "Main Epoch (Outer Loop):  24%|██▍       | 122/512 [10:37<33:34,  5.17s/it]"
     ]
    },
    {
     "name": "stdout",
     "output_type": "stream",
     "text": [
      "Transferred Data\n"
     ]
    },
    {
     "name": "stderr",
     "output_type": "stream",
     "text": [
      "Epoch 123/512 (Inner K-Epochs): 100%|██████████| 64/64 [00:04<00:00, 12.85it/s]\n",
      "Main Epoch (Outer Loop):  24%|██▍       | 123/512 [10:43<33:18,  5.14s/it]"
     ]
    },
    {
     "name": "stdout",
     "output_type": "stream",
     "text": [
      "Transferred Data\n"
     ]
    },
    {
     "name": "stderr",
     "output_type": "stream",
     "text": [
      "Epoch 124/512 (Inner K-Epochs): 100%|██████████| 64/64 [00:04<00:00, 12.85it/s]\n",
      "Main Epoch (Outer Loop):  24%|██▍       | 124/512 [10:48<33:04,  5.11s/it]"
     ]
    },
    {
     "name": "stdout",
     "output_type": "stream",
     "text": [
      "Transferred Data\n"
     ]
    },
    {
     "name": "stderr",
     "output_type": "stream",
     "text": [
      "Epoch 125/512 (Inner K-Epochs): 100%|██████████| 64/64 [00:04<00:00, 12.84it/s]\n",
      "Main Epoch (Outer Loop):  24%|██▍       | 125/512 [10:53<32:53,  5.10s/it]"
     ]
    },
    {
     "name": "stdout",
     "output_type": "stream",
     "text": [
      "Transferred Data\n"
     ]
    },
    {
     "name": "stderr",
     "output_type": "stream",
     "text": [
      "Epoch 126/512 (Inner K-Epochs): 100%|██████████| 64/64 [00:04<00:00, 12.84it/s]\n",
      "Main Epoch (Outer Loop):  25%|██▍       | 126/512 [10:58<32:44,  5.09s/it]"
     ]
    },
    {
     "name": "stdout",
     "output_type": "stream",
     "text": [
      "Transferred Data\n"
     ]
    },
    {
     "name": "stderr",
     "output_type": "stream",
     "text": [
      "Epoch 127/512 (Inner K-Epochs): 100%|██████████| 64/64 [00:05<00:00, 12.78it/s]\n",
      "Main Epoch (Outer Loop):  25%|██▍       | 127/512 [11:03<32:39,  5.09s/it]"
     ]
    },
    {
     "name": "stdout",
     "output_type": "stream",
     "text": [
      "Transferred Data\n"
     ]
    },
    {
     "name": "stderr",
     "output_type": "stream",
     "text": [
      "Epoch 128/512 (Inner K-Epochs): 100%|██████████| 64/64 [00:04<00:00, 12.83it/s]\n",
      "Main Epoch (Outer Loop):  25%|██▌       | 128/512 [11:08<32:51,  5.13s/it]"
     ]
    },
    {
     "name": "stdout",
     "output_type": "stream",
     "text": [
      "Epoch 128/512, Loss: 0.0000, Ratio: 1.00000, Entropy Term: 0.00000\n",
      "Epoch 128 | Entire Validation Dataset Accuracy: 0.5365| 103.0 / 192.0 samples\n",
      "Transferred Data\n"
     ]
    },
    {
     "name": "stderr",
     "output_type": "stream",
     "text": [
      "Epoch 129/512 (Inner K-Epochs): 100%|██████████| 64/64 [00:04<00:00, 12.87it/s]\n",
      "Main Epoch (Outer Loop):  25%|██▌       | 129/512 [11:13<32:37,  5.11s/it]"
     ]
    },
    {
     "name": "stdout",
     "output_type": "stream",
     "text": [
      "Transferred Data\n"
     ]
    },
    {
     "name": "stderr",
     "output_type": "stream",
     "text": [
      "Epoch 130/512 (Inner K-Epochs): 100%|██████████| 64/64 [00:05<00:00, 12.76it/s]\n",
      "Main Epoch (Outer Loop):  25%|██▌       | 130/512 [11:18<32:31,  5.11s/it]"
     ]
    },
    {
     "name": "stdout",
     "output_type": "stream",
     "text": [
      "Transferred Data\n"
     ]
    },
    {
     "name": "stderr",
     "output_type": "stream",
     "text": [
      "Epoch 131/512 (Inner K-Epochs): 100%|██████████| 64/64 [00:04<00:00, 12.83it/s]\n",
      "Main Epoch (Outer Loop):  26%|██▌       | 131/512 [11:23<32:21,  5.10s/it]"
     ]
    },
    {
     "name": "stdout",
     "output_type": "stream",
     "text": [
      "Transferred Data\n"
     ]
    },
    {
     "name": "stderr",
     "output_type": "stream",
     "text": [
      "Epoch 132/512 (Inner K-Epochs): 100%|██████████| 64/64 [00:04<00:00, 12.80it/s]\n",
      "Main Epoch (Outer Loop):  26%|██▌       | 132/512 [11:28<32:14,  5.09s/it]"
     ]
    },
    {
     "name": "stdout",
     "output_type": "stream",
     "text": [
      "Transferred Data\n"
     ]
    },
    {
     "name": "stderr",
     "output_type": "stream",
     "text": [
      "Epoch 133/512 (Inner K-Epochs): 100%|██████████| 64/64 [00:05<00:00, 12.75it/s]\n",
      "Main Epoch (Outer Loop):  26%|██▌       | 133/512 [11:33<32:11,  5.10s/it]"
     ]
    },
    {
     "name": "stdout",
     "output_type": "stream",
     "text": [
      "Transferred Data\n"
     ]
    },
    {
     "name": "stderr",
     "output_type": "stream",
     "text": [
      "Epoch 134/512 (Inner K-Epochs): 100%|██████████| 64/64 [00:04<00:00, 12.82it/s]\n",
      "Main Epoch (Outer Loop):  26%|██▌       | 134/512 [11:39<32:03,  5.09s/it]"
     ]
    },
    {
     "name": "stdout",
     "output_type": "stream",
     "text": [
      "Transferred Data\n"
     ]
    },
    {
     "name": "stderr",
     "output_type": "stream",
     "text": [
      "Epoch 135/512 (Inner K-Epochs): 100%|██████████| 64/64 [00:04<00:00, 12.85it/s]\n",
      "Main Epoch (Outer Loop):  26%|██▋       | 135/512 [11:44<31:55,  5.08s/it]"
     ]
    },
    {
     "name": "stdout",
     "output_type": "stream",
     "text": [
      "Transferred Data\n"
     ]
    },
    {
     "name": "stderr",
     "output_type": "stream",
     "text": [
      "Epoch 136/512 (Inner K-Epochs): 100%|██████████| 64/64 [00:05<00:00, 12.80it/s]\n",
      "Main Epoch (Outer Loop):  27%|██▋       | 136/512 [11:49<31:51,  5.08s/it]"
     ]
    },
    {
     "name": "stdout",
     "output_type": "stream",
     "text": [
      "Transferred Data\n"
     ]
    },
    {
     "name": "stderr",
     "output_type": "stream",
     "text": [
      "Epoch 137/512 (Inner K-Epochs): 100%|██████████| 64/64 [00:05<00:00, 12.77it/s]\n",
      "Main Epoch (Outer Loop):  27%|██▋       | 137/512 [11:54<31:46,  5.08s/it]"
     ]
    },
    {
     "name": "stdout",
     "output_type": "stream",
     "text": [
      "Transferred Data\n"
     ]
    },
    {
     "name": "stderr",
     "output_type": "stream",
     "text": [
      "Epoch 138/512 (Inner K-Epochs): 100%|██████████| 64/64 [00:04<00:00, 12.85it/s]\n",
      "Main Epoch (Outer Loop):  27%|██▋       | 138/512 [11:59<31:40,  5.08s/it]"
     ]
    },
    {
     "name": "stdout",
     "output_type": "stream",
     "text": [
      "Transferred Data\n"
     ]
    },
    {
     "name": "stderr",
     "output_type": "stream",
     "text": [
      "Epoch 139/512 (Inner K-Epochs): 100%|██████████| 64/64 [00:05<00:00, 12.77it/s]\n",
      "Main Epoch (Outer Loop):  27%|██▋       | 139/512 [12:04<31:36,  5.09s/it]"
     ]
    },
    {
     "name": "stdout",
     "output_type": "stream",
     "text": [
      "Transferred Data\n"
     ]
    },
    {
     "name": "stderr",
     "output_type": "stream",
     "text": [
      "Epoch 140/512 (Inner K-Epochs): 100%|██████████| 64/64 [00:04<00:00, 12.85it/s]\n",
      "Main Epoch (Outer Loop):  27%|██▋       | 140/512 [12:09<31:29,  5.08s/it]"
     ]
    },
    {
     "name": "stdout",
     "output_type": "stream",
     "text": [
      "Transferred Data\n"
     ]
    },
    {
     "name": "stderr",
     "output_type": "stream",
     "text": [
      "Epoch 141/512 (Inner K-Epochs): 100%|██████████| 64/64 [00:05<00:00, 12.77it/s]\n",
      "Main Epoch (Outer Loop):  28%|██▊       | 141/512 [12:14<31:25,  5.08s/it]"
     ]
    },
    {
     "name": "stdout",
     "output_type": "stream",
     "text": [
      "Transferred Data\n"
     ]
    },
    {
     "name": "stderr",
     "output_type": "stream",
     "text": [
      "Epoch 142/512 (Inner K-Epochs): 100%|██████████| 64/64 [00:05<00:00, 12.79it/s]\n",
      "Main Epoch (Outer Loop):  28%|██▊       | 142/512 [12:19<31:21,  5.08s/it]"
     ]
    },
    {
     "name": "stdout",
     "output_type": "stream",
     "text": [
      "Transferred Data\n"
     ]
    },
    {
     "name": "stderr",
     "output_type": "stream",
     "text": [
      "Epoch 143/512 (Inner K-Epochs): 100%|██████████| 64/64 [00:04<00:00, 12.83it/s]\n",
      "Main Epoch (Outer Loop):  28%|██▊       | 143/512 [12:24<31:15,  5.08s/it]"
     ]
    },
    {
     "name": "stdout",
     "output_type": "stream",
     "text": [
      "Transferred Data\n"
     ]
    },
    {
     "name": "stderr",
     "output_type": "stream",
     "text": [
      "Epoch 144/512 (Inner K-Epochs): 100%|██████████| 64/64 [00:04<00:00, 12.83it/s]\n",
      "Main Epoch (Outer Loop):  28%|██▊       | 144/512 [12:29<31:09,  5.08s/it]"
     ]
    },
    {
     "name": "stdout",
     "output_type": "stream",
     "text": [
      "Transferred Data\n"
     ]
    },
    {
     "name": "stderr",
     "output_type": "stream",
     "text": [
      "Epoch 145/512 (Inner K-Epochs): 100%|██████████| 64/64 [00:04<00:00, 12.81it/s]\n",
      "Main Epoch (Outer Loop):  28%|██▊       | 145/512 [12:34<31:04,  5.08s/it]"
     ]
    },
    {
     "name": "stdout",
     "output_type": "stream",
     "text": [
      "Transferred Data\n"
     ]
    },
    {
     "name": "stderr",
     "output_type": "stream",
     "text": [
      "Epoch 146/512 (Inner K-Epochs): 100%|██████████| 64/64 [00:04<00:00, 12.82it/s]\n",
      "Main Epoch (Outer Loop):  29%|██▊       | 146/512 [12:39<30:58,  5.08s/it]"
     ]
    },
    {
     "name": "stdout",
     "output_type": "stream",
     "text": [
      "Transferred Data\n"
     ]
    },
    {
     "name": "stderr",
     "output_type": "stream",
     "text": [
      "Epoch 147/512 (Inner K-Epochs): 100%|██████████| 64/64 [00:04<00:00, 12.86it/s]\n",
      "Main Epoch (Outer Loop):  29%|██▊       | 147/512 [12:45<30:51,  5.07s/it]"
     ]
    },
    {
     "name": "stdout",
     "output_type": "stream",
     "text": [
      "Transferred Data\n"
     ]
    },
    {
     "name": "stderr",
     "output_type": "stream",
     "text": [
      "Epoch 148/512 (Inner K-Epochs): 100%|██████████| 64/64 [00:04<00:00, 12.82it/s]\n",
      "Main Epoch (Outer Loop):  29%|██▉       | 148/512 [12:50<30:47,  5.08s/it]"
     ]
    },
    {
     "name": "stdout",
     "output_type": "stream",
     "text": [
      "Transferred Data\n"
     ]
    },
    {
     "name": "stderr",
     "output_type": "stream",
     "text": [
      "Epoch 149/512 (Inner K-Epochs): 100%|██████████| 64/64 [00:04<00:00, 12.81it/s]\n",
      "Main Epoch (Outer Loop):  29%|██▉       | 149/512 [12:55<30:43,  5.08s/it]"
     ]
    },
    {
     "name": "stdout",
     "output_type": "stream",
     "text": [
      "Transferred Data\n"
     ]
    },
    {
     "name": "stderr",
     "output_type": "stream",
     "text": [
      "Epoch 150/512 (Inner K-Epochs): 100%|██████████| 64/64 [00:05<00:00, 12.79it/s]\n",
      "Main Epoch (Outer Loop):  29%|██▉       | 150/512 [13:00<30:38,  5.08s/it]"
     ]
    },
    {
     "name": "stdout",
     "output_type": "stream",
     "text": [
      "Transferred Data\n"
     ]
    },
    {
     "name": "stderr",
     "output_type": "stream",
     "text": [
      "Epoch 151/512 (Inner K-Epochs): 100%|██████████| 64/64 [00:05<00:00, 12.79it/s]\n",
      "Main Epoch (Outer Loop):  29%|██▉       | 151/512 [13:05<30:34,  5.08s/it]"
     ]
    },
    {
     "name": "stdout",
     "output_type": "stream",
     "text": [
      "Transferred Data\n"
     ]
    },
    {
     "name": "stderr",
     "output_type": "stream",
     "text": [
      "Epoch 152/512 (Inner K-Epochs): 100%|██████████| 64/64 [00:04<00:00, 12.84it/s]\n",
      "Main Epoch (Outer Loop):  30%|██▉       | 152/512 [13:10<30:28,  5.08s/it]"
     ]
    },
    {
     "name": "stdout",
     "output_type": "stream",
     "text": [
      "Transferred Data\n"
     ]
    },
    {
     "name": "stderr",
     "output_type": "stream",
     "text": [
      "Epoch 153/512 (Inner K-Epochs): 100%|██████████| 64/64 [00:04<00:00, 12.82it/s]\n",
      "Main Epoch (Outer Loop):  30%|██▉       | 153/512 [13:15<30:23,  5.08s/it]"
     ]
    },
    {
     "name": "stdout",
     "output_type": "stream",
     "text": [
      "Transferred Data\n"
     ]
    },
    {
     "name": "stderr",
     "output_type": "stream",
     "text": [
      "Epoch 154/512 (Inner K-Epochs): 100%|██████████| 64/64 [00:04<00:00, 12.81it/s]\n",
      "Main Epoch (Outer Loop):  30%|███       | 154/512 [13:20<30:17,  5.08s/it]"
     ]
    },
    {
     "name": "stdout",
     "output_type": "stream",
     "text": [
      "Transferred Data\n"
     ]
    },
    {
     "name": "stderr",
     "output_type": "stream",
     "text": [
      "Epoch 155/512 (Inner K-Epochs): 100%|██████████| 64/64 [00:04<00:00, 12.81it/s]\n",
      "Main Epoch (Outer Loop):  30%|███       | 155/512 [13:25<30:12,  5.08s/it]"
     ]
    },
    {
     "name": "stdout",
     "output_type": "stream",
     "text": [
      "Transferred Data\n"
     ]
    },
    {
     "name": "stderr",
     "output_type": "stream",
     "text": [
      "Epoch 156/512 (Inner K-Epochs): 100%|██████████| 64/64 [00:05<00:00, 12.79it/s]\n",
      "Main Epoch (Outer Loop):  30%|███       | 156/512 [13:30<30:08,  5.08s/it]"
     ]
    },
    {
     "name": "stdout",
     "output_type": "stream",
     "text": [
      "Transferred Data\n"
     ]
    },
    {
     "name": "stderr",
     "output_type": "stream",
     "text": [
      "Epoch 157/512 (Inner K-Epochs): 100%|██████████| 64/64 [00:04<00:00, 12.82it/s]\n",
      "Main Epoch (Outer Loop):  31%|███       | 157/512 [13:35<30:03,  5.08s/it]"
     ]
    },
    {
     "name": "stdout",
     "output_type": "stream",
     "text": [
      "Transferred Data\n"
     ]
    },
    {
     "name": "stderr",
     "output_type": "stream",
     "text": [
      "Epoch 158/512 (Inner K-Epochs): 100%|██████████| 64/64 [00:04<00:00, 12.82it/s]\n",
      "Main Epoch (Outer Loop):  31%|███       | 158/512 [13:40<29:58,  5.08s/it]"
     ]
    },
    {
     "name": "stdout",
     "output_type": "stream",
     "text": [
      "Transferred Data\n"
     ]
    },
    {
     "name": "stderr",
     "output_type": "stream",
     "text": [
      "Epoch 159/512 (Inner K-Epochs): 100%|██████████| 64/64 [00:04<00:00, 12.84it/s]\n",
      "Main Epoch (Outer Loop):  31%|███       | 159/512 [13:45<29:51,  5.08s/it]"
     ]
    },
    {
     "name": "stdout",
     "output_type": "stream",
     "text": [
      "Transferred Data\n"
     ]
    },
    {
     "name": "stderr",
     "output_type": "stream",
     "text": [
      "Epoch 160/512 (Inner K-Epochs): 100%|██████████| 64/64 [00:04<00:00, 12.84it/s]\n",
      "Main Epoch (Outer Loop):  31%|███▏      | 160/512 [13:51<29:46,  5.07s/it]"
     ]
    },
    {
     "name": "stdout",
     "output_type": "stream",
     "text": [
      "Transferred Data\n"
     ]
    },
    {
     "name": "stderr",
     "output_type": "stream",
     "text": [
      "Epoch 161/512 (Inner K-Epochs): 100%|██████████| 64/64 [00:05<00:00, 12.78it/s]\n",
      "Main Epoch (Outer Loop):  31%|███▏      | 161/512 [13:56<29:42,  5.08s/it]"
     ]
    },
    {
     "name": "stdout",
     "output_type": "stream",
     "text": [
      "Transferred Data\n"
     ]
    },
    {
     "name": "stderr",
     "output_type": "stream",
     "text": [
      "Epoch 162/512 (Inner K-Epochs): 100%|██████████| 64/64 [00:05<00:00, 12.76it/s]\n",
      "Main Epoch (Outer Loop):  32%|███▏      | 162/512 [14:01<29:39,  5.08s/it]"
     ]
    },
    {
     "name": "stdout",
     "output_type": "stream",
     "text": [
      "Transferred Data\n"
     ]
    },
    {
     "name": "stderr",
     "output_type": "stream",
     "text": [
      "Epoch 163/512 (Inner K-Epochs): 100%|██████████| 64/64 [00:04<00:00, 12.85it/s]\n",
      "Main Epoch (Outer Loop):  32%|███▏      | 163/512 [14:06<29:32,  5.08s/it]"
     ]
    },
    {
     "name": "stdout",
     "output_type": "stream",
     "text": [
      "Transferred Data\n"
     ]
    },
    {
     "name": "stderr",
     "output_type": "stream",
     "text": [
      "Epoch 164/512 (Inner K-Epochs): 100%|██████████| 64/64 [00:04<00:00, 12.83it/s]\n",
      "Main Epoch (Outer Loop):  32%|███▏      | 164/512 [14:11<29:26,  5.08s/it]"
     ]
    },
    {
     "name": "stdout",
     "output_type": "stream",
     "text": [
      "Transferred Data\n"
     ]
    },
    {
     "name": "stderr",
     "output_type": "stream",
     "text": [
      "Epoch 165/512 (Inner K-Epochs): 100%|██████████| 64/64 [00:04<00:00, 12.82it/s]\n",
      "Main Epoch (Outer Loop):  32%|███▏      | 165/512 [14:16<29:21,  5.08s/it]"
     ]
    },
    {
     "name": "stdout",
     "output_type": "stream",
     "text": [
      "Transferred Data\n"
     ]
    },
    {
     "name": "stderr",
     "output_type": "stream",
     "text": [
      "Epoch 166/512 (Inner K-Epochs): 100%|██████████| 64/64 [00:05<00:00, 12.79it/s]\n",
      "Main Epoch (Outer Loop):  32%|███▏      | 166/512 [14:21<29:17,  5.08s/it]"
     ]
    },
    {
     "name": "stdout",
     "output_type": "stream",
     "text": [
      "Transferred Data\n"
     ]
    },
    {
     "name": "stderr",
     "output_type": "stream",
     "text": [
      "Epoch 167/512 (Inner K-Epochs): 100%|██████████| 64/64 [00:04<00:00, 12.86it/s]\n",
      "Main Epoch (Outer Loop):  33%|███▎      | 167/512 [14:26<29:10,  5.07s/it]"
     ]
    },
    {
     "name": "stdout",
     "output_type": "stream",
     "text": [
      "Transferred Data\n"
     ]
    },
    {
     "name": "stderr",
     "output_type": "stream",
     "text": [
      "Epoch 168/512 (Inner K-Epochs): 100%|██████████| 64/64 [00:05<00:00, 12.79it/s]\n",
      "Main Epoch (Outer Loop):  33%|███▎      | 168/512 [14:31<29:06,  5.08s/it]"
     ]
    },
    {
     "name": "stdout",
     "output_type": "stream",
     "text": [
      "Transferred Data\n"
     ]
    },
    {
     "name": "stderr",
     "output_type": "stream",
     "text": [
      "Epoch 169/512 (Inner K-Epochs): 100%|██████████| 64/64 [00:04<00:00, 12.85it/s]\n",
      "Main Epoch (Outer Loop):  33%|███▎      | 169/512 [14:36<29:00,  5.07s/it]"
     ]
    },
    {
     "name": "stdout",
     "output_type": "stream",
     "text": [
      "Transferred Data\n"
     ]
    },
    {
     "name": "stderr",
     "output_type": "stream",
     "text": [
      "Epoch 170/512 (Inner K-Epochs): 100%|██████████| 64/64 [00:04<00:00, 12.83it/s]\n",
      "Main Epoch (Outer Loop):  33%|███▎      | 170/512 [14:41<28:55,  5.07s/it]"
     ]
    },
    {
     "name": "stdout",
     "output_type": "stream",
     "text": [
      "Transferred Data\n"
     ]
    },
    {
     "name": "stderr",
     "output_type": "stream",
     "text": [
      "Epoch 171/512 (Inner K-Epochs): 100%|██████████| 64/64 [00:04<00:00, 12.90it/s]\n",
      "Main Epoch (Outer Loop):  33%|███▎      | 171/512 [14:46<28:47,  5.07s/it]"
     ]
    },
    {
     "name": "stdout",
     "output_type": "stream",
     "text": [
      "Transferred Data\n"
     ]
    },
    {
     "name": "stderr",
     "output_type": "stream",
     "text": [
      "Epoch 172/512 (Inner K-Epochs): 100%|██████████| 64/64 [00:04<00:00, 12.91it/s]\n",
      "Main Epoch (Outer Loop):  34%|███▎      | 172/512 [14:51<28:40,  5.06s/it]"
     ]
    },
    {
     "name": "stdout",
     "output_type": "stream",
     "text": [
      "Transferred Data\n"
     ]
    },
    {
     "name": "stderr",
     "output_type": "stream",
     "text": [
      "Epoch 173/512 (Inner K-Epochs): 100%|██████████| 64/64 [00:04<00:00, 12.87it/s]\n",
      "Main Epoch (Outer Loop):  34%|███▍      | 173/512 [14:56<28:34,  5.06s/it]"
     ]
    },
    {
     "name": "stdout",
     "output_type": "stream",
     "text": [
      "Transferred Data\n"
     ]
    },
    {
     "name": "stderr",
     "output_type": "stream",
     "text": [
      "Epoch 174/512 (Inner K-Epochs): 100%|██████████| 64/64 [00:05<00:00, 12.78it/s]\n",
      "Main Epoch (Outer Loop):  34%|███▍      | 174/512 [15:02<28:33,  5.07s/it]"
     ]
    },
    {
     "name": "stdout",
     "output_type": "stream",
     "text": [
      "Transferred Data\n"
     ]
    },
    {
     "name": "stderr",
     "output_type": "stream",
     "text": [
      "Epoch 175/512 (Inner K-Epochs): 100%|██████████| 64/64 [00:04<00:00, 12.82it/s]\n",
      "Main Epoch (Outer Loop):  34%|███▍      | 175/512 [15:07<28:29,  5.07s/it]"
     ]
    },
    {
     "name": "stdout",
     "output_type": "stream",
     "text": [
      "Transferred Data\n"
     ]
    },
    {
     "name": "stderr",
     "output_type": "stream",
     "text": [
      "Epoch 176/512 (Inner K-Epochs): 100%|██████████| 64/64 [1:21:37<00:00, 76.52s/it]\n",
      "Main Epoch (Outer Loop):  34%|███▍      | 176/512 [1:36:44<137:27:34, 1472.78s/it]"
     ]
    },
    {
     "name": "stdout",
     "output_type": "stream",
     "text": [
      "Transferred Data\n"
     ]
    },
    {
     "name": "stderr",
     "output_type": "stream",
     "text": [
      "Epoch 177/512 (Inner K-Epochs): 100%|██████████| 64/64 [00:06<00:00, 10.20it/s]\n",
      "Main Epoch (Outer Loop):  35%|███▍      | 177/512 [1:36:50<96:06:45, 1032.85s/it] "
     ]
    },
    {
     "name": "stdout",
     "output_type": "stream",
     "text": [
      "Transferred Data\n"
     ]
    },
    {
     "name": "stderr",
     "output_type": "stream",
     "text": [
      "Epoch 178/512 (Inner K-Epochs): 100%|██████████| 64/64 [00:06<00:00,  9.56it/s]\n",
      "Main Epoch (Outer Loop):  35%|███▍      | 178/512 [1:36:57<67:16:01, 725.03s/it] "
     ]
    },
    {
     "name": "stdout",
     "output_type": "stream",
     "text": [
      "Transferred Data\n"
     ]
    },
    {
     "name": "stderr",
     "output_type": "stream",
     "text": [
      "Epoch 179/512 (Inner K-Epochs): 100%|██████████| 64/64 [00:06<00:00, 10.14it/s]\n",
      "Main Epoch (Outer Loop):  35%|███▍      | 179/512 [1:37:04<47:07:25, 509.44s/it]"
     ]
    },
    {
     "name": "stdout",
     "output_type": "stream",
     "text": [
      "Transferred Data\n"
     ]
    },
    {
     "name": "stderr",
     "output_type": "stream",
     "text": [
      "Epoch 180/512 (Inner K-Epochs): 100%|██████████| 64/64 [00:05<00:00, 11.92it/s]\n",
      "Main Epoch (Outer Loop):  35%|███▌      | 180/512 [1:37:09<33:02:18, 358.25s/it]"
     ]
    },
    {
     "name": "stdout",
     "output_type": "stream",
     "text": [
      "Transferred Data\n"
     ]
    },
    {
     "name": "stderr",
     "output_type": "stream",
     "text": [
      "Epoch 181/512 (Inner K-Epochs): 100%|██████████| 64/64 [00:05<00:00, 11.62it/s]\n",
      "Main Epoch (Outer Loop):  35%|███▌      | 181/512 [1:37:15<23:12:43, 252.46s/it]"
     ]
    },
    {
     "name": "stdout",
     "output_type": "stream",
     "text": [
      "Transferred Data\n"
     ]
    },
    {
     "name": "stderr",
     "output_type": "stream",
     "text": [
      "Epoch 182/512 (Inner K-Epochs): 100%|██████████| 64/64 [00:05<00:00, 11.63it/s]\n",
      "Main Epoch (Outer Loop):  36%|███▌      | 182/512 [1:37:20<16:21:12, 178.40s/it]"
     ]
    },
    {
     "name": "stdout",
     "output_type": "stream",
     "text": [
      "Transferred Data\n"
     ]
    },
    {
     "name": "stderr",
     "output_type": "stream",
     "text": [
      "Epoch 183/512 (Inner K-Epochs): 100%|██████████| 64/64 [00:05<00:00, 11.72it/s]\n",
      "Main Epoch (Outer Loop):  36%|███▌      | 183/512 [1:37:26<11:33:56, 126.56s/it]"
     ]
    },
    {
     "name": "stdout",
     "output_type": "stream",
     "text": [
      "Transferred Data\n"
     ]
    },
    {
     "name": "stderr",
     "output_type": "stream",
     "text": [
      "Epoch 184/512 (Inner K-Epochs): 100%|██████████| 64/64 [00:05<00:00, 11.63it/s]\n",
      "Main Epoch (Outer Loop):  36%|███▌      | 184/512 [1:37:31<8:13:28, 90.27s/it]  "
     ]
    },
    {
     "name": "stdout",
     "output_type": "stream",
     "text": [
      "Transferred Data\n"
     ]
    },
    {
     "name": "stderr",
     "output_type": "stream",
     "text": [
      "Epoch 185/512 (Inner K-Epochs): 100%|██████████| 64/64 [00:05<00:00, 11.55it/s]\n",
      "Main Epoch (Outer Loop):  36%|███▌      | 185/512 [1:37:37<5:53:36, 64.88s/it]"
     ]
    },
    {
     "name": "stdout",
     "output_type": "stream",
     "text": [
      "Transferred Data\n"
     ]
    },
    {
     "name": "stderr",
     "output_type": "stream",
     "text": [
      "Epoch 186/512 (Inner K-Epochs): 100%|██████████| 64/64 [00:05<00:00, 11.29it/s]\n",
      "Main Epoch (Outer Loop):  36%|███▋      | 186/512 [1:37:43<4:16:08, 47.14s/it]"
     ]
    },
    {
     "name": "stdout",
     "output_type": "stream",
     "text": [
      "Transferred Data\n"
     ]
    },
    {
     "name": "stderr",
     "output_type": "stream",
     "text": [
      "Epoch 187/512 (Inner K-Epochs): 100%|██████████| 64/64 [00:05<00:00, 11.58it/s]\n",
      "Main Epoch (Outer Loop):  37%|███▋      | 187/512 [1:37:49<3:07:54, 34.69s/it]"
     ]
    },
    {
     "name": "stdout",
     "output_type": "stream",
     "text": [
      "Transferred Data\n"
     ]
    },
    {
     "name": "stderr",
     "output_type": "stream",
     "text": [
      "Epoch 188/512 (Inner K-Epochs): 100%|██████████| 64/64 [00:05<00:00, 11.74it/s]\n",
      "Main Epoch (Outer Loop):  37%|███▋      | 188/512 [1:37:54<2:20:07, 25.95s/it]"
     ]
    },
    {
     "name": "stdout",
     "output_type": "stream",
     "text": [
      "Transferred Data\n"
     ]
    },
    {
     "name": "stderr",
     "output_type": "stream",
     "text": [
      "Epoch 189/512 (Inner K-Epochs): 100%|██████████| 64/64 [00:05<00:00, 11.58it/s]\n",
      "Main Epoch (Outer Loop):  37%|███▋      | 189/512 [1:38:00<1:46:50, 19.85s/it]"
     ]
    },
    {
     "name": "stdout",
     "output_type": "stream",
     "text": [
      "Transferred Data\n"
     ]
    },
    {
     "name": "stderr",
     "output_type": "stream",
     "text": [
      "Epoch 190/512 (Inner K-Epochs): 100%|██████████| 64/64 [00:05<00:00, 11.82it/s]\n",
      "Main Epoch (Outer Loop):  37%|███▋      | 190/512 [1:38:05<1:23:26, 15.55s/it]"
     ]
    },
    {
     "name": "stdout",
     "output_type": "stream",
     "text": [
      "Transferred Data\n"
     ]
    },
    {
     "name": "stderr",
     "output_type": "stream",
     "text": [
      "Epoch 191/512 (Inner K-Epochs): 100%|██████████| 64/64 [00:05<00:00, 11.63it/s]\n",
      "Main Epoch (Outer Loop):  37%|███▋      | 191/512 [1:38:11<1:07:14, 12.57s/it]"
     ]
    },
    {
     "name": "stdout",
     "output_type": "stream",
     "text": [
      "Transferred Data\n"
     ]
    },
    {
     "name": "stderr",
     "output_type": "stream",
     "text": [
      "Epoch 192/512 (Inner K-Epochs): 100%|██████████| 64/64 [00:05<00:00, 12.55it/s]\n",
      "Main Epoch (Outer Loop):  38%|███▊      | 192/512 [1:38:16<55:33, 10.42s/it]  "
     ]
    },
    {
     "name": "stdout",
     "output_type": "stream",
     "text": [
      "Epoch 192/512, Loss: 0.0000, Ratio: 1.00000, Entropy Term: 0.00000\n",
      "Epoch 192 | Entire Validation Dataset Accuracy: 0.5365| 103.0 / 192.0 samples\n",
      "Transferred Data\n"
     ]
    },
    {
     "name": "stderr",
     "output_type": "stream",
     "text": [
      "Epoch 193/512 (Inner K-Epochs): 100%|██████████| 64/64 [00:05<00:00, 12.52it/s]\n",
      "Main Epoch (Outer Loop):  38%|███▊      | 193/512 [1:38:21<47:03,  8.85s/it]"
     ]
    },
    {
     "name": "stdout",
     "output_type": "stream",
     "text": [
      "Transferred Data\n"
     ]
    },
    {
     "name": "stderr",
     "output_type": "stream",
     "text": [
      "Epoch 194/512 (Inner K-Epochs): 100%|██████████| 64/64 [00:05<00:00, 12.63it/s]\n",
      "Main Epoch (Outer Loop):  38%|███▊      | 194/512 [1:38:27<41:01,  7.74s/it]"
     ]
    },
    {
     "name": "stdout",
     "output_type": "stream",
     "text": [
      "Transferred Data\n"
     ]
    },
    {
     "name": "stderr",
     "output_type": "stream",
     "text": [
      "Epoch 195/512 (Inner K-Epochs): 100%|██████████| 64/64 [00:05<00:00, 12.58it/s]\n",
      "Main Epoch (Outer Loop):  38%|███▊      | 195/512 [1:38:32<36:49,  6.97s/it]"
     ]
    },
    {
     "name": "stdout",
     "output_type": "stream",
     "text": [
      "Transferred Data\n"
     ]
    },
    {
     "name": "stderr",
     "output_type": "stream",
     "text": [
      "Epoch 196/512 (Inner K-Epochs): 100%|██████████| 64/64 [00:05<00:00, 12.63it/s]\n",
      "Main Epoch (Outer Loop):  38%|███▊      | 196/512 [1:38:37<33:49,  6.42s/it]"
     ]
    },
    {
     "name": "stdout",
     "output_type": "stream",
     "text": [
      "Transferred Data\n"
     ]
    },
    {
     "name": "stderr",
     "output_type": "stream",
     "text": [
      "Epoch 197/512 (Inner K-Epochs): 100%|██████████| 64/64 [00:05<00:00, 12.55it/s]\n",
      "Main Epoch (Outer Loop):  38%|███▊      | 197/512 [1:38:42<31:45,  6.05s/it]"
     ]
    },
    {
     "name": "stdout",
     "output_type": "stream",
     "text": [
      "Transferred Data\n"
     ]
    },
    {
     "name": "stderr",
     "output_type": "stream",
     "text": [
      "Epoch 198/512 (Inner K-Epochs): 100%|██████████| 64/64 [00:05<00:00, 12.50it/s]\n",
      "Main Epoch (Outer Loop):  39%|███▊      | 198/512 [1:38:47<30:20,  5.80s/it]"
     ]
    },
    {
     "name": "stdout",
     "output_type": "stream",
     "text": [
      "Transferred Data\n"
     ]
    },
    {
     "name": "stderr",
     "output_type": "stream",
     "text": [
      "Epoch 199/512 (Inner K-Epochs): 100%|██████████| 64/64 [00:05<00:00, 12.51it/s]\n",
      "Main Epoch (Outer Loop):  39%|███▉      | 199/512 [1:38:52<29:18,  5.62s/it]"
     ]
    },
    {
     "name": "stdout",
     "output_type": "stream",
     "text": [
      "Transferred Data\n"
     ]
    },
    {
     "name": "stderr",
     "output_type": "stream",
     "text": [
      "Epoch 200/512 (Inner K-Epochs): 100%|██████████| 64/64 [00:05<00:00, 12.48it/s]\n",
      "Main Epoch (Outer Loop):  39%|███▉      | 200/512 [1:38:58<28:34,  5.50s/it]"
     ]
    },
    {
     "name": "stdout",
     "output_type": "stream",
     "text": [
      "Transferred Data\n"
     ]
    },
    {
     "name": "stderr",
     "output_type": "stream",
     "text": [
      "Epoch 201/512 (Inner K-Epochs): 100%|██████████| 64/64 [00:05<00:00, 12.50it/s]\n",
      "Main Epoch (Outer Loop):  39%|███▉      | 201/512 [1:39:03<28:02,  5.41s/it]"
     ]
    },
    {
     "name": "stdout",
     "output_type": "stream",
     "text": [
      "Transferred Data\n"
     ]
    },
    {
     "name": "stderr",
     "output_type": "stream",
     "text": [
      "Epoch 202/512 (Inner K-Epochs): 100%|██████████| 64/64 [00:05<00:00, 12.46it/s]\n",
      "Main Epoch (Outer Loop):  39%|███▉      | 202/512 [1:39:08<27:38,  5.35s/it]"
     ]
    },
    {
     "name": "stdout",
     "output_type": "stream",
     "text": [
      "Transferred Data\n"
     ]
    },
    {
     "name": "stderr",
     "output_type": "stream",
     "text": [
      "Epoch 203/512 (Inner K-Epochs): 100%|██████████| 64/64 [00:05<00:00, 12.50it/s]\n",
      "Main Epoch (Outer Loop):  40%|███▉      | 203/512 [1:39:13<27:19,  5.30s/it]"
     ]
    },
    {
     "name": "stdout",
     "output_type": "stream",
     "text": [
      "Transferred Data\n"
     ]
    },
    {
     "name": "stderr",
     "output_type": "stream",
     "text": [
      "Epoch 204/512 (Inner K-Epochs): 100%|██████████| 64/64 [00:05<00:00, 12.43it/s]\n",
      "Main Epoch (Outer Loop):  40%|███▉      | 204/512 [1:39:19<27:07,  5.28s/it]"
     ]
    },
    {
     "name": "stdout",
     "output_type": "stream",
     "text": [
      "Transferred Data\n"
     ]
    },
    {
     "name": "stderr",
     "output_type": "stream",
     "text": [
      "Epoch 205/512 (Inner K-Epochs): 100%|██████████| 64/64 [00:05<00:00, 12.48it/s]\n",
      "Main Epoch (Outer Loop):  40%|████      | 205/512 [1:39:24<26:55,  5.26s/it]"
     ]
    },
    {
     "name": "stdout",
     "output_type": "stream",
     "text": [
      "Transferred Data\n"
     ]
    },
    {
     "name": "stderr",
     "output_type": "stream",
     "text": [
      "Epoch 206/512 (Inner K-Epochs): 100%|██████████| 64/64 [00:05<00:00, 12.47it/s]\n",
      "Main Epoch (Outer Loop):  40%|████      | 206/512 [1:39:29<26:47,  5.25s/it]"
     ]
    },
    {
     "name": "stdout",
     "output_type": "stream",
     "text": [
      "Transferred Data\n"
     ]
    },
    {
     "name": "stderr",
     "output_type": "stream",
     "text": [
      "Epoch 207/512 (Inner K-Epochs): 100%|██████████| 64/64 [00:05<00:00, 12.43it/s]\n",
      "Main Epoch (Outer Loop):  40%|████      | 207/512 [1:39:34<26:40,  5.25s/it]"
     ]
    },
    {
     "name": "stdout",
     "output_type": "stream",
     "text": [
      "Transferred Data\n"
     ]
    },
    {
     "name": "stderr",
     "output_type": "stream",
     "text": [
      "Epoch 208/512 (Inner K-Epochs): 100%|██████████| 64/64 [00:05<00:00, 12.46it/s]\n",
      "Main Epoch (Outer Loop):  41%|████      | 208/512 [1:39:39<26:33,  5.24s/it]"
     ]
    },
    {
     "name": "stdout",
     "output_type": "stream",
     "text": [
      "Transferred Data\n"
     ]
    },
    {
     "name": "stderr",
     "output_type": "stream",
     "text": [
      "Epoch 209/512 (Inner K-Epochs): 100%|██████████| 64/64 [00:05<00:00, 12.45it/s]\n",
      "Main Epoch (Outer Loop):  41%|████      | 209/512 [1:39:45<26:25,  5.23s/it]"
     ]
    },
    {
     "name": "stdout",
     "output_type": "stream",
     "text": [
      "Transferred Data\n"
     ]
    },
    {
     "name": "stderr",
     "output_type": "stream",
     "text": [
      "Epoch 210/512 (Inner K-Epochs): 100%|██████████| 64/64 [00:05<00:00, 12.47it/s]\n",
      "Main Epoch (Outer Loop):  41%|████      | 210/512 [1:39:50<26:18,  5.23s/it]"
     ]
    },
    {
     "name": "stdout",
     "output_type": "stream",
     "text": [
      "Transferred Data\n"
     ]
    },
    {
     "name": "stderr",
     "output_type": "stream",
     "text": [
      "Epoch 211/512 (Inner K-Epochs): 100%|██████████| 64/64 [00:05<00:00, 12.45it/s]\n",
      "Main Epoch (Outer Loop):  41%|████      | 211/512 [1:39:55<26:12,  5.22s/it]"
     ]
    },
    {
     "name": "stdout",
     "output_type": "stream",
     "text": [
      "Transferred Data\n"
     ]
    },
    {
     "name": "stderr",
     "output_type": "stream",
     "text": [
      "Epoch 212/512 (Inner K-Epochs): 100%|██████████| 64/64 [00:05<00:00, 12.43it/s]\n",
      "Main Epoch (Outer Loop):  41%|████▏     | 212/512 [1:40:00<26:07,  5.23s/it]"
     ]
    },
    {
     "name": "stdout",
     "output_type": "stream",
     "text": [
      "Transferred Data\n"
     ]
    },
    {
     "name": "stderr",
     "output_type": "stream",
     "text": [
      "Epoch 213/512 (Inner K-Epochs): 100%|██████████| 64/64 [00:05<00:00, 12.46it/s]\n",
      "Main Epoch (Outer Loop):  42%|████▏     | 213/512 [1:40:06<26:01,  5.22s/it]"
     ]
    },
    {
     "name": "stdout",
     "output_type": "stream",
     "text": [
      "Transferred Data\n"
     ]
    },
    {
     "name": "stderr",
     "output_type": "stream",
     "text": [
      "Epoch 214/512 (Inner K-Epochs): 100%|██████████| 64/64 [00:05<00:00, 12.47it/s]\n",
      "Main Epoch (Outer Loop):  42%|████▏     | 214/512 [1:40:11<25:55,  5.22s/it]"
     ]
    },
    {
     "name": "stdout",
     "output_type": "stream",
     "text": [
      "Transferred Data\n"
     ]
    },
    {
     "name": "stderr",
     "output_type": "stream",
     "text": [
      "Epoch 215/512 (Inner K-Epochs): 100%|██████████| 64/64 [00:05<00:00, 12.47it/s]\n",
      "Main Epoch (Outer Loop):  42%|████▏     | 215/512 [1:40:16<25:51,  5.22s/it]"
     ]
    },
    {
     "name": "stdout",
     "output_type": "stream",
     "text": [
      "Transferred Data\n"
     ]
    },
    {
     "name": "stderr",
     "output_type": "stream",
     "text": [
      "Epoch 216/512 (Inner K-Epochs): 100%|██████████| 64/64 [00:05<00:00, 12.43it/s]\n",
      "Main Epoch (Outer Loop):  42%|████▏     | 216/512 [1:40:21<25:48,  5.23s/it]"
     ]
    },
    {
     "name": "stdout",
     "output_type": "stream",
     "text": [
      "Transferred Data\n"
     ]
    },
    {
     "name": "stderr",
     "output_type": "stream",
     "text": [
      "Epoch 217/512 (Inner K-Epochs): 100%|██████████| 64/64 [00:05<00:00, 12.47it/s]\n",
      "Main Epoch (Outer Loop):  42%|████▏     | 217/512 [1:40:26<25:42,  5.23s/it]"
     ]
    },
    {
     "name": "stdout",
     "output_type": "stream",
     "text": [
      "Transferred Data\n"
     ]
    },
    {
     "name": "stderr",
     "output_type": "stream",
     "text": [
      "Epoch 218/512 (Inner K-Epochs): 100%|██████████| 64/64 [00:05<00:00, 12.43it/s]\n",
      "Main Epoch (Outer Loop):  43%|████▎     | 218/512 [1:40:32<25:38,  5.23s/it]"
     ]
    },
    {
     "name": "stdout",
     "output_type": "stream",
     "text": [
      "Transferred Data\n"
     ]
    },
    {
     "name": "stderr",
     "output_type": "stream",
     "text": [
      "Epoch 219/512 (Inner K-Epochs): 100%|██████████| 64/64 [00:05<00:00, 12.23it/s]\n",
      "Main Epoch (Outer Loop):  43%|████▎     | 219/512 [1:40:37<25:40,  5.26s/it]"
     ]
    },
    {
     "name": "stdout",
     "output_type": "stream",
     "text": [
      "Transferred Data\n"
     ]
    },
    {
     "name": "stderr",
     "output_type": "stream",
     "text": [
      "Epoch 220/512 (Inner K-Epochs): 100%|██████████| 64/64 [00:05<00:00, 11.93it/s]\n",
      "Main Epoch (Outer Loop):  43%|████▎     | 220/512 [1:40:42<25:52,  5.32s/it]"
     ]
    },
    {
     "name": "stdout",
     "output_type": "stream",
     "text": [
      "Transferred Data\n"
     ]
    },
    {
     "name": "stderr",
     "output_type": "stream",
     "text": [
      "Epoch 221/512 (Inner K-Epochs): 100%|██████████| 64/64 [00:07<00:00,  9.10it/s]\n",
      "Main Epoch (Outer Loop):  43%|████▎     | 221/512 [1:40:50<28:24,  5.86s/it]"
     ]
    },
    {
     "name": "stdout",
     "output_type": "stream",
     "text": [
      "Transferred Data\n"
     ]
    },
    {
     "name": "stderr",
     "output_type": "stream",
     "text": [
      "Epoch 222/512 (Inner K-Epochs): 100%|██████████| 64/64 [00:05<00:00, 12.44it/s]\n",
      "Main Epoch (Outer Loop):  43%|████▎     | 222/512 [1:40:55<27:23,  5.67s/it]"
     ]
    },
    {
     "name": "stdout",
     "output_type": "stream",
     "text": [
      "Transferred Data\n"
     ]
    },
    {
     "name": "stderr",
     "output_type": "stream",
     "text": [
      "Epoch 223/512 (Inner K-Epochs): 100%|██████████| 64/64 [00:05<00:00, 12.11it/s]\n",
      "Main Epoch (Outer Loop):  44%|████▎     | 223/512 [1:41:00<26:52,  5.58s/it]"
     ]
    },
    {
     "name": "stdout",
     "output_type": "stream",
     "text": [
      "Transferred Data\n"
     ]
    },
    {
     "name": "stderr",
     "output_type": "stream",
     "text": [
      "Epoch 224/512 (Inner K-Epochs): 100%|██████████| 64/64 [00:05<00:00, 12.10it/s]\n",
      "Main Epoch (Outer Loop):  44%|████▍     | 224/512 [1:41:06<26:29,  5.52s/it]"
     ]
    },
    {
     "name": "stdout",
     "output_type": "stream",
     "text": [
      "Transferred Data\n"
     ]
    },
    {
     "name": "stderr",
     "output_type": "stream",
     "text": [
      "Epoch 225/512 (Inner K-Epochs): 100%|██████████| 64/64 [00:05<00:00, 12.33it/s]\n",
      "Main Epoch (Outer Loop):  44%|████▍     | 225/512 [1:41:11<26:03,  5.45s/it]"
     ]
    },
    {
     "name": "stdout",
     "output_type": "stream",
     "text": [
      "Transferred Data\n"
     ]
    },
    {
     "name": "stderr",
     "output_type": "stream",
     "text": [
      "Epoch 226/512 (Inner K-Epochs): 100%|██████████| 64/64 [00:05<00:00, 12.36it/s]\n",
      "Main Epoch (Outer Loop):  44%|████▍     | 226/512 [1:41:16<25:41,  5.39s/it]"
     ]
    },
    {
     "name": "stdout",
     "output_type": "stream",
     "text": [
      "Transferred Data\n"
     ]
    },
    {
     "name": "stderr",
     "output_type": "stream",
     "text": [
      "Epoch 227/512 (Inner K-Epochs): 100%|██████████| 64/64 [00:05<00:00, 12.48it/s]\n",
      "Main Epoch (Outer Loop):  44%|████▍     | 227/512 [1:41:21<25:21,  5.34s/it]"
     ]
    },
    {
     "name": "stdout",
     "output_type": "stream",
     "text": [
      "Transferred Data\n"
     ]
    },
    {
     "name": "stderr",
     "output_type": "stream",
     "text": [
      "Epoch 228/512 (Inner K-Epochs): 100%|██████████| 64/64 [00:05<00:00, 12.50it/s]\n",
      "Main Epoch (Outer Loop):  45%|████▍     | 228/512 [1:41:27<25:04,  5.30s/it]"
     ]
    },
    {
     "name": "stdout",
     "output_type": "stream",
     "text": [
      "Transferred Data\n"
     ]
    },
    {
     "name": "stderr",
     "output_type": "stream",
     "text": [
      "Epoch 229/512 (Inner K-Epochs): 100%|██████████| 64/64 [00:05<00:00, 12.50it/s]\n",
      "Main Epoch (Outer Loop):  45%|████▍     | 229/512 [1:41:32<24:51,  5.27s/it]"
     ]
    },
    {
     "name": "stdout",
     "output_type": "stream",
     "text": [
      "Transferred Data\n"
     ]
    },
    {
     "name": "stderr",
     "output_type": "stream",
     "text": [
      "Epoch 230/512 (Inner K-Epochs): 100%|██████████| 64/64 [00:05<00:00, 12.52it/s]\n",
      "Main Epoch (Outer Loop):  45%|████▍     | 230/512 [1:41:37<24:39,  5.25s/it]"
     ]
    },
    {
     "name": "stdout",
     "output_type": "stream",
     "text": [
      "Transferred Data\n"
     ]
    },
    {
     "name": "stderr",
     "output_type": "stream",
     "text": [
      "Epoch 231/512 (Inner K-Epochs): 100%|██████████| 64/64 [00:05<00:00, 12.53it/s]\n",
      "Main Epoch (Outer Loop):  45%|████▌     | 231/512 [1:41:42<24:29,  5.23s/it]"
     ]
    },
    {
     "name": "stdout",
     "output_type": "stream",
     "text": [
      "Transferred Data\n"
     ]
    },
    {
     "name": "stderr",
     "output_type": "stream",
     "text": [
      "Epoch 232/512 (Inner K-Epochs): 100%|██████████| 64/64 [00:05<00:00, 12.33it/s]\n",
      "Main Epoch (Outer Loop):  45%|████▌     | 232/512 [1:41:47<24:27,  5.24s/it]"
     ]
    },
    {
     "name": "stdout",
     "output_type": "stream",
     "text": [
      "Transferred Data\n"
     ]
    },
    {
     "name": "stderr",
     "output_type": "stream",
     "text": [
      "Epoch 233/512 (Inner K-Epochs): 100%|██████████| 64/64 [00:05<00:00, 12.34it/s]\n",
      "Main Epoch (Outer Loop):  46%|████▌     | 233/512 [1:41:53<24:25,  5.25s/it]"
     ]
    },
    {
     "name": "stdout",
     "output_type": "stream",
     "text": [
      "Transferred Data\n"
     ]
    },
    {
     "name": "stderr",
     "output_type": "stream",
     "text": [
      "Epoch 234/512 (Inner K-Epochs): 100%|██████████| 64/64 [00:05<00:00, 12.30it/s]\n",
      "Main Epoch (Outer Loop):  46%|████▌     | 234/512 [1:41:58<24:23,  5.27s/it]"
     ]
    },
    {
     "name": "stdout",
     "output_type": "stream",
     "text": [
      "Transferred Data\n"
     ]
    },
    {
     "name": "stderr",
     "output_type": "stream",
     "text": [
      "Epoch 235/512 (Inner K-Epochs): 100%|██████████| 64/64 [00:05<00:00, 12.31it/s]\n",
      "Main Epoch (Outer Loop):  46%|████▌     | 235/512 [1:42:03<24:20,  5.27s/it]"
     ]
    },
    {
     "name": "stdout",
     "output_type": "stream",
     "text": [
      "Transferred Data\n"
     ]
    },
    {
     "name": "stderr",
     "output_type": "stream",
     "text": [
      "Epoch 236/512 (Inner K-Epochs): 100%|██████████| 64/64 [00:05<00:00, 12.48it/s]\n",
      "Main Epoch (Outer Loop):  46%|████▌     | 236/512 [1:42:08<24:11,  5.26s/it]"
     ]
    },
    {
     "name": "stdout",
     "output_type": "stream",
     "text": [
      "Transferred Data\n"
     ]
    },
    {
     "name": "stderr",
     "output_type": "stream",
     "text": [
      "Epoch 237/512 (Inner K-Epochs): 100%|██████████| 64/64 [00:05<00:00, 12.35it/s]\n",
      "Main Epoch (Outer Loop):  46%|████▋     | 237/512 [1:42:14<24:06,  5.26s/it]"
     ]
    },
    {
     "name": "stdout",
     "output_type": "stream",
     "text": [
      "Transferred Data\n"
     ]
    },
    {
     "name": "stderr",
     "output_type": "stream",
     "text": [
      "Epoch 238/512 (Inner K-Epochs): 100%|██████████| 64/64 [00:05<00:00, 12.52it/s]\n",
      "Main Epoch (Outer Loop):  46%|████▋     | 238/512 [1:42:19<23:56,  5.24s/it]"
     ]
    },
    {
     "name": "stdout",
     "output_type": "stream",
     "text": [
      "Transferred Data\n"
     ]
    },
    {
     "name": "stderr",
     "output_type": "stream",
     "text": [
      "Epoch 239/512 (Inner K-Epochs): 100%|██████████| 64/64 [00:05<00:00, 12.36it/s]\n",
      "Main Epoch (Outer Loop):  47%|████▋     | 239/512 [1:42:24<23:53,  5.25s/it]"
     ]
    },
    {
     "name": "stdout",
     "output_type": "stream",
     "text": [
      "Transferred Data\n"
     ]
    },
    {
     "name": "stderr",
     "output_type": "stream",
     "text": [
      "Epoch 240/512 (Inner K-Epochs): 100%|██████████| 64/64 [00:05<00:00, 12.39it/s]\n",
      "Main Epoch (Outer Loop):  47%|████▋     | 240/512 [1:42:29<23:47,  5.25s/it]"
     ]
    },
    {
     "name": "stdout",
     "output_type": "stream",
     "text": [
      "Transferred Data\n"
     ]
    },
    {
     "name": "stderr",
     "output_type": "stream",
     "text": [
      "Epoch 241/512 (Inner K-Epochs): 100%|██████████| 64/64 [00:05<00:00, 12.39it/s]\n",
      "Main Epoch (Outer Loop):  47%|████▋     | 241/512 [1:42:35<23:42,  5.25s/it]"
     ]
    },
    {
     "name": "stdout",
     "output_type": "stream",
     "text": [
      "Transferred Data\n"
     ]
    },
    {
     "name": "stderr",
     "output_type": "stream",
     "text": [
      "Epoch 242/512 (Inner K-Epochs): 100%|██████████| 64/64 [00:05<00:00, 12.29it/s]\n",
      "Main Epoch (Outer Loop):  47%|████▋     | 242/512 [1:42:40<23:40,  5.26s/it]"
     ]
    },
    {
     "name": "stdout",
     "output_type": "stream",
     "text": [
      "Transferred Data\n"
     ]
    },
    {
     "name": "stderr",
     "output_type": "stream",
     "text": [
      "Epoch 243/512 (Inner K-Epochs): 100%|██████████| 64/64 [00:05<00:00, 11.92it/s]\n",
      "Main Epoch (Outer Loop):  47%|████▋     | 243/512 [1:42:45<23:51,  5.32s/it]"
     ]
    },
    {
     "name": "stdout",
     "output_type": "stream",
     "text": [
      "Transferred Data\n"
     ]
    },
    {
     "name": "stderr",
     "output_type": "stream",
     "text": [
      "Epoch 244/512 (Inner K-Epochs): 100%|██████████| 64/64 [00:05<00:00, 11.96it/s]\n",
      "Main Epoch (Outer Loop):  48%|████▊     | 244/512 [1:42:51<23:55,  5.36s/it]"
     ]
    },
    {
     "name": "stdout",
     "output_type": "stream",
     "text": [
      "Transferred Data\n"
     ]
    },
    {
     "name": "stderr",
     "output_type": "stream",
     "text": [
      "Epoch 245/512 (Inner K-Epochs): 100%|██████████| 64/64 [00:05<00:00, 11.93it/s]\n",
      "Main Epoch (Outer Loop):  48%|████▊     | 245/512 [1:42:56<23:58,  5.39s/it]"
     ]
    },
    {
     "name": "stdout",
     "output_type": "stream",
     "text": [
      "Transferred Data\n"
     ]
    },
    {
     "name": "stderr",
     "output_type": "stream",
     "text": [
      "Epoch 246/512 (Inner K-Epochs): 100%|██████████| 64/64 [00:05<00:00, 12.10it/s]\n",
      "Main Epoch (Outer Loop):  48%|████▊     | 246/512 [1:43:02<23:52,  5.39s/it]"
     ]
    },
    {
     "name": "stdout",
     "output_type": "stream",
     "text": [
      "Transferred Data\n"
     ]
    },
    {
     "name": "stderr",
     "output_type": "stream",
     "text": [
      "Epoch 247/512 (Inner K-Epochs): 100%|██████████| 64/64 [00:05<00:00, 12.36it/s]\n",
      "Main Epoch (Outer Loop):  48%|████▊     | 247/512 [1:43:07<23:37,  5.35s/it]"
     ]
    },
    {
     "name": "stdout",
     "output_type": "stream",
     "text": [
      "Transferred Data\n"
     ]
    },
    {
     "name": "stderr",
     "output_type": "stream",
     "text": [
      "Epoch 248/512 (Inner K-Epochs): 100%|██████████| 64/64 [00:05<00:00, 12.39it/s]\n",
      "Main Epoch (Outer Loop):  48%|████▊     | 248/512 [1:43:12<23:24,  5.32s/it]"
     ]
    },
    {
     "name": "stdout",
     "output_type": "stream",
     "text": [
      "Transferred Data\n"
     ]
    },
    {
     "name": "stderr",
     "output_type": "stream",
     "text": [
      "Epoch 249/512 (Inner K-Epochs): 100%|██████████| 64/64 [00:05<00:00, 12.42it/s]\n",
      "Main Epoch (Outer Loop):  49%|████▊     | 249/512 [1:43:17<23:12,  5.29s/it]"
     ]
    },
    {
     "name": "stdout",
     "output_type": "stream",
     "text": [
      "Transferred Data\n"
     ]
    },
    {
     "name": "stderr",
     "output_type": "stream",
     "text": [
      "Epoch 250/512 (Inner K-Epochs): 100%|██████████| 64/64 [00:05<00:00, 12.34it/s]\n",
      "Main Epoch (Outer Loop):  49%|████▉     | 250/512 [1:43:23<23:04,  5.29s/it]"
     ]
    },
    {
     "name": "stdout",
     "output_type": "stream",
     "text": [
      "Transferred Data\n"
     ]
    },
    {
     "name": "stderr",
     "output_type": "stream",
     "text": [
      "Epoch 251/512 (Inner K-Epochs): 100%|██████████| 64/64 [00:05<00:00, 12.33it/s]\n",
      "Main Epoch (Outer Loop):  49%|████▉     | 251/512 [1:43:28<22:58,  5.28s/it]"
     ]
    },
    {
     "name": "stdout",
     "output_type": "stream",
     "text": [
      "Transferred Data\n"
     ]
    },
    {
     "name": "stderr",
     "output_type": "stream",
     "text": [
      "Epoch 252/512 (Inner K-Epochs): 100%|██████████| 64/64 [00:05<00:00, 12.37it/s]\n",
      "Main Epoch (Outer Loop):  49%|████▉     | 252/512 [1:43:33<22:51,  5.28s/it]"
     ]
    },
    {
     "name": "stdout",
     "output_type": "stream",
     "text": [
      "Transferred Data\n"
     ]
    },
    {
     "name": "stderr",
     "output_type": "stream",
     "text": [
      "Epoch 253/512 (Inner K-Epochs): 100%|██████████| 64/64 [00:05<00:00, 12.38it/s]\n",
      "Main Epoch (Outer Loop):  49%|████▉     | 253/512 [1:43:39<22:45,  5.27s/it]"
     ]
    },
    {
     "name": "stdout",
     "output_type": "stream",
     "text": [
      "Transferred Data\n"
     ]
    },
    {
     "name": "stderr",
     "output_type": "stream",
     "text": [
      "Epoch 254/512 (Inner K-Epochs): 100%|██████████| 64/64 [00:05<00:00, 12.34it/s]\n",
      "Main Epoch (Outer Loop):  50%|████▉     | 254/512 [1:43:44<22:39,  5.27s/it]"
     ]
    },
    {
     "name": "stdout",
     "output_type": "stream",
     "text": [
      "Transferred Data\n"
     ]
    },
    {
     "name": "stderr",
     "output_type": "stream",
     "text": [
      "Epoch 255/512 (Inner K-Epochs): 100%|██████████| 64/64 [00:05<00:00, 12.44it/s]\n",
      "Main Epoch (Outer Loop):  50%|████▉     | 255/512 [1:43:49<22:32,  5.26s/it]"
     ]
    },
    {
     "name": "stdout",
     "output_type": "stream",
     "text": [
      "Transferred Data\n"
     ]
    },
    {
     "name": "stderr",
     "output_type": "stream",
     "text": [
      "Epoch 256/512 (Inner K-Epochs): 100%|██████████| 64/64 [00:05<00:00, 12.46it/s]\n",
      "Main Epoch (Outer Loop):  50%|█████     | 256/512 [1:43:54<22:36,  5.30s/it]"
     ]
    },
    {
     "name": "stdout",
     "output_type": "stream",
     "text": [
      "Epoch 256/512, Loss: 0.0000, Ratio: 1.00000, Entropy Term: 0.00000\n",
      "Epoch 256 | Entire Validation Dataset Accuracy: 0.5365| 103.0 / 192.0 samples\n",
      "Transferred Data\n"
     ]
    },
    {
     "name": "stderr",
     "output_type": "stream",
     "text": [
      "Epoch 257/512 (Inner K-Epochs): 100%|██████████| 64/64 [00:05<00:00, 12.48it/s]\n",
      "Main Epoch (Outer Loop):  50%|█████     | 257/512 [1:44:00<22:25,  5.27s/it]"
     ]
    },
    {
     "name": "stdout",
     "output_type": "stream",
     "text": [
      "Transferred Data\n"
     ]
    },
    {
     "name": "stderr",
     "output_type": "stream",
     "text": [
      "Epoch 258/512 (Inner K-Epochs): 100%|██████████| 64/64 [00:05<00:00, 12.47it/s]\n",
      "Main Epoch (Outer Loop):  50%|█████     | 258/512 [1:44:05<22:15,  5.26s/it]"
     ]
    },
    {
     "name": "stdout",
     "output_type": "stream",
     "text": [
      "Transferred Data\n"
     ]
    },
    {
     "name": "stderr",
     "output_type": "stream",
     "text": [
      "Epoch 259/512 (Inner K-Epochs): 100%|██████████| 64/64 [00:05<00:00, 12.47it/s]\n",
      "Main Epoch (Outer Loop):  51%|█████     | 259/512 [1:44:10<22:06,  5.24s/it]"
     ]
    },
    {
     "name": "stdout",
     "output_type": "stream",
     "text": [
      "Transferred Data\n"
     ]
    },
    {
     "name": "stderr",
     "output_type": "stream",
     "text": [
      "Epoch 260/512 (Inner K-Epochs): 100%|██████████| 64/64 [00:05<00:00, 12.48it/s]\n",
      "Main Epoch (Outer Loop):  51%|█████     | 260/512 [1:44:15<21:59,  5.24s/it]"
     ]
    },
    {
     "name": "stdout",
     "output_type": "stream",
     "text": [
      "Transferred Data\n"
     ]
    },
    {
     "name": "stderr",
     "output_type": "stream",
     "text": [
      "Epoch 261/512 (Inner K-Epochs): 100%|██████████| 64/64 [00:05<00:00, 12.40it/s]\n",
      "Main Epoch (Outer Loop):  51%|█████     | 261/512 [1:44:21<21:55,  5.24s/it]"
     ]
    },
    {
     "name": "stdout",
     "output_type": "stream",
     "text": [
      "Transferred Data\n"
     ]
    },
    {
     "name": "stderr",
     "output_type": "stream",
     "text": [
      "Epoch 262/512 (Inner K-Epochs): 100%|██████████| 64/64 [00:05<00:00, 12.48it/s]\n",
      "Main Epoch (Outer Loop):  51%|█████     | 262/512 [1:44:26<21:48,  5.23s/it]"
     ]
    },
    {
     "name": "stdout",
     "output_type": "stream",
     "text": [
      "Transferred Data\n"
     ]
    },
    {
     "name": "stderr",
     "output_type": "stream",
     "text": [
      "Epoch 263/512 (Inner K-Epochs): 100%|██████████| 64/64 [00:05<00:00, 12.53it/s]\n",
      "Main Epoch (Outer Loop):  51%|█████▏    | 263/512 [1:44:31<21:39,  5.22s/it]"
     ]
    },
    {
     "name": "stdout",
     "output_type": "stream",
     "text": [
      "Transferred Data\n"
     ]
    },
    {
     "name": "stderr",
     "output_type": "stream",
     "text": [
      "Epoch 264/512 (Inner K-Epochs): 100%|██████████| 64/64 [00:05<00:00, 12.40it/s]\n",
      "Main Epoch (Outer Loop):  52%|█████▏    | 264/512 [1:44:36<21:36,  5.23s/it]"
     ]
    },
    {
     "name": "stdout",
     "output_type": "stream",
     "text": [
      "Transferred Data\n"
     ]
    },
    {
     "name": "stderr",
     "output_type": "stream",
     "text": [
      "Epoch 265/512 (Inner K-Epochs): 100%|██████████| 64/64 [00:05<00:00, 12.50it/s]\n",
      "Main Epoch (Outer Loop):  52%|█████▏    | 265/512 [1:44:41<21:29,  5.22s/it]"
     ]
    },
    {
     "name": "stdout",
     "output_type": "stream",
     "text": [
      "Transferred Data\n"
     ]
    },
    {
     "name": "stderr",
     "output_type": "stream",
     "text": [
      "Epoch 266/512 (Inner K-Epochs): 100%|██████████| 64/64 [00:05<00:00, 12.30it/s]\n",
      "Main Epoch (Outer Loop):  52%|█████▏    | 266/512 [1:44:47<21:29,  5.24s/it]"
     ]
    },
    {
     "name": "stdout",
     "output_type": "stream",
     "text": [
      "Transferred Data\n"
     ]
    },
    {
     "name": "stderr",
     "output_type": "stream",
     "text": [
      "Epoch 267/512 (Inner K-Epochs): 100%|██████████| 64/64 [00:05<00:00, 12.42it/s]\n",
      "Main Epoch (Outer Loop):  52%|█████▏    | 267/512 [1:44:52<21:24,  5.24s/it]"
     ]
    },
    {
     "name": "stdout",
     "output_type": "stream",
     "text": [
      "Transferred Data\n"
     ]
    },
    {
     "name": "stderr",
     "output_type": "stream",
     "text": [
      "Epoch 268/512 (Inner K-Epochs): 100%|██████████| 64/64 [00:05<00:00, 12.47it/s]\n",
      "Main Epoch (Outer Loop):  52%|█████▏    | 268/512 [1:44:57<21:17,  5.23s/it]"
     ]
    },
    {
     "name": "stdout",
     "output_type": "stream",
     "text": [
      "Transferred Data\n"
     ]
    },
    {
     "name": "stderr",
     "output_type": "stream",
     "text": [
      "Epoch 269/512 (Inner K-Epochs): 100%|██████████| 64/64 [00:05<00:00, 12.40it/s]\n",
      "Main Epoch (Outer Loop):  53%|█████▎    | 269/512 [1:45:02<21:12,  5.24s/it]"
     ]
    },
    {
     "name": "stdout",
     "output_type": "stream",
     "text": [
      "Transferred Data\n"
     ]
    },
    {
     "name": "stderr",
     "output_type": "stream",
     "text": [
      "Epoch 270/512 (Inner K-Epochs): 100%|██████████| 64/64 [00:05<00:00, 12.52it/s]\n",
      "Main Epoch (Outer Loop):  53%|█████▎    | 270/512 [1:45:08<21:04,  5.22s/it]"
     ]
    },
    {
     "name": "stdout",
     "output_type": "stream",
     "text": [
      "Transferred Data\n"
     ]
    },
    {
     "name": "stderr",
     "output_type": "stream",
     "text": [
      "Epoch 271/512 (Inner K-Epochs): 100%|██████████| 64/64 [00:05<00:00, 12.53it/s]\n",
      "Main Epoch (Outer Loop):  53%|█████▎    | 271/512 [1:45:13<20:56,  5.22s/it]"
     ]
    },
    {
     "name": "stdout",
     "output_type": "stream",
     "text": [
      "Transferred Data\n"
     ]
    },
    {
     "name": "stderr",
     "output_type": "stream",
     "text": [
      "Epoch 272/512 (Inner K-Epochs): 100%|██████████| 64/64 [00:05<00:00, 12.54it/s]\n",
      "Main Epoch (Outer Loop):  53%|█████▎    | 272/512 [1:45:18<20:50,  5.21s/it]"
     ]
    },
    {
     "name": "stdout",
     "output_type": "stream",
     "text": [
      "Transferred Data\n"
     ]
    },
    {
     "name": "stderr",
     "output_type": "stream",
     "text": [
      "Epoch 273/512 (Inner K-Epochs): 100%|██████████| 64/64 [00:05<00:00, 12.60it/s]\n",
      "Main Epoch (Outer Loop):  53%|█████▎    | 273/512 [1:45:23<20:42,  5.20s/it]"
     ]
    },
    {
     "name": "stdout",
     "output_type": "stream",
     "text": [
      "Transferred Data\n"
     ]
    },
    {
     "name": "stderr",
     "output_type": "stream",
     "text": [
      "Epoch 274/512 (Inner K-Epochs): 100%|██████████| 64/64 [00:05<00:00, 12.54it/s]\n",
      "Main Epoch (Outer Loop):  54%|█████▎    | 274/512 [1:45:28<20:36,  5.19s/it]"
     ]
    },
    {
     "name": "stdout",
     "output_type": "stream",
     "text": [
      "Transferred Data\n"
     ]
    },
    {
     "name": "stderr",
     "output_type": "stream",
     "text": [
      "Epoch 275/512 (Inner K-Epochs): 100%|██████████| 64/64 [00:05<00:00, 12.51it/s]\n",
      "Main Epoch (Outer Loop):  54%|█████▎    | 275/512 [1:45:34<20:31,  5.20s/it]"
     ]
    },
    {
     "name": "stdout",
     "output_type": "stream",
     "text": [
      "Transferred Data\n"
     ]
    },
    {
     "name": "stderr",
     "output_type": "stream",
     "text": [
      "Epoch 276/512 (Inner K-Epochs): 100%|██████████| 64/64 [00:05<00:00, 12.42it/s]\n",
      "Main Epoch (Outer Loop):  54%|█████▍    | 276/512 [1:45:39<20:29,  5.21s/it]"
     ]
    },
    {
     "name": "stdout",
     "output_type": "stream",
     "text": [
      "Transferred Data\n"
     ]
    },
    {
     "name": "stderr",
     "output_type": "stream",
     "text": [
      "Epoch 277/512 (Inner K-Epochs): 100%|██████████| 64/64 [00:05<00:00, 12.44it/s]\n",
      "Main Epoch (Outer Loop):  54%|█████▍    | 277/512 [1:45:44<20:25,  5.21s/it]"
     ]
    },
    {
     "name": "stdout",
     "output_type": "stream",
     "text": [
      "Transferred Data\n"
     ]
    },
    {
     "name": "stderr",
     "output_type": "stream",
     "text": [
      "Epoch 278/512 (Inner K-Epochs): 100%|██████████| 64/64 [00:05<00:00, 12.47it/s]\n",
      "Main Epoch (Outer Loop):  54%|█████▍    | 278/512 [1:45:49<20:20,  5.22s/it]"
     ]
    },
    {
     "name": "stdout",
     "output_type": "stream",
     "text": [
      "Transferred Data\n"
     ]
    },
    {
     "name": "stderr",
     "output_type": "stream",
     "text": [
      "Epoch 279/512 (Inner K-Epochs): 100%|██████████| 64/64 [00:05<00:00, 12.51it/s]\n",
      "Main Epoch (Outer Loop):  54%|█████▍    | 279/512 [1:45:54<20:14,  5.21s/it]"
     ]
    },
    {
     "name": "stdout",
     "output_type": "stream",
     "text": [
      "Transferred Data\n"
     ]
    },
    {
     "name": "stderr",
     "output_type": "stream",
     "text": [
      "Epoch 280/512 (Inner K-Epochs): 100%|██████████| 64/64 [00:05<00:00, 12.49it/s]\n",
      "Main Epoch (Outer Loop):  55%|█████▍    | 280/512 [1:46:00<20:08,  5.21s/it]"
     ]
    },
    {
     "name": "stdout",
     "output_type": "stream",
     "text": [
      "Transferred Data\n"
     ]
    },
    {
     "name": "stderr",
     "output_type": "stream",
     "text": [
      "Epoch 281/512 (Inner K-Epochs): 100%|██████████| 64/64 [00:05<00:00, 12.52it/s]\n",
      "Main Epoch (Outer Loop):  55%|█████▍    | 281/512 [1:46:05<20:02,  5.21s/it]"
     ]
    },
    {
     "name": "stdout",
     "output_type": "stream",
     "text": [
      "Transferred Data\n"
     ]
    },
    {
     "name": "stderr",
     "output_type": "stream",
     "text": [
      "Epoch 282/512 (Inner K-Epochs): 100%|██████████| 64/64 [00:05<00:00, 12.53it/s]\n",
      "Main Epoch (Outer Loop):  55%|█████▌    | 282/512 [1:46:10<19:56,  5.20s/it]"
     ]
    },
    {
     "name": "stdout",
     "output_type": "stream",
     "text": [
      "Transferred Data\n"
     ]
    },
    {
     "name": "stderr",
     "output_type": "stream",
     "text": [
      "Epoch 283/512 (Inner K-Epochs): 100%|██████████| 64/64 [00:05<00:00, 12.54it/s]\n",
      "Main Epoch (Outer Loop):  55%|█████▌    | 283/512 [1:46:15<19:50,  5.20s/it]"
     ]
    },
    {
     "name": "stdout",
     "output_type": "stream",
     "text": [
      "Transferred Data\n"
     ]
    },
    {
     "name": "stderr",
     "output_type": "stream",
     "text": [
      "Epoch 284/512 (Inner K-Epochs): 100%|██████████| 64/64 [00:05<00:00, 12.50it/s]\n",
      "Main Epoch (Outer Loop):  55%|█████▌    | 284/512 [1:46:20<19:45,  5.20s/it]"
     ]
    },
    {
     "name": "stdout",
     "output_type": "stream",
     "text": [
      "Transferred Data\n"
     ]
    },
    {
     "name": "stderr",
     "output_type": "stream",
     "text": [
      "Epoch 285/512 (Inner K-Epochs): 100%|██████████| 64/64 [00:05<00:00, 12.49it/s]\n",
      "Main Epoch (Outer Loop):  56%|█████▌    | 285/512 [1:46:26<19:40,  5.20s/it]"
     ]
    },
    {
     "name": "stdout",
     "output_type": "stream",
     "text": [
      "Transferred Data\n"
     ]
    },
    {
     "name": "stderr",
     "output_type": "stream",
     "text": [
      "Epoch 286/512 (Inner K-Epochs): 100%|██████████| 64/64 [00:05<00:00, 12.54it/s]\n",
      "Main Epoch (Outer Loop):  56%|█████▌    | 286/512 [1:46:31<19:34,  5.20s/it]"
     ]
    },
    {
     "name": "stdout",
     "output_type": "stream",
     "text": [
      "Transferred Data\n"
     ]
    },
    {
     "name": "stderr",
     "output_type": "stream",
     "text": [
      "Epoch 287/512 (Inner K-Epochs): 100%|██████████| 64/64 [00:05<00:00, 12.52it/s]\n",
      "Main Epoch (Outer Loop):  56%|█████▌    | 287/512 [1:46:36<19:29,  5.20s/it]"
     ]
    },
    {
     "name": "stdout",
     "output_type": "stream",
     "text": [
      "Transferred Data\n"
     ]
    },
    {
     "name": "stderr",
     "output_type": "stream",
     "text": [
      "Epoch 288/512 (Inner K-Epochs): 100%|██████████| 64/64 [00:05<00:00, 12.46it/s]\n",
      "Main Epoch (Outer Loop):  56%|█████▋    | 288/512 [1:46:41<19:25,  5.20s/it]"
     ]
    },
    {
     "name": "stdout",
     "output_type": "stream",
     "text": [
      "Transferred Data\n"
     ]
    },
    {
     "name": "stderr",
     "output_type": "stream",
     "text": [
      "Epoch 289/512 (Inner K-Epochs): 100%|██████████| 64/64 [00:05<00:00, 12.48it/s]\n",
      "Main Epoch (Outer Loop):  56%|█████▋    | 289/512 [1:46:46<19:20,  5.21s/it]"
     ]
    },
    {
     "name": "stdout",
     "output_type": "stream",
     "text": [
      "Transferred Data\n"
     ]
    },
    {
     "name": "stderr",
     "output_type": "stream",
     "text": [
      "Epoch 290/512 (Inner K-Epochs): 100%|██████████| 64/64 [00:05<00:00, 12.44it/s]\n",
      "Main Epoch (Outer Loop):  57%|█████▋    | 290/512 [1:46:52<19:16,  5.21s/it]"
     ]
    },
    {
     "name": "stdout",
     "output_type": "stream",
     "text": [
      "Transferred Data\n"
     ]
    },
    {
     "name": "stderr",
     "output_type": "stream",
     "text": [
      "Epoch 291/512 (Inner K-Epochs): 100%|██████████| 64/64 [00:05<00:00, 12.49it/s]\n",
      "Main Epoch (Outer Loop):  57%|█████▋    | 291/512 [1:46:57<19:11,  5.21s/it]"
     ]
    },
    {
     "name": "stdout",
     "output_type": "stream",
     "text": [
      "Transferred Data\n"
     ]
    },
    {
     "name": "stderr",
     "output_type": "stream",
     "text": [
      "Epoch 292/512 (Inner K-Epochs): 100%|██████████| 64/64 [00:05<00:00, 12.50it/s]\n",
      "Main Epoch (Outer Loop):  57%|█████▋    | 292/512 [1:47:02<19:05,  5.21s/it]"
     ]
    },
    {
     "name": "stdout",
     "output_type": "stream",
     "text": [
      "Transferred Data\n"
     ]
    },
    {
     "name": "stderr",
     "output_type": "stream",
     "text": [
      "Epoch 293/512 (Inner K-Epochs): 100%|██████████| 64/64 [00:05<00:00, 12.52it/s]\n",
      "Main Epoch (Outer Loop):  57%|█████▋    | 293/512 [1:47:07<18:59,  5.21s/it]"
     ]
    },
    {
     "name": "stdout",
     "output_type": "stream",
     "text": [
      "Transferred Data\n"
     ]
    },
    {
     "name": "stderr",
     "output_type": "stream",
     "text": [
      "Epoch 294/512 (Inner K-Epochs): 100%|██████████| 64/64 [00:05<00:00, 12.53it/s]\n",
      "Main Epoch (Outer Loop):  57%|█████▋    | 294/512 [1:47:12<18:54,  5.20s/it]"
     ]
    },
    {
     "name": "stdout",
     "output_type": "stream",
     "text": [
      "Transferred Data\n"
     ]
    },
    {
     "name": "stderr",
     "output_type": "stream",
     "text": [
      "Epoch 295/512 (Inner K-Epochs): 100%|██████████| 64/64 [00:05<00:00, 12.52it/s]\n",
      "Main Epoch (Outer Loop):  58%|█████▊    | 295/512 [1:47:18<18:48,  5.20s/it]"
     ]
    },
    {
     "name": "stdout",
     "output_type": "stream",
     "text": [
      "Transferred Data\n"
     ]
    },
    {
     "name": "stderr",
     "output_type": "stream",
     "text": [
      "Epoch 296/512 (Inner K-Epochs): 100%|██████████| 64/64 [00:05<00:00, 12.50it/s]\n",
      "Main Epoch (Outer Loop):  58%|█████▊    | 296/512 [1:47:23<18:43,  5.20s/it]"
     ]
    },
    {
     "name": "stdout",
     "output_type": "stream",
     "text": [
      "Transferred Data\n"
     ]
    },
    {
     "name": "stderr",
     "output_type": "stream",
     "text": [
      "Epoch 297/512 (Inner K-Epochs): 100%|██████████| 64/64 [00:05<00:00, 12.52it/s]\n",
      "Main Epoch (Outer Loop):  58%|█████▊    | 297/512 [1:47:28<18:38,  5.20s/it]"
     ]
    },
    {
     "name": "stdout",
     "output_type": "stream",
     "text": [
      "Transferred Data\n"
     ]
    },
    {
     "name": "stderr",
     "output_type": "stream",
     "text": [
      "Epoch 298/512 (Inner K-Epochs): 100%|██████████| 64/64 [00:05<00:00, 12.54it/s]\n",
      "Main Epoch (Outer Loop):  58%|█████▊    | 298/512 [1:47:33<18:32,  5.20s/it]"
     ]
    },
    {
     "name": "stdout",
     "output_type": "stream",
     "text": [
      "Transferred Data\n"
     ]
    },
    {
     "name": "stderr",
     "output_type": "stream",
     "text": [
      "Epoch 299/512 (Inner K-Epochs): 100%|██████████| 64/64 [00:05<00:00, 12.49it/s]\n",
      "Main Epoch (Outer Loop):  58%|█████▊    | 299/512 [1:47:38<18:27,  5.20s/it]"
     ]
    },
    {
     "name": "stdout",
     "output_type": "stream",
     "text": [
      "Transferred Data\n"
     ]
    },
    {
     "name": "stderr",
     "output_type": "stream",
     "text": [
      "Epoch 300/512 (Inner K-Epochs): 100%|██████████| 64/64 [00:05<00:00, 12.51it/s]\n",
      "Main Epoch (Outer Loop):  59%|█████▊    | 300/512 [1:47:44<18:22,  5.20s/it]"
     ]
    },
    {
     "name": "stdout",
     "output_type": "stream",
     "text": [
      "Transferred Data\n"
     ]
    },
    {
     "name": "stderr",
     "output_type": "stream",
     "text": [
      "Epoch 301/512 (Inner K-Epochs): 100%|██████████| 64/64 [00:05<00:00, 12.53it/s]\n",
      "Main Epoch (Outer Loop):  59%|█████▉    | 301/512 [1:47:49<18:17,  5.20s/it]"
     ]
    },
    {
     "name": "stdout",
     "output_type": "stream",
     "text": [
      "Transferred Data\n"
     ]
    },
    {
     "name": "stderr",
     "output_type": "stream",
     "text": [
      "Epoch 302/512 (Inner K-Epochs): 100%|██████████| 64/64 [00:05<00:00, 12.53it/s]\n",
      "Main Epoch (Outer Loop):  59%|█████▉    | 302/512 [1:47:54<18:11,  5.20s/it]"
     ]
    },
    {
     "name": "stdout",
     "output_type": "stream",
     "text": [
      "Transferred Data\n"
     ]
    },
    {
     "name": "stderr",
     "output_type": "stream",
     "text": [
      "Epoch 303/512 (Inner K-Epochs): 100%|██████████| 64/64 [00:05<00:00, 12.53it/s]\n",
      "Main Epoch (Outer Loop):  59%|█████▉    | 303/512 [1:47:59<18:06,  5.20s/it]"
     ]
    },
    {
     "name": "stdout",
     "output_type": "stream",
     "text": [
      "Transferred Data\n"
     ]
    },
    {
     "name": "stderr",
     "output_type": "stream",
     "text": [
      "Epoch 304/512 (Inner K-Epochs): 100%|██████████| 64/64 [00:05<00:00, 12.46it/s]\n",
      "Main Epoch (Outer Loop):  59%|█████▉    | 304/512 [1:48:04<18:02,  5.20s/it]"
     ]
    },
    {
     "name": "stdout",
     "output_type": "stream",
     "text": [
      "Transferred Data\n"
     ]
    },
    {
     "name": "stderr",
     "output_type": "stream",
     "text": [
      "Epoch 305/512 (Inner K-Epochs): 100%|██████████| 64/64 [00:05<00:00, 12.56it/s]\n",
      "Main Epoch (Outer Loop):  60%|█████▉    | 305/512 [1:48:10<17:56,  5.20s/it]"
     ]
    },
    {
     "name": "stdout",
     "output_type": "stream",
     "text": [
      "Transferred Data\n"
     ]
    },
    {
     "name": "stderr",
     "output_type": "stream",
     "text": [
      "Epoch 306/512 (Inner K-Epochs): 100%|██████████| 64/64 [00:05<00:00, 12.48it/s]\n",
      "Main Epoch (Outer Loop):  60%|█████▉    | 306/512 [1:48:15<17:51,  5.20s/it]"
     ]
    },
    {
     "name": "stdout",
     "output_type": "stream",
     "text": [
      "Transferred Data\n"
     ]
    },
    {
     "name": "stderr",
     "output_type": "stream",
     "text": [
      "Epoch 307/512 (Inner K-Epochs): 100%|██████████| 64/64 [00:05<00:00, 12.44it/s]\n",
      "Main Epoch (Outer Loop):  60%|█████▉    | 307/512 [1:48:20<17:48,  5.21s/it]"
     ]
    },
    {
     "name": "stdout",
     "output_type": "stream",
     "text": [
      "Transferred Data\n"
     ]
    },
    {
     "name": "stderr",
     "output_type": "stream",
     "text": [
      "Epoch 308/512 (Inner K-Epochs): 100%|██████████| 64/64 [00:05<00:00, 12.53it/s]\n",
      "Main Epoch (Outer Loop):  60%|██████    | 308/512 [1:48:25<17:42,  5.21s/it]"
     ]
    },
    {
     "name": "stdout",
     "output_type": "stream",
     "text": [
      "Transferred Data\n"
     ]
    },
    {
     "name": "stderr",
     "output_type": "stream",
     "text": [
      "Epoch 309/512 (Inner K-Epochs): 100%|██████████| 64/64 [00:05<00:00, 12.50it/s]\n",
      "Main Epoch (Outer Loop):  60%|██████    | 309/512 [1:48:30<17:36,  5.21s/it]"
     ]
    },
    {
     "name": "stdout",
     "output_type": "stream",
     "text": [
      "Transferred Data\n"
     ]
    },
    {
     "name": "stderr",
     "output_type": "stream",
     "text": [
      "Epoch 310/512 (Inner K-Epochs): 100%|██████████| 64/64 [00:05<00:00, 12.48it/s]\n",
      "Main Epoch (Outer Loop):  61%|██████    | 310/512 [1:48:36<17:31,  5.21s/it]"
     ]
    },
    {
     "name": "stdout",
     "output_type": "stream",
     "text": [
      "Transferred Data\n"
     ]
    },
    {
     "name": "stderr",
     "output_type": "stream",
     "text": [
      "Epoch 311/512 (Inner K-Epochs): 100%|██████████| 64/64 [00:05<00:00, 12.48it/s]\n",
      "Main Epoch (Outer Loop):  61%|██████    | 311/512 [1:48:41<17:26,  5.21s/it]"
     ]
    },
    {
     "name": "stdout",
     "output_type": "stream",
     "text": [
      "Transferred Data\n"
     ]
    },
    {
     "name": "stderr",
     "output_type": "stream",
     "text": [
      "Epoch 312/512 (Inner K-Epochs): 100%|██████████| 64/64 [00:05<00:00, 12.50it/s]\n",
      "Main Epoch (Outer Loop):  61%|██████    | 312/512 [1:48:46<17:21,  5.21s/it]"
     ]
    },
    {
     "name": "stdout",
     "output_type": "stream",
     "text": [
      "Transferred Data\n"
     ]
    },
    {
     "name": "stderr",
     "output_type": "stream",
     "text": [
      "Epoch 313/512 (Inner K-Epochs): 100%|██████████| 64/64 [00:05<00:00, 12.50it/s]\n",
      "Main Epoch (Outer Loop):  61%|██████    | 313/512 [1:48:51<17:16,  5.21s/it]"
     ]
    },
    {
     "name": "stdout",
     "output_type": "stream",
     "text": [
      "Transferred Data\n"
     ]
    },
    {
     "name": "stderr",
     "output_type": "stream",
     "text": [
      "Epoch 314/512 (Inner K-Epochs): 100%|██████████| 64/64 [00:05<00:00, 12.49it/s]\n",
      "Main Epoch (Outer Loop):  61%|██████▏   | 314/512 [1:48:57<17:10,  5.21s/it]"
     ]
    },
    {
     "name": "stdout",
     "output_type": "stream",
     "text": [
      "Transferred Data\n"
     ]
    },
    {
     "name": "stderr",
     "output_type": "stream",
     "text": [
      "Epoch 315/512 (Inner K-Epochs): 100%|██████████| 64/64 [00:05<00:00, 12.47it/s]\n",
      "Main Epoch (Outer Loop):  62%|██████▏   | 315/512 [1:49:02<17:06,  5.21s/it]"
     ]
    },
    {
     "name": "stdout",
     "output_type": "stream",
     "text": [
      "Transferred Data\n"
     ]
    },
    {
     "name": "stderr",
     "output_type": "stream",
     "text": [
      "Epoch 316/512 (Inner K-Epochs): 100%|██████████| 64/64 [00:05<00:00, 12.51it/s]\n",
      "Main Epoch (Outer Loop):  62%|██████▏   | 316/512 [1:49:07<17:00,  5.21s/it]"
     ]
    },
    {
     "name": "stdout",
     "output_type": "stream",
     "text": [
      "Transferred Data\n"
     ]
    },
    {
     "name": "stderr",
     "output_type": "stream",
     "text": [
      "Epoch 317/512 (Inner K-Epochs): 100%|██████████| 64/64 [00:05<00:00, 12.46it/s]\n",
      "Main Epoch (Outer Loop):  62%|██████▏   | 317/512 [1:49:12<16:55,  5.21s/it]"
     ]
    },
    {
     "name": "stdout",
     "output_type": "stream",
     "text": [
      "Transferred Data\n"
     ]
    },
    {
     "name": "stderr",
     "output_type": "stream",
     "text": [
      "Epoch 318/512 (Inner K-Epochs): 100%|██████████| 64/64 [00:05<00:00, 12.48it/s]\n",
      "Main Epoch (Outer Loop):  62%|██████▏   | 318/512 [1:49:17<16:49,  5.21s/it]"
     ]
    },
    {
     "name": "stdout",
     "output_type": "stream",
     "text": [
      "Transferred Data\n"
     ]
    },
    {
     "name": "stderr",
     "output_type": "stream",
     "text": [
      "Epoch 319/512 (Inner K-Epochs): 100%|██████████| 64/64 [00:05<00:00, 12.52it/s]\n",
      "Main Epoch (Outer Loop):  62%|██████▏   | 319/512 [1:49:23<16:44,  5.20s/it]"
     ]
    },
    {
     "name": "stdout",
     "output_type": "stream",
     "text": [
      "Transferred Data\n"
     ]
    },
    {
     "name": "stderr",
     "output_type": "stream",
     "text": [
      "Epoch 320/512 (Inner K-Epochs): 100%|██████████| 64/64 [00:05<00:00, 12.53it/s]\n",
      "Main Epoch (Outer Loop):  62%|██████▎   | 320/512 [1:49:28<16:48,  5.25s/it]"
     ]
    },
    {
     "name": "stdout",
     "output_type": "stream",
     "text": [
      "Epoch 320/512, Loss: 0.0000, Ratio: 1.00000, Entropy Term: 0.00000\n",
      "Epoch 320 | Entire Validation Dataset Accuracy: 0.5365| 103.0 / 192.0 samples\n",
      "Transferred Data\n"
     ]
    },
    {
     "name": "stderr",
     "output_type": "stream",
     "text": [
      "Epoch 321/512 (Inner K-Epochs): 100%|██████████| 64/64 [00:05<00:00, 12.32it/s]\n",
      "Main Epoch (Outer Loop):  63%|██████▎   | 321/512 [1:49:33<16:44,  5.26s/it]"
     ]
    },
    {
     "name": "stdout",
     "output_type": "stream",
     "text": [
      "Transferred Data\n"
     ]
    },
    {
     "name": "stderr",
     "output_type": "stream",
     "text": [
      "Epoch 322/512 (Inner K-Epochs): 100%|██████████| 64/64 [00:05<00:00, 12.57it/s]\n",
      "Main Epoch (Outer Loop):  63%|██████▎   | 322/512 [1:49:38<16:34,  5.24s/it]"
     ]
    },
    {
     "name": "stdout",
     "output_type": "stream",
     "text": [
      "Transferred Data\n"
     ]
    },
    {
     "name": "stderr",
     "output_type": "stream",
     "text": [
      "Epoch 323/512 (Inner K-Epochs): 100%|██████████| 64/64 [00:05<00:00, 12.50it/s]\n",
      "Main Epoch (Outer Loop):  63%|██████▎   | 323/512 [1:49:44<16:27,  5.23s/it]"
     ]
    },
    {
     "name": "stdout",
     "output_type": "stream",
     "text": [
      "Transferred Data\n"
     ]
    },
    {
     "name": "stderr",
     "output_type": "stream",
     "text": [
      "Epoch 324/512 (Inner K-Epochs): 100%|██████████| 64/64 [00:05<00:00, 12.47it/s]\n",
      "Main Epoch (Outer Loop):  63%|██████▎   | 324/512 [1:49:49<16:21,  5.22s/it]"
     ]
    },
    {
     "name": "stdout",
     "output_type": "stream",
     "text": [
      "Transferred Data\n"
     ]
    },
    {
     "name": "stderr",
     "output_type": "stream",
     "text": [
      "Epoch 325/512 (Inner K-Epochs): 100%|██████████| 64/64 [00:05<00:00, 12.50it/s]\n",
      "Main Epoch (Outer Loop):  63%|██████▎   | 325/512 [1:49:54<16:15,  5.22s/it]"
     ]
    },
    {
     "name": "stdout",
     "output_type": "stream",
     "text": [
      "Transferred Data\n"
     ]
    },
    {
     "name": "stderr",
     "output_type": "stream",
     "text": [
      "Epoch 326/512 (Inner K-Epochs): 100%|██████████| 64/64 [00:05<00:00, 12.48it/s]\n",
      "Main Epoch (Outer Loop):  64%|██████▎   | 326/512 [1:49:59<16:10,  5.22s/it]"
     ]
    },
    {
     "name": "stdout",
     "output_type": "stream",
     "text": [
      "Transferred Data\n"
     ]
    },
    {
     "name": "stderr",
     "output_type": "stream",
     "text": [
      "Epoch 327/512 (Inner K-Epochs): 100%|██████████| 64/64 [00:05<00:00, 12.44it/s]\n",
      "Main Epoch (Outer Loop):  64%|██████▍   | 327/512 [1:50:04<16:05,  5.22s/it]"
     ]
    },
    {
     "name": "stdout",
     "output_type": "stream",
     "text": [
      "Transferred Data\n"
     ]
    },
    {
     "name": "stderr",
     "output_type": "stream",
     "text": [
      "Epoch 328/512 (Inner K-Epochs): 100%|██████████| 64/64 [00:05<00:00, 12.47it/s]\n",
      "Main Epoch (Outer Loop):  64%|██████▍   | 328/512 [1:50:10<16:00,  5.22s/it]"
     ]
    },
    {
     "name": "stdout",
     "output_type": "stream",
     "text": [
      "Transferred Data\n"
     ]
    },
    {
     "name": "stderr",
     "output_type": "stream",
     "text": [
      "Epoch 329/512 (Inner K-Epochs): 100%|██████████| 64/64 [00:05<00:00, 12.47it/s]\n",
      "Main Epoch (Outer Loop):  64%|██████▍   | 329/512 [1:50:15<15:54,  5.21s/it]"
     ]
    },
    {
     "name": "stdout",
     "output_type": "stream",
     "text": [
      "Transferred Data\n"
     ]
    },
    {
     "name": "stderr",
     "output_type": "stream",
     "text": [
      "Epoch 330/512 (Inner K-Epochs): 100%|██████████| 64/64 [00:05<00:00, 12.52it/s]\n",
      "Main Epoch (Outer Loop):  64%|██████▍   | 330/512 [1:50:20<15:48,  5.21s/it]"
     ]
    },
    {
     "name": "stdout",
     "output_type": "stream",
     "text": [
      "Transferred Data\n"
     ]
    },
    {
     "name": "stderr",
     "output_type": "stream",
     "text": [
      "Epoch 331/512 (Inner K-Epochs): 100%|██████████| 64/64 [00:05<00:00, 12.48it/s]\n",
      "Main Epoch (Outer Loop):  65%|██████▍   | 331/512 [1:50:25<15:43,  5.21s/it]"
     ]
    },
    {
     "name": "stdout",
     "output_type": "stream",
     "text": [
      "Transferred Data\n"
     ]
    },
    {
     "name": "stderr",
     "output_type": "stream",
     "text": [
      "Epoch 332/512 (Inner K-Epochs): 100%|██████████| 64/64 [00:05<00:00, 12.51it/s]\n",
      "Main Epoch (Outer Loop):  65%|██████▍   | 332/512 [1:50:30<15:38,  5.21s/it]"
     ]
    },
    {
     "name": "stdout",
     "output_type": "stream",
     "text": [
      "Transferred Data\n"
     ]
    },
    {
     "name": "stderr",
     "output_type": "stream",
     "text": [
      "Epoch 333/512 (Inner K-Epochs): 100%|██████████| 64/64 [00:06<00:00, 10.11it/s]\n",
      "Main Epoch (Outer Loop):  65%|██████▌   | 333/512 [1:50:37<16:37,  5.57s/it]"
     ]
    },
    {
     "name": "stdout",
     "output_type": "stream",
     "text": [
      "Transferred Data\n"
     ]
    },
    {
     "name": "stderr",
     "output_type": "stream",
     "text": [
      "Epoch 334/512 (Inner K-Epochs): 100%|██████████| 64/64 [00:05<00:00, 12.48it/s]\n",
      "Main Epoch (Outer Loop):  65%|██████▌   | 334/512 [1:50:42<16:11,  5.46s/it]"
     ]
    },
    {
     "name": "stdout",
     "output_type": "stream",
     "text": [
      "Transferred Data\n"
     ]
    },
    {
     "name": "stderr",
     "output_type": "stream",
     "text": [
      "Epoch 335/512 (Inner K-Epochs): 100%|██████████| 64/64 [00:05<00:00, 12.47it/s]\n",
      "Main Epoch (Outer Loop):  65%|██████▌   | 335/512 [1:50:47<15:53,  5.39s/it]"
     ]
    },
    {
     "name": "stdout",
     "output_type": "stream",
     "text": [
      "Transferred Data\n"
     ]
    },
    {
     "name": "stderr",
     "output_type": "stream",
     "text": [
      "Epoch 336/512 (Inner K-Epochs): 100%|██████████| 64/64 [00:05<00:00, 12.46it/s]\n",
      "Main Epoch (Outer Loop):  66%|██████▌   | 336/512 [1:50:53<15:39,  5.34s/it]"
     ]
    },
    {
     "name": "stdout",
     "output_type": "stream",
     "text": [
      "Transferred Data\n"
     ]
    },
    {
     "name": "stderr",
     "output_type": "stream",
     "text": [
      "Epoch 337/512 (Inner K-Epochs): 100%|██████████| 64/64 [00:05<00:00, 12.46it/s]\n",
      "Main Epoch (Outer Loop):  66%|██████▌   | 337/512 [1:50:58<15:27,  5.30s/it]"
     ]
    },
    {
     "name": "stdout",
     "output_type": "stream",
     "text": [
      "Transferred Data\n"
     ]
    },
    {
     "name": "stderr",
     "output_type": "stream",
     "text": [
      "Epoch 338/512 (Inner K-Epochs): 100%|██████████| 64/64 [00:05<00:00, 12.47it/s]\n",
      "Main Epoch (Outer Loop):  66%|██████▌   | 338/512 [1:51:03<15:17,  5.27s/it]"
     ]
    },
    {
     "name": "stdout",
     "output_type": "stream",
     "text": [
      "Transferred Data\n"
     ]
    },
    {
     "name": "stderr",
     "output_type": "stream",
     "text": [
      "Epoch 339/512 (Inner K-Epochs): 100%|██████████| 64/64 [00:05<00:00, 12.41it/s]\n",
      "Main Epoch (Outer Loop):  66%|██████▌   | 339/512 [1:51:08<15:10,  5.26s/it]"
     ]
    },
    {
     "name": "stdout",
     "output_type": "stream",
     "text": [
      "Transferred Data\n"
     ]
    },
    {
     "name": "stderr",
     "output_type": "stream",
     "text": [
      "Epoch 340/512 (Inner K-Epochs): 100%|██████████| 64/64 [00:05<00:00, 12.40it/s]\n",
      "Main Epoch (Outer Loop):  66%|██████▋   | 340/512 [1:51:13<15:04,  5.26s/it]"
     ]
    },
    {
     "name": "stdout",
     "output_type": "stream",
     "text": [
      "Transferred Data\n"
     ]
    },
    {
     "name": "stderr",
     "output_type": "stream",
     "text": [
      "Epoch 341/512 (Inner K-Epochs): 100%|██████████| 64/64 [00:05<00:00, 12.38it/s]\n",
      "Main Epoch (Outer Loop):  67%|██████▋   | 341/512 [1:51:19<14:58,  5.26s/it]"
     ]
    },
    {
     "name": "stdout",
     "output_type": "stream",
     "text": [
      "Transferred Data\n"
     ]
    },
    {
     "name": "stderr",
     "output_type": "stream",
     "text": [
      "Epoch 342/512 (Inner K-Epochs): 100%|██████████| 64/64 [00:05<00:00, 12.36it/s]\n",
      "Main Epoch (Outer Loop):  67%|██████▋   | 342/512 [1:51:24<14:53,  5.26s/it]"
     ]
    },
    {
     "name": "stdout",
     "output_type": "stream",
     "text": [
      "Transferred Data\n"
     ]
    },
    {
     "name": "stderr",
     "output_type": "stream",
     "text": [
      "Epoch 343/512 (Inner K-Epochs): 100%|██████████| 64/64 [00:05<00:00, 12.34it/s]\n",
      "Main Epoch (Outer Loop):  67%|██████▋   | 343/512 [1:51:29<14:49,  5.26s/it]"
     ]
    },
    {
     "name": "stdout",
     "output_type": "stream",
     "text": [
      "Transferred Data\n"
     ]
    },
    {
     "name": "stderr",
     "output_type": "stream",
     "text": [
      "Epoch 344/512 (Inner K-Epochs): 100%|██████████| 64/64 [00:05<00:00, 12.41it/s]\n",
      "Main Epoch (Outer Loop):  67%|██████▋   | 344/512 [1:51:34<14:43,  5.26s/it]"
     ]
    },
    {
     "name": "stdout",
     "output_type": "stream",
     "text": [
      "Transferred Data\n"
     ]
    },
    {
     "name": "stderr",
     "output_type": "stream",
     "text": [
      "Epoch 345/512 (Inner K-Epochs): 100%|██████████| 64/64 [00:05<00:00, 12.35it/s]\n",
      "Main Epoch (Outer Loop):  67%|██████▋   | 345/512 [1:51:40<14:38,  5.26s/it]"
     ]
    },
    {
     "name": "stdout",
     "output_type": "stream",
     "text": [
      "Transferred Data\n"
     ]
    },
    {
     "name": "stderr",
     "output_type": "stream",
     "text": [
      "Epoch 346/512 (Inner K-Epochs): 100%|██████████| 64/64 [00:05<00:00, 12.44it/s]\n",
      "Main Epoch (Outer Loop):  68%|██████▊   | 346/512 [1:51:45<14:31,  5.25s/it]"
     ]
    },
    {
     "name": "stdout",
     "output_type": "stream",
     "text": [
      "Transferred Data\n"
     ]
    },
    {
     "name": "stderr",
     "output_type": "stream",
     "text": [
      "Epoch 347/512 (Inner K-Epochs): 100%|██████████| 64/64 [00:05<00:00, 12.40it/s]\n",
      "Main Epoch (Outer Loop):  68%|██████▊   | 347/512 [1:51:50<14:26,  5.25s/it]"
     ]
    },
    {
     "name": "stdout",
     "output_type": "stream",
     "text": [
      "Transferred Data\n"
     ]
    },
    {
     "name": "stderr",
     "output_type": "stream",
     "text": [
      "Epoch 348/512 (Inner K-Epochs): 100%|██████████| 64/64 [00:05<00:00, 12.40it/s]\n",
      "Main Epoch (Outer Loop):  68%|██████▊   | 348/512 [1:51:55<14:21,  5.25s/it]"
     ]
    },
    {
     "name": "stdout",
     "output_type": "stream",
     "text": [
      "Transferred Data\n"
     ]
    },
    {
     "name": "stderr",
     "output_type": "stream",
     "text": [
      "Epoch 349/512 (Inner K-Epochs): 100%|██████████| 64/64 [00:05<00:00, 12.45it/s]\n",
      "Main Epoch (Outer Loop):  68%|██████▊   | 349/512 [1:52:01<14:15,  5.25s/it]"
     ]
    },
    {
     "name": "stdout",
     "output_type": "stream",
     "text": [
      "Transferred Data\n"
     ]
    },
    {
     "name": "stderr",
     "output_type": "stream",
     "text": [
      "Epoch 350/512 (Inner K-Epochs): 100%|██████████| 64/64 [00:05<00:00, 12.35it/s]\n",
      "Main Epoch (Outer Loop):  68%|██████▊   | 350/512 [1:52:06<14:11,  5.26s/it]"
     ]
    },
    {
     "name": "stdout",
     "output_type": "stream",
     "text": [
      "Transferred Data\n"
     ]
    },
    {
     "name": "stderr",
     "output_type": "stream",
     "text": [
      "Epoch 351/512 (Inner K-Epochs): 100%|██████████| 64/64 [00:05<00:00, 12.41it/s]\n",
      "Main Epoch (Outer Loop):  69%|██████▊   | 351/512 [1:52:11<14:05,  5.25s/it]"
     ]
    },
    {
     "name": "stdout",
     "output_type": "stream",
     "text": [
      "Transferred Data\n"
     ]
    },
    {
     "name": "stderr",
     "output_type": "stream",
     "text": [
      "Epoch 352/512 (Inner K-Epochs): 100%|██████████| 64/64 [00:05<00:00, 12.35it/s]\n",
      "Main Epoch (Outer Loop):  69%|██████▉   | 352/512 [1:52:16<14:00,  5.26s/it]"
     ]
    },
    {
     "name": "stdout",
     "output_type": "stream",
     "text": [
      "Transferred Data\n"
     ]
    },
    {
     "name": "stderr",
     "output_type": "stream",
     "text": [
      "Epoch 353/512 (Inner K-Epochs): 100%|██████████| 64/64 [00:05<00:00, 12.39it/s]\n",
      "Main Epoch (Outer Loop):  69%|██████▉   | 353/512 [1:52:22<13:55,  5.25s/it]"
     ]
    },
    {
     "name": "stdout",
     "output_type": "stream",
     "text": [
      "Transferred Data\n"
     ]
    },
    {
     "name": "stderr",
     "output_type": "stream",
     "text": [
      "Epoch 354/512 (Inner K-Epochs): 100%|██████████| 64/64 [00:05<00:00, 12.39it/s]\n",
      "Main Epoch (Outer Loop):  69%|██████▉   | 354/512 [1:52:27<13:50,  5.25s/it]"
     ]
    },
    {
     "name": "stdout",
     "output_type": "stream",
     "text": [
      "Transferred Data\n"
     ]
    },
    {
     "name": "stderr",
     "output_type": "stream",
     "text": [
      "Epoch 355/512 (Inner K-Epochs): 100%|██████████| 64/64 [00:05<00:00, 12.37it/s]\n",
      "Main Epoch (Outer Loop):  69%|██████▉   | 355/512 [1:52:32<13:45,  5.26s/it]"
     ]
    },
    {
     "name": "stdout",
     "output_type": "stream",
     "text": [
      "Transferred Data\n"
     ]
    },
    {
     "name": "stderr",
     "output_type": "stream",
     "text": [
      "Epoch 356/512 (Inner K-Epochs): 100%|██████████| 64/64 [00:05<00:00, 12.43it/s]\n",
      "Main Epoch (Outer Loop):  70%|██████▉   | 356/512 [1:52:37<13:38,  5.25s/it]"
     ]
    },
    {
     "name": "stdout",
     "output_type": "stream",
     "text": [
      "Transferred Data\n"
     ]
    },
    {
     "name": "stderr",
     "output_type": "stream",
     "text": [
      "Epoch 357/512 (Inner K-Epochs): 100%|██████████| 64/64 [00:05<00:00, 12.37it/s]\n",
      "Main Epoch (Outer Loop):  70%|██████▉   | 357/512 [1:52:43<13:34,  5.25s/it]"
     ]
    },
    {
     "name": "stdout",
     "output_type": "stream",
     "text": [
      "Transferred Data\n"
     ]
    },
    {
     "name": "stderr",
     "output_type": "stream",
     "text": [
      "Epoch 358/512 (Inner K-Epochs): 100%|██████████| 64/64 [00:05<00:00, 12.45it/s]\n",
      "Main Epoch (Outer Loop):  70%|██████▉   | 358/512 [1:52:48<13:27,  5.25s/it]"
     ]
    },
    {
     "name": "stdout",
     "output_type": "stream",
     "text": [
      "Transferred Data\n"
     ]
    },
    {
     "name": "stderr",
     "output_type": "stream",
     "text": [
      "Epoch 359/512 (Inner K-Epochs): 100%|██████████| 64/64 [00:05<00:00, 12.33it/s]\n",
      "Main Epoch (Outer Loop):  70%|███████   | 359/512 [1:52:53<13:24,  5.26s/it]"
     ]
    },
    {
     "name": "stdout",
     "output_type": "stream",
     "text": [
      "Transferred Data\n"
     ]
    },
    {
     "name": "stderr",
     "output_type": "stream",
     "text": [
      "Epoch 360/512 (Inner K-Epochs): 100%|██████████| 64/64 [00:05<00:00, 12.42it/s]\n",
      "Main Epoch (Outer Loop):  70%|███████   | 360/512 [1:52:58<13:17,  5.25s/it]"
     ]
    },
    {
     "name": "stdout",
     "output_type": "stream",
     "text": [
      "Transferred Data\n"
     ]
    },
    {
     "name": "stderr",
     "output_type": "stream",
     "text": [
      "Epoch 361/512 (Inner K-Epochs): 100%|██████████| 64/64 [00:05<00:00, 12.43it/s]\n",
      "Main Epoch (Outer Loop):  71%|███████   | 361/512 [1:53:04<13:11,  5.24s/it]"
     ]
    },
    {
     "name": "stdout",
     "output_type": "stream",
     "text": [
      "Transferred Data\n"
     ]
    },
    {
     "name": "stderr",
     "output_type": "stream",
     "text": [
      "Epoch 362/512 (Inner K-Epochs): 100%|██████████| 64/64 [00:05<00:00, 12.34it/s]\n",
      "Main Epoch (Outer Loop):  71%|███████   | 362/512 [1:53:09<13:07,  5.25s/it]"
     ]
    },
    {
     "name": "stdout",
     "output_type": "stream",
     "text": [
      "Transferred Data\n"
     ]
    },
    {
     "name": "stderr",
     "output_type": "stream",
     "text": [
      "Epoch 363/512 (Inner K-Epochs): 100%|██████████| 64/64 [00:05<00:00, 12.37it/s]\n",
      "Main Epoch (Outer Loop):  71%|███████   | 363/512 [1:53:14<13:02,  5.25s/it]"
     ]
    },
    {
     "name": "stdout",
     "output_type": "stream",
     "text": [
      "Transferred Data\n"
     ]
    },
    {
     "name": "stderr",
     "output_type": "stream",
     "text": [
      "Epoch 364/512 (Inner K-Epochs): 100%|██████████| 64/64 [00:05<00:00, 12.41it/s]\n",
      "Main Epoch (Outer Loop):  71%|███████   | 364/512 [1:53:20<12:57,  5.25s/it]"
     ]
    },
    {
     "name": "stdout",
     "output_type": "stream",
     "text": [
      "Transferred Data\n"
     ]
    },
    {
     "name": "stderr",
     "output_type": "stream",
     "text": [
      "Epoch 365/512 (Inner K-Epochs): 100%|██████████| 64/64 [00:05<00:00, 12.34it/s]\n",
      "Main Epoch (Outer Loop):  71%|███████▏  | 365/512 [1:53:25<12:53,  5.26s/it]"
     ]
    },
    {
     "name": "stdout",
     "output_type": "stream",
     "text": [
      "Transferred Data\n"
     ]
    },
    {
     "name": "stderr",
     "output_type": "stream",
     "text": [
      "Epoch 366/512 (Inner K-Epochs): 100%|██████████| 64/64 [00:05<00:00, 12.39it/s]\n",
      "Main Epoch (Outer Loop):  71%|███████▏  | 366/512 [1:53:30<12:48,  5.26s/it]"
     ]
    },
    {
     "name": "stdout",
     "output_type": "stream",
     "text": [
      "Transferred Data\n"
     ]
    },
    {
     "name": "stderr",
     "output_type": "stream",
     "text": [
      "Epoch 367/512 (Inner K-Epochs): 100%|██████████| 64/64 [00:05<00:00, 12.39it/s]\n",
      "Main Epoch (Outer Loop):  72%|███████▏  | 367/512 [1:53:35<12:42,  5.26s/it]"
     ]
    },
    {
     "name": "stdout",
     "output_type": "stream",
     "text": [
      "Transferred Data\n"
     ]
    },
    {
     "name": "stderr",
     "output_type": "stream",
     "text": [
      "Epoch 368/512 (Inner K-Epochs): 100%|██████████| 64/64 [00:05<00:00, 12.37it/s]\n",
      "Main Epoch (Outer Loop):  72%|███████▏  | 368/512 [1:53:41<12:37,  5.26s/it]"
     ]
    },
    {
     "name": "stdout",
     "output_type": "stream",
     "text": [
      "Transferred Data\n"
     ]
    },
    {
     "name": "stderr",
     "output_type": "stream",
     "text": [
      "Epoch 369/512 (Inner K-Epochs): 100%|██████████| 64/64 [00:05<00:00, 12.35it/s]\n",
      "Main Epoch (Outer Loop):  72%|███████▏  | 369/512 [1:53:46<12:32,  5.26s/it]"
     ]
    },
    {
     "name": "stdout",
     "output_type": "stream",
     "text": [
      "Transferred Data\n"
     ]
    },
    {
     "name": "stderr",
     "output_type": "stream",
     "text": [
      "Epoch 370/512 (Inner K-Epochs): 100%|██████████| 64/64 [00:05<00:00, 12.40it/s]\n",
      "Main Epoch (Outer Loop):  72%|███████▏  | 370/512 [1:53:51<12:26,  5.26s/it]"
     ]
    },
    {
     "name": "stdout",
     "output_type": "stream",
     "text": [
      "Transferred Data\n"
     ]
    },
    {
     "name": "stderr",
     "output_type": "stream",
     "text": [
      "Epoch 371/512 (Inner K-Epochs): 100%|██████████| 64/64 [00:05<00:00, 12.40it/s]\n",
      "Main Epoch (Outer Loop):  72%|███████▏  | 371/512 [1:53:56<12:21,  5.26s/it]"
     ]
    },
    {
     "name": "stdout",
     "output_type": "stream",
     "text": [
      "Transferred Data\n"
     ]
    },
    {
     "name": "stderr",
     "output_type": "stream",
     "text": [
      "Epoch 372/512 (Inner K-Epochs): 100%|██████████| 64/64 [00:05<00:00, 12.33it/s]\n",
      "Main Epoch (Outer Loop):  73%|███████▎  | 372/512 [1:54:02<12:16,  5.26s/it]"
     ]
    },
    {
     "name": "stdout",
     "output_type": "stream",
     "text": [
      "Transferred Data\n"
     ]
    },
    {
     "name": "stderr",
     "output_type": "stream",
     "text": [
      "Epoch 373/512 (Inner K-Epochs): 100%|██████████| 64/64 [00:05<00:00, 12.41it/s]\n",
      "Main Epoch (Outer Loop):  73%|███████▎  | 373/512 [1:54:07<12:10,  5.25s/it]"
     ]
    },
    {
     "name": "stdout",
     "output_type": "stream",
     "text": [
      "Transferred Data\n"
     ]
    },
    {
     "name": "stderr",
     "output_type": "stream",
     "text": [
      "Epoch 374/512 (Inner K-Epochs): 100%|██████████| 64/64 [00:05<00:00, 12.34it/s]\n",
      "Main Epoch (Outer Loop):  73%|███████▎  | 374/512 [1:54:12<12:06,  5.26s/it]"
     ]
    },
    {
     "name": "stdout",
     "output_type": "stream",
     "text": [
      "Transferred Data\n"
     ]
    },
    {
     "name": "stderr",
     "output_type": "stream",
     "text": [
      "Epoch 375/512 (Inner K-Epochs): 100%|██████████| 64/64 [00:05<00:00, 12.38it/s]\n",
      "Main Epoch (Outer Loop):  73%|███████▎  | 375/512 [1:54:17<12:00,  5.26s/it]"
     ]
    },
    {
     "name": "stdout",
     "output_type": "stream",
     "text": [
      "Transferred Data\n"
     ]
    },
    {
     "name": "stderr",
     "output_type": "stream",
     "text": [
      "Epoch 376/512 (Inner K-Epochs): 100%|██████████| 64/64 [00:05<00:00, 12.39it/s]\n",
      "Main Epoch (Outer Loop):  73%|███████▎  | 376/512 [1:54:23<11:54,  5.26s/it]"
     ]
    },
    {
     "name": "stdout",
     "output_type": "stream",
     "text": [
      "Transferred Data\n"
     ]
    },
    {
     "name": "stderr",
     "output_type": "stream",
     "text": [
      "Epoch 377/512 (Inner K-Epochs): 100%|██████████| 64/64 [00:05<00:00, 12.40it/s]\n",
      "Main Epoch (Outer Loop):  74%|███████▎  | 377/512 [1:54:28<11:49,  5.26s/it]"
     ]
    },
    {
     "name": "stdout",
     "output_type": "stream",
     "text": [
      "Transferred Data\n"
     ]
    },
    {
     "name": "stderr",
     "output_type": "stream",
     "text": [
      "Epoch 378/512 (Inner K-Epochs): 100%|██████████| 64/64 [00:05<00:00, 12.37it/s]\n",
      "Main Epoch (Outer Loop):  74%|███████▍  | 378/512 [1:54:33<11:44,  5.26s/it]"
     ]
    },
    {
     "name": "stdout",
     "output_type": "stream",
     "text": [
      "Transferred Data\n"
     ]
    },
    {
     "name": "stderr",
     "output_type": "stream",
     "text": [
      "Epoch 379/512 (Inner K-Epochs): 100%|██████████| 64/64 [00:05<00:00, 12.36it/s]\n",
      "Main Epoch (Outer Loop):  74%|███████▍  | 379/512 [1:54:38<11:39,  5.26s/it]"
     ]
    },
    {
     "name": "stdout",
     "output_type": "stream",
     "text": [
      "Transferred Data\n"
     ]
    },
    {
     "name": "stderr",
     "output_type": "stream",
     "text": [
      "Epoch 380/512 (Inner K-Epochs): 100%|██████████| 64/64 [00:05<00:00, 12.36it/s]\n",
      "Main Epoch (Outer Loop):  74%|███████▍  | 380/512 [1:54:44<11:34,  5.26s/it]"
     ]
    },
    {
     "name": "stdout",
     "output_type": "stream",
     "text": [
      "Transferred Data\n"
     ]
    },
    {
     "name": "stderr",
     "output_type": "stream",
     "text": [
      "Epoch 381/512 (Inner K-Epochs): 100%|██████████| 64/64 [00:05<00:00, 12.34it/s]\n",
      "Main Epoch (Outer Loop):  74%|███████▍  | 381/512 [1:54:49<11:29,  5.26s/it]"
     ]
    },
    {
     "name": "stdout",
     "output_type": "stream",
     "text": [
      "Transferred Data\n"
     ]
    },
    {
     "name": "stderr",
     "output_type": "stream",
     "text": [
      "Epoch 382/512 (Inner K-Epochs): 100%|██████████| 64/64 [00:05<00:00, 12.38it/s]\n",
      "Main Epoch (Outer Loop):  75%|███████▍  | 382/512 [1:54:54<11:23,  5.26s/it]"
     ]
    },
    {
     "name": "stdout",
     "output_type": "stream",
     "text": [
      "Transferred Data\n"
     ]
    },
    {
     "name": "stderr",
     "output_type": "stream",
     "text": [
      "Epoch 383/512 (Inner K-Epochs): 100%|██████████| 64/64 [00:05<00:00, 12.46it/s]\n",
      "Main Epoch (Outer Loop):  75%|███████▍  | 383/512 [1:54:59<11:17,  5.25s/it]"
     ]
    },
    {
     "name": "stdout",
     "output_type": "stream",
     "text": [
      "Transferred Data\n"
     ]
    },
    {
     "name": "stderr",
     "output_type": "stream",
     "text": [
      "Epoch 384/512 (Inner K-Epochs): 100%|██████████| 64/64 [00:05<00:00, 12.36it/s]\n",
      "Main Epoch (Outer Loop):  75%|███████▌  | 384/512 [1:55:05<11:19,  5.31s/it]"
     ]
    },
    {
     "name": "stdout",
     "output_type": "stream",
     "text": [
      "Epoch 384/512, Loss: 0.0000, Ratio: 1.00000, Entropy Term: 0.00000\n",
      "Epoch 384 | Entire Validation Dataset Accuracy: 0.5365| 103.0 / 192.0 samples\n",
      "Transferred Data\n"
     ]
    },
    {
     "name": "stderr",
     "output_type": "stream",
     "text": [
      "Epoch 385/512 (Inner K-Epochs): 100%|██████████| 64/64 [00:05<00:00, 12.42it/s]\n",
      "Main Epoch (Outer Loop):  75%|███████▌  | 385/512 [1:55:10<11:11,  5.28s/it]"
     ]
    },
    {
     "name": "stdout",
     "output_type": "stream",
     "text": [
      "Transferred Data\n"
     ]
    },
    {
     "name": "stderr",
     "output_type": "stream",
     "text": [
      "Epoch 386/512 (Inner K-Epochs): 100%|██████████| 64/64 [00:05<00:00, 12.31it/s]\n",
      "Main Epoch (Outer Loop):  75%|███████▌  | 386/512 [1:55:15<11:05,  5.28s/it]"
     ]
    },
    {
     "name": "stdout",
     "output_type": "stream",
     "text": [
      "Transferred Data\n"
     ]
    },
    {
     "name": "stderr",
     "output_type": "stream",
     "text": [
      "Epoch 387/512 (Inner K-Epochs): 100%|██████████| 64/64 [00:05<00:00, 12.41it/s]\n",
      "Main Epoch (Outer Loop):  76%|███████▌  | 387/512 [1:55:21<10:59,  5.27s/it]"
     ]
    },
    {
     "name": "stdout",
     "output_type": "stream",
     "text": [
      "Transferred Data\n"
     ]
    },
    {
     "name": "stderr",
     "output_type": "stream",
     "text": [
      "Epoch 388/512 (Inner K-Epochs): 100%|██████████| 64/64 [00:05<00:00, 12.41it/s]\n",
      "Main Epoch (Outer Loop):  76%|███████▌  | 388/512 [1:55:26<10:52,  5.26s/it]"
     ]
    },
    {
     "name": "stdout",
     "output_type": "stream",
     "text": [
      "Transferred Data\n"
     ]
    },
    {
     "name": "stderr",
     "output_type": "stream",
     "text": [
      "Epoch 389/512 (Inner K-Epochs): 100%|██████████| 64/64 [00:05<00:00, 12.40it/s]\n",
      "Main Epoch (Outer Loop):  76%|███████▌  | 389/512 [1:55:31<10:46,  5.26s/it]"
     ]
    },
    {
     "name": "stdout",
     "output_type": "stream",
     "text": [
      "Transferred Data\n"
     ]
    },
    {
     "name": "stderr",
     "output_type": "stream",
     "text": [
      "Epoch 390/512 (Inner K-Epochs): 100%|██████████| 64/64 [00:05<00:00, 12.40it/s]\n",
      "Main Epoch (Outer Loop):  76%|███████▌  | 390/512 [1:55:36<10:41,  5.26s/it]"
     ]
    },
    {
     "name": "stdout",
     "output_type": "stream",
     "text": [
      "Transferred Data\n"
     ]
    },
    {
     "name": "stderr",
     "output_type": "stream",
     "text": [
      "Epoch 391/512 (Inner K-Epochs): 100%|██████████| 64/64 [00:05<00:00, 12.39it/s]\n",
      "Main Epoch (Outer Loop):  76%|███████▋  | 391/512 [1:55:42<10:36,  5.26s/it]"
     ]
    },
    {
     "name": "stdout",
     "output_type": "stream",
     "text": [
      "Transferred Data\n"
     ]
    },
    {
     "name": "stderr",
     "output_type": "stream",
     "text": [
      "Epoch 392/512 (Inner K-Epochs): 100%|██████████| 64/64 [00:05<00:00, 12.38it/s]\n",
      "Main Epoch (Outer Loop):  77%|███████▋  | 392/512 [1:55:47<10:30,  5.26s/it]"
     ]
    },
    {
     "name": "stdout",
     "output_type": "stream",
     "text": [
      "Transferred Data\n"
     ]
    },
    {
     "name": "stderr",
     "output_type": "stream",
     "text": [
      "Epoch 393/512 (Inner K-Epochs): 100%|██████████| 64/64 [00:05<00:00, 12.37it/s]\n",
      "Main Epoch (Outer Loop):  77%|███████▋  | 393/512 [1:55:52<10:25,  5.26s/it]"
     ]
    },
    {
     "name": "stdout",
     "output_type": "stream",
     "text": [
      "Transferred Data\n"
     ]
    },
    {
     "name": "stderr",
     "output_type": "stream",
     "text": [
      "Epoch 394/512 (Inner K-Epochs): 100%|██████████| 64/64 [00:05<00:00, 12.35it/s]\n",
      "Main Epoch (Outer Loop):  77%|███████▋  | 394/512 [1:55:57<10:20,  5.26s/it]"
     ]
    },
    {
     "name": "stdout",
     "output_type": "stream",
     "text": [
      "Transferred Data\n"
     ]
    },
    {
     "name": "stderr",
     "output_type": "stream",
     "text": [
      "Epoch 395/512 (Inner K-Epochs): 100%|██████████| 64/64 [00:05<00:00, 12.48it/s]\n",
      "Main Epoch (Outer Loop):  77%|███████▋  | 395/512 [1:56:03<10:13,  5.24s/it]"
     ]
    },
    {
     "name": "stdout",
     "output_type": "stream",
     "text": [
      "Transferred Data\n"
     ]
    },
    {
     "name": "stderr",
     "output_type": "stream",
     "text": [
      "Epoch 396/512 (Inner K-Epochs): 100%|██████████| 64/64 [00:05<00:00, 12.38it/s]\n",
      "Main Epoch (Outer Loop):  77%|███████▋  | 396/512 [1:56:08<10:08,  5.25s/it]"
     ]
    },
    {
     "name": "stdout",
     "output_type": "stream",
     "text": [
      "Transferred Data\n"
     ]
    },
    {
     "name": "stderr",
     "output_type": "stream",
     "text": [
      "Epoch 397/512 (Inner K-Epochs): 100%|██████████| 64/64 [00:05<00:00, 12.42it/s]\n",
      "Main Epoch (Outer Loop):  78%|███████▊  | 397/512 [1:56:13<10:03,  5.25s/it]"
     ]
    },
    {
     "name": "stdout",
     "output_type": "stream",
     "text": [
      "Transferred Data\n"
     ]
    },
    {
     "name": "stderr",
     "output_type": "stream",
     "text": [
      "Epoch 398/512 (Inner K-Epochs): 100%|██████████| 64/64 [00:05<00:00, 12.41it/s]\n",
      "Main Epoch (Outer Loop):  78%|███████▊  | 398/512 [1:56:18<09:57,  5.24s/it]"
     ]
    },
    {
     "name": "stdout",
     "output_type": "stream",
     "text": [
      "Transferred Data\n"
     ]
    },
    {
     "name": "stderr",
     "output_type": "stream",
     "text": [
      "Epoch 399/512 (Inner K-Epochs): 100%|██████████| 64/64 [00:05<00:00, 12.38it/s]\n",
      "Main Epoch (Outer Loop):  78%|███████▊  | 399/512 [1:56:24<09:52,  5.24s/it]"
     ]
    },
    {
     "name": "stdout",
     "output_type": "stream",
     "text": [
      "Transferred Data\n"
     ]
    },
    {
     "name": "stderr",
     "output_type": "stream",
     "text": [
      "Epoch 400/512 (Inner K-Epochs): 100%|██████████| 64/64 [00:05<00:00, 12.20it/s]\n",
      "Main Epoch (Outer Loop):  78%|███████▊  | 400/512 [1:56:29<09:50,  5.27s/it]"
     ]
    },
    {
     "name": "stdout",
     "output_type": "stream",
     "text": [
      "Transferred Data\n"
     ]
    },
    {
     "name": "stderr",
     "output_type": "stream",
     "text": [
      "Epoch 401/512 (Inner K-Epochs): 100%|██████████| 64/64 [00:04<00:00, 12.80it/s]\n",
      "Main Epoch (Outer Loop):  78%|███████▊  | 401/512 [1:56:34<09:38,  5.22s/it]"
     ]
    },
    {
     "name": "stdout",
     "output_type": "stream",
     "text": [
      "Transferred Data\n"
     ]
    },
    {
     "name": "stderr",
     "output_type": "stream",
     "text": [
      "Epoch 402/512 (Inner K-Epochs): 100%|██████████| 64/64 [00:04<00:00, 12.91it/s]\n",
      "Main Epoch (Outer Loop):  79%|███████▊  | 402/512 [1:56:39<09:27,  5.16s/it]"
     ]
    },
    {
     "name": "stdout",
     "output_type": "stream",
     "text": [
      "Transferred Data\n"
     ]
    },
    {
     "name": "stderr",
     "output_type": "stream",
     "text": [
      "Epoch 403/512 (Inner K-Epochs): 100%|██████████| 64/64 [00:04<00:00, 12.84it/s]\n",
      "Main Epoch (Outer Loop):  79%|███████▊  | 403/512 [1:56:44<09:19,  5.13s/it]"
     ]
    },
    {
     "name": "stdout",
     "output_type": "stream",
     "text": [
      "Transferred Data\n"
     ]
    },
    {
     "name": "stderr",
     "output_type": "stream",
     "text": [
      "Epoch 404/512 (Inner K-Epochs): 100%|██████████| 64/64 [00:05<00:00, 12.78it/s]\n",
      "Main Epoch (Outer Loop):  79%|███████▉  | 404/512 [1:56:49<09:13,  5.12s/it]"
     ]
    },
    {
     "name": "stdout",
     "output_type": "stream",
     "text": [
      "Transferred Data\n"
     ]
    },
    {
     "name": "stderr",
     "output_type": "stream",
     "text": [
      "Epoch 405/512 (Inner K-Epochs): 100%|██████████| 64/64 [00:04<00:00, 12.84it/s]\n",
      "Main Epoch (Outer Loop):  79%|███████▉  | 405/512 [1:56:54<09:06,  5.11s/it]"
     ]
    },
    {
     "name": "stdout",
     "output_type": "stream",
     "text": [
      "Transferred Data\n"
     ]
    },
    {
     "name": "stderr",
     "output_type": "stream",
     "text": [
      "Epoch 406/512 (Inner K-Epochs): 100%|██████████| 64/64 [00:04<00:00, 12.82it/s]\n",
      "Main Epoch (Outer Loop):  79%|███████▉  | 406/512 [1:56:59<09:00,  5.10s/it]"
     ]
    },
    {
     "name": "stdout",
     "output_type": "stream",
     "text": [
      "Transferred Data\n"
     ]
    },
    {
     "name": "stderr",
     "output_type": "stream",
     "text": [
      "Epoch 407/512 (Inner K-Epochs): 100%|██████████| 64/64 [00:04<00:00, 12.89it/s]\n",
      "Main Epoch (Outer Loop):  79%|███████▉  | 407/512 [1:57:04<08:53,  5.08s/it]"
     ]
    },
    {
     "name": "stdout",
     "output_type": "stream",
     "text": [
      "Transferred Data\n"
     ]
    },
    {
     "name": "stderr",
     "output_type": "stream",
     "text": [
      "Epoch 408/512 (Inner K-Epochs): 100%|██████████| 64/64 [00:05<00:00, 12.79it/s]\n",
      "Main Epoch (Outer Loop):  80%|███████▉  | 408/512 [1:57:09<08:48,  5.08s/it]"
     ]
    },
    {
     "name": "stdout",
     "output_type": "stream",
     "text": [
      "Transferred Data\n"
     ]
    },
    {
     "name": "stderr",
     "output_type": "stream",
     "text": [
      "Epoch 409/512 (Inner K-Epochs): 100%|██████████| 64/64 [00:04<00:00, 12.84it/s]\n",
      "Main Epoch (Outer Loop):  80%|███████▉  | 409/512 [1:57:15<08:43,  5.08s/it]"
     ]
    },
    {
     "name": "stdout",
     "output_type": "stream",
     "text": [
      "Transferred Data\n"
     ]
    },
    {
     "name": "stderr",
     "output_type": "stream",
     "text": [
      "Epoch 410/512 (Inner K-Epochs): 100%|██████████| 64/64 [00:04<00:00, 12.81it/s]\n",
      "Main Epoch (Outer Loop):  80%|████████  | 410/512 [1:57:20<08:37,  5.08s/it]"
     ]
    },
    {
     "name": "stdout",
     "output_type": "stream",
     "text": [
      "Transferred Data\n"
     ]
    },
    {
     "name": "stderr",
     "output_type": "stream",
     "text": [
      "Epoch 411/512 (Inner K-Epochs): 100%|██████████| 64/64 [00:04<00:00, 12.90it/s]\n",
      "Main Epoch (Outer Loop):  80%|████████  | 411/512 [1:57:25<08:31,  5.07s/it]"
     ]
    },
    {
     "name": "stdout",
     "output_type": "stream",
     "text": [
      "Transferred Data\n"
     ]
    },
    {
     "name": "stderr",
     "output_type": "stream",
     "text": [
      "Epoch 412/512 (Inner K-Epochs): 100%|██████████| 64/64 [00:04<00:00, 12.86it/s]\n",
      "Main Epoch (Outer Loop):  80%|████████  | 412/512 [1:57:30<08:26,  5.07s/it]"
     ]
    },
    {
     "name": "stdout",
     "output_type": "stream",
     "text": [
      "Transferred Data\n"
     ]
    },
    {
     "name": "stderr",
     "output_type": "stream",
     "text": [
      "Epoch 413/512 (Inner K-Epochs): 100%|██████████| 64/64 [00:05<00:00, 12.78it/s]\n",
      "Main Epoch (Outer Loop):  81%|████████  | 413/512 [1:57:35<08:22,  5.07s/it]"
     ]
    },
    {
     "name": "stdout",
     "output_type": "stream",
     "text": [
      "Transferred Data\n"
     ]
    },
    {
     "name": "stderr",
     "output_type": "stream",
     "text": [
      "Epoch 414/512 (Inner K-Epochs): 100%|██████████| 64/64 [00:04<00:00, 12.86it/s]\n",
      "Main Epoch (Outer Loop):  81%|████████  | 414/512 [1:57:40<08:16,  5.07s/it]"
     ]
    },
    {
     "name": "stdout",
     "output_type": "stream",
     "text": [
      "Transferred Data\n"
     ]
    },
    {
     "name": "stderr",
     "output_type": "stream",
     "text": [
      "Epoch 415/512 (Inner K-Epochs): 100%|██████████| 64/64 [00:04<00:00, 12.87it/s]\n",
      "Main Epoch (Outer Loop):  81%|████████  | 415/512 [1:57:45<08:11,  5.07s/it]"
     ]
    },
    {
     "name": "stdout",
     "output_type": "stream",
     "text": [
      "Transferred Data\n"
     ]
    },
    {
     "name": "stderr",
     "output_type": "stream",
     "text": [
      "Epoch 416/512 (Inner K-Epochs): 100%|██████████| 64/64 [00:04<00:00, 12.83it/s]\n",
      "Main Epoch (Outer Loop):  81%|████████▏ | 416/512 [1:57:50<08:06,  5.07s/it]"
     ]
    },
    {
     "name": "stdout",
     "output_type": "stream",
     "text": [
      "Transferred Data\n"
     ]
    },
    {
     "name": "stderr",
     "output_type": "stream",
     "text": [
      "Epoch 417/512 (Inner K-Epochs): 100%|██████████| 64/64 [00:04<00:00, 12.92it/s]\n",
      "Main Epoch (Outer Loop):  81%|████████▏ | 417/512 [1:57:55<08:00,  5.06s/it]"
     ]
    },
    {
     "name": "stdout",
     "output_type": "stream",
     "text": [
      "Transferred Data\n"
     ]
    },
    {
     "name": "stderr",
     "output_type": "stream",
     "text": [
      "Epoch 418/512 (Inner K-Epochs): 100%|██████████| 64/64 [00:04<00:00, 12.84it/s]\n",
      "Main Epoch (Outer Loop):  82%|████████▏ | 418/512 [1:58:00<07:55,  5.06s/it]"
     ]
    },
    {
     "name": "stdout",
     "output_type": "stream",
     "text": [
      "Transferred Data\n"
     ]
    },
    {
     "name": "stderr",
     "output_type": "stream",
     "text": [
      "Epoch 419/512 (Inner K-Epochs): 100%|██████████| 64/64 [00:05<00:00, 12.77it/s]\n",
      "Main Epoch (Outer Loop):  82%|████████▏ | 419/512 [1:58:05<07:51,  5.07s/it]"
     ]
    },
    {
     "name": "stdout",
     "output_type": "stream",
     "text": [
      "Transferred Data\n"
     ]
    },
    {
     "name": "stderr",
     "output_type": "stream",
     "text": [
      "Epoch 420/512 (Inner K-Epochs): 100%|██████████| 64/64 [00:05<00:00, 12.78it/s]\n",
      "Main Epoch (Outer Loop):  82%|████████▏ | 420/512 [1:58:10<07:47,  5.08s/it]"
     ]
    },
    {
     "name": "stdout",
     "output_type": "stream",
     "text": [
      "Transferred Data\n"
     ]
    },
    {
     "name": "stderr",
     "output_type": "stream",
     "text": [
      "Epoch 421/512 (Inner K-Epochs): 100%|██████████| 64/64 [00:04<00:00, 12.82it/s]\n",
      "Main Epoch (Outer Loop):  82%|████████▏ | 421/512 [1:58:15<07:42,  5.08s/it]"
     ]
    },
    {
     "name": "stdout",
     "output_type": "stream",
     "text": [
      "Transferred Data\n"
     ]
    },
    {
     "name": "stderr",
     "output_type": "stream",
     "text": [
      "Epoch 422/512 (Inner K-Epochs): 100%|██████████| 64/64 [00:04<00:00, 12.89it/s]\n",
      "Main Epoch (Outer Loop):  82%|████████▏ | 422/512 [1:58:20<07:36,  5.07s/it]"
     ]
    },
    {
     "name": "stdout",
     "output_type": "stream",
     "text": [
      "Transferred Data\n"
     ]
    },
    {
     "name": "stderr",
     "output_type": "stream",
     "text": [
      "Epoch 423/512 (Inner K-Epochs): 100%|██████████| 64/64 [00:04<00:00, 12.89it/s]\n",
      "Main Epoch (Outer Loop):  83%|████████▎ | 423/512 [1:58:25<07:30,  5.06s/it]"
     ]
    },
    {
     "name": "stdout",
     "output_type": "stream",
     "text": [
      "Transferred Data\n"
     ]
    },
    {
     "name": "stderr",
     "output_type": "stream",
     "text": [
      "Epoch 424/512 (Inner K-Epochs): 100%|██████████| 64/64 [00:05<00:00, 12.76it/s]\n",
      "Main Epoch (Outer Loop):  83%|████████▎ | 424/512 [1:58:31<07:26,  5.07s/it]"
     ]
    },
    {
     "name": "stdout",
     "output_type": "stream",
     "text": [
      "Transferred Data\n"
     ]
    },
    {
     "name": "stderr",
     "output_type": "stream",
     "text": [
      "Epoch 425/512 (Inner K-Epochs): 100%|██████████| 64/64 [00:04<00:00, 12.86it/s]\n",
      "Main Epoch (Outer Loop):  83%|████████▎ | 425/512 [1:58:36<07:21,  5.07s/it]"
     ]
    },
    {
     "name": "stdout",
     "output_type": "stream",
     "text": [
      "Transferred Data\n"
     ]
    },
    {
     "name": "stderr",
     "output_type": "stream",
     "text": [
      "Epoch 426/512 (Inner K-Epochs): 100%|██████████| 64/64 [00:04<00:00, 12.83it/s]\n",
      "Main Epoch (Outer Loop):  83%|████████▎ | 426/512 [1:58:41<07:16,  5.07s/it]"
     ]
    },
    {
     "name": "stdout",
     "output_type": "stream",
     "text": [
      "Transferred Data\n"
     ]
    },
    {
     "name": "stderr",
     "output_type": "stream",
     "text": [
      "Epoch 427/512 (Inner K-Epochs): 100%|██████████| 64/64 [00:04<00:00, 12.82it/s]\n",
      "Main Epoch (Outer Loop):  83%|████████▎ | 427/512 [1:58:46<07:11,  5.07s/it]"
     ]
    },
    {
     "name": "stdout",
     "output_type": "stream",
     "text": [
      "Transferred Data\n"
     ]
    },
    {
     "name": "stderr",
     "output_type": "stream",
     "text": [
      "Epoch 428/512 (Inner K-Epochs): 100%|██████████| 64/64 [00:04<00:00, 12.81it/s]\n",
      "Main Epoch (Outer Loop):  84%|████████▎ | 428/512 [1:58:51<07:06,  5.07s/it]"
     ]
    },
    {
     "name": "stdout",
     "output_type": "stream",
     "text": [
      "Transferred Data\n"
     ]
    },
    {
     "name": "stderr",
     "output_type": "stream",
     "text": [
      "Epoch 429/512 (Inner K-Epochs): 100%|██████████| 64/64 [00:05<00:00, 12.74it/s]\n",
      "Main Epoch (Outer Loop):  84%|████████▍ | 429/512 [1:58:56<07:02,  5.08s/it]"
     ]
    },
    {
     "name": "stdout",
     "output_type": "stream",
     "text": [
      "Transferred Data\n"
     ]
    },
    {
     "name": "stderr",
     "output_type": "stream",
     "text": [
      "Epoch 430/512 (Inner K-Epochs): 100%|██████████| 64/64 [00:04<00:00, 12.88it/s]\n",
      "Main Epoch (Outer Loop):  84%|████████▍ | 430/512 [1:59:01<06:56,  5.07s/it]"
     ]
    },
    {
     "name": "stdout",
     "output_type": "stream",
     "text": [
      "Transferred Data\n"
     ]
    },
    {
     "name": "stderr",
     "output_type": "stream",
     "text": [
      "Epoch 431/512 (Inner K-Epochs): 100%|██████████| 64/64 [00:05<00:00, 12.71it/s]\n",
      "Main Epoch (Outer Loop):  84%|████████▍ | 431/512 [1:59:06<06:52,  5.09s/it]"
     ]
    },
    {
     "name": "stdout",
     "output_type": "stream",
     "text": [
      "Transferred Data\n"
     ]
    },
    {
     "name": "stderr",
     "output_type": "stream",
     "text": [
      "Epoch 432/512 (Inner K-Epochs): 100%|██████████| 64/64 [00:05<00:00, 12.79it/s]\n",
      "Main Epoch (Outer Loop):  84%|████████▍ | 432/512 [1:59:11<06:46,  5.09s/it]"
     ]
    },
    {
     "name": "stdout",
     "output_type": "stream",
     "text": [
      "Transferred Data\n"
     ]
    },
    {
     "name": "stderr",
     "output_type": "stream",
     "text": [
      "Epoch 433/512 (Inner K-Epochs): 100%|██████████| 64/64 [00:04<00:00, 12.83it/s]\n",
      "Main Epoch (Outer Loop):  85%|████████▍ | 433/512 [1:59:16<06:41,  5.08s/it]"
     ]
    },
    {
     "name": "stdout",
     "output_type": "stream",
     "text": [
      "Transferred Data\n"
     ]
    },
    {
     "name": "stderr",
     "output_type": "stream",
     "text": [
      "Epoch 434/512 (Inner K-Epochs): 100%|██████████| 64/64 [00:05<00:00, 12.78it/s]\n",
      "Main Epoch (Outer Loop):  85%|████████▍ | 434/512 [1:59:21<06:36,  5.09s/it]"
     ]
    },
    {
     "name": "stdout",
     "output_type": "stream",
     "text": [
      "Transferred Data\n"
     ]
    },
    {
     "name": "stderr",
     "output_type": "stream",
     "text": [
      "Epoch 435/512 (Inner K-Epochs): 100%|██████████| 64/64 [00:05<00:00, 12.77it/s]\n",
      "Main Epoch (Outer Loop):  85%|████████▍ | 435/512 [1:59:26<06:31,  5.09s/it]"
     ]
    },
    {
     "name": "stdout",
     "output_type": "stream",
     "text": [
      "Transferred Data\n"
     ]
    },
    {
     "name": "stderr",
     "output_type": "stream",
     "text": [
      "Epoch 436/512 (Inner K-Epochs): 100%|██████████| 64/64 [00:04<00:00, 12.84it/s]\n",
      "Main Epoch (Outer Loop):  85%|████████▌ | 436/512 [1:59:32<06:26,  5.08s/it]"
     ]
    },
    {
     "name": "stdout",
     "output_type": "stream",
     "text": [
      "Transferred Data\n"
     ]
    },
    {
     "name": "stderr",
     "output_type": "stream",
     "text": [
      "Epoch 437/512 (Inner K-Epochs): 100%|██████████| 64/64 [00:04<00:00, 12.83it/s]\n",
      "Main Epoch (Outer Loop):  85%|████████▌ | 437/512 [1:59:37<06:21,  5.08s/it]"
     ]
    },
    {
     "name": "stdout",
     "output_type": "stream",
     "text": [
      "Transferred Data\n"
     ]
    },
    {
     "name": "stderr",
     "output_type": "stream",
     "text": [
      "Epoch 438/512 (Inner K-Epochs): 100%|██████████| 64/64 [00:04<00:00, 12.88it/s]\n",
      "Main Epoch (Outer Loop):  86%|████████▌ | 438/512 [1:59:42<06:15,  5.07s/it]"
     ]
    },
    {
     "name": "stdout",
     "output_type": "stream",
     "text": [
      "Transferred Data\n"
     ]
    },
    {
     "name": "stderr",
     "output_type": "stream",
     "text": [
      "Epoch 439/512 (Inner K-Epochs): 100%|██████████| 64/64 [00:04<00:00, 12.85it/s]\n",
      "Main Epoch (Outer Loop):  86%|████████▌ | 439/512 [1:59:47<06:10,  5.07s/it]"
     ]
    },
    {
     "name": "stdout",
     "output_type": "stream",
     "text": [
      "Transferred Data\n"
     ]
    },
    {
     "name": "stderr",
     "output_type": "stream",
     "text": [
      "Epoch 440/512 (Inner K-Epochs): 100%|██████████| 64/64 [00:04<00:00, 12.84it/s]\n",
      "Main Epoch (Outer Loop):  86%|████████▌ | 440/512 [1:59:52<06:04,  5.07s/it]"
     ]
    },
    {
     "name": "stdout",
     "output_type": "stream",
     "text": [
      "Transferred Data\n"
     ]
    },
    {
     "name": "stderr",
     "output_type": "stream",
     "text": [
      "Epoch 441/512 (Inner K-Epochs): 100%|██████████| 64/64 [00:04<00:00, 12.84it/s]\n",
      "Main Epoch (Outer Loop):  86%|████████▌ | 441/512 [1:59:57<05:59,  5.07s/it]"
     ]
    },
    {
     "name": "stdout",
     "output_type": "stream",
     "text": [
      "Transferred Data\n"
     ]
    },
    {
     "name": "stderr",
     "output_type": "stream",
     "text": [
      "Epoch 442/512 (Inner K-Epochs): 100%|██████████| 64/64 [00:04<00:00, 12.82it/s]\n",
      "Main Epoch (Outer Loop):  86%|████████▋ | 442/512 [2:00:02<05:54,  5.07s/it]"
     ]
    },
    {
     "name": "stdout",
     "output_type": "stream",
     "text": [
      "Transferred Data\n"
     ]
    },
    {
     "name": "stderr",
     "output_type": "stream",
     "text": [
      "Epoch 443/512 (Inner K-Epochs): 100%|██████████| 64/64 [00:04<00:00, 12.81it/s]\n",
      "Main Epoch (Outer Loop):  87%|████████▋ | 443/512 [2:00:07<05:50,  5.07s/it]"
     ]
    },
    {
     "name": "stdout",
     "output_type": "stream",
     "text": [
      "Transferred Data\n"
     ]
    },
    {
     "name": "stderr",
     "output_type": "stream",
     "text": [
      "Epoch 444/512 (Inner K-Epochs): 100%|██████████| 64/64 [00:05<00:00, 12.80it/s]\n",
      "Main Epoch (Outer Loop):  87%|████████▋ | 444/512 [2:00:12<05:45,  5.08s/it]"
     ]
    },
    {
     "name": "stdout",
     "output_type": "stream",
     "text": [
      "Transferred Data\n"
     ]
    },
    {
     "name": "stderr",
     "output_type": "stream",
     "text": [
      "Epoch 445/512 (Inner K-Epochs): 100%|██████████| 64/64 [00:04<00:00, 12.88it/s]\n",
      "Main Epoch (Outer Loop):  87%|████████▋ | 445/512 [2:00:17<05:39,  5.07s/it]"
     ]
    },
    {
     "name": "stdout",
     "output_type": "stream",
     "text": [
      "Transferred Data\n"
     ]
    },
    {
     "name": "stderr",
     "output_type": "stream",
     "text": [
      "Epoch 446/512 (Inner K-Epochs): 100%|██████████| 64/64 [00:04<00:00, 12.83it/s]\n",
      "Main Epoch (Outer Loop):  87%|████████▋ | 446/512 [2:00:22<05:34,  5.07s/it]"
     ]
    },
    {
     "name": "stdout",
     "output_type": "stream",
     "text": [
      "Transferred Data\n"
     ]
    },
    {
     "name": "stderr",
     "output_type": "stream",
     "text": [
      "Epoch 447/512 (Inner K-Epochs): 100%|██████████| 64/64 [00:04<00:00, 12.85it/s]\n",
      "Main Epoch (Outer Loop):  87%|████████▋ | 447/512 [2:00:27<05:29,  5.07s/it]"
     ]
    },
    {
     "name": "stdout",
     "output_type": "stream",
     "text": [
      "Transferred Data\n"
     ]
    },
    {
     "name": "stderr",
     "output_type": "stream",
     "text": [
      "Epoch 448/512 (Inner K-Epochs): 100%|██████████| 64/64 [00:04<00:00, 12.87it/s]\n",
      "Main Epoch (Outer Loop):  88%|████████▊ | 448/512 [2:00:33<05:27,  5.12s/it]"
     ]
    },
    {
     "name": "stdout",
     "output_type": "stream",
     "text": [
      "Epoch 448/512, Loss: 0.0000, Ratio: 1.00000, Entropy Term: 0.00000\n",
      "Epoch 448 | Entire Validation Dataset Accuracy: 0.5365| 103.0 / 192.0 samples\n",
      "Transferred Data\n"
     ]
    },
    {
     "name": "stderr",
     "output_type": "stream",
     "text": [
      "Epoch 449/512 (Inner K-Epochs): 100%|██████████| 64/64 [00:04<00:00, 12.83it/s]\n",
      "Main Epoch (Outer Loop):  88%|████████▊ | 449/512 [2:00:38<05:21,  5.10s/it]"
     ]
    },
    {
     "name": "stdout",
     "output_type": "stream",
     "text": [
      "Transferred Data\n"
     ]
    },
    {
     "name": "stderr",
     "output_type": "stream",
     "text": [
      "Epoch 450/512 (Inner K-Epochs): 100%|██████████| 64/64 [00:04<00:00, 12.84it/s]\n",
      "Main Epoch (Outer Loop):  88%|████████▊ | 450/512 [2:00:43<05:15,  5.09s/it]"
     ]
    },
    {
     "name": "stdout",
     "output_type": "stream",
     "text": [
      "Transferred Data\n"
     ]
    },
    {
     "name": "stderr",
     "output_type": "stream",
     "text": [
      "Epoch 451/512 (Inner K-Epochs): 100%|██████████| 64/64 [00:04<00:00, 12.83it/s]\n",
      "Main Epoch (Outer Loop):  88%|████████▊ | 451/512 [2:00:48<05:10,  5.09s/it]"
     ]
    },
    {
     "name": "stdout",
     "output_type": "stream",
     "text": [
      "Transferred Data\n"
     ]
    },
    {
     "name": "stderr",
     "output_type": "stream",
     "text": [
      "Epoch 452/512 (Inner K-Epochs): 100%|██████████| 64/64 [00:04<00:00, 12.81it/s]\n",
      "Main Epoch (Outer Loop):  88%|████████▊ | 452/512 [2:00:53<05:05,  5.09s/it]"
     ]
    },
    {
     "name": "stdout",
     "output_type": "stream",
     "text": [
      "Transferred Data\n"
     ]
    },
    {
     "name": "stderr",
     "output_type": "stream",
     "text": [
      "Epoch 453/512 (Inner K-Epochs): 100%|██████████| 64/64 [00:05<00:00, 12.79it/s]\n",
      "Main Epoch (Outer Loop):  88%|████████▊ | 453/512 [2:00:58<05:00,  5.09s/it]"
     ]
    },
    {
     "name": "stdout",
     "output_type": "stream",
     "text": [
      "Transferred Data\n"
     ]
    },
    {
     "name": "stderr",
     "output_type": "stream",
     "text": [
      "Epoch 454/512 (Inner K-Epochs): 100%|██████████| 64/64 [00:05<00:00, 11.95it/s]\n",
      "Main Epoch (Outer Loop):  89%|████████▊ | 454/512 [2:01:03<05:01,  5.19s/it]"
     ]
    },
    {
     "name": "stdout",
     "output_type": "stream",
     "text": [
      "Transferred Data\n"
     ]
    },
    {
     "name": "stderr",
     "output_type": "stream",
     "text": [
      "Epoch 455/512 (Inner K-Epochs): 100%|██████████| 64/64 [00:05<00:00, 10.96it/s]\n",
      "Main Epoch (Outer Loop):  89%|████████▉ | 455/512 [2:01:09<05:08,  5.41s/it]"
     ]
    },
    {
     "name": "stdout",
     "output_type": "stream",
     "text": [
      "Transferred Data\n"
     ]
    },
    {
     "name": "stderr",
     "output_type": "stream",
     "text": [
      "Epoch 456/512 (Inner K-Epochs): 100%|██████████| 64/64 [00:07<00:00,  9.06it/s]\n",
      "Main Epoch (Outer Loop):  89%|████████▉ | 456/512 [2:01:16<05:32,  5.93s/it]"
     ]
    },
    {
     "name": "stdout",
     "output_type": "stream",
     "text": [
      "Transferred Data\n"
     ]
    },
    {
     "name": "stderr",
     "output_type": "stream",
     "text": [
      "Epoch 457/512 (Inner K-Epochs): 100%|██████████| 64/64 [00:05<00:00, 12.25it/s]\n",
      "Main Epoch (Outer Loop):  89%|████████▉ | 457/512 [2:01:22<05:16,  5.75s/it]"
     ]
    },
    {
     "name": "stdout",
     "output_type": "stream",
     "text": [
      "Transferred Data\n"
     ]
    },
    {
     "name": "stderr",
     "output_type": "stream",
     "text": [
      "Epoch 458/512 (Inner K-Epochs): 100%|██████████| 64/64 [00:05<00:00, 12.58it/s]\n",
      "Main Epoch (Outer Loop):  89%|████████▉ | 458/512 [2:01:27<05:01,  5.58s/it]"
     ]
    },
    {
     "name": "stdout",
     "output_type": "stream",
     "text": [
      "Transferred Data\n"
     ]
    },
    {
     "name": "stderr",
     "output_type": "stream",
     "text": [
      "Epoch 459/512 (Inner K-Epochs): 100%|██████████| 64/64 [00:05<00:00, 12.51it/s]\n",
      "Main Epoch (Outer Loop):  90%|████████▉ | 459/512 [2:01:32<04:49,  5.46s/it]"
     ]
    },
    {
     "name": "stdout",
     "output_type": "stream",
     "text": [
      "Transferred Data\n"
     ]
    },
    {
     "name": "stderr",
     "output_type": "stream",
     "text": [
      "Epoch 460/512 (Inner K-Epochs): 100%|██████████| 64/64 [00:05<00:00, 12.56it/s]\n",
      "Main Epoch (Outer Loop):  90%|████████▉ | 460/512 [2:01:37<04:39,  5.38s/it]"
     ]
    },
    {
     "name": "stdout",
     "output_type": "stream",
     "text": [
      "Transferred Data\n"
     ]
    },
    {
     "name": "stderr",
     "output_type": "stream",
     "text": [
      "Epoch 461/512 (Inner K-Epochs): 100%|██████████| 64/64 [00:05<00:00, 12.46it/s]\n",
      "Main Epoch (Outer Loop):  90%|█████████ | 461/512 [2:01:43<04:31,  5.33s/it]"
     ]
    },
    {
     "name": "stdout",
     "output_type": "stream",
     "text": [
      "Transferred Data\n"
     ]
    },
    {
     "name": "stderr",
     "output_type": "stream",
     "text": [
      "Epoch 462/512 (Inner K-Epochs): 100%|██████████| 64/64 [00:05<00:00, 12.51it/s]\n",
      "Main Epoch (Outer Loop):  90%|█████████ | 462/512 [2:01:48<04:24,  5.29s/it]"
     ]
    },
    {
     "name": "stdout",
     "output_type": "stream",
     "text": [
      "Transferred Data\n"
     ]
    },
    {
     "name": "stderr",
     "output_type": "stream",
     "text": [
      "Epoch 463/512 (Inner K-Epochs): 100%|██████████| 64/64 [00:04<00:00, 12.81it/s]\n",
      "Main Epoch (Outer Loop):  90%|█████████ | 463/512 [2:01:53<04:16,  5.23s/it]"
     ]
    },
    {
     "name": "stdout",
     "output_type": "stream",
     "text": [
      "Transferred Data\n"
     ]
    },
    {
     "name": "stderr",
     "output_type": "stream",
     "text": [
      "Epoch 464/512 (Inner K-Epochs):  69%|██████▉   | 44/64 [00:03<00:01, 12.29it/s]\n",
      "                                                                            \r"
     ]
    },
    {
     "ename": "KeyboardInterrupt",
     "evalue": "",
     "output_type": "error",
     "traceback": [
      "\u001b[1;31m---------------------------------------------------------------------------\u001b[0m\n",
      "\u001b[1;31mKeyboardInterrupt\u001b[0m                         Traceback (most recent call last)\n",
      "Cell \u001b[1;32mIn[21], line 2\u001b[0m\n",
      "\u001b[0;32m      1\u001b[0m \u001b[38;5;66;03m# function call\u001b[39;00m\n",
      "\u001b[1;32m----> 2\u001b[0m trained_policy \u001b[38;5;241m=\u001b[39m \u001b[43mgrpo_train\u001b[49m\u001b[43m(\u001b[49m\n",
      "\u001b[0;32m      3\u001b[0m \u001b[43m        \u001b[49m\u001b[43mmodel_config\u001b[49m\u001b[38;5;241;43m=\u001b[39;49m\u001b[43mBASE_CONFIG\u001b[49m\u001b[43m,\u001b[49m\n",
      "\u001b[0;32m      4\u001b[0m \u001b[43m        \u001b[49m\u001b[43mtrain_dataloader\u001b[49m\u001b[38;5;241;43m=\u001b[39;49m\u001b[43mtrain_dataloader\u001b[49m\u001b[43m,\u001b[49m\n",
      "\u001b[0;32m      5\u001b[0m \u001b[43m        \u001b[49m\u001b[43mvalidation_dataloader\u001b[49m\u001b[38;5;241;43m=\u001b[39;49m\u001b[43mvalidation_dataloader\u001b[49m\u001b[43m,\u001b[49m\n",
      "\u001b[0;32m      6\u001b[0m \u001b[43m        \u001b[49m\u001b[43mgpt_size\u001b[49m\u001b[38;5;241;43m=\u001b[39;49m\u001b[43margs\u001b[49m\u001b[43m[\u001b[49m\u001b[38;5;124;43m\"\u001b[39;49m\u001b[38;5;124;43mgpt_size\u001b[39;49m\u001b[38;5;124;43m\"\u001b[39;49m\u001b[43m]\u001b[49m\u001b[43m,\u001b[49m\n",
      "\u001b[0;32m      7\u001b[0m \u001b[43m        \u001b[49m\u001b[43mepochs\u001b[49m\u001b[38;5;241;43m=\u001b[39;49m\u001b[43margs\u001b[49m\u001b[43m[\u001b[49m\u001b[38;5;124;43m\"\u001b[39;49m\u001b[38;5;124;43mepochs\u001b[39;49m\u001b[38;5;124;43m\"\u001b[39;49m\u001b[43m]\u001b[49m\u001b[43m,\u001b[49m\n",
      "\u001b[0;32m      8\u001b[0m \u001b[43m        \u001b[49m\u001b[43mlearning_rate\u001b[49m\u001b[38;5;241;43m=\u001b[39;49m\u001b[43margs\u001b[49m\u001b[43m[\u001b[49m\u001b[38;5;124;43m\"\u001b[39;49m\u001b[38;5;124;43mlearning_rate\u001b[39;49m\u001b[38;5;124;43m\"\u001b[39;49m\u001b[43m]\u001b[49m\u001b[43m,\u001b[49m\n",
      "\u001b[0;32m      9\u001b[0m \u001b[43m        \u001b[49m\u001b[43mbatch_size\u001b[49m\u001b[38;5;241;43m=\u001b[39;49m\u001b[43margs\u001b[49m\u001b[43m[\u001b[49m\u001b[38;5;124;43m\"\u001b[39;49m\u001b[38;5;124;43mbatch_size\u001b[39;49m\u001b[38;5;124;43m\"\u001b[39;49m\u001b[43m]\u001b[49m\u001b[43m,\u001b[49m\u001b[43m \u001b[49m\u001b[38;5;66;43;03m# Significantly larger batch size recommended for stability\u001b[39;49;00m\n",
      "\u001b[0;32m     10\u001b[0m \u001b[43m        \u001b[49m\u001b[43mk_epochs\u001b[49m\u001b[38;5;241;43m=\u001b[39;49m\u001b[43margs\u001b[49m\u001b[43m[\u001b[49m\u001b[38;5;124;43m\"\u001b[39;49m\u001b[38;5;124;43mk_epochs\u001b[39;49m\u001b[38;5;124;43m\"\u001b[39;49m\u001b[43m]\u001b[49m\u001b[43m,\u001b[49m\n",
      "\u001b[0;32m     11\u001b[0m \u001b[43m        \u001b[49m\u001b[43mepsilon\u001b[49m\u001b[38;5;241;43m=\u001b[39;49m\u001b[43margs\u001b[49m\u001b[43m[\u001b[49m\u001b[38;5;124;43m\"\u001b[39;49m\u001b[38;5;124;43mepsilon\u001b[39;49m\u001b[38;5;124;43m\"\u001b[39;49m\u001b[43m]\u001b[49m\u001b[43m,\u001b[49m\n",
      "\u001b[0;32m     12\u001b[0m \u001b[43m        \u001b[49m\u001b[43mbeta_kl\u001b[49m\u001b[38;5;241;43m=\u001b[39;49m\u001b[43margs\u001b[49m\u001b[43m[\u001b[49m\u001b[38;5;124;43m\"\u001b[39;49m\u001b[38;5;124;43mbeta_kl\u001b[39;49m\u001b[38;5;124;43m\"\u001b[39;49m\u001b[43m]\u001b[49m\u001b[43m,\u001b[49m\n",
      "\u001b[0;32m     13\u001b[0m \u001b[43m        \u001b[49m\u001b[43mentropy_coeff\u001b[49m\u001b[38;5;241;43m=\u001b[39;49m\u001b[43margs\u001b[49m\u001b[43m[\u001b[49m\u001b[38;5;124;43m\"\u001b[39;49m\u001b[38;5;124;43mentropy_coeff\u001b[39;49m\u001b[38;5;124;43m\"\u001b[39;49m\u001b[43m]\u001b[49m\u001b[43m,\u001b[49m\n",
      "\u001b[0;32m     14\u001b[0m \u001b[43m        \u001b[49m\u001b[43mlog_iterations\u001b[49m\u001b[38;5;241;43m=\u001b[39;49m\u001b[43margs\u001b[49m\u001b[43m[\u001b[49m\u001b[38;5;124;43m\"\u001b[39;49m\u001b[38;5;124;43mlog_iterations\u001b[39;49m\u001b[38;5;124;43m\"\u001b[39;49m\u001b[43m]\u001b[49m\u001b[43m,\u001b[49m\n",
      "\u001b[0;32m     15\u001b[0m \u001b[43m        \u001b[49m\u001b[43mgamma\u001b[49m\u001b[38;5;241;43m=\u001b[39;49m\u001b[43margs\u001b[49m\u001b[43m[\u001b[49m\u001b[38;5;124;43m\"\u001b[39;49m\u001b[38;5;124;43mgamma\u001b[39;49m\u001b[38;5;124;43m\"\u001b[39;49m\u001b[43m]\u001b[49m\u001b[43m,\u001b[49m\n",
      "\u001b[0;32m     16\u001b[0m \u001b[43m        \u001b[49m\u001b[43mdevice\u001b[49m\u001b[38;5;241;43m=\u001b[39;49m\u001b[43margs\u001b[49m\u001b[43m[\u001b[49m\u001b[38;5;124;43m\"\u001b[39;49m\u001b[38;5;124;43mdevice\u001b[39;49m\u001b[38;5;124;43m\"\u001b[39;49m\u001b[43m]\u001b[49m\u001b[43m,\u001b[49m\n",
      "\u001b[0;32m     17\u001b[0m \u001b[43m        \u001b[49m\u001b[43mnum_envs\u001b[49m\u001b[38;5;241;43m=\u001b[39;49m\u001b[43margs\u001b[49m\u001b[43m[\u001b[49m\u001b[38;5;124;43m\"\u001b[39;49m\u001b[38;5;124;43mnum_envs\u001b[39;49m\u001b[38;5;124;43m\"\u001b[39;49m\u001b[43m]\u001b[49m\n",
      "\u001b[0;32m     18\u001b[0m \u001b[43m    \u001b[49m\u001b[43m)\u001b[49m\n",
      "\n",
      "Cell \u001b[1;32mIn[13], line 52\u001b[0m, in \u001b[0;36mgrpo_train\u001b[1;34m(model_config, train_dataloader, validation_dataloader, gpt_size, epochs, learning_rate, batch_size, gamma, k_epochs, epsilon, beta_kl, max_grad_norm, entropy_coeff, log_iterations, eval_iterations, device, num_envs)\u001b[0m\n",
      "\u001b[0;32m     49\u001b[0m optimizer\u001b[38;5;241m.\u001b[39mzero_grad()   \u001b[38;5;66;03m# Flush out all the accumulated gradients for the weights of the model-under-training\u001b[39;00m\n",
      "\u001b[0;32m     51\u001b[0m new_logits \u001b[38;5;241m=\u001b[39m Policy_New(batch_inputs)[:,\u001b[38;5;241m-\u001b[39m\u001b[38;5;241m1\u001b[39m,:]   \u001b[38;5;66;03m# Get logits from model and only focus on the last iterations of each sample\u001b[39;00m\n",
      "\u001b[1;32m---> 52\u001b[0m new_dist \u001b[38;5;241m=\u001b[39m \u001b[43mtorch\u001b[49m\u001b[38;5;241;43m.\u001b[39;49m\u001b[43mdistributions\u001b[49m\u001b[38;5;241;43m.\u001b[39;49m\u001b[43mCategorical\u001b[49m\u001b[43m(\u001b[49m\u001b[43mlogits\u001b[49m\u001b[38;5;241;43m=\u001b[39;49m\u001b[43mnew_logits\u001b[49m\u001b[43m)\u001b[49m\n",
      "\u001b[0;32m     53\u001b[0m new_log_probs \u001b[38;5;241m=\u001b[39m new_dist\u001b[38;5;241m.\u001b[39mlog_prob(old_predictions)  \u001b[38;5;66;03m# Get the log probability of choosing the same action that the old policy took using the new distribution\u001b[39;00m\n",
      "\u001b[0;32m     54\u001b[0m entropy \u001b[38;5;241m=\u001b[39m new_dist\u001b[38;5;241m.\u001b[39mentropy()\u001b[38;5;241m.\u001b[39mmean() \u001b[38;5;66;03m# Calculate entropy for regularization\u001b[39;00m\n",
      "\n",
      "File \u001b[1;32mc:\\Users\\brian\\miniconda3\\envs\\GRPO_env\\lib\\site-packages\\torch\\distributions\\categorical.py:72\u001b[0m, in \u001b[0;36mCategorical.__init__\u001b[1;34m(self, probs, logits, validate_args)\u001b[0m\n",
      "\u001b[0;32m     68\u001b[0m \u001b[38;5;28mself\u001b[39m\u001b[38;5;241m.\u001b[39m_num_events \u001b[38;5;241m=\u001b[39m \u001b[38;5;28mself\u001b[39m\u001b[38;5;241m.\u001b[39m_param\u001b[38;5;241m.\u001b[39msize()[\u001b[38;5;241m-\u001b[39m\u001b[38;5;241m1\u001b[39m]\n",
      "\u001b[0;32m     69\u001b[0m batch_shape \u001b[38;5;241m=\u001b[39m (\n",
      "\u001b[0;32m     70\u001b[0m     \u001b[38;5;28mself\u001b[39m\u001b[38;5;241m.\u001b[39m_param\u001b[38;5;241m.\u001b[39msize()[:\u001b[38;5;241m-\u001b[39m\u001b[38;5;241m1\u001b[39m] \u001b[38;5;28;01mif\u001b[39;00m \u001b[38;5;28mself\u001b[39m\u001b[38;5;241m.\u001b[39m_param\u001b[38;5;241m.\u001b[39mndimension() \u001b[38;5;241m>\u001b[39m \u001b[38;5;241m1\u001b[39m \u001b[38;5;28;01melse\u001b[39;00m torch\u001b[38;5;241m.\u001b[39mSize()\n",
      "\u001b[0;32m     71\u001b[0m )\n",
      "\u001b[1;32m---> 72\u001b[0m \u001b[38;5;28;43msuper\u001b[39;49m\u001b[43m(\u001b[49m\u001b[43m)\u001b[49m\u001b[38;5;241;43m.\u001b[39;49m\u001b[38;5;21;43m__init__\u001b[39;49m\u001b[43m(\u001b[49m\u001b[43mbatch_shape\u001b[49m\u001b[43m,\u001b[49m\u001b[43m \u001b[49m\u001b[43mvalidate_args\u001b[49m\u001b[38;5;241;43m=\u001b[39;49m\u001b[43mvalidate_args\u001b[49m\u001b[43m)\u001b[49m\n",
      "\n",
      "File \u001b[1;32mc:\\Users\\brian\\miniconda3\\envs\\GRPO_env\\lib\\site-packages\\torch\\distributions\\distribution.py:70\u001b[0m, in \u001b[0;36mDistribution.__init__\u001b[1;34m(self, batch_shape, event_shape, validate_args)\u001b[0m\n",
      "\u001b[0;32m     68\u001b[0m         value \u001b[38;5;241m=\u001b[39m \u001b[38;5;28mgetattr\u001b[39m(\u001b[38;5;28mself\u001b[39m, param)\n",
      "\u001b[0;32m     69\u001b[0m         valid \u001b[38;5;241m=\u001b[39m constraint\u001b[38;5;241m.\u001b[39mcheck(value)\n",
      "\u001b[1;32m---> 70\u001b[0m         \u001b[38;5;28;01mif\u001b[39;00m \u001b[38;5;129;01mnot\u001b[39;00m valid\u001b[38;5;241m.\u001b[39mall():\n",
      "\u001b[0;32m     71\u001b[0m             \u001b[38;5;28;01mraise\u001b[39;00m \u001b[38;5;167;01mValueError\u001b[39;00m(\n",
      "\u001b[0;32m     72\u001b[0m                 \u001b[38;5;124mf\u001b[39m\u001b[38;5;124m\"\u001b[39m\u001b[38;5;124mExpected parameter \u001b[39m\u001b[38;5;132;01m{\u001b[39;00mparam\u001b[38;5;132;01m}\u001b[39;00m\u001b[38;5;124m \u001b[39m\u001b[38;5;124m\"\u001b[39m\n",
      "\u001b[0;32m     73\u001b[0m                 \u001b[38;5;124mf\u001b[39m\u001b[38;5;124m\"\u001b[39m\u001b[38;5;124m(\u001b[39m\u001b[38;5;132;01m{\u001b[39;00m\u001b[38;5;28mtype\u001b[39m(value)\u001b[38;5;241m.\u001b[39m\u001b[38;5;18m__name__\u001b[39m\u001b[38;5;132;01m}\u001b[39;00m\u001b[38;5;124m of shape \u001b[39m\u001b[38;5;132;01m{\u001b[39;00m\u001b[38;5;28mtuple\u001b[39m(value\u001b[38;5;241m.\u001b[39mshape)\u001b[38;5;132;01m}\u001b[39;00m\u001b[38;5;124m) \u001b[39m\u001b[38;5;124m\"\u001b[39m\n",
      "\u001b[1;32m   (...)\u001b[0m\n",
      "\u001b[0;32m     76\u001b[0m                 \u001b[38;5;124mf\u001b[39m\u001b[38;5;124m\"\u001b[39m\u001b[38;5;124mbut found invalid values:\u001b[39m\u001b[38;5;130;01m\\n\u001b[39;00m\u001b[38;5;132;01m{\u001b[39;00mvalue\u001b[38;5;132;01m}\u001b[39;00m\u001b[38;5;124m\"\u001b[39m\n",
      "\u001b[0;32m     77\u001b[0m             )\n",
      "\u001b[0;32m     78\u001b[0m \u001b[38;5;28msuper\u001b[39m()\u001b[38;5;241m.\u001b[39m\u001b[38;5;21m__init__\u001b[39m()\n",
      "\n",
      "\u001b[1;31mKeyboardInterrupt\u001b[0m: "
     ]
    }
   ],
   "source": [
    "# function call\n",
    "trained_policy = grpo_train(\n",
    "        model_config=BASE_CONFIG,\n",
    "        train_dataloader=train_dataloader,\n",
    "        validation_dataloader=validation_dataloader,\n",
    "        gpt_size=args[\"gpt_size\"],\n",
    "        epochs=args[\"epochs\"],\n",
    "        learning_rate=args[\"learning_rate\"],\n",
    "        batch_size=args[\"batch_size\"], # Significantly larger batch size recommended for stability\n",
    "        k_epochs=args[\"k_epochs\"],\n",
    "        epsilon=args[\"epsilon\"],\n",
    "        beta_kl=args[\"beta_kl\"],\n",
    "        entropy_coeff=args[\"entropy_coeff\"],\n",
    "        log_iterations=args[\"log_iterations\"],\n",
    "        gamma=args[\"gamma\"],\n",
    "        device=args[\"device\"],\n",
    "        num_envs=args[\"num_envs\"]\n",
    "    )"
   ]
  },
  {
   "cell_type": "code",
   "execution_count": null,
   "id": "15df1c14",
   "metadata": {},
   "outputs": [],
   "source": [
    "def main(args):\n",
    "    print(\"Setting up for Training\")\n",
    "    \n",
    "    if args.device:     # Check if the user specified to use a CPU or GPU for training\n",
    "        device = args.device\n",
    "    else:\n",
    "        if args.use_cuda:   # Check if the user wanted to use CUDA if available.\n",
    "            device = torch.device(\"cuda\" if torch.cuda.is_available() else \"cpu\")\n",
    "\n",
    "\n",
    "    BASE_CONFIG = {\n",
    "        \"vocab_size\": 50257,     # Vocabulary size\n",
    "        \"context_length\": 1024,  # Context length\n",
    "        \"drop_rate\": 0.1,        # Dropout rate\n",
    "        \"qkv_bias\": True         # Query-key-value bias\n",
    "    }\n",
    "\n",
    "    # Transfer to argparser setup\n",
    "    gpt_size=\"gpt2-small (124M)\"\n",
    "    dataloader_batch_size=64\n",
    "    num_workers=0\n",
    "    pin_memory=True\n",
    "    tokenizer=tiktoken.get_encoding(\"gpt2\")\n",
    "\n",
    "    print(\"Creating Datasets using train, test, and validation files.\")\n",
    "\n",
    "    prepare_datasets(data_file_path=\"./sms_spam_collection/SMSSpamCollection.tsv\", store_directory=\"./sms_spam_collection/data_splits\")\n",
    "\n",
    "    train_dataset = SpamDataset(csv_file=\"./sms_spam_collection/data_splits/train.csv\", tokenizer=tokenizer)\n",
    "    test_dataset = SpamDataset(csv_file=\"./sms_spam_collection/data_splits/test.csv\", tokenizer=tokenizer)\n",
    "    validation_dataset = SpamDataset(csv_file=\"./sms_spam_collection/data_splits/validation.csv\", tokenizer=tokenizer)\n",
    "    \n",
    "    train_dataloader = DataLoader(dataset=train_dataset, batch_size=dataloader_batch_size, num_workers=num_workers, pin_memory=pin_memory, drop_last=True)\n",
    "    test_dataloader = DataLoader(dataset=test_dataset, batch_size=dataloader_batch_size, num_workers=num_workers, pin_memory=pin_memory, drop_last=True)\n",
    "    validation_dataloader = DataLoader(dataset=validation_dataset, batch_size=dataloader_batch_size, num_workers=num_workers, pin_memory=pin_memory, drop_last=True)\n",
    "\n",
    "    print(\"Beginning Training Script\")\n",
    "    start_time=time.time()\n",
    "\n",
    "    trained_policy = grpo_train(\n",
    "        model_config=BASE_CONFIG,\n",
    "        train_dataloader=train_dataloader,\n",
    "        validation_dataloader=validation_dataloader,\n",
    "        gpt_size=gpt_size,\n",
    "        epochs=args.epochs,\n",
    "        learning_rate=args.learning_rate,\n",
    "        batch_size=args.batch_size, # Significantly larger batch size recommended for stability\n",
    "        k_epochs=args.k_epochs,\n",
    "        epsilon=args.epsilon,\n",
    "        beta_kl=args.beta_kl,\n",
    "        entropy_coeff=args.entropy_coeff,\n",
    "        log_iterations=args.log_iterations,\n",
    "        gamma=args.gamma,\n",
    "        device=device,\n",
    "        num_envs=args.num_envs\n",
    "    )\n",
    "    end_time=time.time()\n",
    "\n",
    "    elapsed_time= end_time - start_time\n",
    "    hrs = int(elapsed_time / 3600)\n",
    "    min = int((elapsed_time % 3600) / 60)\n",
    "    seconds_remaining = elapsed_time - (hrs * 3600 ) - (min * 60)\n",
    "    print(f\"FINISHED MODEL TRAINING. \\nTRAINING TOOK: {hrs} Hours, {min} Minutes, and {seconds_remaining} Seconds\")\n",
    "\n",
    "\n",
    "    print(\"\\nTesting the trained policy:\")\n",
    "\n",
    "    classification_lyr = torch.nn.Softmax(dim=-1)\n",
    "    trained_policy.eval()   # Turn off dropout layers and prevent grad tracking\n",
    "    accuracy = 0.0\n",
    "    num_correct = 0.0\n",
    "    num_of_samples = 0.0\n",
    "\n",
    "    with torch.no_grad():\n",
    "        for batch_inputs, batch_labels in test_dataloader:\n",
    "            batch_labels, predictions = batch_labels.to(device), predictions.to(device) # move the training data to the target device\n",
    "            logits = trained_policy(batch_inputs)[:,-1,:]\n",
    "            classifications = classification_lyr(logits)\n",
    "            class_predictions = torch.argmax(classifications, dim=-1).flatten()\n",
    "            num_of_samples += batch_labels.size(0)\n",
    "            num_correct += sum((class_predictions == batch_labels).float()).item()\n",
    "        accuracy = num_correct/num_of_samples\n",
    "        print(f\" Entire test Dataset Accuracy: {accuracy:.4f} |  {num_correct} corrct/ {num_of_samples} samples\")\n",
    "\n",
    "\n",
    "    #---------------  !!!  ---------------\n",
    "    SAVE_LOCATION = \"./model/trained_model.pth\"   # Define the model path and name of the trained model weights\n",
    "\n",
    "    if args.save_model:     # Check if the user wants to save the trained model weights\n",
    "        if args.model_output_path:     # Check if the user specified a target save location\n",
    "            SAVE_LOCATION=args.model_output_path\n",
    "        \n",
    "        torch.save(trained_policy.parameters(), f=SAVE_LOCATION)\n",
    "        print(f\"Model weights saved in: {SAVE_LOCATION}\")\n",
    "\n",
    "    print(\"Finished Running Script\")"
   ]
  },
  {
   "cell_type": "code",
   "execution_count": null,
   "id": "aab59e17",
   "metadata": {},
   "outputs": [],
   "source": [
    "# Example usage (assuming you have a way to call this function, e.g., in a main block)\n",
    "if __name__ == '__main__':\n",
    "    parser = argparse.ArgumentParser(description=\"Train and test a BlackJack PPO agent.\")\n",
    "\n",
    "    # Add arguments\n",
    "    parser.add_argument('--epochs', type=int, default=2000,\n",
    "                        help='Number of training epochs.')\n",
    "    parser.add_argument('--learning_rate', type=float, default=0.0003,\n",
    "                        help='Learning rate for the optimizer.')\n",
    "    parser.add_argument('--dataloader_batch_size', type=int, default=64,\n",
    "                        help='Dataloader Batch sizes for train, test, validation data files.')\n",
    "    parser.add_argument('--batch_size', type=int, default=1024,\n",
    "                        help='Batch size for training.')\n",
    "    parser.add_argument('--gpt2_size', type=str, default=\"gpt2-small (124M)\",\n",
    "                        help='GPT2 size for model construction.')\n",
    "    parser.add_argument('--k_epochs', type=int, default=128,\n",
    "                        help='Number of policy update epochs per trajectory collection.')\n",
    "    parser.add_argument('--epsilon', type=float, default=0.2,\n",
    "                        help='Clipping parameter for PPO.')\n",
    "    parser.add_argument('--beta_kl', type=float, default=0.01,\n",
    "                        help='KL divergence coefficient (for PPO-like algorithms).')\n",
    "    parser.add_argument('--entropy_coeff', type=float, default=0.001,\n",
    "                        help='Entropy regularization coefficient.')\n",
    "    parser.add_argument('--log_iterations', type=int, default=100,\n",
    "                        help='Log training progress every N iterations.')\n",
    "    parser.add_argument('--gamma', type=float, default=0.99,\n",
    "                        help='Discount factor for rewards.')\n",
    "    parser.add_argument('--num_envs', type=int, default=16,\n",
    "                        help='Number of parallel environments for training.')\n",
    "    parser.add_argument('--use_cuda', action='store_true',\n",
    "                        help='Use CUDA if available.')\n",
    "    parser.add_argument('--device', type=str, default='cpu',\n",
    "                        help='Explicitly set device (e.g., \"cpu, cuda:0\", \"cpu\"). Overrides --use_cuda if specified.')\n",
    "    parser.add_argument('--save_model', action='store_true',\n",
    "                        help='Save the trained model weights.')\n",
    "    parser.add_argument('--model_output_path', type=str, default='blackjack_policy_model.pth',\n",
    "                        help='Path to save the trained model weights.')\n",
    "\n",
    "    # Parse the arguments\n",
    "    args = parser.parse_args()\n",
    "\n",
    "    \n",
    "    main(args)"
   ]
  },
  {
   "cell_type": "markdown",
   "id": "945c6981",
   "metadata": {},
   "source": [
    "## Testing"
   ]
  },
  {
   "cell_type": "code",
   "execution_count": 35,
   "id": "f51a4350",
   "metadata": {},
   "outputs": [
    {
     "name": "stdout",
     "output_type": "stream",
     "text": [
      "File already exists and is up-to-date: gpt2\\124M\\checkpoint\n",
      "File already exists and is up-to-date: gpt2\\124M\\encoder.json\n",
      "File already exists and is up-to-date: gpt2\\124M\\hparams.json\n",
      "File already exists and is up-to-date: gpt2\\124M\\model.ckpt.data-00000-of-00001\n",
      "File already exists and is up-to-date: gpt2\\124M\\model.ckpt.index\n",
      "File already exists and is up-to-date: gpt2\\124M\\model.ckpt.meta\n",
      "File already exists and is up-to-date: gpt2\\124M\\vocab.bpe\n"
     ]
    },
    {
     "name": "stderr",
     "output_type": "stream",
     "text": [
      "                                                               \r"
     ]
    }
   ],
   "source": [
    "grpo_train(BASE_CONFIG)"
   ]
  },
  {
   "cell_type": "code",
   "execution_count": 42,
   "id": "ad0c7b7d",
   "metadata": {},
   "outputs": [],
   "source": [
    "CHOOSE_MODEL = \"gpt2-small (124M)\"\n",
    "INPUT_PROMPT = \"Every effort moves\"\n",
    "\n",
    "BASE_CONFIG = {\n",
    "    \"vocab_size\": 50257,     # Vocabulary size\n",
    "    \"context_length\": 1024,  # Context length\n",
    "    \"drop_rate\": 0.0,        # Dropout rate\n",
    "    \"qkv_bias\": True         # Query-key-value bias\n",
    "}\n",
    "\n",
    "model_configs = {\n",
    "    \"gpt2-small (124M)\": {\"emb_dim\": 768, \"n_layers\": 12, \"n_heads\": 12},\n",
    "    \"gpt2-medium (355M)\": {\"emb_dim\": 1024, \"n_layers\": 24, \"n_heads\": 16},\n",
    "    \"gpt2-large (774M)\": {\"emb_dim\": 1280, \"n_layers\": 36, \"n_heads\": 20},\n",
    "    \"gpt2-xl (1558M)\": {\"emb_dim\": 1600, \"n_layers\": 48, \"n_heads\": 25},\n",
    "}\n",
    "\n",
    "BASE_CONFIG.update(model_configs[CHOOSE_MODEL]) # add the emb_dim, n_layers, and n_heads to the config"
   ]
  },
  {
   "cell_type": "code",
   "execution_count": 8,
   "id": "53154f02",
   "metadata": {},
   "outputs": [],
   "source": [
    "tokenizer = tiktoken.get_encoding(\"gpt2\")"
   ]
  },
  {
   "cell_type": "code",
   "execution_count": 43,
   "id": "4beb6b8e",
   "metadata": {},
   "outputs": [
    {
     "name": "stderr",
     "output_type": "stream",
     "text": [
      "checkpoint: 100%|██████████| 77.0/77.0 [00:00<00:00, 5.26kiB/s]\n",
      "encoder.json: 100%|██████████| 1.04M/1.04M [00:00<00:00, 1.93MiB/s]\n",
      "hparams.json: 100%|██████████| 90.0/90.0 [00:00<00:00, 8.73kiB/s]\n",
      "model.ckpt.data-00000-of-00001: 100%|██████████| 498M/498M [00:31<00:00, 15.6MiB/s] \n",
      "model.ckpt.index: 100%|██████████| 5.21k/5.21k [00:00<00:00, 541kiB/s]\n",
      "model.ckpt.meta: 100%|██████████| 471k/471k [00:00<00:00, 987kiB/s] \n",
      "vocab.bpe: 100%|██████████| 456k/456k [00:00<00:00, 1.27MiB/s]\n"
     ]
    },
    {
     "data": {
      "text/plain": [
       "GPTModel(\n",
       "  (tok_emb): Embedding(50257, 768)\n",
       "  (pos_emb): Embedding(1024, 768)\n",
       "  (drop_emb): Dropout(p=0.0, inplace=False)\n",
       "  (trf_blocks): Sequential(\n",
       "    (0): TransformerBlock(\n",
       "      (att): MultiHeadAttention(\n",
       "        (W_query): Linear(in_features=768, out_features=768, bias=True)\n",
       "        (W_key): Linear(in_features=768, out_features=768, bias=True)\n",
       "        (W_value): Linear(in_features=768, out_features=768, bias=True)\n",
       "        (out_proj): Linear(in_features=768, out_features=768, bias=True)\n",
       "        (dropout): Dropout(p=0.0, inplace=False)\n",
       "      )\n",
       "      (ff): FeedForward(\n",
       "        (layers): Sequential(\n",
       "          (0): Linear(in_features=768, out_features=3072, bias=True)\n",
       "          (1): GELU()\n",
       "          (2): Linear(in_features=3072, out_features=768, bias=True)\n",
       "        )\n",
       "      )\n",
       "      (norm1): LayerNorm()\n",
       "      (norm2): LayerNorm()\n",
       "      (drop_resid): Dropout(p=0.0, inplace=False)\n",
       "    )\n",
       "    (1): TransformerBlock(\n",
       "      (att): MultiHeadAttention(\n",
       "        (W_query): Linear(in_features=768, out_features=768, bias=True)\n",
       "        (W_key): Linear(in_features=768, out_features=768, bias=True)\n",
       "        (W_value): Linear(in_features=768, out_features=768, bias=True)\n",
       "        (out_proj): Linear(in_features=768, out_features=768, bias=True)\n",
       "        (dropout): Dropout(p=0.0, inplace=False)\n",
       "      )\n",
       "      (ff): FeedForward(\n",
       "        (layers): Sequential(\n",
       "          (0): Linear(in_features=768, out_features=3072, bias=True)\n",
       "          (1): GELU()\n",
       "          (2): Linear(in_features=3072, out_features=768, bias=True)\n",
       "        )\n",
       "      )\n",
       "      (norm1): LayerNorm()\n",
       "      (norm2): LayerNorm()\n",
       "      (drop_resid): Dropout(p=0.0, inplace=False)\n",
       "    )\n",
       "    (2): TransformerBlock(\n",
       "      (att): MultiHeadAttention(\n",
       "        (W_query): Linear(in_features=768, out_features=768, bias=True)\n",
       "        (W_key): Linear(in_features=768, out_features=768, bias=True)\n",
       "        (W_value): Linear(in_features=768, out_features=768, bias=True)\n",
       "        (out_proj): Linear(in_features=768, out_features=768, bias=True)\n",
       "        (dropout): Dropout(p=0.0, inplace=False)\n",
       "      )\n",
       "      (ff): FeedForward(\n",
       "        (layers): Sequential(\n",
       "          (0): Linear(in_features=768, out_features=3072, bias=True)\n",
       "          (1): GELU()\n",
       "          (2): Linear(in_features=3072, out_features=768, bias=True)\n",
       "        )\n",
       "      )\n",
       "      (norm1): LayerNorm()\n",
       "      (norm2): LayerNorm()\n",
       "      (drop_resid): Dropout(p=0.0, inplace=False)\n",
       "    )\n",
       "    (3): TransformerBlock(\n",
       "      (att): MultiHeadAttention(\n",
       "        (W_query): Linear(in_features=768, out_features=768, bias=True)\n",
       "        (W_key): Linear(in_features=768, out_features=768, bias=True)\n",
       "        (W_value): Linear(in_features=768, out_features=768, bias=True)\n",
       "        (out_proj): Linear(in_features=768, out_features=768, bias=True)\n",
       "        (dropout): Dropout(p=0.0, inplace=False)\n",
       "      )\n",
       "      (ff): FeedForward(\n",
       "        (layers): Sequential(\n",
       "          (0): Linear(in_features=768, out_features=3072, bias=True)\n",
       "          (1): GELU()\n",
       "          (2): Linear(in_features=3072, out_features=768, bias=True)\n",
       "        )\n",
       "      )\n",
       "      (norm1): LayerNorm()\n",
       "      (norm2): LayerNorm()\n",
       "      (drop_resid): Dropout(p=0.0, inplace=False)\n",
       "    )\n",
       "    (4): TransformerBlock(\n",
       "      (att): MultiHeadAttention(\n",
       "        (W_query): Linear(in_features=768, out_features=768, bias=True)\n",
       "        (W_key): Linear(in_features=768, out_features=768, bias=True)\n",
       "        (W_value): Linear(in_features=768, out_features=768, bias=True)\n",
       "        (out_proj): Linear(in_features=768, out_features=768, bias=True)\n",
       "        (dropout): Dropout(p=0.0, inplace=False)\n",
       "      )\n",
       "      (ff): FeedForward(\n",
       "        (layers): Sequential(\n",
       "          (0): Linear(in_features=768, out_features=3072, bias=True)\n",
       "          (1): GELU()\n",
       "          (2): Linear(in_features=3072, out_features=768, bias=True)\n",
       "        )\n",
       "      )\n",
       "      (norm1): LayerNorm()\n",
       "      (norm2): LayerNorm()\n",
       "      (drop_resid): Dropout(p=0.0, inplace=False)\n",
       "    )\n",
       "    (5): TransformerBlock(\n",
       "      (att): MultiHeadAttention(\n",
       "        (W_query): Linear(in_features=768, out_features=768, bias=True)\n",
       "        (W_key): Linear(in_features=768, out_features=768, bias=True)\n",
       "        (W_value): Linear(in_features=768, out_features=768, bias=True)\n",
       "        (out_proj): Linear(in_features=768, out_features=768, bias=True)\n",
       "        (dropout): Dropout(p=0.0, inplace=False)\n",
       "      )\n",
       "      (ff): FeedForward(\n",
       "        (layers): Sequential(\n",
       "          (0): Linear(in_features=768, out_features=3072, bias=True)\n",
       "          (1): GELU()\n",
       "          (2): Linear(in_features=3072, out_features=768, bias=True)\n",
       "        )\n",
       "      )\n",
       "      (norm1): LayerNorm()\n",
       "      (norm2): LayerNorm()\n",
       "      (drop_resid): Dropout(p=0.0, inplace=False)\n",
       "    )\n",
       "    (6): TransformerBlock(\n",
       "      (att): MultiHeadAttention(\n",
       "        (W_query): Linear(in_features=768, out_features=768, bias=True)\n",
       "        (W_key): Linear(in_features=768, out_features=768, bias=True)\n",
       "        (W_value): Linear(in_features=768, out_features=768, bias=True)\n",
       "        (out_proj): Linear(in_features=768, out_features=768, bias=True)\n",
       "        (dropout): Dropout(p=0.0, inplace=False)\n",
       "      )\n",
       "      (ff): FeedForward(\n",
       "        (layers): Sequential(\n",
       "          (0): Linear(in_features=768, out_features=3072, bias=True)\n",
       "          (1): GELU()\n",
       "          (2): Linear(in_features=3072, out_features=768, bias=True)\n",
       "        )\n",
       "      )\n",
       "      (norm1): LayerNorm()\n",
       "      (norm2): LayerNorm()\n",
       "      (drop_resid): Dropout(p=0.0, inplace=False)\n",
       "    )\n",
       "    (7): TransformerBlock(\n",
       "      (att): MultiHeadAttention(\n",
       "        (W_query): Linear(in_features=768, out_features=768, bias=True)\n",
       "        (W_key): Linear(in_features=768, out_features=768, bias=True)\n",
       "        (W_value): Linear(in_features=768, out_features=768, bias=True)\n",
       "        (out_proj): Linear(in_features=768, out_features=768, bias=True)\n",
       "        (dropout): Dropout(p=0.0, inplace=False)\n",
       "      )\n",
       "      (ff): FeedForward(\n",
       "        (layers): Sequential(\n",
       "          (0): Linear(in_features=768, out_features=3072, bias=True)\n",
       "          (1): GELU()\n",
       "          (2): Linear(in_features=3072, out_features=768, bias=True)\n",
       "        )\n",
       "      )\n",
       "      (norm1): LayerNorm()\n",
       "      (norm2): LayerNorm()\n",
       "      (drop_resid): Dropout(p=0.0, inplace=False)\n",
       "    )\n",
       "    (8): TransformerBlock(\n",
       "      (att): MultiHeadAttention(\n",
       "        (W_query): Linear(in_features=768, out_features=768, bias=True)\n",
       "        (W_key): Linear(in_features=768, out_features=768, bias=True)\n",
       "        (W_value): Linear(in_features=768, out_features=768, bias=True)\n",
       "        (out_proj): Linear(in_features=768, out_features=768, bias=True)\n",
       "        (dropout): Dropout(p=0.0, inplace=False)\n",
       "      )\n",
       "      (ff): FeedForward(\n",
       "        (layers): Sequential(\n",
       "          (0): Linear(in_features=768, out_features=3072, bias=True)\n",
       "          (1): GELU()\n",
       "          (2): Linear(in_features=3072, out_features=768, bias=True)\n",
       "        )\n",
       "      )\n",
       "      (norm1): LayerNorm()\n",
       "      (norm2): LayerNorm()\n",
       "      (drop_resid): Dropout(p=0.0, inplace=False)\n",
       "    )\n",
       "    (9): TransformerBlock(\n",
       "      (att): MultiHeadAttention(\n",
       "        (W_query): Linear(in_features=768, out_features=768, bias=True)\n",
       "        (W_key): Linear(in_features=768, out_features=768, bias=True)\n",
       "        (W_value): Linear(in_features=768, out_features=768, bias=True)\n",
       "        (out_proj): Linear(in_features=768, out_features=768, bias=True)\n",
       "        (dropout): Dropout(p=0.0, inplace=False)\n",
       "      )\n",
       "      (ff): FeedForward(\n",
       "        (layers): Sequential(\n",
       "          (0): Linear(in_features=768, out_features=3072, bias=True)\n",
       "          (1): GELU()\n",
       "          (2): Linear(in_features=3072, out_features=768, bias=True)\n",
       "        )\n",
       "      )\n",
       "      (norm1): LayerNorm()\n",
       "      (norm2): LayerNorm()\n",
       "      (drop_resid): Dropout(p=0.0, inplace=False)\n",
       "    )\n",
       "    (10): TransformerBlock(\n",
       "      (att): MultiHeadAttention(\n",
       "        (W_query): Linear(in_features=768, out_features=768, bias=True)\n",
       "        (W_key): Linear(in_features=768, out_features=768, bias=True)\n",
       "        (W_value): Linear(in_features=768, out_features=768, bias=True)\n",
       "        (out_proj): Linear(in_features=768, out_features=768, bias=True)\n",
       "        (dropout): Dropout(p=0.0, inplace=False)\n",
       "      )\n",
       "      (ff): FeedForward(\n",
       "        (layers): Sequential(\n",
       "          (0): Linear(in_features=768, out_features=3072, bias=True)\n",
       "          (1): GELU()\n",
       "          (2): Linear(in_features=3072, out_features=768, bias=True)\n",
       "        )\n",
       "      )\n",
       "      (norm1): LayerNorm()\n",
       "      (norm2): LayerNorm()\n",
       "      (drop_resid): Dropout(p=0.0, inplace=False)\n",
       "    )\n",
       "    (11): TransformerBlock(\n",
       "      (att): MultiHeadAttention(\n",
       "        (W_query): Linear(in_features=768, out_features=768, bias=True)\n",
       "        (W_key): Linear(in_features=768, out_features=768, bias=True)\n",
       "        (W_value): Linear(in_features=768, out_features=768, bias=True)\n",
       "        (out_proj): Linear(in_features=768, out_features=768, bias=True)\n",
       "        (dropout): Dropout(p=0.0, inplace=False)\n",
       "      )\n",
       "      (ff): FeedForward(\n",
       "        (layers): Sequential(\n",
       "          (0): Linear(in_features=768, out_features=3072, bias=True)\n",
       "          (1): GELU()\n",
       "          (2): Linear(in_features=3072, out_features=768, bias=True)\n",
       "        )\n",
       "      )\n",
       "      (norm1): LayerNorm()\n",
       "      (norm2): LayerNorm()\n",
       "      (drop_resid): Dropout(p=0.0, inplace=False)\n",
       "    )\n",
       "  )\n",
       "  (final_norm): LayerNorm()\n",
       "  (out_head): Linear(in_features=768, out_features=50257, bias=False)\n",
       ")"
      ]
     },
     "execution_count": 43,
     "metadata": {},
     "output_type": "execute_result"
    }
   ],
   "source": [
    "model_size = CHOOSE_MODEL.split(\" \")[-1].lstrip(\"(\").rstrip(\")\")\n",
    "settings, params = download_and_load_gpt2(model_size=model_size, models_dir=\"gpt2\")\n",
    "model = GPTModel(BASE_CONFIG)\n",
    "\n",
    "load_weights_into_gpt(model, params)\n",
    "model.eval()"
   ]
  },
  {
   "cell_type": "code",
   "execution_count": 22,
   "id": "801fbbbf",
   "metadata": {},
   "outputs": [],
   "source": [
    "BASE_CONFIG = {\n",
    "    \"vocab_size\": 50257,     # Vocabulary size\n",
    "    \"context_length\": 1024,  # Context length\n",
    "    \"drop_rate\": 0.1,        # Dropout rate\n",
    "    \"qkv_bias\": True         # Query-key-value bias\n",
    "}"
   ]
  }
 ],
 "metadata": {
  "kernelspec": {
   "display_name": "GRPO_env",
   "language": "python",
   "name": "python3"
  },
  "language_info": {
   "codemirror_mode": {
    "name": "ipython",
    "version": 3
   },
   "file_extension": ".py",
   "mimetype": "text/x-python",
   "name": "python",
   "nbconvert_exporter": "python",
   "pygments_lexer": "ipython3",
   "version": "3.10.8"
  }
 },
 "nbformat": 4,
 "nbformat_minor": 5
}
